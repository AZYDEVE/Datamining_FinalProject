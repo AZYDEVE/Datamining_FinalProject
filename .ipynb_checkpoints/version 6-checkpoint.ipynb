{
 "cells": [
  {
   "cell_type": "markdown",
   "metadata": {
    "id": "VbSU0AiHWgpp"
   },
   "source": [
    "## Setup"
   ]
  },
  {
   "cell_type": "code",
   "execution_count": 153,
   "metadata": {
    "colab": {
     "base_uri": "https://localhost:8080/"
    },
    "id": "mvwof9QrUUye",
    "outputId": "46b5dcdb-7e5f-49b6-9812-88e384923835"
   },
   "outputs": [
    {
     "name": "stderr",
     "output_type": "stream",
     "text": [
      "C:\\Users\\zelon\\anaconda3\\lib\\site-packages\\IPython\\core\\interactiveshell.py:3165: DtypeWarning: Columns (7,12,23) have mixed types.Specify dtype option on import or set low_memory=False.\n",
      "  has_raised = await self.run_ast_nodes(code_ast.body, cell_name,\n"
     ]
    }
   ],
   "source": [
    "import pandas as pd\n",
    "patient_history = pd.read_csv(\n",
    "    './vaccine reaction/2021VAERSDATA.CSV', sep=',', encoding='ISO-8859-1')\n",
    "patient_sympt = pd.read_csv(\n",
    "    './vaccine reaction/2021VAERSSYMPTOMS.CSV', sep=',', encoding='ISO-8859-1')\n",
    "patient_vac = pd.read_csv(\n",
    "    './vaccine reaction/2021VAERSVAX.CSV', sep=',', encoding='ISO-8859-1')"
   ]
  },
  {
   "cell_type": "code",
   "execution_count": 154,
   "metadata": {
    "id": "PGx220reVUls"
   },
   "outputs": [],
   "source": [
    "from sklearn.feature_extraction.text import TfidfVectorizer\n",
    "from sklearn.pipeline import Pipeline\n",
    "from sklearn.preprocessing import MultiLabelBinarizer\n",
    "from sklearn.model_selection import train_test_split\n",
    "pd.set_option(\"display.max_rows\", 1000)"
   ]
  },
  {
   "cell_type": "code",
   "execution_count": 155,
   "metadata": {
    "colab": {
     "base_uri": "https://localhost:8080/",
     "height": 284
    },
    "id": "_FVXrNlaWRIU",
    "outputId": "2e9c3b99-9a8d-4a71-8c71-214cc1456680"
   },
   "outputs": [
    {
     "data": {
      "text/html": [
       "<div>\n",
       "<style scoped>\n",
       "    .dataframe tbody tr th:only-of-type {\n",
       "        vertical-align: middle;\n",
       "    }\n",
       "\n",
       "    .dataframe tbody tr th {\n",
       "        vertical-align: top;\n",
       "    }\n",
       "\n",
       "    .dataframe thead th {\n",
       "        text-align: right;\n",
       "    }\n",
       "</style>\n",
       "<table border=\"1\" class=\"dataframe\">\n",
       "  <thead>\n",
       "    <tr style=\"text-align: right;\">\n",
       "      <th></th>\n",
       "      <th>VAERS_ID</th>\n",
       "      <th>RECVDATE</th>\n",
       "      <th>STATE</th>\n",
       "      <th>AGE_YRS</th>\n",
       "      <th>CAGE_YR</th>\n",
       "      <th>CAGE_MO</th>\n",
       "      <th>SEX</th>\n",
       "      <th>RPT_DATE</th>\n",
       "      <th>SYMPTOM_TEXT</th>\n",
       "      <th>DIED</th>\n",
       "      <th>...</th>\n",
       "      <th>CUR_ILL</th>\n",
       "      <th>HISTORY</th>\n",
       "      <th>PRIOR_VAX</th>\n",
       "      <th>SPLTTYPE</th>\n",
       "      <th>FORM_VERS</th>\n",
       "      <th>TODAYS_DATE</th>\n",
       "      <th>BIRTH_DEFECT</th>\n",
       "      <th>OFC_VISIT</th>\n",
       "      <th>ER_ED_VISIT</th>\n",
       "      <th>ALLERGIES</th>\n",
       "    </tr>\n",
       "  </thead>\n",
       "  <tbody>\n",
       "    <tr>\n",
       "      <th>34116</th>\n",
       "      <td>1113917</td>\n",
       "      <td>03/19/2021</td>\n",
       "      <td>FL</td>\n",
       "      <td>88.0</td>\n",
       "      <td>87.0</td>\n",
       "      <td>NaN</td>\n",
       "      <td>F</td>\n",
       "      <td>NaN</td>\n",
       "      <td>throat closure three weeks after second dose; ...</td>\n",
       "      <td>NaN</td>\n",
       "      <td>...</td>\n",
       "      <td>NaN</td>\n",
       "      <td>Medical History/Concurrent Conditions: Aortic ...</td>\n",
       "      <td>NaN</td>\n",
       "      <td>USMODERNATX, INC.MOD20210</td>\n",
       "      <td>2</td>\n",
       "      <td>03/12/2021</td>\n",
       "      <td>NaN</td>\n",
       "      <td>NaN</td>\n",
       "      <td>Y</td>\n",
       "      <td>NaN</td>\n",
       "    </tr>\n",
       "    <tr>\n",
       "      <th>34117</th>\n",
       "      <td>1113920</td>\n",
       "      <td>03/19/2021</td>\n",
       "      <td>PA</td>\n",
       "      <td>83.0</td>\n",
       "      <td>NaN</td>\n",
       "      <td>NaN</td>\n",
       "      <td>F</td>\n",
       "      <td>NaN</td>\n",
       "      <td>positive COVID-19 test with no symptoms; Asymp...</td>\n",
       "      <td>NaN</td>\n",
       "      <td>...</td>\n",
       "      <td>NaN</td>\n",
       "      <td>Medical History/Concurrent Conditions: Atrial ...</td>\n",
       "      <td>NaN</td>\n",
       "      <td>USPFIZER INC2021231682</td>\n",
       "      <td>2</td>\n",
       "      <td>03/16/2021</td>\n",
       "      <td>NaN</td>\n",
       "      <td>Y</td>\n",
       "      <td>NaN</td>\n",
       "      <td>NaN</td>\n",
       "    </tr>\n",
       "    <tr>\n",
       "      <th>34118</th>\n",
       "      <td>1113963</td>\n",
       "      <td>03/19/2021</td>\n",
       "      <td>MS</td>\n",
       "      <td>59.0</td>\n",
       "      <td>NaN</td>\n",
       "      <td>NaN</td>\n",
       "      <td>F</td>\n",
       "      <td>NaN</td>\n",
       "      <td>HLH (hemophagocyticlymphohistiocytosis); This ...</td>\n",
       "      <td>Y</td>\n",
       "      <td>...</td>\n",
       "      <td>NaN</td>\n",
       "      <td>Medical History/Concurrent Conditions: Type II...</td>\n",
       "      <td>NaN</td>\n",
       "      <td>USPFIZER INC2021257356</td>\n",
       "      <td>2</td>\n",
       "      <td>03/12/2021</td>\n",
       "      <td>NaN</td>\n",
       "      <td>NaN</td>\n",
       "      <td>NaN</td>\n",
       "      <td>NaN</td>\n",
       "    </tr>\n",
       "    <tr>\n",
       "      <th>34119</th>\n",
       "      <td>1115045</td>\n",
       "      <td>03/19/2021</td>\n",
       "      <td>AZ</td>\n",
       "      <td>57.0</td>\n",
       "      <td>NaN</td>\n",
       "      <td>NaN</td>\n",
       "      <td>M</td>\n",
       "      <td>NaN</td>\n",
       "      <td>Death; A spontaneous report was received from ...</td>\n",
       "      <td>Y</td>\n",
       "      <td>...</td>\n",
       "      <td>NaN</td>\n",
       "      <td>Medical History/Concurrent Conditions: No adve...</td>\n",
       "      <td>NaN</td>\n",
       "      <td>USMODERNATX, INC.MOD20210</td>\n",
       "      <td>2</td>\n",
       "      <td>03/15/2021</td>\n",
       "      <td>NaN</td>\n",
       "      <td>NaN</td>\n",
       "      <td>NaN</td>\n",
       "      <td>NaN</td>\n",
       "    </tr>\n",
       "    <tr>\n",
       "      <th>34120</th>\n",
       "      <td>1115348</td>\n",
       "      <td>03/19/2021</td>\n",
       "      <td>NC</td>\n",
       "      <td>NaN</td>\n",
       "      <td>85.0</td>\n",
       "      <td>NaN</td>\n",
       "      <td>F</td>\n",
       "      <td>NaN</td>\n",
       "      <td>death; A spontaneous report was received from ...</td>\n",
       "      <td>Y</td>\n",
       "      <td>...</td>\n",
       "      <td>NaN</td>\n",
       "      <td>Comments: List of non-encoded Patient Relevant...</td>\n",
       "      <td>NaN</td>\n",
       "      <td>USMODERNATX, INC.MOD20210</td>\n",
       "      <td>2</td>\n",
       "      <td>03/12/2021</td>\n",
       "      <td>NaN</td>\n",
       "      <td>NaN</td>\n",
       "      <td>NaN</td>\n",
       "      <td>NaN</td>\n",
       "    </tr>\n",
       "  </tbody>\n",
       "</table>\n",
       "<p>5 rows × 35 columns</p>\n",
       "</div>"
      ],
      "text/plain": [
       "       VAERS_ID    RECVDATE STATE  AGE_YRS  CAGE_YR  CAGE_MO SEX RPT_DATE  \\\n",
       "34116   1113917  03/19/2021    FL     88.0     87.0      NaN   F      NaN   \n",
       "34117   1113920  03/19/2021    PA     83.0      NaN      NaN   F      NaN   \n",
       "34118   1113963  03/19/2021    MS     59.0      NaN      NaN   F      NaN   \n",
       "34119   1115045  03/19/2021    AZ     57.0      NaN      NaN   M      NaN   \n",
       "34120   1115348  03/19/2021    NC      NaN     85.0      NaN   F      NaN   \n",
       "\n",
       "                                            SYMPTOM_TEXT DIED  ... CUR_ILL  \\\n",
       "34116  throat closure three weeks after second dose; ...  NaN  ...     NaN   \n",
       "34117  positive COVID-19 test with no symptoms; Asymp...  NaN  ...     NaN   \n",
       "34118  HLH (hemophagocyticlymphohistiocytosis); This ...    Y  ...     NaN   \n",
       "34119  Death; A spontaneous report was received from ...    Y  ...     NaN   \n",
       "34120  death; A spontaneous report was received from ...    Y  ...     NaN   \n",
       "\n",
       "                                                 HISTORY PRIOR_VAX  \\\n",
       "34116  Medical History/Concurrent Conditions: Aortic ...       NaN   \n",
       "34117  Medical History/Concurrent Conditions: Atrial ...       NaN   \n",
       "34118  Medical History/Concurrent Conditions: Type II...       NaN   \n",
       "34119  Medical History/Concurrent Conditions: No adve...       NaN   \n",
       "34120  Comments: List of non-encoded Patient Relevant...       NaN   \n",
       "\n",
       "                        SPLTTYPE  FORM_VERS TODAYS_DATE BIRTH_DEFECT  \\\n",
       "34116  USMODERNATX, INC.MOD20210          2  03/12/2021          NaN   \n",
       "34117     USPFIZER INC2021231682          2  03/16/2021          NaN   \n",
       "34118     USPFIZER INC2021257356          2  03/12/2021          NaN   \n",
       "34119  USMODERNATX, INC.MOD20210          2  03/15/2021          NaN   \n",
       "34120  USMODERNATX, INC.MOD20210          2  03/12/2021          NaN   \n",
       "\n",
       "      OFC_VISIT ER_ED_VISIT ALLERGIES  \n",
       "34116       NaN           Y       NaN  \n",
       "34117         Y         NaN       NaN  \n",
       "34118       NaN         NaN       NaN  \n",
       "34119       NaN         NaN       NaN  \n",
       "34120       NaN         NaN       NaN  \n",
       "\n",
       "[5 rows x 35 columns]"
      ]
     },
     "execution_count": 155,
     "metadata": {},
     "output_type": "execute_result"
    }
   ],
   "source": [
    "patient_history.tail()"
   ]
  },
  {
   "cell_type": "code",
   "execution_count": 156,
   "metadata": {},
   "outputs": [
    {
     "data": {
      "text/html": [
       "<div>\n",
       "<style scoped>\n",
       "    .dataframe tbody tr th:only-of-type {\n",
       "        vertical-align: middle;\n",
       "    }\n",
       "\n",
       "    .dataframe tbody tr th {\n",
       "        vertical-align: top;\n",
       "    }\n",
       "\n",
       "    .dataframe thead th {\n",
       "        text-align: right;\n",
       "    }\n",
       "</style>\n",
       "<table border=\"1\" class=\"dataframe\">\n",
       "  <thead>\n",
       "    <tr style=\"text-align: right;\">\n",
       "      <th></th>\n",
       "      <th>VAERS_ID</th>\n",
       "      <th>SYMPTOM1</th>\n",
       "      <th>SYMPTOMVERSION1</th>\n",
       "      <th>SYMPTOM2</th>\n",
       "      <th>SYMPTOMVERSION2</th>\n",
       "      <th>SYMPTOM3</th>\n",
       "      <th>SYMPTOMVERSION3</th>\n",
       "      <th>SYMPTOM4</th>\n",
       "      <th>SYMPTOMVERSION4</th>\n",
       "      <th>SYMPTOM5</th>\n",
       "      <th>SYMPTOMVERSION5</th>\n",
       "    </tr>\n",
       "  </thead>\n",
       "  <tbody>\n",
       "    <tr>\n",
       "      <th>48105</th>\n",
       "      <td>1113920</td>\n",
       "      <td>Nasal discomfort</td>\n",
       "      <td>23.1</td>\n",
       "      <td>Night sweats</td>\n",
       "      <td>23.1</td>\n",
       "      <td>Platelet count</td>\n",
       "      <td>23.1</td>\n",
       "      <td>Platelet count decreased</td>\n",
       "      <td>23.1</td>\n",
       "      <td>Pyrexia</td>\n",
       "      <td>23.1</td>\n",
       "    </tr>\n",
       "    <tr>\n",
       "      <th>48106</th>\n",
       "      <td>1113920</td>\n",
       "      <td>Rash</td>\n",
       "      <td>23.1</td>\n",
       "      <td>SARS-CoV-2 test</td>\n",
       "      <td>23.1</td>\n",
       "      <td>NaN</td>\n",
       "      <td>NaN</td>\n",
       "      <td>NaN</td>\n",
       "      <td>NaN</td>\n",
       "      <td>NaN</td>\n",
       "      <td>NaN</td>\n",
       "    </tr>\n",
       "    <tr>\n",
       "      <th>48107</th>\n",
       "      <td>1113963</td>\n",
       "      <td>Haemophagocytic lymphohistiocytosis</td>\n",
       "      <td>23.1</td>\n",
       "      <td>SARS-CoV-2 test</td>\n",
       "      <td>23.1</td>\n",
       "      <td>NaN</td>\n",
       "      <td>NaN</td>\n",
       "      <td>NaN</td>\n",
       "      <td>NaN</td>\n",
       "      <td>NaN</td>\n",
       "      <td>NaN</td>\n",
       "    </tr>\n",
       "    <tr>\n",
       "      <th>48108</th>\n",
       "      <td>1115045</td>\n",
       "      <td>Death</td>\n",
       "      <td>23.1</td>\n",
       "      <td>NaN</td>\n",
       "      <td>NaN</td>\n",
       "      <td>NaN</td>\n",
       "      <td>NaN</td>\n",
       "      <td>NaN</td>\n",
       "      <td>NaN</td>\n",
       "      <td>NaN</td>\n",
       "      <td>NaN</td>\n",
       "    </tr>\n",
       "    <tr>\n",
       "      <th>48109</th>\n",
       "      <td>1115348</td>\n",
       "      <td>Death</td>\n",
       "      <td>23.1</td>\n",
       "      <td>NaN</td>\n",
       "      <td>NaN</td>\n",
       "      <td>NaN</td>\n",
       "      <td>NaN</td>\n",
       "      <td>NaN</td>\n",
       "      <td>NaN</td>\n",
       "      <td>NaN</td>\n",
       "      <td>NaN</td>\n",
       "    </tr>\n",
       "  </tbody>\n",
       "</table>\n",
       "</div>"
      ],
      "text/plain": [
       "       VAERS_ID                             SYMPTOM1  SYMPTOMVERSION1  \\\n",
       "48105   1113920                     Nasal discomfort             23.1   \n",
       "48106   1113920                                 Rash             23.1   \n",
       "48107   1113963  Haemophagocytic lymphohistiocytosis             23.1   \n",
       "48108   1115045                                Death             23.1   \n",
       "48109   1115348                                Death             23.1   \n",
       "\n",
       "              SYMPTOM2  SYMPTOMVERSION2        SYMPTOM3  SYMPTOMVERSION3  \\\n",
       "48105     Night sweats             23.1  Platelet count             23.1   \n",
       "48106  SARS-CoV-2 test             23.1             NaN              NaN   \n",
       "48107  SARS-CoV-2 test             23.1             NaN              NaN   \n",
       "48108              NaN              NaN             NaN              NaN   \n",
       "48109              NaN              NaN             NaN              NaN   \n",
       "\n",
       "                       SYMPTOM4  SYMPTOMVERSION4 SYMPTOM5  SYMPTOMVERSION5  \n",
       "48105  Platelet count decreased             23.1  Pyrexia             23.1  \n",
       "48106                       NaN              NaN      NaN              NaN  \n",
       "48107                       NaN              NaN      NaN              NaN  \n",
       "48108                       NaN              NaN      NaN              NaN  \n",
       "48109                       NaN              NaN      NaN              NaN  "
      ]
     },
     "execution_count": 156,
     "metadata": {},
     "output_type": "execute_result"
    }
   ],
   "source": [
    "patient_sympt.tail()"
   ]
  },
  {
   "cell_type": "code",
   "execution_count": 157,
   "metadata": {},
   "outputs": [
    {
     "data": {
      "text/html": [
       "<div>\n",
       "<style scoped>\n",
       "    .dataframe tbody tr th:only-of-type {\n",
       "        vertical-align: middle;\n",
       "    }\n",
       "\n",
       "    .dataframe tbody tr th {\n",
       "        vertical-align: top;\n",
       "    }\n",
       "\n",
       "    .dataframe thead th {\n",
       "        text-align: right;\n",
       "    }\n",
       "</style>\n",
       "<table border=\"1\" class=\"dataframe\">\n",
       "  <thead>\n",
       "    <tr style=\"text-align: right;\">\n",
       "      <th></th>\n",
       "      <th>VAERS_ID</th>\n",
       "      <th>VAX_TYPE</th>\n",
       "      <th>VAX_MANU</th>\n",
       "      <th>VAX_LOT</th>\n",
       "      <th>VAX_DOSE_SERIES</th>\n",
       "      <th>VAX_ROUTE</th>\n",
       "      <th>VAX_SITE</th>\n",
       "      <th>VAX_NAME</th>\n",
       "    </tr>\n",
       "  </thead>\n",
       "  <tbody>\n",
       "    <tr>\n",
       "      <th>34625</th>\n",
       "      <td>1113917</td>\n",
       "      <td>COVID19</td>\n",
       "      <td>MODERNA</td>\n",
       "      <td>01120A</td>\n",
       "      <td>1</td>\n",
       "      <td>OT</td>\n",
       "      <td>NaN</td>\n",
       "      <td>COVID19 (COVID19 (MODERNA))</td>\n",
       "    </tr>\n",
       "    <tr>\n",
       "      <th>34626</th>\n",
       "      <td>1113920</td>\n",
       "      <td>COVID19</td>\n",
       "      <td>PFIZER\\BIONTECH</td>\n",
       "      <td>Unknown</td>\n",
       "      <td>1</td>\n",
       "      <td>NaN</td>\n",
       "      <td>NaN</td>\n",
       "      <td>COVID19 (COVID19 (PFIZER-BIONTECH))</td>\n",
       "    </tr>\n",
       "    <tr>\n",
       "      <th>34627</th>\n",
       "      <td>1113963</td>\n",
       "      <td>COVID19</td>\n",
       "      <td>PFIZER\\BIONTECH</td>\n",
       "      <td>EL9264</td>\n",
       "      <td>2</td>\n",
       "      <td>NaN</td>\n",
       "      <td>NaN</td>\n",
       "      <td>COVID19 (COVID19 (PFIZER-BIONTECH))</td>\n",
       "    </tr>\n",
       "    <tr>\n",
       "      <th>34628</th>\n",
       "      <td>1115045</td>\n",
       "      <td>COVID19</td>\n",
       "      <td>MODERNA</td>\n",
       "      <td>NaN</td>\n",
       "      <td>2</td>\n",
       "      <td>OT</td>\n",
       "      <td>NaN</td>\n",
       "      <td>COVID19 (COVID19 (MODERNA))</td>\n",
       "    </tr>\n",
       "    <tr>\n",
       "      <th>34629</th>\n",
       "      <td>1115348</td>\n",
       "      <td>COVID19</td>\n",
       "      <td>MODERNA</td>\n",
       "      <td>026A21A</td>\n",
       "      <td>1</td>\n",
       "      <td>OT</td>\n",
       "      <td>LA</td>\n",
       "      <td>COVID19 (COVID19 (MODERNA))</td>\n",
       "    </tr>\n",
       "  </tbody>\n",
       "</table>\n",
       "</div>"
      ],
      "text/plain": [
       "       VAERS_ID VAX_TYPE         VAX_MANU  VAX_LOT VAX_DOSE_SERIES VAX_ROUTE  \\\n",
       "34625   1113917  COVID19          MODERNA   01120A               1        OT   \n",
       "34626   1113920  COVID19  PFIZER\\BIONTECH  Unknown               1       NaN   \n",
       "34627   1113963  COVID19  PFIZER\\BIONTECH   EL9264               2       NaN   \n",
       "34628   1115045  COVID19          MODERNA      NaN               2        OT   \n",
       "34629   1115348  COVID19          MODERNA  026A21A               1        OT   \n",
       "\n",
       "      VAX_SITE                             VAX_NAME  \n",
       "34625      NaN          COVID19 (COVID19 (MODERNA))  \n",
       "34626      NaN  COVID19 (COVID19 (PFIZER-BIONTECH))  \n",
       "34627      NaN  COVID19 (COVID19 (PFIZER-BIONTECH))  \n",
       "34628      NaN          COVID19 (COVID19 (MODERNA))  \n",
       "34629       LA          COVID19 (COVID19 (MODERNA))  "
      ]
     },
     "execution_count": 157,
     "metadata": {},
     "output_type": "execute_result"
    }
   ],
   "source": [
    "patient_vac.tail()"
   ]
  },
  {
   "cell_type": "code",
   "execution_count": 158,
   "metadata": {},
   "outputs": [
    {
     "data": {
      "text/plain": [
       "Index(['VAERS_ID', 'RECVDATE', 'STATE', 'AGE_YRS', 'CAGE_YR', 'CAGE_MO', 'SEX',\n",
       "       'RPT_DATE', 'SYMPTOM_TEXT', 'DIED', 'DATEDIED', 'L_THREAT', 'ER_VISIT',\n",
       "       'HOSPITAL', 'HOSPDAYS', 'X_STAY', 'DISABLE', 'RECOVD', 'VAX_DATE',\n",
       "       'ONSET_DATE', 'NUMDAYS', 'LAB_DATA', 'V_ADMINBY', 'V_FUNDBY',\n",
       "       'OTHER_MEDS', 'CUR_ILL', 'HISTORY', 'PRIOR_VAX', 'SPLTTYPE',\n",
       "       'FORM_VERS', 'TODAYS_DATE', 'BIRTH_DEFECT', 'OFC_VISIT', 'ER_ED_VISIT',\n",
       "       'ALLERGIES'],\n",
       "      dtype='object')"
      ]
     },
     "execution_count": 158,
     "metadata": {},
     "output_type": "execute_result"
    }
   ],
   "source": [
    "patient_history.columns"
   ]
  },
  {
   "cell_type": "code",
   "execution_count": 159,
   "metadata": {},
   "outputs": [
    {
     "data": {
      "text/plain": [
       "Index(['VAERS_ID', 'SYMPTOM1', 'SYMPTOMVERSION1', 'SYMPTOM2',\n",
       "       'SYMPTOMVERSION2', 'SYMPTOM3', 'SYMPTOMVERSION3', 'SYMPTOM4',\n",
       "       'SYMPTOMVERSION4', 'SYMPTOM5', 'SYMPTOMVERSION5'],\n",
       "      dtype='object')"
      ]
     },
     "execution_count": 159,
     "metadata": {},
     "output_type": "execute_result"
    }
   ],
   "source": [
    "patient_sympt.columns"
   ]
  },
  {
   "cell_type": "code",
   "execution_count": 160,
   "metadata": {},
   "outputs": [
    {
     "data": {
      "text/plain": [
       "Index(['VAERS_ID', 'VAX_TYPE', 'VAX_MANU', 'VAX_LOT', 'VAX_DOSE_SERIES',\n",
       "       'VAX_ROUTE', 'VAX_SITE', 'VAX_NAME'],\n",
       "      dtype='object')"
      ]
     },
     "execution_count": 160,
     "metadata": {},
     "output_type": "execute_result"
    }
   ],
   "source": [
    "patient_vac.columns"
   ]
  },
  {
   "cell_type": "markdown",
   "metadata": {
    "id": "sjmz_neIXL1D"
   },
   "source": [
    "### Extract the needed columns from the 3 files and combine them to create one dataframe.\n",
    "* the vacinne symptoms file contains multiple rows for the same vaers_id.This happens when a patient has more than 5 symptoms and each row only holds 5. We need to combine the data to single row before merging with the with the other files.  "
   ]
  },
  {
   "cell_type": "code",
   "execution_count": 161,
   "metadata": {
    "id": "HwTPFnH2WT4n"
   },
   "outputs": [],
   "source": [
    "# get the needed columns from patient history file\n",
    "patient_history = patient_history.loc[:, [\n",
    "    'VAERS_ID', 'AGE_YRS', 'SEX', 'CUR_ILL', 'HISTORY', 'ALLERGIES']]\n",
    "# get the needed columns from patient vaccine file\n",
    "patient_vac = patient_vac.loc[:, ['VAERS_ID', 'VAX_NAME']]\n",
    "# commbining patient's vaccine symptoms to a single cell\n",
    "patient_sympt['SYMPTOMS'] = patient_sympt['SYMPTOM1'].fillna('')+',' + patient_sympt['SYMPTOM2'].fillna(\n",
    "    '')+',' + patient_sympt['SYMPTOM3'].fillna('')+',' + patient_sympt['SYMPTOM4'].fillna('')+',' + patient_sympt['SYMPTOM5'].fillna('')\n",
    "patient_sympt = patient_sympt.groupby(by='VAERS_ID')['SYMPTOMS'].agg(\n",
    "    lambda x: ','.join(x)).reset_index()"
   ]
  },
  {
   "cell_type": "code",
   "execution_count": 162,
   "metadata": {
    "id": "BfjKvEUeWYEM"
   },
   "outputs": [],
   "source": [
    "# mergeing all extracted info above and combine them to a single dataframe\n",
    "\n",
    "df = patient_history.merge(patient_vac, on='VAERS_ID')"
   ]
  },
  {
   "cell_type": "code",
   "execution_count": 163,
   "metadata": {
    "colab": {
     "base_uri": "https://localhost:8080/",
     "height": 80
    },
    "id": "c5M33a1Ehbxv",
    "outputId": "bcddad25-1c8f-4d39-c7f3-c828e53283af"
   },
   "outputs": [],
   "source": [
    "df = pd.merge(df, patient_sympt,  left_on='VAERS_ID', right_on='VAERS_ID')\n",
    "# remove NaN Value\n",
    "df = df.fillna(value=\"\")\n",
    "# prepare y values step1\n",
    "# make symptom columns into a list\n",
    "df['SYMPTOMS'] = df['SYMPTOMS'].apply(lambda x: x.split(\",\"))\n",
    "# and than remove any empty values in the list.\n",
    "df['SYMPTOMS'] = df['SYMPTOMS'].apply(lambda x: [i for i in x if i])\n",
    "df = df.drop_duplicates(['VAERS_ID'])"
   ]
  },
  {
   "cell_type": "code",
   "execution_count": 164,
   "metadata": {},
   "outputs": [
    {
     "data": {
      "text/html": [
       "<div>\n",
       "<style scoped>\n",
       "    .dataframe tbody tr th:only-of-type {\n",
       "        vertical-align: middle;\n",
       "    }\n",
       "\n",
       "    .dataframe tbody tr th {\n",
       "        vertical-align: top;\n",
       "    }\n",
       "\n",
       "    .dataframe thead th {\n",
       "        text-align: right;\n",
       "    }\n",
       "</style>\n",
       "<table border=\"1\" class=\"dataframe\">\n",
       "  <thead>\n",
       "    <tr style=\"text-align: right;\">\n",
       "      <th></th>\n",
       "      <th>VAERS_ID</th>\n",
       "      <th>AGE_YRS</th>\n",
       "      <th>SEX</th>\n",
       "      <th>CUR_ILL</th>\n",
       "      <th>HISTORY</th>\n",
       "      <th>ALLERGIES</th>\n",
       "      <th>VAX_NAME</th>\n",
       "      <th>SYMPTOMS</th>\n",
       "    </tr>\n",
       "  </thead>\n",
       "  <tbody>\n",
       "    <tr>\n",
       "      <th>0</th>\n",
       "      <td>916600</td>\n",
       "      <td>33.0</td>\n",
       "      <td>F</td>\n",
       "      <td>None</td>\n",
       "      <td>None</td>\n",
       "      <td>Pcn and bee venom</td>\n",
       "      <td>COVID19 (COVID19 (MODERNA))</td>\n",
       "      <td>[Dysphagia, Epiglottitis]</td>\n",
       "    </tr>\n",
       "    <tr>\n",
       "      <th>1</th>\n",
       "      <td>916601</td>\n",
       "      <td>73.0</td>\n",
       "      <td>F</td>\n",
       "      <td>Patient residing at nursing facility. See pati...</td>\n",
       "      <td>Patient residing at nursing facility. See pati...</td>\n",
       "      <td>\"Dairy\"</td>\n",
       "      <td>COVID19 (COVID19 (MODERNA))</td>\n",
       "      <td>[Anxiety, Dyspnoea]</td>\n",
       "    </tr>\n",
       "    <tr>\n",
       "      <th>2</th>\n",
       "      <td>916602</td>\n",
       "      <td>23.0</td>\n",
       "      <td>F</td>\n",
       "      <td>None</td>\n",
       "      <td>None</td>\n",
       "      <td>Shellfish</td>\n",
       "      <td>COVID19 (COVID19 (PFIZER-BIONTECH))</td>\n",
       "      <td>[Chest discomfort, Dysphagia, Pain in extremit...</td>\n",
       "    </tr>\n",
       "    <tr>\n",
       "      <th>3</th>\n",
       "      <td>916603</td>\n",
       "      <td>58.0</td>\n",
       "      <td>F</td>\n",
       "      <td>kidney infection</td>\n",
       "      <td>diverticulitis, mitral valve prolapse, osteoar...</td>\n",
       "      <td>Diclofenac, novacaine, lidocaine, pickles, tom...</td>\n",
       "      <td>COVID19 (COVID19 (MODERNA))</td>\n",
       "      <td>[Dizziness, Fatigue, Mobility decreased]</td>\n",
       "    </tr>\n",
       "    <tr>\n",
       "      <th>4</th>\n",
       "      <td>916604</td>\n",
       "      <td>47.0</td>\n",
       "      <td>F</td>\n",
       "      <td>Na</td>\n",
       "      <td></td>\n",
       "      <td>Na</td>\n",
       "      <td>COVID19 (COVID19 (MODERNA))</td>\n",
       "      <td>[Injection site erythema, Injection site pruri...</td>\n",
       "    </tr>\n",
       "  </tbody>\n",
       "</table>\n",
       "</div>"
      ],
      "text/plain": [
       "   VAERS_ID AGE_YRS SEX                                            CUR_ILL  \\\n",
       "0    916600    33.0   F                                               None   \n",
       "1    916601    73.0   F  Patient residing at nursing facility. See pati...   \n",
       "2    916602    23.0   F                                               None   \n",
       "3    916603    58.0   F                                   kidney infection   \n",
       "4    916604    47.0   F                                                 Na   \n",
       "\n",
       "                                             HISTORY  \\\n",
       "0                                               None   \n",
       "1  Patient residing at nursing facility. See pati...   \n",
       "2                                               None   \n",
       "3  diverticulitis, mitral valve prolapse, osteoar...   \n",
       "4                                                      \n",
       "\n",
       "                                           ALLERGIES  \\\n",
       "0                                  Pcn and bee venom   \n",
       "1                                            \"Dairy\"   \n",
       "2                                          Shellfish   \n",
       "3  Diclofenac, novacaine, lidocaine, pickles, tom...   \n",
       "4                                                 Na   \n",
       "\n",
       "                              VAX_NAME  \\\n",
       "0          COVID19 (COVID19 (MODERNA))   \n",
       "1          COVID19 (COVID19 (MODERNA))   \n",
       "2  COVID19 (COVID19 (PFIZER-BIONTECH))   \n",
       "3          COVID19 (COVID19 (MODERNA))   \n",
       "4          COVID19 (COVID19 (MODERNA))   \n",
       "\n",
       "                                            SYMPTOMS  \n",
       "0                          [Dysphagia, Epiglottitis]  \n",
       "1                                [Anxiety, Dyspnoea]  \n",
       "2  [Chest discomfort, Dysphagia, Pain in extremit...  \n",
       "3           [Dizziness, Fatigue, Mobility decreased]  \n",
       "4  [Injection site erythema, Injection site pruri...  "
      ]
     },
     "execution_count": 164,
     "metadata": {},
     "output_type": "execute_result"
    }
   ],
   "source": [
    "df.head()"
   ]
  },
  {
   "cell_type": "markdown",
   "metadata": {},
   "source": [
    "### Data Preprocessing \n",
    "* Cleaning the data"
   ]
  },
  {
   "cell_type": "code",
   "execution_count": 165,
   "metadata": {
    "id": "mSgtDXxoXePt"
   },
   "outputs": [],
   "source": [
    "def convertAge(string_age):\n",
    "    if string_age == \"\":\n",
    "        return \"unknown_age\"\n",
    "    if 0 <= float(string_age) <= 2:\n",
    "        return \"0-2 yr\"\n",
    "    if 3 <= float(string_age) <= 12:\n",
    "        return \"3-12 yr\"\n",
    "    if 13 <= float(string_age) <= 19:\n",
    "        return \"13-19 yr\"\n",
    "    if 20 <= float(string_age) <= 39:\n",
    "        return \"20-39 yr\"\n",
    "    if 40 <= float(string_age) <= 59:\n",
    "        return \"40-59 yr\"\n",
    "    return \"over_60 yr\"\n",
    "\n",
    "\n",
    "def changeVaxName(vax_name):\n",
    "    if 'MODERNA' in vax_name:\n",
    "        return 'MODERNA'\n",
    "    if 'PFIZER' in vax_name:\n",
    "        return 'PFIZER'\n",
    "\n",
    "    return 'JANSSEN'"
   ]
  },
  {
   "cell_type": "code",
   "execution_count": 166,
   "metadata": {
    "colab": {
     "base_uri": "https://localhost:8080/",
     "height": 419
    },
    "id": "ktvkygOJXf4h",
    "outputId": "bbe43b9c-7748-4a1d-cffa-e3e065f5c35e"
   },
   "outputs": [],
   "source": [
    "# remove none coivd related vaccine samples\n",
    "df = df[df['VAX_NAME'].str.contains(\n",
    "    '|'.join(['MODERNA', 'PFIZER-BIONTECH'])) & df['VAX_NAME'].isna() == False]\n",
    "# put age in bucket under 60 or over\n",
    "df['AGE_CAT'] = df['AGE_YRS'].apply(lambda x: convertAge(x))\n",
    "# simmplify vaccine names\n",
    "df['VAX_NAME'] = df['VAX_NAME'].apply(lambda x: changeVaxName(x))"
   ]
  },
  {
   "cell_type": "code",
   "execution_count": 167,
   "metadata": {},
   "outputs": [],
   "source": [
    "# Create a list of remove words\n",
    "remove_word_list = ['none', 'na', 'nkda', 'nka', 'unknown', 'medical history/concurrent conditions:', 'no adve...', 'no known allergies', 'no illnesses at time or prior', 'no allergies', 'no adverse event (no reported medical history)', 'comments: list of non-encoded patient relevant...', 'ukn', ' no adverse event (no reported medical history.)',\n",
    "                    ' no adverse event (no medical history reported)',\n",
    "                    ' no adverse event (no adverse event was reported.)',\n",
    "                    ' no adverse event (no medical history reported.)', '',\n",
    "                    ' no adverse event',\n",
    "                    ' no adverse event (no patient history reported.)',\n",
    "                    ' no adverse event (medical history not provided)',\n",
    "                    ' no adverse event (medical history not reported)',\n",
    "                    ' no adverse event (no adverse event history)',\n",
    "                    ' no adverse event (no medical history provided)',\n",
    "                    ' no adverse event (no reported adverse event)',\n",
    "                    ' no adverse event (no recorded medical history.)',\n",
    "                    ' no adverse event (no medical history provided.)',\n",
    "                    'denies', 'denies any illness at time of vaccition or up ...', 'denies any illnesses', 'patient denies', 'unkown', 'no known', 'comments: list of non-encoded patient relevant...', 'no illnesses at time of vaccition', 'no illness one month prior to or at time of va...']\n",
    "\n",
    "\n",
    "def remove_words(strings):\n",
    "    for words in remove_word_list:\n",
    "        strings = strings.replace(words, '')\n",
    "    return strings"
   ]
  },
  {
   "cell_type": "code",
   "execution_count": 168,
   "metadata": {},
   "outputs": [],
   "source": [
    "# make the health_condition text lower case\n",
    "df['CUR_ILL'] = df['CUR_ILL'].str.lower()\n",
    "df['HISTORY'] = df['HISTORY'].str.lower()\n",
    "df['ALLERGIES'] = df['ALLERGIES'].str.lower()\n",
    "# remove list of words from columns\n",
    "\n",
    "df['CUR_ILL'] = df['CUR_ILL'].apply(lambda x: remove_words(x))\n",
    "df['HISTORY'] = df['HISTORY'].apply(lambda x: remove_words(x))\n",
    "df['ALLERGIES'] = df['ALLERGIES'].apply(lambda x: remove_words(x))"
   ]
  },
  {
   "cell_type": "code",
   "execution_count": null,
   "metadata": {},
   "outputs": [],
   "source": []
  },
  {
   "cell_type": "markdown",
   "metadata": {
    "id": "WSaJ7X8faL-e"
   },
   "source": [
    "## Extract the columns for training"
   ]
  },
  {
   "cell_type": "code",
   "execution_count": 169,
   "metadata": {
    "id": "SImXori7YmaI"
   },
   "outputs": [],
   "source": [
    "df_training = df.loc[:, ['AGE_CAT', 'SEX', 'VAX_NAME']]\n",
    "# combining patients' current illness , medical history and, allergies and store in the \"health condition column\"\n",
    "df['HEALTH_CONDITION'] = df['CUR_ILL']+\",\" + df['HISTORY']+\",\"+df['ALLERGIES']"
   ]
  },
  {
   "cell_type": "markdown",
   "metadata": {},
   "source": [
    "\n",
    "#### The health_conditons column contains string descriptions of each patient's medical history, allergy, and current illness. We need to extract meaningful key words from them and try to find associations between patients' health conditons and their Vaccine side affects   "
   ]
  },
  {
   "cell_type": "code",
   "execution_count": 170,
   "metadata": {},
   "outputs": [
    {
     "data": {
      "text/plain": [
       "'!\"#$%&\\'()*+,-./:;<=>?@[\\\\]^_`{|}~'"
      ]
     },
     "execution_count": 170,
     "metadata": {},
     "output_type": "execute_result"
    }
   ],
   "source": [
    "import nltk\n",
    "import itertools\n",
    "from string import punctuation\n",
    "from nltk.corpus import stopwords\n",
    "\n",
    "stopwords = stopwords.words('english')\n",
    "\n",
    "punctuation"
   ]
  },
  {
   "cell_type": "code",
   "execution_count": 171,
   "metadata": {},
   "outputs": [
    {
     "data": {
      "text/html": [
       "<div>\n",
       "<style scoped>\n",
       "    .dataframe tbody tr th:only-of-type {\n",
       "        vertical-align: middle;\n",
       "    }\n",
       "\n",
       "    .dataframe tbody tr th {\n",
       "        vertical-align: top;\n",
       "    }\n",
       "\n",
       "    .dataframe thead th {\n",
       "        text-align: right;\n",
       "    }\n",
       "</style>\n",
       "<table border=\"1\" class=\"dataframe\">\n",
       "  <thead>\n",
       "    <tr style=\"text-align: right;\">\n",
       "      <th></th>\n",
       "      <th>VAERS_ID</th>\n",
       "      <th>AGE_YRS</th>\n",
       "      <th>SEX</th>\n",
       "      <th>CUR_ILL</th>\n",
       "      <th>HISTORY</th>\n",
       "      <th>ALLERGIES</th>\n",
       "      <th>VAX_NAME</th>\n",
       "      <th>SYMPTOMS</th>\n",
       "      <th>AGE_CAT</th>\n",
       "      <th>HEALTH_CONDITION</th>\n",
       "    </tr>\n",
       "  </thead>\n",
       "  <tbody>\n",
       "    <tr>\n",
       "      <th>0</th>\n",
       "      <td>916600</td>\n",
       "      <td>33.0</td>\n",
       "      <td>F</td>\n",
       "      <td></td>\n",
       "      <td></td>\n",
       "      <td>pcn and bee venom</td>\n",
       "      <td>MODERNA</td>\n",
       "      <td>[Dysphagia, Epiglottitis]</td>\n",
       "      <td>20-39 yr</td>\n",
       "      <td>,,pcn and bee venom</td>\n",
       "    </tr>\n",
       "    <tr>\n",
       "      <th>1</th>\n",
       "      <td>916601</td>\n",
       "      <td>73.0</td>\n",
       "      <td>F</td>\n",
       "      <td>patient residing at nursing facility. see pati...</td>\n",
       "      <td>patient residing at nursing facility. see pati...</td>\n",
       "      <td>\"dairy\"</td>\n",
       "      <td>MODERNA</td>\n",
       "      <td>[Anxiety, Dyspnoea]</td>\n",
       "      <td>over_60 yr</td>\n",
       "      <td>patient residing at nursing facility. see pati...</td>\n",
       "    </tr>\n",
       "    <tr>\n",
       "      <th>2</th>\n",
       "      <td>916602</td>\n",
       "      <td>23.0</td>\n",
       "      <td>F</td>\n",
       "      <td></td>\n",
       "      <td></td>\n",
       "      <td>shellfish</td>\n",
       "      <td>PFIZER</td>\n",
       "      <td>[Chest discomfort, Dysphagia, Pain in extremit...</td>\n",
       "      <td>20-39 yr</td>\n",
       "      <td>,,shellfish</td>\n",
       "    </tr>\n",
       "    <tr>\n",
       "      <th>3</th>\n",
       "      <td>916603</td>\n",
       "      <td>58.0</td>\n",
       "      <td>F</td>\n",
       "      <td>kidney infection</td>\n",
       "      <td>diverticulitis, mitral valve prolapse, osteoar...</td>\n",
       "      <td>diclofec, novacaine, lidocaine, pickles, tomat...</td>\n",
       "      <td>MODERNA</td>\n",
       "      <td>[Dizziness, Fatigue, Mobility decreased]</td>\n",
       "      <td>40-59 yr</td>\n",
       "      <td>kidney infection,diverticulitis, mitral valve ...</td>\n",
       "    </tr>\n",
       "    <tr>\n",
       "      <th>4</th>\n",
       "      <td>916604</td>\n",
       "      <td>47.0</td>\n",
       "      <td>F</td>\n",
       "      <td></td>\n",
       "      <td></td>\n",
       "      <td></td>\n",
       "      <td>MODERNA</td>\n",
       "      <td>[Injection site erythema, Injection site pruri...</td>\n",
       "      <td>40-59 yr</td>\n",
       "      <td>,,</td>\n",
       "    </tr>\n",
       "  </tbody>\n",
       "</table>\n",
       "</div>"
      ],
      "text/plain": [
       "   VAERS_ID AGE_YRS SEX                                            CUR_ILL  \\\n",
       "0    916600    33.0   F                                                      \n",
       "1    916601    73.0   F  patient residing at nursing facility. see pati...   \n",
       "2    916602    23.0   F                                                      \n",
       "3    916603    58.0   F                                   kidney infection   \n",
       "4    916604    47.0   F                                                      \n",
       "\n",
       "                                             HISTORY  \\\n",
       "0                                                      \n",
       "1  patient residing at nursing facility. see pati...   \n",
       "2                                                      \n",
       "3  diverticulitis, mitral valve prolapse, osteoar...   \n",
       "4                                                      \n",
       "\n",
       "                                           ALLERGIES VAX_NAME  \\\n",
       "0                                  pcn and bee venom  MODERNA   \n",
       "1                                            \"dairy\"  MODERNA   \n",
       "2                                          shellfish   PFIZER   \n",
       "3  diclofec, novacaine, lidocaine, pickles, tomat...  MODERNA   \n",
       "4                                                     MODERNA   \n",
       "\n",
       "                                            SYMPTOMS     AGE_CAT  \\\n",
       "0                          [Dysphagia, Epiglottitis]    20-39 yr   \n",
       "1                                [Anxiety, Dyspnoea]  over_60 yr   \n",
       "2  [Chest discomfort, Dysphagia, Pain in extremit...    20-39 yr   \n",
       "3           [Dizziness, Fatigue, Mobility decreased]    40-59 yr   \n",
       "4  [Injection site erythema, Injection site pruri...    40-59 yr   \n",
       "\n",
       "                                    HEALTH_CONDITION  \n",
       "0                                ,,pcn and bee venom  \n",
       "1  patient residing at nursing facility. see pati...  \n",
       "2                                        ,,shellfish  \n",
       "3  kidney infection,diverticulitis, mitral valve ...  \n",
       "4                                                 ,,  "
      ]
     },
     "execution_count": 171,
     "metadata": {},
     "output_type": "execute_result"
    }
   ],
   "source": [
    "df.head()"
   ]
  },
  {
   "cell_type": "code",
   "execution_count": 172,
   "metadata": {},
   "outputs": [],
   "source": [
    "def remove_words_containning_numbers(word):\n",
    "    if word.isalpha():\n",
    "        return word\n",
    "    return \"\""
   ]
  },
  {
   "cell_type": "markdown",
   "metadata": {},
   "source": [
    "#### tokenize the strings in health_condition column. The column contains descriptions of each patient's medical history, allergy    "
   ]
  },
  {
   "cell_type": "code",
   "execution_count": 173,
   "metadata": {},
   "outputs": [
    {
     "data": {
      "text/plain": [
       "16361"
      ]
     },
     "execution_count": 173,
     "metadata": {},
     "output_type": "execute_result"
    }
   ],
   "source": [
    "# tokenize df_training['HEALTH_CONDITION']\n",
    "df['HEALTH_CONDITION'] = df['HEALTH_CONDITION'].apply(\n",
    "    lambda x: nltk.word_tokenize(x))\n",
    "allwords = set(itertools.chain.from_iterable(df.HEALTH_CONDITION))\n",
    "len(allwords)"
   ]
  },
  {
   "cell_type": "code",
   "execution_count": 174,
   "metadata": {},
   "outputs": [
    {
     "data": {
      "text/plain": [
       "16076"
      ]
     },
     "execution_count": 174,
     "metadata": {},
     "output_type": "execute_result"
    }
   ],
   "source": [
    "# remove any punctuations from words\n",
    "df['HEALTH_CONDITION'] = df['HEALTH_CONDITION'].apply(\n",
    "    lambda x: [''.join(c if c not in punctuation else \" \" for c in s) for s in x])\n",
    "allwords = set(itertools.chain.from_iterable(df.HEALTH_CONDITION))\n",
    "len(allwords)"
   ]
  },
  {
   "cell_type": "code",
   "execution_count": 175,
   "metadata": {},
   "outputs": [
    {
     "data": {
      "text/plain": [
       "10565"
      ]
     },
     "execution_count": 175,
     "metadata": {},
     "output_type": "execute_result"
    }
   ],
   "source": [
    "# remove any words mix with number\n",
    "df['HEALTH_CONDITION'] = df['HEALTH_CONDITION'].apply(\n",
    "    lambda x: [remove_words_containning_numbers(w) for w in x])\n",
    "allwords = set(itertools.chain.from_iterable(df.HEALTH_CONDITION))\n",
    "len(allwords)"
   ]
  },
  {
   "cell_type": "code",
   "execution_count": 176,
   "metadata": {},
   "outputs": [
    {
     "data": {
      "text/plain": [
       "10564"
      ]
     },
     "execution_count": 176,
     "metadata": {},
     "output_type": "execute_result"
    }
   ],
   "source": [
    "# remove any empty words\n",
    "df['HEALTH_CONDITION'] = df['HEALTH_CONDITION'].apply(\n",
    "    lambda x: [string for string in x if string != \"\"])\n",
    "allwords = set(itertools.chain.from_iterable(df.HEALTH_CONDITION))\n",
    "len(allwords)"
   ]
  },
  {
   "cell_type": "code",
   "execution_count": 177,
   "metadata": {},
   "outputs": [
    {
     "data": {
      "text/plain": [
       "10433"
      ]
     },
     "execution_count": 177,
     "metadata": {},
     "output_type": "execute_result"
    }
   ],
   "source": [
    "# remove stop words\n",
    "df['HEALTH_CONDITION'] = df['HEALTH_CONDITION'].apply(\n",
    "    lambda x: [words for words in x if words not in stopwords])\n",
    "allwords = set(itertools.chain.from_iterable(df.HEALTH_CONDITION))\n",
    "before_remove_noun = allwords\n",
    "len(allwords)"
   ]
  },
  {
   "cell_type": "code",
   "execution_count": 178,
   "metadata": {},
   "outputs": [],
   "source": [
    "# extract only nouns form the Health_conditon column.\n",
    "df['HEALTH_CONDITION'] = df['HEALTH_CONDITION'].apply(\n",
    "    lambda x: [words for words, pos in nltk.pos_tag(x) if pos == \"NN\" or pos == 'NNS'])"
   ]
  },
  {
   "cell_type": "markdown",
   "metadata": {},
   "source": [
    "## auto correct spelling errors (run paralle), since it takes a long time to run, I saved the data processed dataframe\n",
    "import multiprocessing\n",
    "from autocorrect import Speller\n",
    "import time\n",
    "spell = Speller(lang='en')\n",
    "\n",
    "\n",
    "import mypack.correc as co\n",
    "import numpy as np\n",
    "new_dff=df.loc[:,'HEALTH_CONDITION']\n",
    "new_dff\n",
    "start_time = time.time()\n",
    "pool = multiprocessing.Pool(multiprocessing.cpu_count())\n",
    "\n",
    "new_dff=new_dff.apply(lambda x :  pool.map(co.correction, x ))\n",
    "   \n",
    "print(\"--- %s seconds ---\" % (time.time() - start_time))"
   ]
  },
  {
   "cell_type": "markdown",
   "metadata": {},
   "source": [
    "df['HEALTH_CONDITION']=new_dff"
   ]
  },
  {
   "cell_type": "code",
   "execution_count": null,
   "metadata": {},
   "outputs": [],
   "source": []
  },
  {
   "cell_type": "code",
   "execution_count": 179,
   "metadata": {},
   "outputs": [],
   "source": [
    "#print([word for word in before_remove_noun if word not in ans])"
   ]
  },
  {
   "cell_type": "markdown",
   "metadata": {},
   "source": [
    "## CORRECT WORDS MANUALLY"
   ]
  },
  {
   "cell_type": "markdown",
   "metadata": {},
   "source": [
    "from difflib import SequenceMatcher\n",
    "\n",
    "def similar(a, b):\n",
    "    return SequenceMatcher(None, a, b).ratio()\n",
    "\n",
    "word_grouping=ans.copy()\n",
    "\n",
    "dic_word=[]\n",
    "for a in word_grouping:\n",
    "    \n",
    "    #print(word_grouping[a])\n",
    "    \n",
    "    group=[]\n",
    "    for b in word_grouping:\n",
    "        \n",
    "        if similar(a, b)> 0.80:\n",
    "            \n",
    "            group.append (b)\n",
    "            word_grouping.remove(b)\n",
    "    dic_word.append(group)\n",
    "   # word_grouping.remove(word_grouping[a])\n"
   ]
  },
  {
   "cell_type": "markdown",
   "metadata": {},
   "source": [
    "print(dic_word)"
   ]
  },
  {
   "cell_type": "markdown",
   "metadata": {},
   "source": [
    "len(dic_word)"
   ]
  },
  {
   "cell_type": "markdown",
   "metadata": {},
   "source": [
    "from nltk.corpus import wordnet\n",
    "def check_isword(x):\n",
    "    if not wordnet.synsets(x):\n",
    "        return False\n",
    "    return True\n",
    "    "
   ]
  },
  {
   "cell_type": "markdown",
   "metadata": {},
   "source": [
    "from nltk.corpus import wordnet\n",
    "\n",
    "new_dic=[]\n",
    "counter=0\n",
    "for wordlist in dic_word:\n",
    "    boo = False\n",
    "    for word in wordlist:\n",
    "        if check_isword(word)==True:\n",
    "            new_dic.append({word:wordlist})\n",
    "            boo = True\n",
    "            break\n",
    "    if boo == False: \n",
    "        new_dic.append({counter: wordlist})\n",
    "        counter = counter + 1"
   ]
  },
  {
   "cell_type": "markdown",
   "metadata": {},
   "source": [
    "print(new_dic)"
   ]
  },
  {
   "cell_type": "markdown",
   "metadata": {},
   "source": [
    "temp =[]\n",
    "for item in new_dic:\n",
    "    for dic, value in item.items() :\n",
    "        if type(dic)==str and len(value)>1:\n",
    "            \n",
    "            temp.append(item)"
   ]
  },
  {
   "cell_type": "markdown",
   "metadata": {},
   "source": [
    "temp"
   ]
  },
  {
   "cell_type": "markdown",
   "metadata": {},
   "source": [
    "### manually checked the simmilar words and clean the data "
   ]
  },
  {
   "cell_type": "code",
   "execution_count": 180,
   "metadata": {},
   "outputs": [],
   "source": [
    "simmilar_words = [{'abnormal': ['abnormal', 'abnormality']}, {'acetaminophen': ['acetaminophen', 'acetiminophen']}, {'acyclovir': ['acyclovir', 'alcyclovir']}, {'add': ['add', 'adds']}, {'adenomyosis': ['adenomyosis', 'adneomyosis']}, {'affect': ['affect', 'effects']}, {'agranulocytosis': ['agranulocytosis', 'granulomatosis']}, {'acid': ['acid', 'aid', 'aids']}, {'alcohol': ['alcohol', 'alcohols']}, {'allergy': ['allergy', 'allergies']}, {'alzheimers': ['alheimers', 'alxheimer', 'alzheimers']}, {'amitriptyline': ['amatriptoline', 'amitriptyline']}, {'amoxicillin': ['amoxacillin', 'amoxapine', 'amoxcillin', 'amoxiccillin', 'amoxicillan', 'amoxicillen', 'amoxicilliin', 'amoxicillin', 'amoxillion', 'amoxocin', 'amoxycillan', 'amoxycillian', 'amoxycillin']}, {'abnormalities': ['abnormalities', 'anomalies']}, {'anticoagulant': ['anticoagulant', 'anticoagulation']}, {'ant': ['ant', 'ants']}, {'azithromycin': ['arithimycin', 'arrhthromycin', 'arrythromycin', 'arythomycin', 'azithromycin', 'azithromyocin', 'azythromycin', 'zithromycin']}, {'erthromycin': ['erthromycin', 'erythromycin']}, {'arteriosclerosis': ['arteriosclerosis', 'atherosclerosis', 'otosclerosis']}, {'lovastatin': ['atorvastat', 'atovastatin', 'lovastatin', 'rovastatin']}, {'avocado': ['avocado', 'avocados']}, {'awake': ['awake', 'wake']}, {'bacitracin': ['bacitracin', 'bacitrian', 'bactiracin']}, {'ban': ['ban', 'bans']}, {'bee': ['bee', 'bees']}, {'behavior': ['behavior', 'behaviors']}, {'benzodiazepines': ['benzodiazapenes', 'benzodiazepines']}, {'berries': ['berries', 'bluberries']}, {'breast': ['breast', 'breasts']}, {'bronchiolitis': ['brochitis', 'bronchiolitis']}, {'ibuprofen': ['buprofen', 'ibuprofen']}, {'bypass': ['bypass', 'passes']}, {'calculation': ['calculation', 'circulation', 'coagulation']}, {'cauliflower': ['cauliflower', 'rawcauliflower']}, {'cephalexin': ['cefalaxin', 'cephalexin']}, {'cefuroxime': ['cefuroxime', 'cefuroxme']}, {'center': ['center', 'enter', 'enters']}, {'cephalosporin': ['cefalosporins', 'celphlasporins', 'cephalasporins', 'cephalosporin', 'cephalosporis', 'cephlasporins']}, {'chlorhexidine': ['chlohexidine', 'chlorhexidine', 'cholerahexadine', 'cholorehexadine']}, {'cholecystitis': ['chocystitis', 'cholecystitis']}, {'cholesterol': ['cholesterol', 'clolestroal', 'colorestrol', 'hypercholesterol']}, {'ciprofloxacin': ['ciproflaxen', 'ciprofloxacin']}, {'lincomycin': ['clindamiacin', 'clindomyacin', 'clyndomycin', 'lincomycin']}, {'clinoril': ['clinoril', 'linsopril']}, {'lorazepam': ['clozepam', 'lorazepam']}, {'color': ['color', 'colors']}, {'complain': ['complain', 'complaints']}, {'compassion': ['compassion', 'compression', 'impression']}, {'concentrate': ['concentrate', 'contraction']}, {'condition': ['condition', 'conditioning']}, {'conjunctivitis': ['conjunctivitis', 'rhinoconjunctivitis']}, {'oropharyngeal': ['oropharyngeal', 'sopharyngeal']}, {'cyclobenzaprine': ['cyclobenzaprine', 'cyclobezprine']}, {'hysteroscopy': ['cystoscopy', 'hysteroscopy']}, {'deaf': ['deaf', 'def']}, {'doxycycline': ['doxicillin', 'doxicycline', 'doxocyclin', 'doxycline', 'doxycyclin', 'doxycycline', 'doxycyclineusea', 'doxycylcine', 'doxycyline', 'doxylamine']}, {'deficiency': ['deficiency', 'deficit']}, {'demerol': ['demarol', 'demerol']}, {'dependence': ['dependence', 'dependent']}, {'dexamethasone': ['betamethasone', 'deamethasone', 'dexamethasone']}, {'diabetic': ['diabetic', 'prediabetic']}, {'diagnoses': ['diagnoses', 'diagnostics']}, {'dilaudid': ['dialudid', 'diaudid', 'dilaudid']}, {'diverticulosis': ['diberticulosis', 'divertculosis', 'diverticulosis']}, {'difficult': ['difficult', 'difficulty']}, {'dioxide': ['dioxide', 'oxide']}, {'dis': ['dis', 'disc', 'dish']}, {'lipidemia': ['dislipidemia', 'dyslipemia', 'dysplipdemia', 'lipidemia']}, {'diuresis': ['diuresis', 'duragesis']}, {'draw': ['draw', 'draws']}, {'drop': ['drop', 'drops']}, {'dysphonia': ['dysphonia', 'dysponia']}, {'eastern': ['eastern', 'eaten', 'stern']}, {'egg': ['egg', 'eggs']}, {'neomycin': ['emyacin', 'neomycin']}, {'epicondylitis': ['epicondylitis', 'spondylitis']}, {'esophagitis': ['esofagitis', 'esophagitis', 'esphagitis', 'oesophagitis']}, {'exacerbation': ['exacerbation', 'exascerbation', 'exhacerbation']}, {'eye': ['eye', 'eyes']}, {'fascists': ['fasciatus', 'fascists']}, {'fat': ['fat', 'fats']}, {'feel': ['feel', 'feels']}, {'find': ['find', 'finds']}, {'fir': ['fir', 'fires']}, {'flights': ['flights', 'light', 'lights']}, {'fluorescent': ['fluorescent', 'fluoroscein']}, {'folliculitis': ['foliculitis', 'folliculitis']}, {'form': ['form', 'forms']}, {'fosamax': ['fosamax', 'fosomax']}, {'gastrectomy': ['gastrectomy', 'gastrostomy']}, {'gastroesophageal': ['gastroesophageal', 'gastroesphageal']}, {'gadolinium': ['gadolinium', 'glalinium']}, {'hazelnuts': ['hazeenut', 'hazelnuts']}, {'head': ['head', 'heads']}, {'hemochromatosis': ['hemachromatosis', 'hemochromatosis']}, {'hemodialysis': ['hemodialiysis', 'hemodialysis', 'hemolysis']}, {\n",
    "    'hypoglycemia': ['hipoglicemia', 'hypoglycemia']}, {'horse': ['horse', 'horses']}, {'hydronephrosis': ['hydonephrosis', 'hydronephrosis']}, {'hydralazine': ['hydralazine', 'hydrazaline']}, {'dehydration': ['dehydration', 'hydration']}, {'hydromorphone': ['hidromorphine', 'hydromorphone']}, {'hydroxy': ['hydro', 'hydroxy']}, {'hyperthyroidism': ['hyopothroidism', 'hyperthyroidism', 'hypohyroidism', 'hypoparathyroidism', 'hyporthyroidism', 'hypothoidism', 'hypothroid', 'hypothryoidism', 'hypothryroidism', 'hypothyriodism', 'hypothyroidism', 'hypothyroiditis', 'hypothyroigism', 'hypthyroidism']}, {'hyperlipidaemia': ['hypelipidemia', 'hyperdyslipidemia', 'hyperlidemia', 'hyperlipademia', 'hyperlipedemia', 'hyperlipidaemia', 'hyperlipidem', 'hyperlipidemia', 'hyperlipidimia', 'hyperlipiemia', 'hypolipidemia', 'hyprlipidemia']}, {'hypercalcemia': ['hpercalcemia', 'hypercalcemia', 'hyperglycemia', 'hyperkalemia']}, {'hypercholesterolemia': ['hyperchloestermia', 'hypercholeroltemia', 'hypercholesteralemia', 'hypercholestermia', 'hypercholesterolemia', 'hypercholesterolism', 'hypercholsterolemia', 'hyperholesteremia', 'hypersholesteremia', 'hypocholesteremia', 'ypercholesteremia', 'hypercolestoramia']}, {'hyperhidrosis': ['hyperhidrosis', 'hyperhydrosis', 'hyperthyrodism']}, {'hypermetropia': ['hypermetropia', 'hyperopia']}, {'hyperparathyroidism': ['hyperparathyroidism', 'hypertyroidism', 'hypoparathyroidim']}, {'hypertension': ['hypertension', 'prehypertension']}, {'hypovolemia': ['hypocholemia', 'hypovolemia']}, {'hypoglycemic': ['hypoglycemic', 'hypooglycemia']}, {'hypokalemia': ['hyokalemia', 'hypokalemia']}, {'hypoventilation': ['hypoventilation', 'ventilation']}, {'inflammation': ['inflammation', 'inflammatory']}, {'inhibition': ['inhibition', 'inhibitors']}, {'laminectomy': ['hemilaminectomy', 'laminectomy']}, {'laryngitis': ['laryngitis', 'pharyngitis']}, {'leaves': ['leaves', 'level']}, {'lip': ['lip', 'lips']}, {'list': ['list', 'lists']}, {'lymphedema': ['lymphadem', 'lymphedema']}, {'lymphoid': ['lymphnode', 'lymphoid']}, {'macrodantin': ['macrodantin', 'microdantin']}, {'macrocytosis': ['macrocytosis', 'mastocytosis', 'stomatocytosis']}, {'menopausal': ['menopausal', 'perimenopausal', 'postmenopausal']}, {'menorrhagia': ['menometrorrhagia', 'menorrhagia']}, {'metabolic': ['hypometabolism', 'metabolic']}, {'albuminuria': ['albuminuria', 'microalbuminuria']}, {'minocycline': ['minicycline', 'minocycline']}, {'monistat': ['monistat', 'monostat']}, {'myocarditis': ['myocarditis', 'myopericarditis']}, {'neosporin': ['neospin', 'neosporin']}, {'nephritis': ['nephritis', 'neuritis', 'polynephritis']}, {'neuron': ['neuro', 'neuron', 'neurons']}, {'neurofibromatosis': ['fibromatosis', 'neurofibromatosis']}, {'sarcoidosis': ['neurosarcoidosis', 'sarcoidosis']}, {'night': ['night', 'nights']}, {'nitrofuran': ['nitrofuran', 'nitrofurantoin']}, {'melanoma': ['melanoma', 'nonmelanoma']}, {'nut': ['nut', 'nuts']}, {'occasion': ['occasion', 'occlusion']}, {'orbital': ['orbital', 'orita']}, {'ephedrine': ['ephedrine', 'orphedrine']}, {'osteopetrosis': ['oesteoporosis', 'osteonecrosis', 'osteopetrosis', 'osteoporosis', 'osteporosis', 'ostprosis']}, {'palpitations': ['palpatation', 'palpitatioins', 'palpitations']}, {'parkinson': ['parkinson', 'parkinsonisms']}, {'pepper': ['pepper', 'peppers']}, {'laryngeal': ['laryngeal', 'pharyngeal']}, {'phenergan': ['phenergan', 'phergergan']}, {'phenobarbitals': ['phenobarb', 'phenobarbitals']}, {'pig': ['pig', 'pigs']}, {'pistachio': ['pistachio', 'pistschios']}, {'place': ['place', 'places']}, {'plan': ['plan', 'plans']}, {'polyarteritis': ['polyarteritis', 'polyarthritis']}, {'preservatives': ['perservatives', 'preservatives']}, {'propoxyphene': ['propoxyphene', 'propyphene']}, {'pseudoephedrine': ['psedophedrine', 'pseudoephedrine', 'pseudophendirine']}, {'quadriplegia': ['quadraplegic', 'quadriplegia']}, {'question': ['question', 'questions']}, {'benzalclonium': ['benzalcloniumbenzalkonium', 'benzene', 'benzoate', 'benzocaine', 'benzodiazepine', 'benzodiazepines', 'benzoid', 'benzoly', 'benzoperoxide', 'benzoyl']}, {'bronchiectasis': ['bronchial', 'bronchiectasis', 'bronchiolitis', 'bronchitis', 'bronchopneumonia', 'bronchospasm']}, {'cranberries': ['cranberries', 'raspberries']}, {'result': ['result', 'results']}, {'rheumatoid': ['rheumatiod', 'rheumatoid']}, {'run': ['run', 'runs']}, {'salicylate': ['salicylate', 'salicylicates']}, {'thrombocytopemia': ['thrombocytopemia', 'thrombocytopenia', 'thrombocytosis', 'thromboembolism', 'thrombophilia', 'thrombophlebitis', 'thrombus']}, {'ischemia': ['ischemia', 'schema']}, {'shellfish': ['selfish', 'shellfish']}, {'shoot': ['shoot', 'shot']}, {'sign': ['sign', 'signs']}, {'penicillins': ['pencillers', 'peneciline', 'penicillin', 'penillicillins', 'pennicellins']}, {'sinusitis': ['sinnusitis', 'sinusitis', 'tinnitis']}, {'sleep': ['sleep', 'sleeps']}, {'smoke': ['smoke', 'smokers']}]"
   ]
  },
  {
   "cell_type": "code",
   "execution_count": 181,
   "metadata": {},
   "outputs": [],
   "source": [
    "simmilar_words2 = [{'hypogammaglobulinemia': ['ypogammaglobuliemia', 'hypogammaglobulinemia', 'ypogammaglobulonemia']}, {'spironolactone': ['spironolactone', 'sprionolactone']}, {'spondylolisthesis': ['spondylolisthesis', 'spondylolysis', 'spondylosis', 'spondylolithesis', 'spondylopathies']}, {'stay': ['stay', 'stays']}, {'sulfanilamide': ['sulfailamide', 'sulfanilamide']}, {'sulfide': ['sulfide', 'sulfomides']}, {'supplement': ['supplement', 'supplements']}, {'tachycardia': ['tacacardia', 'tachcardia', 'tachycardia']}, {'tetracyclines': ['tetracicline', 'tetracyclines']}, {'thioridazine': ['thioridazine', 'thorazine']}, {'thrombocytosis': ['thrombocytosis', 'thrombosis']}, {'issues': ['issues', 'tissues']}, {'titan': ['titan', 'titans']}, {'tobramycin': ['tobdramycin', 'tobramycin']}, {'tolectin': ['tolectin', 'tolmetin']}, {'toxicity': ['ototoxicity', 'toxicity']}, {'transplant': ['transplant', 'transplants']}, {'tube': ['tube', 'tubes']}, {'onions': ['onions', 'union']}, {'urticaria': ['uritcaria', 'urticaria', 'uticaria']}, {'value': ['value', 'valves']}, {'vancomycin': ['vancomycin', 'vancomyocin']}, {'atrioventricular': ['atrioventricular', 'ventricular']}, {'visit': ['visit', 'visits']}, {'week': ['week', 'weeks']}, {'well': ['well', 'wells']}, {'abnormal': ['abnormal', 'abnormality']}, {'acetaminophen': ['acetaminophen', 'acetaminophine', 'acetate', 'acetominiphen']}, {'abscess': ['abscess', 'abscessus']}, {'absence': ['absence', 'absent']}, {'adenocarcinoma': ['adenocarcinoma', 'adenoma', 'adenomyosis', 'adenosine']}, {'adhesion': ['adhesion', 'adhesive']}, {'admin': ['admin', 'administration']}, {'admit': ['admit', 'admits']}, {'agenesis': ['agenesis', 'agenisis']}, {'albumin': ['albumin', 'albuminuria']}, {'alergies': ['alergies', 'allegergies', 'allegeries', 'allegies', 'allegra', 'allergans', 'allergen', 'allergic', 'allergiers', 'allergiex', 'allergist', 'allergy', 'alleriges']}, {'aluminium': ['aluminium', 'aluminum']}, {'alzheimer': ['alzheimer', 'alzheimers']}, {'amblyopia': ['amblyopia', 'ambulance', 'ambulatory']}, {'aminoglycosides': ['aminoglycosides', 'aminooglycosides']}, {'amiodarone': ['amiodarone', 'amioderone']}, {'amitriptyline': ['amitriptyline', 'amitryptiline']}, {'amlodipine': ['amlodipine', 'amlodopine']}, {'amox': ['amox', 'amoxi', 'amoxicillin', 'amoxil']}, {'ampicillin': ['ampicillin', 'ampicillinhives']}, {'amputaion': ['amputaion', 'amputation']}, {'anemia': ['anemia', 'anemic', 'anemica']}, {'anesthesia': ['anesthesia', 'anesthessia', 'anesthetic']}, {'aneurism': ['aneurism', 'aneursym', 'aneurysm']}, {'angeoedema': ['angeoedema', 'angio', 'angiodema', 'angiodysplasia', 'angioedema', 'angiogram', 'angiomyolipoma', 'angiopathy', 'angioplasty', 'angiotensin', 'angloidosis']}, {'antibiotic': ['antibiotic', 'antibiotoics', 'antibitotics', 'antibody', 'antiboitics']}, {'anticoag': ['anticoag', 'anticoagulant']}, {'anuerysm': ['anuerysm', 'anurism', 'anursym']}, {'anxiety': ['anxiety', 'anxity']}, {'aphagia': ['aphagia', 'aphalaxic', 'aphalaxis', 'aphalxis', 'aphalyxis', 'aphasia']}, {'aphylaxes': ['aphylaxes', 'aphylaxis', 'aphylaxtis']}, {'apnea': ['apnea', 'apneia', 'apnoea']}, {'appendectomy': ['appendectomy', 'appendiceal', 'appendicitis', 'appendix']}, {'arrhythmia': ['arrhythmia', 'arrythmia']}, {'arteriole': ['arteriole', 'arteriosclerosis', 'arteritis', 'artery', 'arthirits', 'arthitis', 'arthralgia', 'arthria', 'arthrities', 'arthritis', 'arthritus', 'arthrodesis', 'arthrofibrosis', 'arthropathy', 'arthroplasty', 'arthropod', 'arthroscopy', 'arthrrities', 'artritis']}, {'asbestos': ['asbestos', 'asbestosis']}, {'aasthma': ['aasthma', 'ashma', 'ashtma', 'asma', 'asthma', 'asthmatic', 'asthmaticus', 'athsma']}, {'asparagus': ['asparagus', 'aspartame', 'aspartane', 'astio', 'astomosis']}, {'aspercream': ['aspercream', 'asperger', 'aspergers', 'aspertane', 'aspertein', 'aspirin', 'aspirne', 'atelol', 'atenolol', 'atenolot']}, {'asplenia': ['asplenia', 'asplenism', 'augementin', 'augmentation', 'augmenten', 'augmentin', 'augmenton']}, {'avacado': ['avacado', 'avacodo', 'avacodos', 'avocado', 'avocadoes']}, {'avalox': ['avalox', 'avelox', 'azithromiacine', 'azithromycin', 'azithromyecin', 'azythramycin', 'bacteremia', 'bacteria', 'bacterium', 'bactrain', 'bactria', 'bactrim', 'bactrin', 'bactrium', 'bactriun', 'bactroban', 'bactruim', 'bactrum']}, {'barret': ['barret', 'barrets', 'barrett', 'barretts']}, {'benzalclonium': ['benzalclonium', 'benzalkonium']}, {'benzo': ['benzo', 'benzodiazepine', 'benzoin', 'benzoine', 'benzol', 'benzotate', 'benzote']}, {'bezapril': ['bezapril', 'bezepril']}, {'biacin': ['biacin', 'biactin']}, {'biaxcin': ['biaxcin', 'biaxin']}, {'bicep': ['bicep', 'biceps']}, {'bifid': ['bifid', 'bifida']}, {'bleed': ['bleed', 'bleeding', 'bleeds']}, {'blind': ['blind', 'blindness']}, {'bronchiectasis': ['bronchiectasis', 'bronchiolitis', 'bronchus']}, {'bupropion': ['bupropion', 'buproprion']}, {'butyl': ['butyl', 'butylcarbamate']}, {'candida': [\n",
    "    'candida', 'candidate', 'candidiasis']}, {'cantalope': ['cantalope', 'cantaloupe', 'canteloupe']}, {'capsaicin': ['capsaicin', 'capsasin']}, {'carbamate': ['carbamate', 'carbamaze', 'carbamazepine', 'carbamazepone']}, {'carcinoid': ['carcinoid', 'carcinoma', 'carcinosarcoma']}, {'cardia': ['cardia', 'cardiac', 'cardio', 'cardiologist', 'cardiology', 'cardiomediastil', 'cardiomegaly', 'cardiomyopathy', 'cardiorel', 'cardiovascular', 'cardioversion', 'cardioversions']}, {'cefaclor': ['cefaclor', 'cefador', 'cefadroxil', 'cefalexin', 'cefazolin']}, {'cefdenir': ['cefdenir', 'cefdiner', 'cefdinir', 'cefdnir', 'cefnidir']}, {'cefepime': ['cefepime', 'cefipime']}, {'celluitis': ['celluitis', 'cellulitis']}, {'cephalaxin': ['cephalaxin', 'cephalexin', 'cephalon', 'cephalosporin', 'cephasporins']}, {'cephlex': ['cephlex', 'cephlexin', 'ceplalaxin']}, {'cerebri': ['cerebri', 'cerebritis', 'cerebro', 'cerebrovasc', 'cerebrovascular', 'cerebyx']}, {'cerumen': ['cerumen', 'cerumenex']}, {'chemo': ['chemo', 'chemoradiation', 'chemotherapy', 'chemothrapy']}, {'chlor': ['chlor', 'chlorahexidine', 'chloramphenicol', 'chloraprep', 'chlorascrub', 'chlordiazepoxide', 'chloresterol', 'chlorhexidine', 'chloride', 'chlorine', 'chlormycetin', 'chloroprep', 'chloroquine', 'chlorothiazide', 'chloroxylenol', 'chlorpheniramine', 'chlorpromazine', 'chlorthalidone']}, {'chocholate': ['chocholate', 'chocolate']}, {'cholecystectomy': ['cholecystectomy', 'cholecystitis', 'choledocholithiasis', 'cholelithiasis']}, {'chloesterol': ['chloesterol', 'cholersterol', 'cholesteral', 'cholesterol', 'cholesterolemia', 'cholesterolm', 'cholestrol', 'cholestyramine']}, {'cillin': ['cillin', 'cillins']}, {'ciprodex': ['ciprodex', 'ciproflaxin', 'ciprofloxaci', 'ciprofloxacin', 'ciprofloxin']}, {'clarithomycin': ['clarithomycin', 'clarithromycin']}, {'clindamayacin': ['clindamayacin', 'clindamyacin', 'clindamyaxin', 'clindamycin', 'clindamycinrash', 'clindamysin', 'clindaymyacin', 'clindomycin']}, {'colities': ['colities', 'colitis', 'colits']}, {'colonoscopy': ['colonoscopy', 'colonscopy']}, {'compazene': ['compazene', 'compazine', 'compezine']}, {'congestion': ['congestion', 'congestive']}, {'conjuctivits': ['conjuctivits', 'conjunctivitis', 'conjuntivitis']}, {'constiipation': ['constiipation', 'constipation']}, {'costichondritis': ['costichondritis', 'costochondritis', 'costochronitis']}, {'cyclobenzaprine': ['cyclobenzaprine', 'cyclobenzoprine', 'cyclodrine', 'cyclosporin', 'cyclosporine']}, {'dabigatran': ['dabigatran', 'dabigitran']}, {'defibrilator': ['defibrilator', 'defibrillator', 'defibulator']}, {'deficency': ['deficency', 'deficience', 'deficiency', 'deficient', 'deficit']}, {'demand': ['demand', 'demenita', 'dementia', 'dementio']}, {'depacote': ['depacote', 'depakote']}, {'depatale': ['depatale', 'dependence', 'dependency']}, {'dermatofibroma': ['dermatofibroma', 'dermatographia', 'dermatographism', 'dermatologist', 'dermatomyocitis', 'dermatomyositis', 'dermatophytosis', 'dermatoymositis']}, {'diabertes': ['diabertes', 'diabet', 'diabetes', 'diabetic', 'diabeties', 'diabetis', 'diaibetes']}, {'diahhrea': ['diahhrea', 'diahrea', 'diarreha', 'diarrhea', 'diarrhoea', 'dibetes']}, {'dicloxacilliam': ['dicloxacilliam', 'dicloxacillin', 'dicloxicillin']}, {'diphenhyd': ['diphenhyd', 'diphenhydramine']}, {'diverculitis': ['diverculitis', 'diversion', 'diverticulas', 'diverticulitis', 'diverticulosis', 'diverticululitis', 'diverticulum', 'divertivulitis']}, {'dizziness': ['dizziness', 'dizzy']}, {'dupuytrans': ['dupuytrans', 'dupuytren', 'dupuytrens']}, {'duricef': ['duricef', 'duriceff']}, {'dustmite': ['dustmite', 'dustmites']}, {'dyspahgia': ['dyspahgia', 'dyspepsia', 'dysplasia']}, {'dysphagia': ['dysphagia', 'dysphonia', 'dysphoria', 'dysphoric']}, {'dysrhythmia': ['dysrhythmia', 'dysthymia']}, {'emphezema': ['emphezema', 'emphysema']}, {'encephalitis': ['encephalitis', 'encephalopathy']}, {'endocin': ['endocin', 'endocrine', 'endocrinologist', 'endocrinology']}, {'endometeriosis': ['endometeriosis', 'endometriosis', 'endometropsis', 'endometrosis', 'endrometriosis']}, {'enviormental': ['enviormental', 'environment']}, {'eosinophil': ['eosinophil', 'eosinophilia']}, {'epicondyle': ['epicondyle', 'epicondylitis']}, {'erythema': ['erythema', 'erythematosis', 'erythematosus']}, {'erythmycin': ['erythmycin', 'erythomycin', 'erythritol', 'erythrmycin']}, {'erythromelalgia': ['erythromelalgia', 'erythromiacin', 'erythromicin', 'erythromyacin', 'erythropoietin', 'erytrhomycin']}, {'esophageal': ['esophageal', 'esophagectomy', 'esophagitis', 'esophagus', 'esophogus', 'esphogael']}, {'ethyl': ['ethyl', 'ethylenediamine']}, {'fatigue': ['fatigue', 'fatique']}, {'fasciatis': ['fasciatis', 'fasciculation', 'fasciitis', 'fascisitis', 'fascitis']}, {'fentanol': ['fentanol', 'fentanyl', 'fentayl', 'fentyl', 'fentynol']}, {'fibirllation': ['fibirllation', 'fibrilation', 'fibrilla', 'fibrillation']}, {'fibroma': ['fibroma', 'fibromialyia', 'fibromyalgia', 'fibromylagia']}]"
   ]
  },
  {
   "cell_type": "code",
   "execution_count": 182,
   "metadata": {},
   "outputs": [],
   "source": [
    "simmilar_words3 = [{'fibrosing': ['fibrosing', 'fibrosis']}, {'flaygel': ['flaygel', 'flaygyll']}, {'flexaril': ['flexaril', 'flexeril']}, {'floroquinolines': ['floroquinolines', 'floroquinolins']}, {'fluorescein': ['fluorescein', 'fluorescens', 'fluorescent']}, {'fluoro': ['fluoro', 'fluoroquinolone', 'fluoroquinolones', 'fluorouracil']}, {'fluoxetine': ['fluoxetine', 'fluoxitine']}, {'fluticasone': ['fluticasone', 'fluticazolone']}, {'gabapentin': ['gabapentin', 'gabapetin']}, {'gabipentin': ['gabipentin', 'gabipenton', 'gabupentin']}, {'gadolineum': ['gadolineum', 'gadolinium']}, {'gastrocnemius': ['gastrocnemius', 'gastroeneteritis', 'gastroenteritis']}, {'gastroesophageal': ['gastroesophageal', 'gastroesophegeal', 'gastrographin', 'gastrointestil', 'gastroparesis', 'gastroparisis', 'gastrophoresis']}, {'gluten': ['gluten', 'glutete', 'gluteus']}, {'glycol': ['glycol', 'glycoprotein']}, {'haschimoto': ['haschimoto', 'hashimoto', 'hashimotos', 'hashimottos', 'hashitomotos', 'hashmotos', 'hasimotois']}, {'headache': ['headache', 'headahce', 'headedness']}, {'hemahromacytosis': ['hemahromacytosis', 'hemangioma', 'hemaplegia', 'hemarthrosis', 'hematemesis', 'hematoma', 'hematospermia', 'hematuria']}, {'hemi': ['hemi', 'hemicolectomy', 'hemicrania', 'hemiparesis', 'hemiplegia', 'hemiplegic']}, {'hemochromatosis': ['hemochromatosis', 'hemochromotosis']}, {'hemorrhage': ['hemorrhage', 'hemorrhagic', 'hemorrhoid']}, {'hemoglobin': ['hemoglobin', 'hemoglobinuria']}, {'hemodialyis': ['hemodialyis', 'hemodialysis']}, {'hepatitis': ['hepatitis', 'hepatits']}, {'hoshimoto': ['hoshimoto', 'hoshimotos', 'hosimitos']}, {'hydrochlorathiazide': ['hydrochlorathiazide', 'hydrochloride', 'hydrochlorithiazide', 'hydrochlorothiazide', 'hydrochlorthiazide', 'hydrochodone', 'hydrochorothiazide', 'hydroclorothiazide']}, {'hydrocodine': ['hydrocodine', 'hydrocodone', 'hydrocone', 'hydrocortisone']}, {'hydroxychloroquie': ['hydroxychloroquie', 'hydroxychloroquine', 'hydroxychlorquine', 'hydrozychloroquine']}, {'hyperacuasis': ['hyperacuasis', 'hyperacusis']}, {'hyperaldosternoism': ['hyperaldosternoism', 'hyperaldosteronism']}, {'hyperchloesterolemia': ['hyperchloesterolemia', 'hyperchol', 'hypercholestemia', 'hypercholesteremia', 'hypercholesterolemi', 'hypercholesterolemia', 'hypercholesterolimia', 'hypercholestrolemia']}, {'hyperhomocysteinemia': ['hyperhomocysteinemia', 'hyperhomocystinemia']}, {'hyperlidipdemia': ['hyperlidipdemia', 'hyperlipdemia', 'hyperlipemia', 'hyperlipidaemia', 'hyperlipideia', 'hyperlipidema', 'hyperlipidemis', 'hyperlipiden', 'hyperlipids']}, {'hypermetropia': ['hypermetropia', 'hypermobile', 'hypermobility']}, {'hyperosmoloty': ['hyperosmoloty', 'hyperostosis']}, {'hyperparathyroidism': ['hyperparathyroidism', 'hyperparthyrodism']}, {'hyperpotassemia': ['hyperpotassemia', 'hyperprolactemia', 'hyperprolactinemia']}, {'hypertenision': ['hypertenision', 'hypertennsion', 'hypertension', 'hypertensive', 'hypertenstion', 'hypertention', 'hypertesnion', 'hypertnesion', 'hypetension', 'hytertension']}, {'hypertriclyceridemia': ['hypertriclyceridemia', 'hypertriglycerademia', 'hypertriglyceridaemia', 'hypertriglyceridemia', 'hypogammaglobuliemia', 'hypogammaglobulinemia',\n",
    "                                                                                                                                                                                                                                                                                                                                                                                                                                                                                                                                                                                                                                                                                                                                                                                                                                                                                                                                                                                                                                                                                                                                                                                                                                                                                                                                                                                                                                                                                                                                                                                                                                                                                                                                                                                                                                                                                                                                                                                                                                                                                                                                                                                                                                                                                                                                                                                                                                                                                                                                                                                                                                                                                                                                                                                                                                                                                                                                                                                                                                                                                                                                                                                                           'inflamation', 'inflammation', 'inflammatories', 'infmamation']}, {'hypertrophic': ['hypertrophic', 'hypertrophy', 'hypoglycemia', 'hypoglycemic']}, {'hyperurecemia': ['hyperurecemia', 'hyperuricemia', 'hypokalemia', 'hypokalmia']}, {'hypomagnesemia': ['hypomagnesemia', 'hypomagnesia']}, {'hypothridism': ['hypothridism', 'hypothroidism', 'hypothryodism', 'hypothryoid', 'hypothryroid', 'hypothydriodism', 'hypothyrodism', 'hypothyroid', 'hypothyroidisn', 'hypothyroidontism']}, {'hypoxemia': ['hypoxemia', 'hypoxia', 'hypoxic', 'hypoxy', 'leukaemia', 'leukemia', 'leukoaraiosis', 'leukocyte', 'leukocytosis', 'leukopenia']}, {'lisiniopril': ['lisiniopril', 'lisinipril', 'lisinopril', 'lisinopryl', 'lisonipril']}, {'lipedema': ['lipedema', 'lipidemia']}, {'lorazepam': ['lorazepam', 'lorazepan']}, {'lymph': ['lymph', 'lymphadema', 'lymphadenopathy', 'lymphangioleiomyomatosis', 'lymphedema', 'lymphedma', 'lymphoangioleiomymatosis', 'lymphocytosis', 'lymphodema', 'lymphohistiocytosis', 'lymphoid', 'lymphoma']}, {'methylchloroisothiazinoline': ['methylchloroisothiazinoline', 'methyldibromoglutaronitrile']}, {'microademnoma': ['microademnoma', 'microadenoma']}, {'miggraine': ['miggraine', 'migraine', 'migrainosus', 'migrains', 'migrane', 'migranes', 'migrans']}, {'oropharangeal': ['oropharangeal', 'oropharyngeal']}, {'osteo': ['osteo', 'osteoarthritics', 'osteoarthritis', 'osteoarthrosis', 'osteochondritis', 'osteodystrophy', 'osteodystrpphy', 'osteomyelitis', 'osteopenia', 'osteoperosis', 'osteopetrosis', 'osteoporasis', 'osteoporisis', 'osteoporsis', 'osteosrthritis', 'osteroarthritis', 'osteroporosis']}, {'pancolitis': ['pancolitis', 'pancreas', 'pancreatic', 'pancreatitis']}, {'pencilin': ['pencilin', 'pencillin', 'pencillins', 'penecilin', 'penecillan', 'penecillin', 'penicciclin', 'peniccilin', 'peniccillin', 'penicellin', 'peniciilin', 'penicilin', 'penicillan', 'penicillans', 'penicillen', 'penicillian', 'penicilliin', 'penicillin', 'penicilline', 'penicllin', 'penincillin', 'pennecillin', 'pennicillan', 'pennicillen', 'pennicillin', 'pennicillink', 'pennicillins', 'pennicillun', 'pennicllin']}, {'pharyngoesophageal': ['pharyngoesophageal', 'pharyngoesphageal']}, {'phenegran': ['phenegran', 'phenegren', 'phenegrin', 'phenelzine', 'phenergan', 'phenergin', 'phenethyl']}, {'phenobarbital': ['phenobarbital', 'phenobarbitol']}, {'phenothiazine': ['phenothiazine', 'phenothyazines', 'phenotype']}, {'pnemonia': ['pnemonia', 'pneumomia', 'pneumonia', 'pneumonitis', 'pneumothoracic', 'pneumothorax', 'pneumovax', 'pnuemonia']}, {'prednison': ['prednison', 'prednisone', 'prednizone', 'prenisone', 'prenizone']}, {'pseudephedrine': ['pseudephedrine', 'pseudobrofimide', 'pseudobulbar']}, {'pseudoephedrine': ['pseudoephedrine', 'pseudoephidrine']}, {'pseudoseizure': ['pseudoseizure', 'pseudoseizures']}, {'thiermosol': ['thiermosol', 'thimerasol', 'thimerisol', 'thimerosal', 'thimerosol', 'thimersol']}, {'thyroidectomy': ['thyroidectomy', 'thyroidemctomy', 'thyroidism', 'thyroiditis', 'thyroidits', 'thyroidproblem', 'thyroxine']}, {'waldenstrom': ['waldenstrom', 'waldenström', 'waldonstrom']}, {'symptoms': ['symproms', 'symptom', 'symptomatic', 'symptoms', 'symtoms', 'symtpoms']}]"
   ]
  },
  {
   "cell_type": "code",
   "execution_count": null,
   "metadata": {},
   "outputs": [],
   "source": []
  },
  {
   "cell_type": "code",
   "execution_count": 183,
   "metadata": {},
   "outputs": [],
   "source": [
    "def change_words(word):\n",
    "    for dic in simmilar_words:\n",
    "        for key, values in dic.items():\n",
    "            if word in values:\n",
    "                return key\n",
    "    return word\n",
    "\n",
    "\n",
    "def change_words2(word):\n",
    "    for dic in simmilar_words2:\n",
    "        for key, values in dic.items():\n",
    "            if word in values:\n",
    "                return key\n",
    "    return word\n",
    "\n",
    "\n",
    "def change_words3(word):\n",
    "    for dic in simmilar_words3:\n",
    "        for key, values in dic.items():\n",
    "            if word in values:\n",
    "                return key\n",
    "    return word"
   ]
  },
  {
   "cell_type": "code",
   "execution_count": 184,
   "metadata": {},
   "outputs": [],
   "source": [
    "df['HEALTH_CONDITION'] = df['HEALTH_CONDITION'].apply(\n",
    "    lambda x: [change_words(word) for word in x])\n",
    "df['HEALTH_CONDITION'] = df['HEALTH_CONDITION'].apply(\n",
    "    lambda x: [change_words2(word) for word in x])\n",
    "df['HEALTH_CONDITION'] = df['HEALTH_CONDITION'].apply(\n",
    "    lambda x: [change_words3(word) for word in x])"
   ]
  },
  {
   "cell_type": "code",
   "execution_count": 185,
   "metadata": {},
   "outputs": [],
   "source": [
    "meaningless = ['comment', 'history', 'patient', 'history', 'aaa', 'ab', 'abd', 'abt', 'ac', 'ace', 'acf', 'acid', 'acne', 'acre', 'add', 'adh', 'adm', 'adn', 'ae', 'af', 'afi', 'agar', 'age', 'ahd', 'air', 'aka', 'aki', 'al', 'alan', 'alex', 'alf', 'ali', 'alk', 'all', 'alla', 'alma', 'alot', 'als', 'alt', 'am', 'amd', 'amor', 'amp', 'ams', 'ance', 'ang', 'anl', 'ant', 'any', 'ap', 'apc', 'ape', 'apex', 'app', 'apps', 'apr', 'aps', 'arb', 'arch', 'arcs', 'are', 'area', 'arf', 'aria', 'arid', 'arm', 'arms', 'army', 'arts', 'asa', 'asap', 'asd', 'ash', 'asia', 'ast', 'atb', 'ate', 'atom', 'au', 'aug', 'auto', 'av', 'avg', 'awa', 'az', 'b', 'ba', 'back', 'bag', 'ban', 'band', 'bar', 'bare', 'bark', 'barr', 'bars', 'bas', 'base', 'bav', 'bay', 'bbb', 'bc', 'bcc', 'bed', 'been', 'bg', 'bh', 'bha', 'bhp', 'bi', 'bid', 'bil', 'bio', 'bit', 'bk', 'ble', 'bmi', 'bms', 'bnp', 'bot', 'bp', 'br', 'bs', 'bss', 'bug', 'bun', 'bus', 'but', 'c', 'ca', 'cab', 'cad', 'can', 'cap', 'car', 'cas', 'cat', 'cbc', 'cbs', 'cc', 'cce', 'ccm', 'cd', 'cf', 'ch', 'chg', 'chi', 'chr', 'ci', 'cic', 'cid', 'cin', 'cir', 'cis', 'ciu', 'ck', 'cko', 'cl', 'cm', 'cmc', 'cmo', 'cmp', 'cms', 'cmt', 'col', 'con', 'cor', 'cow', 'cp', 'cr', 'crc', 'cri', 'cry', 'cs', 'ct', 'cta', 'cts', 'cum', 'cut', 'cv', 'cvs', 'da', 'dad', 'day', 'dbs', 'dcv', 'ddd', 'de', 'dec', 'del', 'des', 'dhe', 'di', 'dia', 'did', 'die', 'dif', 'dip', 'dir', 'dis', 'div', 'dl', 'dm', 'dn', 'dnr', 'doe', 'dog', 'dot', 'dp', 'dr', 'dry', 'ds', 'du', 'duo', 'dur', 'dx', 'dye', 'dyn', 'dz', 'e', 'ear', 'eat', 'eb', 'ed', 'eds', 'ees', 'ef', 'ehr', 'em', 'ems', 'end', 'eng', 'ent', 'epi', 'er', 'erm', 'esp', 'esr', 'et', 'eta', 'etc', 'eth', 'exp', 'f', 'fa', 'fat', 'fe', 'feb', 'fil', 'fir', 'fix', 'fld', 'flu', 'fmf', 'fms', 'fr', 'fur', 'fx', 'g', 'ga', 'gad', 'gag', 'gal', 'gb', 'gbs', 'ge', 'gel', 'gen', 'ger', 'get', 'gi', 'gm', 'gol', 'got', 'gp', 'gt', 'gum', 'gun', 'gut', 'h', 'ha', 'had', 'hay', 'hb', 'hbo', 'hc', 'hd', 'hdl', 'heb', 'hep', 'hf', 'hh', 'hi', 'hip', 'hit', 'hiv', 'hl', 'ho', 'hop', 'how', 'hp', 'hpt', 'hr', 'hrs', 'hrt', 'hsi', 'hsv', 'ht', 'htm', 'hx', 'ia', 'ic', 'ica', 'icd', 'ice', 'icu', 'id', 'ida', 'idd', 'idm', 'idp', 'if', 'ig', 'iga', 'ige', 'igm',\n",
    "               'ii', 'iii', 'il', 'ill', 'ils', 'im', 'img', 'in', 'inh', 'inj', 'ink', 'int', 'ip', 'iq', 'is', 'it', 'iu', 'iv', 'ivi', 'ivy', 'j', 'jan', 'jaw', 'job', 'jul', 'k', 'ka', 'kd', 'kg', 'kid', 'kts', 'ku', 'l', 'la', 'lab', 'lad', 'lap', 'lb', 'lbs', 'le', 'leg', 'let', 'lip', 'll', 'llt', 'lon', 'lot', 'lp', 'lpg', 'lt', 'ltf', 'lv', 'ma', 'mac', 'mag', 'mai', 'mal', 'man', 'map', 'mar', 'max', 'mc', 'mca', 'mcd', 'mcg', 'mcs', 'md', 'mdd', 'mdr', 'mds', 'mes', 'mg', 'mgm', 'mi', 'mid', 'mil', 'mix', 'ml', 'mla', 'mm', 'mo', 'mod', 'mom', 'mos', 'mpa', 'mph', 'mr', 'ms', 'msa', 'msg', 'mst', 'mus', 'mvc', 'mvp', 'mw', 'n', 'nc', 'nd', 'nda', 'neg', 'nfa', 'nh', 'nhl', 'nid', 'nil', 'nk', 'nka', 'nma', 'nn', 'non', 'nor', 'nos', 'nov', 'npo', 'ns', 'nt', 'nta', 'num', 'nut', 'nya', 'oa', 'oak', 'oat', 'occ', 'oct', 'od', 'oil', 'ol', 'old', 'om', 'one', 'op', 'opa', 'os', 'osa', 'oth', 'ou', 'out', 'ox', 'oxy', 'p', 'pa', 'pab', 'pad', 'pai', 'pak', 'pap', 'pat', 'pay', 'pb', 'pd', 'pda', 'pdf', 'pe', 'pea', 'pec', 'peg', 'pen', 'per', 'pes', 'pet', 'pf', 'pfo', 'pfr', 'ph', 'phx', 'pid', 'pig', 'pit', 'pm', 'pmc', 'pmn', 'pmr', 'pms', 'po', 'poc', 'pog', 'pos', 'pox', 'pp', 'ppi', 'ppm', 'ppv', 'pr', 'prd', 'pre', 'prn', 'pro', 'psa', 'psp', 'pt', 'pts', 'put', 'pvt', 'q', 'qd', 'qt', 'r', 'ra', 'rad', 'rag', 'rah', 'rat', 'ray', 'rca', 'rec', 'red', 'rel', 'ret', 'rev', 'rib', 'rka', 'rle', 'rls', 'rn', 'rod', 'rom', 'row', 'rr', 'rt', 'rue', 'run', 'rv', 'rx', 'ry', 'rye', 'sal', 'sap', 'sar', 'saw', 'sbe', 'sbl', 'scc', 'scp', 'scr', 'sct', 'sea', 'see', 'sfn', 'sh', 'sha', 'she', 'sio', 'ski', 'so', 'sob', 'sol', 'son', 'soy', 'sp', 'spi', 'sr', 'sri', 'srs', 'ss', 'sss', 'st', 'stg', 'sua', 'sud', 'sun', 'sup', 'sur', 'svt', 'sw', 'sx', 'syn', 'syr', 'tab', 'tap', 'tar', 'tb', 'tbd', 'td', 'te', 'tea', 'tee', 'ten', 'th', 'tho', 'thr', 'ti', 'tia', 'tid', 'til', 'tka', 'tm', 'tn', 'toe', 'tos', 'tr', 'try', 'tss', 'tst', 'tts', 'tu', 'tum', 'tx', 'ua', 'uk', 'ul', 'unk', 'ups', 'uri', 'url', 'use', 'utc', 'uti', 'v', 'va', 'vac', 'vet', 'via', 'vid', 'vio', 'vit', 'vk', 'von', 'vp', 'vs', 'vt', 'w', 'war', 'was', 'way', 'wbc', 'well', 'will', 'wit', 'with', 'wu', 'www', 'x', 'xl', 'yes', 'yo', 'you', 'yrs', 'z']\n",
    "\n",
    "df['HEALTH_CONDITION'] = df['HEALTH_CONDITION'].apply(\n",
    "    lambda x: [word for word in x if word not in meaningless])"
   ]
  },
  {
   "cell_type": "code",
   "execution_count": 186,
   "metadata": {},
   "outputs": [
    {
     "name": "stdout",
     "output_type": "stream",
     "text": [
      "['aasthma', 'abation', 'abcess', 'abdomen', 'abdomil', 'abductus', 'ability', 'ablation', 'abnl', 'abnormal', 'abnormalities', 'abrasion', 'abrasions', 'abscess', 'absence', 'absolute', 'absorption', 'abuse', 'abx', 'access', 'accident', 'accidents', 'accute', 'acdf', 'acei', 'acetaminophen', 'achalasia', 'ache', 'aches', 'achilles', 'achiness', 'acidosis', 'acin', 'acitretin', 'acrylic', 'actenol', 'actifed', 'activation', 'activities', 'activity', 'actonel', 'actos', 'acute', 'acyclovir', 'adalimumab', 'adderall', 'addiction', 'addison', 'additiol', 'addition', 'additives', 'adductor', 'adenocarcinoma', 'adenomas', 'adequate', 'adhd', 'adhesion', 'adhesions', 'adhesives', 'adipex', 'adiposity', 'adjustment', 'admin', 'admission', 'admit', 'admitting', 'adpoa', 'adrel', 'adreline', 'adrenergic', 'adu', 'adult', 'advair', 'advance', 'adverse', 'advil', 'aeds', 'aemia', 'aerd', 'aeroallergens', 'affect', 'affects', 'afib', 'afloid', 'afluria', 'afranil', 'aftercare', 'afterwards', 'agave', 'agency', 'agenesis', 'agent', 'agents', 'aggregation', 'aggrenox', 'aggression', 'agitation', 'agonist', 'agoraphobia', 'agranulocytosis', 'agreement', 'agts', 'aicd', 'aides', 'aidp', 'airborn', 'airspace', 'airway', 'airways', 'ajovy', 'albecton', 'albumin', 'albuterol', 'alc', 'alcohol', 'alcoholism', 'aldactone', 'alder', 'alendrote', 'aler', 'alergies', 'aleve', 'algeries', 'algesics', 'alieve', 'alignment', 'alkaline', 'alkylamine', 'allergens', 'allergists', 'allergys', 'allery', 'allogeneic', 'allopurinol', 'allows', 'almond', 'almonds', 'aloe', 'alogue', 'alogues', 'alopecia', 'alpha', 'alprazolam', 'altace', 'alteplase', 'alteration', 'altitude', 'aluminium', 'alysis', 'alzheimer', 'amag', 'amalogues', 'amantadine', 'amben', 'ambien', 'amblyopia', 'amenorrhea', 'amides', 'amino', 'aminoglycosides', 'amiodarone', 'amitriptyline', 'amlodipine', 'ammonia', 'amnesia', 'amodpehylne', 'amount', 'amounts', 'amovig', 'amox', 'amphotericin', 'ampicillin', 'amputaion', 'amputations', 'amputee', 'amyloidosis', 'ancef', 'androgel', 'andryiamicin', 'anectine', 'anemia', 'anesthesia', 'anesthetics', 'aneurism', 'angeoedema', 'anger', 'angi', 'angle', 'animal', 'animals', 'anise', 'anitbiotics', 'ankle', 'ankles', 'ankylosis', 'annulare', 'anomaly', 'anophthalmos', 'anorexia', 'anosmia', 'anovulation', 'anoxic', 'anphylaxis', 'antacid', 'antagonists', 'antecedent', 'anterior', 'anthralin', 'anti', 'antibiotic', 'antibiotics', 'antibodies', 'anticardiolipin', 'anticoag', 'anticoagulants', 'antidepressant', 'antidepressants', 'antiemetics', 'antifungals', 'antigen', 'antihistamine', 'antihistamines', 'antiphosolipidantibody', 'antipsychotics', 'antiquag', 'antithrombin', 'antitoxin', 'antitrypsin', 'antiusea', 'anuerysm', 'anxiety', 'anyone', 'anything', 'aodm', 'aorta', 'aortocorory', 'apap', 'apenea', 'apgar', 'aphagia', 'aphylaxes', 'apixaban', 'aplisol', 'apnea', 'appearance', 'appendectomy', 'appetite', 'apple', 'apples', 'appointment', 'approx', 'appt', 'apraxia', 'apricot', 'apricots', 'april', 'aprn', 'aprox', 'aptyalism', 'arachnoiditis', 'arcus', 'ards', 'areas', 'areata', 'areds', 'areola', 'areta', 'aripiprazole', 'arithromycin', 'armd', 'armpit', 'arnold', 'arrest', 'arrhythmia', 'arrival', 'arteries', 'arteriole', 'arterioles', 'arthralgias', 'artichokes', 'articuate', 'arvd', 'arythmia', 'arythro', 'asbestos', 'ascites', 'ascus', 'ascvd', 'ashd', 'asherman', 'asparagus', 'aspects', 'aspercream', 'aspiration', 'asplenia', 'asprin', 'assault', 'assessment', 'assistance', 'associate', 'asthenia', 'asthestimine', 'asthmas', 'asthmatics', 'astigmatism', 'astrozole', 'atarax', 'ataxia', 'atelectasis', 'athersclerosis', 'athmanex', 'athricmicen', 'athritis', 'ativan', 'atll', 'atomy', 'atopic', 'atorvastatin', 'atracurium', 'atresia', 'atria', 'atrial', 'atrioventricular', 'atrium', 'atrofibulation', 'atrophicus', 'atrophy', 'atropine', 'attachment', 'attack', 'attacks', 'attention', 'attenuation', 'atypia', 'auditory', 'augminton', 'august', 'aura', 'aureomycin', 'autism', 'autoimmune', 'automimmune', 'automobile', 'avacado', 'avalon', 'avalox', 'avandia', 'average', 'aversion', 'avidity', 'avium', 'avl', 'avm', 'avms', 'avodart', 'avonex', 'avr', 'avulsion', 'awake', 'aware', 'awareness', 'axetil', 'axiety', 'azathioprine', 'azelastine', 'azelox', 'baby', 'baccine', 'bacitracin', 'bacitration', 'backache', 'backpain', 'baclofen', 'bahia', 'baisal', 'baker', 'bakers', 'balance', 'baldness', 'balls', 'balsam', 'bamboo', 'bamlanivimab', 'bandage', 'bandages', 'bandaid', 'bandaids', 'banding', 'barbae', 'barbiturates', 'bariatric', 'barium', 'barley', 'barre', 'barret', 'barrs', 'bartonella', 'basal', 'baseline', 'basement', 'basil', 'bathroom', 'battery', 'bayer', 'bean', 'beans', 'bearing', 'beat', 'beauty', 'bechet', 'bechets', 'becker', 'beclovent', 'becomes', 'bedbound', 'bedridden', 'bedryl', 'bedside', 'bee', 'beed', 'beef', 'beer', 'beestings', 'beeswax', 'beets', 'begin', 'beginning', 'behavior', 'behavioral', 'behavrl', 'behcet', 'behcets', 'believe', 'bell', 'bells', 'bellybutton', 'belsomra', 'bendryl', 'benedryl', 'benefit', 'benicar', 'benign', 'bentyl', 'benzalclonium', 'benzo', 'benzodiazepines', 'berberine', 'bergamot', 'berriers', 'berries', 'beta', 'betadine', 'betadyne', 'betaine', 'bethanechol', 'bextra', 'bezapril', 'biacin', 'biaxcin', 'bicep', 'bicornuate', 'bicycle', 'bifada', 'bifid', 'bigeminy', 'bike', 'biktarvy', 'bilat', 'bilateral', 'bile', 'bili', 'biliary', 'bilirubin', 'bill', 'bimatoprost', 'bind', 'binder', 'binge', 'biopsies', 'biopsy', 'biopsys', 'biotin', 'bioxin', 'bipap', 'bipass', 'bipolar', 'birch', 'birds', 'birt', 'birth', 'birthmark', 'births', 'bisacodyl', 'bismol', 'bisphosphotes', 'bitartrate', 'bite', 'bites', 'bka', 'blackberries', 'blackberry', 'bladder', 'blades', 'blatter', 'bleach', 'bleaches', 'bleed', 'bleocycin', 'blepharitis', 'bleu', 'blind', 'blister', 'blisters', 'blistery', 'bloating', 'block', 'blockage', 'blockages', 'blockers', 'blocks', 'blood', 'bloodpressure', 'bloody', 'blossom', 'blot', 'blown', 'blue', 'blueberries', 'blueberry', 'blurry', 'bmp', 'bmt', 'boarder', 'boarderline', 'boat', 'bodies', 'body', 'bodyaches', 'bolus', 'bond', 'bone', 'bones', 'boniva', 'booster', 'border', 'borderline', 'boston', 'botox', 'bottles', 'botulinum', 'bound', 'bouts', 'bovine', 'bowel', 'bowels', 'bowl', 'boyfriend', 'bph', 'bppv', 'bpv', 'bpwas', 'brace', 'braces', 'brachytherapy', 'bradycardia', 'bradykinesia', 'brain', 'brainstem', 'branch', 'brand', 'brazil', 'break', 'breakfast', 'breaks', 'breast', 'breastmilk', 'breath', 'breathing', 'breo', 'brevibloc', 'brewer', 'brief', 'briefly', 'brillinta', 'brimonidine', 'brio', 'briviteracetam', 'broccoli', 'brochospasm', 'bromelain', 'bromine', 'bronchiectasis', 'bronopol', 'broom', 'brother', 'brown', 'bruise', 'bruit', 'bruits', 'bruxism', 'bubbles', 'budesonide', 'build', 'buildup', 'bulb', 'buldge', 'bulging', 'bulimia', 'bulk', 'bulkload', 'bullet', 'bumetone', 'bump', 'bumps', 'bundle', 'bunion', 'bunionette', 'bunions', 'bunnies', 'bupropion', 'bupvicaine', 'burn', 'burning', 'bursitis', 'bursitus', 'busbar', 'bushes', 'buspar', 'buspirone', 'butrans', 'buts', 'butter', 'buttock', 'buttocks', 'butyl', 'bydureon', 'byetta', 'bypass', 'bypasses', 'bystolic', 'cabag', 'cabbag', 'cabbage', 'cabg', 'cachexia', 'cachexic', 'cadexomer', 'caesin', 'caffeine', 'cage', 'cagliflozin', 'cain', 'caine', 'caines', 'caladryl', 'calamari', 'calamine', 'calan', 'calc', 'calcaneal', 'calcific', 'calcification', 'calcifications', 'calcinosis', 'calcitrene', 'calcium', 'calculae', 'calculation', 'calculi', 'calculus', 'calf', 'call', 'caller', 'callosities', 'caloria', 'calorie', 'calories', 'camphor', 'cancel', 'cancer', 'cancers', 'candida', 'candidum', 'candles', 'candy', 'cane', 'canker', 'cannula', 'cannulation', 'canola', 'cant', 'cantalope', 'canthus', 'canula', 'capacity', 'capap', 'capillaries', 'capitis', 'capp', 'capsaicin', 'capsoul', 'capsuar', 'capsule', 'capsules', 'capsulitis', 'captopril', 'carafate', 'carbamate', 'carbon', 'carboplatin', 'carcinoid', 'carcinomas', 'cardec', 'cardia', 'cardiomyopathies', 'cardizem', 'cards', 'care', 'caregiver', 'caregivers', 'cares', 'caretaker', 'carotid', 'carpal', 'carpel', 'carpet', 'carrier', 'carrot', 'carrots', 'carry', 'cartia', 'cartilage', 'carvedilol', 'carvone', 'casa', 'case', 'casein', 'cashd', 'cashew', 'cashews', 'casin', 'casium', 'cataplexy', 'catapres', 'cataract', 'cataracts', 'catch', 'category', 'cath', 'cathather', 'catheter', 'catheterisation', 'caths', 'cats', 'cattails', 'cattle', 'caught', 'cauliflower', 'causal', 'cause', 'causes', 'causing', 'caution', 'cava', 'cavity', 'cayenne', 'cbg', 'cbgs', 'cclor', 'ccygeal', 'cdif', 'cdiff', 'cdk', 'cechlor', 'ceclor', 'ceclore', 'cecor', 'cecum', 'cedar', 'cefaclor', 'cefdenir', 'cefepime', 'cefoxitin', 'cefpodoxime', 'cefprozil', 'ceftazidime', 'ceftiaxone', 'ceftin', 'ceftiner', 'ceftriaxone', 'ceftrriaxone', 'cefuroxime', 'cefuroxine', 'cefxil', 'cefzil', 'celcor', 'celebrex', 'celecoxib', 'celery', 'celexa', 'celiac', 'celiacs', 'cell', 'cells', 'celluitis', 'cement', 'center', 'centers', 'centre', 'cephalaxin', 'cephalosporins', 'cephlex', 'cereal', 'cereb', 'cerebri', 'cerumen', 'cervicalgia', 'cervix', 'cessation', 'cetfin', 'cetirizine', 'chads', 'chairi', 'chalazion', 'challenge', 'chamber', 'chambers', 'chamomile', 'champagne', 'chance', 'change', 'changes', 'channel', 'chantix', 'chapstick', 'charcot', 'chari', 'chart', 'chat', 'check', 'checklist', 'cheddar', 'cheese', 'chelation', 'chemical', 'chemicals', 'chemistry', 'chemo', 'cherries', 'cherry', 'chesnut', 'chest', 'chestnuts', 'cheyanne', 'chf', 'chia', 'chiari', 'chiblains', 'chichen', 'chicken', 'chickenpox', 'child', 'childbirth', 'childhood', 'children', 'chili', 'chilies', 'chills', 'chiropractor', 'chlamydia', 'chloesterol', 'chlor', 'chocholate', 'chodromalacia', 'choice', 'choilesterol', 'chol', 'cholangiocarcinoma', 'cholangitis', 'cholastrol', 'cholecystectomy', 'cholesterols', 'chompazine', 'chondrocalcinosis', 'chondromalacia', 'chonic', 'chord', 'chorea', 'chorioretil', 'chorlesterol', 'choroiditis', 'chowder', 'chrin', 'christmas', 'chrohn', 'chromosome', 'chron', 'chrone', 'chroni', 'chronic', 'chronicity', 'chronicus', 'chronik', 'chronis', 'chrons', 'chtn', 'chunk', 'churg', 'cidex', 'cigarette', 'cigarettes', 'cilantro', 'cillin', 'cilostazol', 'cimetidine', 'cinmon', 'cinnomon', 'cipor', 'cipro', 'ciprodex', 'ciprol', 'circa', 'circulatory', 'circumstances', 'cirpo', 'cirrhosis', 'citalopram', 'citalprozam', 'citrate', 'citrus', 'ckd', 'ckdiii', 'claforan', 'clam', 'clamara', 'clammy', 'clams', 'clarithomycin', 'claritin', 'class', 'classes', 'classhives', 'claucoma', 'claudication', 'claustrophobia', 'clav', 'clavicle', 'clavulante', 'clavulate', 'cleaners', 'cleaning', 'cleanse', 'cleanser', 'cleansers', 'clearance', 'clearing', 'cleft', 'cleocin', 'client', 'clindamayacin', 'clinic', 'clinoril', 'clip', 'cll', 'clobetasol', 'clonic', 'clonidine', 'clonocline', 'clonus', 'clopidogrel', 'clorox', 'close', 'closes', 'closing', 'clostridium', 'closure', 'clot', 'clothing', 'clotrimazole', 'clots', 'clotting', 'clover', 'clozaril', 'clumsiness', 'cluster', 'clyndamycin', 'cml', 'cmv', 'coagulations', 'coast', 'coat', 'cobalt', 'coban', 'cocaine', 'cocamindopropyl', 'coccyx', 'cockroach', 'cockroaches', 'cocoa', 'coconut', 'coconuts', 'code', 'codein', 'codeine', 'codeineusea', 'codene', 'codes', 'codfish', 'codieine', 'codiene', 'codine', 'codones', 'coedine', 'coedune', 'coeliac', 'coffee', 'cohosh', 'coils', 'coincidence', 'coincides', 'coinfection', 'coivd', 'colace', 'colcris', 'colcrys', 'cold', 'colds', 'colectomy', 'colesevelam', 'colesterol', 'colestid', 'colgate', 'coli', 'colities', 'colitus', 'collapse', 'college', 'collosum', 'cologne', 'colognes', 'colon', 'colonic', 'colonization', 'colonoscopies', 'colonoscopy', 'colophony', 'color', 'colorectal', 'coloring', 'colostomy', 'column', 'coma', 'comb', 'combat', 'combivent', 'come', 'comfort', 'comments', 'commpazine', 'communicate', 'communication', 'community', 'comorbidities', 'comorbidity', 'comp', 'company', 'compass', 'compassion', 'compassiote', 'compazene', 'complain', 'complaint', 'completion', 'complex', 'complication', 'complications', 'component', 'components', 'composine', 'compound', 'compozine', 'compromises', 'compulsion', 'concentrate', 'concentration', 'concern', 'concerns', 'concerta', 'conch', 'concomitant', 'concurrent', 'concussion', 'cond', 'condition', 'conditioners', 'conditions', 'conditon', 'condyloma', 'conentrate', 'cones', 'confirm', 'confirmation', 'confusion', 'congenital', 'congestion', 'congestions', 'conjuctivits', 'conray', 'consciousness', 'consent', 'consideration', 'consistency', 'constiipation', 'constriction', 'consult', 'consume', 'consumer', 'consumption', 'cont', 'contact', 'contacts', 'container', 'containing', 'contamition', 'contast', 'content', 'continua', 'continuance', 'contorl', 'contraception', 'contraceptives', 'contract', 'contractions', 'contracture', 'contractures', 'contrast', 'contrat', 'contribute', 'control', 'contusion', 'convalescence', 'convalescent', 'conversation', 'conversion', 'convulsions', 'cooper', 'coordition', 'copaxone', 'copd', 'copies', 'copper', 'coprocessor', 'copy', 'coratid', 'cord', 'coreg', 'coritid', 'corn', 'cornea', 'corneal', 'corneas', 'corns', 'cornstarch', 'coro', 'coror', 'corory', 'corovirus', 'corporis', 'corpus', 'correct', 'correction', 'cortex', 'corticosteroid', 'corticosteroids', 'cortisol', 'cortisone', 'cortisporin', 'cortizone', 'cosmetics', 'cosopt', 'costichondritis', 'cotnrast', 'cotrimazole', 'cotton', 'cottonseed', 'cottonwood', 'cough', 'coughing', 'couldnt', 'coumadin', 'counseling', 'counselor', 'count', 'counter', 'counters', 'counts', 'couple', 'course', 'cousin', 'covers', 'covid', 'covide', 'covod', 'cows', 'cozaar', 'cpap', 'cprs', 'cptsd', 'crab', 'crabs', 'crackles', 'cramp', 'cramping', 'cramps', 'cranberries', 'cranberry', 'cranioplasty', 'craniotomy', 'crcl', 'cream', 'creams', 'creat', 'create', 'creatinine', 'creme', 'crest', 'crestor', 'crf', 'cricopharyngeal', 'crisis', 'crlebrex', 'crohn', 'crohns', 'crones', 'croupy', 'crown', 'crowns', 'crps', 'crustaceans', 'crutch', 'cryoablation', 'cryotherapy', 'crys', 'csf', 'cubicin', 'cucumber', 'cucumbers', 'cuff', 'cultivate', 'culture', 'cultures', 'cumin', 'curcumin', 'curent', 'curry', 'curtain', 'curvature', 'cusp', 'cva', 'cvas', 'cvd', 'cvid', 'cvt', 'cxr', 'cyanoacrylate', 'cyanosis', 'cycle', 'cyclens', 'cycles', 'cyclobenzaprine', 'cyflosporans', 'cymbalta', 'cynomycin', 'cypro', 'cyst', 'cystadenoma', 'cystitis', 'cystocele', 'cysts', 'cytology', 'cytomegalovirus', 'cytomel', 'cytosine', 'cytotec', 'cytoxan', 'dabigatran', 'dadnywalker', 'daily', 'dairy', 'dalfampridine', 'damage', 'dander', 'dapsone', 'daptomycin', 'darvacets', 'darvan', 'darvocet', 'darvon', 'dasatinib', 'data', 'date', 'dates', 'daughter', 'daughters', 'daypro', 'dayquil', 'days', 'daytime', 'dcis', 'ddavp', 'ddrt', 'deaf', 'death', 'debilitation', 'debility', 'debridement', 'debridements', 'debris', 'decade', 'decades', 'decadron', 'decease', 'december', 'decision', 'decline', 'deconditioning', 'decongestants', 'decrease', 'decubitis', 'decubitus', 'deeper', 'deer', 'default', 'defect', 'defects', 'defibrilator', 'deficency', 'deficiencies', 'deficits', 'definity', 'defomity', 'deformans', 'deformity', 'degeneration', 'degenerative', 'degeration', 'degranulation', 'degree', 'dehiscence', 'dehydration', 'deiciency', 'delay', 'deletion', 'delirium', 'delivery', 'delsym', 'delsyn', 'delsyum', 'deltoid', 'delusiol', 'delusions', 'demand', 'demeral', 'demerol', 'demise', 'demorol', 'demrol', 'demurral', 'demyelition', 'dengue', 'denosumab', 'density', 'dental', 'dentist', 'deodorant', 'depacote', 'department', 'depatale', 'depletion', 'depo', 'depodur', 'depolarization', 'deposits', 'depreasion', 'depresion', 'depresión', 'depression', 'depressive', 'deprivation', 'dequervain', 'derivatives', 'dermabond', 'dermatitis', 'dermatofibroma', 'dermigraphica', 'dermographism', 'desease', 'desensitization', 'desiease', 'desipramine', 'desmoid', 'desonide', 'detachment', 'detachments', 'detail', 'details', 'detergent', 'detergents', 'deterioration', 'determine', 'detoxification', 'detrol', 'detrusor', 'developed', 'developmental', 'deviation', 'device', 'devices', 'dexalant', 'dexamethasone', 'dexilant', 'dexramathophan', 'dextran', 'dextromethorphan', 'dextroscollosis', 'diabertes', 'diabetics', 'diag', 'diagnoses', 'diagnosis', 'diahhrea', 'dialysis', 'diar', 'diastolic', 'diatrizoate', 'diazepam', 'diclofec', 'dicloxacilliam', 'dicyclomine', 'didelphys', 'diease', 'diet', 'diff', 'difference', 'differin', 'difficile', 'difficult', 'difficulties', 'diffuse', 'dificullty', 'diflucan', 'dihydrochloride', 'dilantin', 'dilatation', 'dilation', 'dilaudid', 'dilaudin', 'dilaudod', 'dill', 'diltiazem', 'diltide', 'diluent', 'dimeglumine', 'dimentia', 'dimetapp', 'diorders', 'diovan', 'dioxide', 'diphenhyd', 'diphtheria', 'diplegia', 'diplopia', 'dipyridamole', 'dirt', 'disabilities', 'disability', 'disaccharidase', 'disbetes', 'discharge', 'discitis', 'discoid', 'discomfort', 'discs', 'discus', 'discussion', 'diseaase', 'disease', 'diseases', 'disese', 'disfunction', 'disk', 'disks', 'dislocation', 'disoders', 'disopyramide', 'disorder', 'disorders', 'disoreder', 'disorientation', 'displacement', 'disruption', 'dissection', 'dissections', 'dissociation', 'distal', 'distancing', 'distension', 'distention', 'distress', 'district', 'disturb', 'disturbance', 'disturbances', 'disulphite', 'disuse', 'diuresis', 'diuretics', 'diuril', 'diverculitis', 'diverticula', 'dizziness', 'djd', 'dmii', 'dmtype', 'doagnosis', 'docetaxel', 'doctor', 'doctors', 'documentation', 'docycline', 'dodium', 'dofetilide', 'dogs', 'dogwood', 'domint', 'donepezil', 'donor', 'dopamine', 'dorsal', 'dorsalgia', 'dorsopathies', 'doryx', 'dosage', 'dose', 'doses', 'dosorder', 'dosycycline', 'dote', 'dotion', 'douloureux', 'doxazosin', 'doxepin', 'doxy', 'doxycycline', 'dozen', 'dpac', 'dph', 'draige', 'dramamine', 'drank', 'drapes', 'draw', 'drawn', 'dreams', 'dressing', 'dressings', 'drink', 'drinker', 'drinks', 'drip', 'driver', 'dronedarone', 'droop', 'drop', 'droperidol', 'droppings', 'drowsiness', 'drug', 'drugs', 'druse', 'dryer', 'dryness', 'dse', 'dsypepsia', 'dtap', 'duchenne', 'duct', 'ductal', 'ductalcarcinoma', 'dulaglutide', 'duloxetine', 'dumping', 'duodel', 'duodenitis', 'duonebs', 'dupilumab', 'dupuytrans', 'duracef', 'duramorph', 'duration', 'duricef', 'dust', 'dustmite', 'dvt', 'dvts', 'dyazide', 'dycin', 'dyclofec', 'dyclomine', 'dyes', 'dys', 'dysarthria', 'dysautonomia', 'dysentery', 'dysfunctiol', 'dysfunction', 'dysfunctions', 'dysfuncton', 'dyshidrosis', 'dyshpagia', 'dyskenesia', 'dyskinesia', 'dyslexia', 'dyslip', 'dyslipidemia', 'dysmenorrhea', 'dysmotility', 'dyspahgia', 'dysphagia', 'dyspnea', 'dysrhythmia', 'dystonia', 'dystrophy', 'dysuria', 'dytheria', 'eager', 'earache', 'ears', 'eastern', 'ebv', 'ecg', 'echicea', 'echo', 'echocardiography', 'ectasia', 'ectopic', 'ectopy', 'eczema', 'edema', 'edisylate', 'edta', 'effect', 'effexor', 'effort', 'effusion', 'effusions', 'egd', 'egfr', 'egg', 'eggplant', 'eggplants', 'ehec', 'ehler', 'ehlers', 'ejection', 'ekg', 'elapril', 'elastic', 'elavil', 'elbow', 'electrocardiogram', 'electrolyte', 'elev', 'elevation', 'elevations', 'elhers', 'elidel', 'eliquis', 'eloquis', 'eloquist', 'elswhr', 'elyce', 'email', 'emboli', 'embolism', 'embolisms', 'embrel', 'emergency', 'emesis', 'emgality', 'emla', 'emma', 'emolients', 'emotions', 'empagliflozin', 'emphezema', 'empirine', 'employee', 'employer', 'employment', 'emr', 'emycin', 'enbrel', 'encaprin', 'encephalitis', 'enclosure', 'encounter', 'encouter', 'endarterectomy', 'endemetrosis', 'endocarditis', 'endocin', 'endometeriosis', 'endorses', 'endoscopy', 'energy', 'enlargement', 'enteritis', 'enterococcus', 'enterovirus', 'entrapment', 'entresto', 'entropion', 'entyvio', 'enuresis', 'enviormental', 'enzyme', 'enzymes', 'eosinophil', 'ephedrine', 'epicondyle', 'epidiymitis', 'epilepsy', 'epilepticus', 'epiliepsy', 'epinephrin', 'epinephrine', 'epipen', 'epiphyseal', 'epiretil', 'episceritis', 'episode', 'episodes', 'epistaxis', 'epitaxies', 'epithelioid', 'eprotein', 'epstein', 'equinovarus', 'equivalents', 'eradicatioon', 'erectile', 'ergotamie', 'erithermicyn', 'erosions', 'errant', 'error', 'errythromycin', 'ertapenem', 'erthromycin', 'eruption', 'erythema', 'erythmycin', 'erythromelalgia', 'esbl', 'escitalopram', 'esophageal', 'esrd', 'esrf', 'estasia', 'esters', 'estrace', 'estradiol', 'estrogen', 'etexilate', 'ethanol', 'ether', 'ethmoidal', 'ethyl', 'etiology', 'etodolac', 'etoh', 'eucalyptus', 'euflexa', 'eurythromiacin', 'eval', 'evaluation', 'evar', 'evd', 'event', 'events', 'evergreens', 'everyone', 'everything', 'evidence', 'evista', 'exacerbat', 'exacerbation', 'exacerbations', 'exact', 'exam', 'examition', 'exc', 'excavatum', 'excedrin', 'excema', 'excess', 'excipient', 'excision', 'excitement', 'excition', 'excreta', 'excretory', 'exelon', 'exercise', 'exeresis', 'exertion', 'exhaustion', 'exostosis', 'experience', 'experiences', 'exploratory', 'exposure', 'exposures', 'extension', 'exter', 'exterl', 'extract', 'extraction', 'extractions', 'extracts', 'extrapyramidal', 'extreme', 'extremities', 'extremity', 'extropia', 'extrusion', 'eye', 'eyeglasses', 'eyelids', 'eylea', 'eyrthrimaicin', 'ezcema', 'ezetimibe', 'fabry', 'face', 'facet', 'facetectomy', 'facewash', 'faciitis', 'facility', 'factor', 'factors', 'fail', 'failture', 'failure', 'faint', 'fainter', 'fainting', 'faints', 'fair', 'fall', 'fallot', 'falls', 'family', 'famotidine', 'farry', 'fascia', 'fasciatis', 'father', 'fathers', 'fatigue', 'fatty', 'fcillin', 'feathers', 'features', 'febrile', 'february', 'feces', 'feed', 'feeder', 'feeding', 'feedings', 'feel', 'feelimg', 'feeling', 'feelings', 'feet', 'feline', 'felt', 'female', 'femur', 'fenofibrate', 'fentanol', 'ferrlecit', 'fesoterodine', 'fever', 'fevers', 'fexofedine', 'fhx', 'fib', 'fiber', 'fibers', 'fibirllation', 'fibroid', 'fibroids', 'fibroma', 'fibrosing', 'fibrulation', 'fibtomyalgia', 'fibulation', 'ficilin', 'field', 'fifth', 'fighter', 'figs', 'figure', 'file', 'filler', 'fillers', 'film', 'filter', 'filtration', 'find', 'findings', 'finger', 'fingers', 'fiorcet', 'fioricet', 'fire', 'fish', 'fist', 'fistula', 'flaccid', 'flagel', 'flagell', 'flagil', 'flagyl', 'flair', 'flank', 'flare', 'flares', 'flashes', 'flatback', 'flatulence', 'flavor', 'flavoring', 'flax', 'flaygel', 'fle', 'fleas', 'flecainide', 'flecanoid', 'flexaril', 'flexhaler', 'flights', 'floise', 'flomax', 'floor', 'floroquinolines', 'flose', 'flounder', 'flouroquinolones', 'flow', 'flower', 'flowers', 'floxen', 'floxin', 'flublok', 'flucozole', 'fluctuation', 'fluctuations', 'flue', 'fluid', 'fluide', 'fluids', 'fluorescein', 'fluorine', 'fluoro', 'fluoxetine', 'fluphezine', 'fluroquilones', 'flush', 'flushing', 'fluticasone', 'flutter', 'flutters', 'fluvoxamine', 'flx', 'foam', 'focus', 'folbee', 'fold', 'folds', 'foley', 'follicle', 'folliculitis', 'follow', 'food', 'foods', 'foodsac', 'foot', 'foradil', 'foramen', 'foramil', 'foraminotomies', 'forearm', 'forearms', 'forever', 'forgetfulness', 'forgets', 'form', 'formaldehyde', 'formula', 'forte', 'forteo', 'fosamax', 'fosfamax', 'fosfomycin', 'fosinopril', 'fozenex', 'fraction', 'fracture', 'fractures', 'fragility', 'fragrance', 'fragrances', 'frailty', 'frality', 'framycin', 'frangrances', 'frequency', 'frequent', 'fresh', 'friend', 'frozen', 'fructans', 'fruit', 'fruits', 'fulguration', 'fullness', 'fumarate', 'functiol', 'function', 'functioning', 'functions', 'fundoplication', 'fungoids', 'fungus', 'fup', 'furadantin', 'furniture', 'furonol', 'furosemide', 'fusion', 'fusions', 'future', 'fuzz', 'fybromyalgia', 'gabapenti', 'gabapentin', 'gabipentin', 'gadalomium', 'gadavist', 'gadolineum', 'gaf', 'gain', 'gains', 'gaint', 'gait', 'galactose', 'galantamine', 'gall', 'gallate', 'gallbladder', 'gallstone', 'gallstones', 'gammopathy', 'gandolinium', 'ganglia', 'ganglion', 'gangrene', 'garbanzo', 'garlic', 'gas', 'gastrectomy', 'gastritis', 'gastro', 'gastrocnemius', 'gastroesophageal', 'gata', 'gatifloxacin', 'gca', 'gdd', 'gdm', 'gelatin', 'gemfibrazil', 'gemifloxacin', 'gender', 'gene', 'generation', 'generations', 'generic', 'genexpert', 'genital', 'genitouriry', 'gentamicin', 'gentamycin', 'genteal', 'geodon', 'gerbils', 'gerd', 'gerds', 'gestatiol', 'gfr', 'giant', 'gib', 'giddiness', 'gilbert', 'gilberts', 'gilenya', 'ginger', 'gingivitis', 'gist', 'giver', 'glacoma', 'gland', 'glands', 'glargine', 'glass', 'glasses', 'glatiramer', 'glaucoma', 'glimepiride', 'glipizide', 'glomerulonephrosclerosis', 'glomerulosclerosis', 'glottis', 'glove', 'gloves', 'gluacoma', 'glucocorticoids', 'glucose', 'glucote', 'glue', 'glutamate', 'glutaraldehyde', 'gluteal', 'gluten', 'glycerin', 'glycol', 'gmc', 'goal', 'goals', 'goat', 'goiter', 'gold', 'gorthrosis', 'gotten', 'gourds', 'gout', 'gouty', 'government', 'grade', 'graft', 'grafts', 'grains', 'gram', 'grandfather', 'grandmother', 'grandparents', 'grandson', 'granuloma', 'granulomas', 'grape', 'grapefruit', 'grapes', 'grass', 'grasses', 'grave', 'graves', 'gravida', 'gravis', 'greenfield', 'greens', 'groin', 'groove', 'ground', 'group', 'grovers', 'grown', 'grows', 'growth', 'gsw', 'gtt', 'gtube', 'guafisine', 'guaifenesin', 'guidelines', 'guillain', 'guinea', 'gutate', 'guts', 'guttate', 'gynecomastia', 'haart', 'haemorrhage', 'hair', 'hairs', 'hairy', 'haladol', 'haldol', 'half', 'halibut', 'halitosis', 'hallucition', 'hallucitions', 'hallus', 'hallux', 'halodol', 'haloperidol', 'hammer', 'hammertoe', 'hamsters', 'hand', 'hands', 'hardness', 'hardware', 'hart', 'haschimoto', 'hast', 'haszel', 'haul', 'hauler', 'haulers', 'havent', 'hayfever', 'hazelnut', 'hazelnuts', 'hbp', 'hbss', 'hbv', 'hcc', 'hcl', 'hclz', 'hctz', 'hcv', 'hdcv', 'head', 'headache', 'headaches', 'healing', 'health', 'healthcare', 'heari', 'hearing', 'heart', 'heartbeat', 'heartbeats', 'heartburn', 'hearth', 'heartrate', 'heat', 'heds', 'heel', 'heels', 'helicobacter', 'help', 'hemahromacytosis', 'hemangiomas', 'hematomas', 'hemi', 'hemochromatosis', 'hemodialyis', 'hemoglobin', 'hemophilia', 'hemorrhage', 'hemorrhoids', 'hemositerosis', 'heparin', 'hepatitis', 'hepatomegaly', 'hepc', 'heprin', 'heptavax', 'herbal', 'herceptin', 'herd', 'hereafter', 'heredity', 'heritage', 'hernia', 'herniation', 'herniorrhaphy', 'herpes', 'herpetiformis', 'herpies', 'herpres', 'heterozygosity', 'hexahydrate', 'hfnc', 'hfpef', 'hfref', 'hgb', 'hgvia', 'hht', 'hiatal', 'hiatus', 'hibiclens', 'hickory', 'hidradenitis', 'hidrarnitis', 'highblood', 'hihg', 'hiking', 'hipertension', 'hipothiroidism', 'hipotiroidismo', 'hips', 'hismanol', 'histamine', 'histoplasmosis', 'historic', 'hive', 'hives', 'hizentra', 'hlc', 'hld', 'hlp', 'hnp', 'hoarseness', 'hodgkin', 'hodgkins', 'hogg', 'hoh', 'hole', 'holes', 'holiday', 'holidays', 'holter', 'homatropine', 'home', 'homograft', 'honey', 'honeydew', 'hood', 'hormol', 'hormone', 'hormones', 'horners', 'hornet', 'hornets', 'horse', 'horsehair', 'hoshimoto', 'hosp', 'hospice', 'hospital', 'hospitalisation', 'hospitalization', 'hospitalizations', 'host', 'hour', 'hours', 'house', 'household', 'housing', 'hpertension', 'hpi', 'hpl', 'hptn', 'hpv', 'hrb', 'hsvi', 'htn', 'humera', 'humerus', 'humia', 'humibid', 'humira', 'humor', 'hunner', 'huntington', 'hurricane', 'hurt', 'husband', 'husk', 'hyatal', 'hyclate', 'hycodone', 'hydantoins', 'hydocodine', 'hydradenitis', 'hydralazine', 'hydrate', 'hydrcodone', 'hydrenitis', 'hydrobromide', 'hydrocele', 'hydrocephalus', 'hydrochlorathiazide', 'hydrocodine', 'hydrogen', 'hydromorphone', 'hydronephrosis', 'hydrops', 'hydroxide', 'hydroxine', 'hydroxizine', 'hydroxy', 'hydroxychloroquie', 'hydroxylase', 'hydroxyzine', 'hygiene', 'hygroton', 'hymenoptera', 'hyoertensiion', 'hyopthyroidism', 'hyp', 'hyper', 'hyperactivity', 'hyperacuasis', 'hyperaldosternoism', 'hyperbilirubinemia', 'hypercalcemia', 'hypercapnia', 'hypercare', 'hyperchloesterolemia', 'hyperension', 'hypergammaglobulinemia', 'hyperhidrosis', 'hyperhomocysteinemia', 'hyperinflammatory', 'hyperipedmia', 'hyperkeratosis', 'hyperlidipdemia', 'hypermetropia', 'hyperosmoloty', 'hyperparathyroidism', 'hyperplasia', 'hyperpotassemia', 'hyperprothrominemia', 'hyperprotion', 'hypersalivation', 'hypersensitivity', 'hypersomnia', 'hypersomnolence', 'hypertenision', 'hyperthermia', 'hyperthyroid', 'hyperthyroidism', 'hypertremia', 'hypertriclyceridemia', 'hypertrophic', 'hyperurecemia', 'hyphema', 'hypo', 'hypoalbuminemia', 'hypoesthesia', 'hypofunction', 'hypogadism', 'hypogammaglobulonemia', 'hypoglygemia', 'hypogodism', 'hypomagnesemia', 'hypopituitarism', 'hypoplasia', 'hypotension', 'hypothermia', 'hypothridism', 'hypotremia', 'hypotyroid', 'hypoventilation', 'hypovitaminosis', 'hypovolemia', 'hypoxemia', 'hyptertension', 'hypthyroid', 'hyshimatta', 'hyshimotos', 'hysterectomy', 'hysteroscopy', 'ibandrote', 'ibd', 'ibf', 'ibility', 'ibprophen', 'ibrutinib', 'ibs', 'ibuprofen', 'icl', 'icp', 'iddm', 'ideation', 'ideations', 'identity', 'idequate', 'idk', 'idler', 'idoine', 'ifg', 'igg', 'iguil', 'ihh', 'ihibitors', 'iib', 'iidm', 'iih', 'iiia', 'ild', 'ileitis', 'ileostomy', 'ileum', 'ileus', 'iliac', 'illness', 'illnesses', 'ilosone', 'imatrex', 'imbalance', 'imdur', 'imfection', 'imipenem', 'imiquimod', 'imitrex', 'immatrex', 'immitrex', 'immobility', 'immotility', 'immune', 'immunity', 'immunization', 'immunizations', 'immunize', 'immunodeficiency', 'immunoglobulin', 'immunoglobulins', 'immunologist', 'immunomodulatory', 'immunosuppressants', 'immunosuppression', 'immunotherapy', 'immunzation', 'imodium', 'impaction', 'impairment', 'impairments', 'impingement', 'implanon', 'implant', 'implantation', 'implants', 'impotence', 'improvement', 'imuran', 'inches', 'incidence', 'incident', 'incidents', 'incipient', 'incisiol', 'incisor', 'incompatibility', 'incompetence', 'inconsistent', 'incontinence', 'incontinences', 'incr', 'increase', 'index', 'indication', 'indications', 'indicin', 'indigestion', 'indocin', 'indolent', 'indomethacin', 'indoor', 'induction', 'inequality', 'infaarcation', 'infaction', 'infancy', 'infant', 'infantile', 'infarc', 'infarct', 'infarction', 'infection', 'infections', 'infertility', 'infliximab', 'influenza', 'info', 'information', 'infrc', 'infusion', 'infusions', 'ingredient', 'ingredients', 'inguil', 'inhalation', 'inhalent', 'inhaler', 'inhibition', 'inhibitor', 'initiation', 'injection', 'injections', 'injuries', 'injury', 'inositol', 'inpatient', 'inr', 'insaids', 'insect', 'insecticides', 'insects', 'insensitivites', 'insert', 'insertion', 'insinpril', 'insomia', 'insomnia', 'instability', 'instance', 'instances', 'institution', 'insuf', 'insuff', 'insuffciency', 'insufficiency', 'insufficiensy', 'insuffiency', 'insulin', 'insuline', 'insurance', 'intake', 'integument', 'intensity', 'interaction', 'interbody', 'interference', 'interferon', 'intergluteal', 'interl', 'interminent', 'intermittent', 'intertrigo', 'interval', 'intervention', 'interview', 'intestil', 'intestine', 'intol', 'intolarence', 'intolerance', 'intolerances', 'intolerant', 'intoller', 'intolorent', 'intoxication', 'intractable', 'intubation', 'inus', 'invanz', 'inversion', 'inversions', 'invoka', 'involvement', 'iodide', 'iodine', 'iodo', 'iodopropynl', 'iodopropynyl', 'iodp', 'iohexol', 'iphrofin', 'ipmn', 'ippropriate', 'ipratropium', 'ipsine', 'iridocyclitis', 'irinotecan', 'iritis', 'iron', 'irradiation', 'irregular', 'irregularity', 'irritability', 'irritation', 'isch', 'ischemia', 'isolation', 'isoniazid', 'isosorbide', 'isosulfan', 'isovue', 'issue', 'issues', 'issure', 'itch', 'itches', 'itchiness', 'itching', 'itchy', 'item', 'items', 'itp', 'ivandrote', 'ivb', 'ivc', 'ivf', 'ivig', 'ivory', 'ivp', 'ixychodone', 'jack', 'jackets', 'jackfruit', 'jalepenos', 'january', 'janumet', 'januvia', 'jardiance', 'jasmine', 'jejunem', 'jello', 'jentadueto', 'jewlery', 'jittery', 'johnson', 'joint', 'joints', 'jone', 'joseph', 'jude', 'juice', 'july', 'junctiol', 'junction', 'june', 'juniper', 'jury', 'juvenile', 'juvinile', 'kale', 'kathon', 'kcl', 'kdny', 'keawa', 'kefles', 'keflex', 'keflix', 'kelfex', 'kelflex', 'kelog', 'kelp', 'kephlex', 'keppra', 'keratitis', 'keratoconjuncitivits', 'keratoconus', 'keratoplasty', 'keratoses', 'keratosis', 'ketamine', 'ketek', 'keto', 'ketoacidosis', 'ketocozole', 'ketogenic', 'ketolides', 'ketoprofen', 'ketorolac', 'keytruda', 'kidney', 'kidneys', 'killers', 'kind', 'kiwi', 'kiwiii', 'kiwis', 'klebsiella', 'klinefelter', 'klonopin', 'knda', 'knee', 'knees', 'knfa', 'knma', 'knot', 'know', 'knowledge', 'known', 'kyphoplasty', 'kyphoscoliosis', 'kyphosis', 'labile', 'labor', 'laboratory', 'labrum', 'labs', 'laceration', 'lack', 'lactamase', 'lactase', 'lactate', 'lactation', 'lactose', 'lacur', 'lady', 'lamb', 'lamictal', 'laminectomy', 'lamisil', 'lamotrigene', 'lamotrigine', 'language', 'lanolin', 'lantius', 'laparoscopic', 'laryngeal', 'laryngitis', 'laryngitits', 'laryngomalacia', 'laryngopharyngeal', 'laryngopharyngitis', 'laryngospasm', 'laryngospasms', 'larynx', 'laser', 'lasik', 'lasix', 'latanoprost', 'latent', 'laterality', 'latex', 'latez', 'latix', 'latuda', 'lavendar', 'lavender', 'laxatives', 'layer', 'laytex', 'lbbb', 'lbp', 'ldecon', 'ldl', 'ldlt', 'lead', 'leak', 'leakage', 'learn', 'leaves', 'leden', 'leflunomide', 'legs', 'leiden', 'leiomyoma', 'leiomyosarcoma', 'lelidomide', 'lemon', 'lemongrass', 'lemons', 'length', 'lens', 'lentils', 'leptospirosis', 'lesion', 'lesions', 'lethargic', 'lethargy', 'letrozole', 'letter', 'letting', 'levaquin', 'levefloxin', 'levels', 'levemir', 'levequin', 'levetiracet', 'levetiracetam', 'levimir', 'leviquin', 'levofloxacin', 'levoquin', 'levothyroxine', 'lewy', 'lexapro', 'lfon', 'lfts', 'libido', 'librium', 'lice', 'lichen', 'licorice', 'liden', 'lidocaine', 'lidocaines', 'life', 'lifestyle', 'lifetime', 'lift', 'ligament', 'ligaments', 'ligation', 'lightheadedness', 'lignt', 'lilies', 'lilium', 'lima', 'limb', 'lime', 'limit', 'limits', 'limonene', 'lincomycin', 'lincosamides', 'line', 'lingering', 'links', 'linocin', 'linzess', 'lipedema', 'lipids', 'lipitor', 'lipodermatosclerosis', 'lipoma', 'lipoprotein', 'lipstick', 'liquid', 'liquids', 'liquor', 'liraglutide', 'lisdexamfetamine', 'lisiniopril', 'list', 'lister', 'listeria', 'liters', 'lites', 'lithium', 'liver', 'lives', 'living', 'lll', 'llumbar', 'lmca', 'lobar', 'lobe', 'lobectomy', 'lobster', 'lobsters', 'lobular', 'location', 'locations', 'lodine', 'loer', 'lone', 'look', 'loop', 'lopressor', 'lorabid', 'loratadine', 'lorazepam', 'lordosis', 'loritab', 'lorsatan', 'lortab', 'lory', 'losartan', 'losinipril', 'loss', 'loteman', 'lotion', 'lotions', 'lots', 'lovaquin', 'lovastatin', 'lovaza', 'lovenox', 'low', 'loxapine', 'loxone', 'lpm', 'lpr', 'ltc', 'ltcf', 'lukemia', 'lul', 'lumacaftor', 'lumbago', 'lumbar', 'lump', 'lumpectomy', 'lunch', 'lunesta', 'lung', 'lungs', 'lupron', 'lupus', 'lurasidone', 'luts', 'luvenox', 'lvh', 'lyme', 'lymes', 'lymph', 'lyrica', 'lysol', 'lysynopril', 'macadamia', 'machine', 'macro', 'macrobid', 'macrocytes', 'macrocytosis', 'macrodantin', 'macroglobulinemia', 'macroglossia', 'macrolides', 'macrophage', 'macula', 'macular', 'magement', 'magnesium', 'magnevist', 'magnus', 'magvist', 'mahi', 'mainstem', 'maintain', 'maintence', 'maitence', 'maize', 'maker', 'makeup', 'malabsorbtion', 'malabsorption', 'malacia', 'malaise', 'malaria', 'malasise', 'male', 'maleate', 'malformation', 'malformations', 'malfunction', 'maligncy', 'malignt', 'malnutrition', 'maloxicam', 'malt', 'mammogram', 'mammoplasty', 'mandibular', 'mango', 'mangoes', 'mangos', 'mangp', 'mania', 'manifesta', 'manifestations', 'manuf', 'maogo', 'maple', 'marcane', 'march', 'marcobid', 'marfan', 'marfans', 'margil', 'marie', 'marijua', 'marisco', 'mariscos', 'marker', 'markers', 'marko', 'marrow', 'martazapine', 'masectomy', 'mask', 'mass', 'massmass', 'mast', 'mastalgia', 'mastectomy', 'mastisol', 'mastitis', 'mastodynia', 'mastopathy', 'mate', 'materials', 'materl', 'matoux', 'matter', 'maxalt', 'maxelt', 'maxipime', 'maxzide', 'mayo', 'maze', 'mci', 'mctd', 'mdro', 'meal', 'meals', 'measles', 'measures', 'meat', 'mech', 'meclizine', 'meclofemate', 'medal', 'media', 'mediastil', 'mediastinum', 'medicaments', 'medicate', 'medication', 'medications', 'medicine', 'medicines', 'mediterranean', 'medium', 'mednoclyclene', 'medro', 'medrol', 'meds', 'medtronic', 'mefoxin', 'megacolon', 'meglumine', 'meineres', 'melamine', 'melanoma', 'melatonin', 'mele', 'mellaril', 'mellitus', 'melon', 'melonoma', 'melons', 'meloxicam', 'memantine', 'member', 'members', 'membrane', 'memory', 'menda', 'meneires', 'meneirres', 'menieres', 'meningioma', 'meningitis', 'meninigitis', 'meniscus', 'menopausal', 'menopause', 'menorrhagia', 'menses', 'menstruation', 'mentagrophytes', 'mentation', 'menthol', 'mention', 'mentions', 'meperidine', 'mepolizumab', 'mepridine', 'meralgia', 'mercapto', 'merche', 'mercury', 'mereperidine', 'mermer', 'mesalamine', 'mesentery', 'mesoridazine', 'mesothelioma', 'messes', 'metabolic', 'metabolism', 'metaclopramide', 'metaformin', 'metal', 'metals', 'metases', 'metastases', 'metastasis', 'metastatic', 'metatarsal', 'metatarsalgia', 'metaxalone', 'metchondromas', 'meter', 'meters', 'metforman', 'metformin', 'meth', 'methadone', 'methalyne', 'methelprednisone', 'methemine', 'methemoglobinemia', 'methergine', 'methicillin', 'methimazole', 'methocarbamol', 'methotrexate', 'methyl', 'methylchloroisothiazinoline', 'methylcobalimin', 'methylisothiazoli', 'methylprednisolone', 'methythiozine', 'metocarpine', 'metoclopramide', 'metoglooranmide', 'metoprol', 'metoprolol', 'metrogel', 'metronidazo', 'metronidazole', 'metropolol', 'metroprolol', 'mets', 'mgmt', 'mgus', 'micardis', 'mice', 'micozole', 'microademnoma', 'microcephaly', 'microcytosis', 'microhematuria', 'microlites', 'microscopic', 'microvalve', 'micturition', 'midazolam', 'middle', 'middles', 'midfoot', 'midline', 'midodrine', 'midrin', 'miggraine', 'migraines', 'mii', 'miicardisplus', 'milcipran', 'mild', 'milder', 'mildew', 'miles', 'milk', 'milkshakes', 'miloma', 'milroy', 'minears', 'mini', 'minimal', 'minocin', 'minocyclene', 'minocycline', 'minocyline', 'minor', 'minoxidil', 'mins', 'mint', 'minute', 'minutes', 'mirabegron', 'mirabilis', 'miralax', 'mirapex', 'mire', 'mirgraines', 'mirtazapine', 'misc', 'miscarriage', 'misoprostol', 'misty', 'misuse', 'mite', 'mites', 'mitraclip', 'mitro', 'mitrovalve', 'mixed', 'mmr', 'mobic', 'mobics', 'mobility', 'mobitz', 'modafil', 'moder', 'moderate', 'moders', 'mohs', 'moisture', 'molars', 'mold', 'molds', 'molindone', 'mollusks', 'moment', 'mometasone', 'monday', 'monistat', 'monistay', 'monistic', 'monitor', 'monitoring', 'monk', 'mono', 'monoclol', 'monocryl', 'monohydrate', 'mononucleosis', 'monoplegia', 'monoplegic', 'monopril', 'monoxide', 'montelukast', 'month', 'months', 'mood', 'morbid', 'morepha', 'morfin', 'morgue', 'morning', 'morohine', 'morohones', 'morophine', 'morphea', 'morpheein', 'morpheme', 'morphime', 'morphin', 'morphine', 'morphineaphylaxis', 'morpholine', 'morphologic', 'morphone', 'morpine', 'morton', 'mortphine', 'mosquitoes', 'mostat', 'moth', 'mother', 'mothers', 'motility', 'motion', 'motor', 'motorcycle', 'motrin', 'moulds', 'mountain', 'mountains', 'mouritis', 'mouse', 'mouth', 'move', 'movement', 'movements', 'movie', 'moxifloxacin', 'mrdd', 'mri', 'mrsa', 'mrsaa', 'msm', 'mssa', 'mthfr', 'mthr', 'mtp', 'mtpj', 'mucinex', 'mucinosis', 'mucosa', 'mucosal', 'mucus', 'muenster', 'mugwort', 'mulch', 'multaq', 'multi', 'multiple', 'multiples', 'multivitamin', 'mumps', 'mums', 'mumur', 'mupirocin', 'murmer', 'murmur', 'murmurs', 'muscle', 'muscles', 'muscular', 'musculoskeletal', 'mushroom', 'mushrooms', 'mussells', 'mussels', 'mussles', 'mustard', 'mutation', 'mva', 'mvr', 'mvx', 'mwf', 'myacin', 'myacins', 'myalgia', 'myalgias', 'myastenia', 'myasthenia', 'mycin', 'mycins', 'mycobacteria', 'mycobacterium', 'mycophenolate', 'mycoplasma', 'mycotic', 'myelinolysis', 'myelitis', 'myelodysplasia', 'myelofibrosis', 'myeloid', 'myeloma', 'myelopathy', 'myesthenia', 'myocarditis', 'myoclonus', 'myocosis', 'myofascial', 'myomectomy', 'myopathy', 'myopia', 'myositis', 'myoview', 'myrbetric', 'myrbetriq', 'myringotomy', 'mytro', 'mytrovalve', 'ndka', 'nebulizer', 'neck', 'necrosis', 'nectarines', 'need', 'needles', 'needs', 'negative', 'neglect', 'neogram', 'neomycin', 'neomycins', 'neomyocn', 'neoplasia', 'neoplasm', 'neoplasms', 'neoprene', 'neosporene', 'neosporin', 'neosynephrine', 'neovascularization', 'nephrectomies', 'nephrectomy', 'nephritis', 'nephrocalcinosis', 'nephrolithiasis', 'nephrology', 'nephropathy', 'nephrosclerosis', 'nepolasm', 'nerve', 'nerves', 'nervosa', 'nervousness', 'nettle', 'neupogen', 'neuralgia', 'neuroendoscop', 'neurofibromatosis', 'neurologist', 'neurology', 'neuroma', 'neuromas', 'neuromyelitis', 'neuron', 'neuronitis', 'neurontin', 'neuropathies', 'neuropathologies', 'neuropathy', 'neurophy', 'neurostimulator', 'neurosurgery', 'neurothopy', 'neutropenia', 'nevus', 'newborn', 'newspaper', 'nexium', 'nexporium', 'niacin', 'niaspan', 'nickel', 'nickle', 'nicotine', 'niddm', 'nidmm', 'nifedipine', 'night', 'nightmares', 'nightshade', 'nightshades', 'ningu', 'nitrate', 'nitrile', 'nitrofuran', 'nitrofurantion', 'nitrofuratin', 'nitroglycerin', 'nkdfa', 'nkfa', 'nkfda', 'nkma', 'nobe', 'nobr', 'nocturl', 'node', 'nodes', 'nodosa', 'nodule', 'nodules', 'noise', 'nome', 'nond', 'nondrug', 'nono', 'nonr', 'nons', 'nonsmoker', 'nonspecific', 'nonunion', 'nope', 'norco', 'norms', 'nortriptaline', 'nortriptyline', 'norvasc', 'nose', 'nosebleeds', 'note', 'notes', 'nothing', 'notice', 'notriptyline', 'november', 'novocain', 'novum', 'noxema', 'nsads', 'nsaid', 'nsaids', 'nsids', 'nstem', 'nstemi', 'nsvt', 'ntk', 'nubain', 'nubaine', 'number', 'numbers', 'numbness', 'numerals', 'nurol', 'nurse', 'nursing', 'nuscle', 'nutmeg', 'nutrasweet', 'nutritiol', 'nutrition', 'nuva', 'nyha', 'nylon', 'nylons', 'nystatin', 'oad', 'oats', 'obese', 'obesity', 'observations', 'obstruct', 'obstruction', 'obstructions', 'ocassion', 'occasiol', 'occasion', 'occasions', 'occupatiol', 'occurrence', 'ocd', 'ocopd', 'october', 'octopus', 'oesophageal', 'oesteoarthritis', 'office', 'ofloxacin', 'oils', 'ointment', 'okay', 'olanzapine', 'olecranon', 'oligodendroglioma', 'olives', 'omalizumab', 'omeprazol', 'omeprazole', 'omnicef', 'omnicet', 'omoxicyllan', 'onclology', 'oncologist', 'ondansetron', 'ondansteron', 'ones', 'onion', 'onions', 'onset', 'onwards', 'onychogryphosis', 'onychomycosis', 'oopharectomy', 'oophorectomy', 'opacities', 'operation', 'operations', 'ophthalmic', 'ophthalmology', 'opiate', 'opiates', 'opiods', 'opioid', 'opioids', 'oppositiol', 'opth', 'options', 'oral', 'orange', 'oranges', 'orchiectomy', 'order', 'orencia', 'organ', 'organism', 'organization', 'organs', 'orif', 'origil', 'origin', 'orkambi', 'oropharangeal', 'ortho', 'orthopnea', 'orthosis', 'orthotricyclen', 'orudis', 'oseltamivir', 'osetoarthritis', 'osetoporosis', 'osteitis', 'osteo', 'ostiopenia', 'otc', 'otezla', 'others', 'otitis', 'ottis', 'outbreak', 'outdoor', 'outlet', 'outweighs', 'ovaries', 'ovary', 'overload', 'overview', 'overweight', 'oxaprozin', 'oxybutynin', 'oxychodone', 'oxycodone', 'oxycontin', 'oxygen', 'oxymetazoline', 'oxysats', 'oyster', 'oysters', 'ozempic', 'paba', 'pace', 'pacemaker', 'pacer', 'pack', 'paclitaxel', 'pacs', 'paf', 'pafib', 'page', 'pah', 'pain', 'painkillers', 'pains', 'paint', 'palate', 'palliative', 'palm', 'palpatations', 'palpations', 'palpitation', 'palpitations', 'palsey', 'palsy', 'pancolitis', 'pancytopenia', 'panel', 'panhypopituitarism', 'panic', 'panlobar', 'panlobular', 'panniculitis', 'pansinusitis', 'pantoprazole', 'panuveitis', 'papaya', 'paper', 'papilloma', 'paps', 'papulosis', 'papvr', 'parabens', 'paracentesis', 'parafon', 'parafonforte', 'paralysis', 'paralyze', 'paramedics', 'paranoid', 'paraparesis', 'paraplegia', 'parasthesias', 'parathyroid', 'parathyroidectomy', 'paravalvular', 'parenchyma', 'parent', 'parents', 'paresis', 'paresthesia', 'paresthesias', 'paresthetica', 'parkinson', 'parkinsonism', 'parkinsons', 'parley', 'parmesan', 'parotid', 'paroxetine', 'paroxysmal', 'parsley', 'parsnips', 'part', 'participant', 'participate', 'particulates', 'parts', 'partum', 'pass', 'passionfruit', 'past', 'paste', 'patch', 'patches', 'patchy', 'pate', 'patella', 'patellar', 'patent', 'pathology', 'patients', 'pattern', 'paxil', 'pbc', 'pci', 'pcn', 'pcns', 'pcos', 'pcp', 'pcr', 'pctrs', 'peacans', 'peach', 'peaches', 'peanut', 'peanuts', 'pears', 'peas', 'pecan', 'pecans', 'pecilin', 'pecillin', 'pectoris', 'pectus', 'pediazole', 'pedis', 'peel', 'pellets', 'pelvic', 'pelvis', 'pembro', 'pembrolizumab', 'pemphigoid', 'pemphigus', 'pencilin', 'penicillins', 'pentazocine', 'people', 'pepcid', 'pepper', 'peppermintstrep', 'pepto', 'perceptions', 'percidan', 'percocept', 'percocet', 'percodan', 'percogesic', 'percoset', 'percreta', 'perforation', 'performed', 'perfume', 'perfumes', 'peri', 'pericarditis', 'perimenopause', 'perimyocarditis', 'period', 'periods', 'peripheral', 'peritoneal', 'peritonitis', 'perles', 'permatomyoitis', 'permethrin', 'permpartum', 'pernio', 'perocet', 'perococet', 'peroxatine', 'peroxide', 'pers', 'persantine', 'persimmon', 'persistent', 'persol', 'persolity', 'person', 'pertussin', 'pertussis', 'petechaie', 'petechiae', 'petroleum', 'pets', 'peurperium', 'peyer', 'peyronies', 'pfeiffer', 'pfizer', 'pfrmd', 'pfts', 'phalanx', 'pharm', 'pharmacist', 'pharmacy', 'pharmasist', 'pharygitis', 'pharyngoesophageal', 'phase', 'phdmp', 'phenegran', 'phenobarbital', 'phenobarbitals', 'phenol', 'phenols', 'phenomenon', 'phenothiazine', 'phenothiazines', 'phenylalanine', 'phenylephrine', 'phenylketonurics', 'phenylpropanolamine', 'phenytoin', 'phezopyridine', 'phiser', 'phlebotomy', 'phlegm', 'phone', 'phos', 'phosphate', 'photophobia', 'photos', 'photosensitivity', 'physician', 'physicians', 'pica', 'pickles', 'pigment', 'pigmentosa', 'pilaris', 'pilglitazone', 'pill', 'pills', 'pilonidal', 'pine', 'pineapple', 'pineapples', 'pinenuts', 'pink', 'pinneapple', 'piperacillin', 'pipple', 'piroxicam', 'pistachio', 'pistachios', 'pituitarism', 'pituitary', 'pityriasis', 'pku', 'place', 'placement', 'placenta', 'placentas', 'plan', 'planopilaris', 'plant', 'plantar', 'planterfacitis', 'plants', 'plantus', 'planus', 'plaqienel', 'plaque', 'plaquenil', 'plasma', 'plasmapheresis', 'plastic', 'plastics', 'platelet', 'platelets', 'plavix', 'please', 'plegridy', 'pletal', 'pleurisy', 'plevto', 'plexopathy', 'plt', 'plug', 'plum', 'plums', 'plynyalgia', 'pmdd', 'pmh', 'pmhx', 'pnc', 'pnemonia', 'pneumonias', 'pnh', 'poa', 'poag', 'pocket', 'poct', 'podiatry', 'point', 'poison', 'poisoning', 'poisons', 'pole', 'polen', 'polidocanol', 'polio', 'poliomyelitis', 'pollen', 'pollens', 'pollin', 'pollution', 'poly', 'polyangiitis', 'polyarteritis', 'polyarthralgia', 'polycythemia', 'polyestradiol', 'polyethylene', 'polymalgia', 'polymosis', 'polymyalgia', 'polymyositis', 'polyneuopathy', 'polyneuropathies', 'polyneuropathy', 'polyosteoarthritis', 'polyp', 'polypectomy', 'polypore', 'polyprene', 'polyps', 'polysorbate', 'polysporin', 'polythemavera', 'polyvalent', 'pommelo', 'pontine', 'ponv', 'popcorn', 'popliteal', 'population', 'porcine', 'pork', 'porphyria', 'port', 'portal', 'positiol', 'position', 'positve', 'possibility', 'post', 'posterior', 'posthemorrhagic', 'postinflammatory', 'postmortem', 'postpartum', 'postsal', 'posture', 'potassium', 'potato', 'potatoes', 'potential', 'pots', 'potts', 'pouch', 'poultry', 'pound', 'pounds', 'povidone', 'powder', 'ppd', 'pprd', 'practitioner', 'pradaxa', 'pramipexole', 'pravachol', 'pravastatin', 'prawns', 'prazosin', 'preassure', 'precaution', 'precautions', 'precedex', 'predates', 'prediabetes', 'predm', 'prednison', 'preexistent', 'preexistents', 'pregabalin', 'pregavilin', 'pregncy', 'pregnt', 'prelimiry', 'premarin', 'premature', 'prep', 'preparations', 'prerel', 'presbyopia', 'prescribed', 'prescription', 'presence', 'present', 'presentation', 'presenting', 'presents', 'preservative', 'preservatives', 'preservision', 'pressue', 'pressure', 'pressures', 'prestiq', 'presure', 'presyncope', 'prevacid', 'prevacit', 'prevent', 'prevr', 'prilosec', 'primadol', 'primary', 'primaxin', 'primidone', 'primigravida', 'principle', 'prinivil', 'prior', 'priority', 'pristiq', 'privigen', 'probe', 'problem', 'problems', 'probnp', 'procain', 'procaine', 'procalcitonin', 'procardia', 'procedure', 'procedures', 'process', 'processing', 'prochlorperazine', 'procrit', 'proctalgia', 'proctatis', 'proctitis', 'produce', 'produces', 'product', 'production', 'productions', 'products', 'profound', 'progesterone', 'program', 'progression', 'prolactinoma', 'prolapse', 'prolia', 'prolixin', 'prolongation', 'promethazine', 'prometrium', 'prominent', 'prone', 'propafill', 'propantheline', 'proparacaine', 'propensity', 'prophylaxis', 'propiote', 'propofol', 'propolis', 'proponolol', 'propoxyphene', 'propranolol', 'propylene', 'proscar', 'prostate', 'prostatecancer', 'prostatectomy', 'prostatitis', 'prosthesis', 'prostrate', 'prosyn', 'protein', 'proteins', 'proteinuria', 'proteus', 'prothrombin', 'proton', 'protonix', 'protonixrash', 'protrusion', 'provider', 'providers', 'proxen', 'proxim', 'proximal', 'proxin', 'proxyn', 'prozac', 'prsnl', 'prune', 'pruritic', 'pruritis', 'pruritus', 'prxima', 'prévia', 'pseudephedrine', 'pseudoephedrine', 'pseudomos', 'pseudophakia', 'pseudoseizure', 'pseudotumor', 'psin', 'pso', 'psoas', 'psorasis', 'psoriasis', 'psoriosis', 'psorisis', 'psvt', 'psych', 'psychiatry', 'psychosis', 'psychotherapy', 'psychotropic', 'psyllium', 'pterygium', 'ptosis', 'ptsd', 'ptu', 'pubic', 'pud', 'puffy', 'pulm', 'pulmicort', 'pulmole', 'pulmory', 'pulse', 'pump', 'pumpkin', 'puncture', 'pupil', 'pure', 'purple', 'purposes', 'purpura', 'push', 'pussywillows', 'pvc', 'pvcs', 'pvd', 'pyelonephritis', 'pylera', 'pylori', 'pyrazimide', 'pyridium', 'qday', 'qtc', 'quad', 'quadrant', 'quadrantopia', 'quadriparesis', 'quadriplegia', 'quantawrium', 'quarantine', 'quarter', 'quaternium', 'quercitn', 'questioire', 'question', 'questionire', 'questran', 'quetiapine', 'quilones', 'quinidine', 'quinine', 'quinoa', 'quinolone', 'quinolones', 'quipril', 'quit', 'raarthritis', 'rabbi', 'rabeprazole', 'rabies', 'races', 'radi', 'radiation', 'radicular', 'radiculopathic', 'radiculopathy', 'radio', 'radioactive', 'radiofrequency', 'radiotherapy', 'radition', 'radius', 'raglan', 'ragweed', 'rails', 'raisin', 'raisins', 'raloxifene', 'raltegravir', 'rami', 'ramipril', 'ramis', 'ranexa', 'range', 'ranidatine', 'ranitidine', 'rare', 'rash', 'rashes', 'raspy', 'ratadine', 'rate', 'rates', 'ratio', 'rats', 'rauds', 'rayon', 'rayud', 'rayudes', 'rayuds', 'rbbb', 'rbka', 'rcalepsy', 'rcc', 'rcodics', 'rcolepsy', 'rcoplsy', 'rcotics', 'reacation', 'reaction', 'reactions', 'reading', 'readings', 'realization', 'reason', 'reasons', 'rebiff', 'recall', 'receive', 'receives', 'receiving', 'reception', 'receptor', 'recheck', 'recipient', 'reclast', 'recliast', 'recliner', 'recommend', 'recommendation', 'recommendations', 'reconstruction', 'recontruction', 'record', 'recorder', 'records', 'recovery', 'recreatiol', 'rectal', 'rectum', 'rectus', 'recuperation', 'recurrence', 'recurrent', 'recurring', 'redness', 'reductase', 'reduction', 'redundant', 'refill', 'reflex', 'reflexes', 'reflux', 'refractory', 'refulx', 'refusal', 'refusals', 'refux', 'regalan', 'regaln', 'regards', 'regimen', 'regiol', 'region', 'reglan', 'reglim', 'regurg', 'regurgitation', 'rehab', 'rehabilitation', 'rejection', 'relafen', 'relapse', 'relate', 'relatgtd', 'relaxant', 'relaxants', 'relaxer', 'relaxers', 'release', 'relevant', 'relief', 'relievers', 'relpax', 'remdesivir', 'remdisivir', 'remeron', 'remession', 'remicade', 'remision', 'remission', 'reml', 'remote', 'removal', 'rendu', 'reoccurrence', 'repaglinide', 'repair', 'repairs', 'repatha', 'repeat', 'replacement', 'replacements', 'repolarization', 'report', 'reporter', 'reports', 'require', 'requirement', 'resection', 'resections', 'resid', 'resident', 'residents', 'resides', 'residual', 'resilin', 'resins', 'resistance', 'resistive', 'resolute', 'resolution', 'resolve', 'resonce', 'resorption', 'resp', 'resperadol', 'respimat', 'respiration', 'respirator', 'respiratory', 'respitory', 'response', 'responses', 'responsiveness', 'rest', 'restless', 'restlessness', 'restoril', 'restrictions', 'result', 'resultant', 'retardation', 'retention', 'reti', 'reticule', 'retil', 'retinitis', 'retinopathy', 'retroperitoneal', 'rett', 'return', 'reud', 'reudes', 'reverse', 'review', 'revision', 'revisions', 'revlimid', 'reynold', 'reyrds', 'reyud', 'reyuds', 'reyvow', 'rhabdomyolysis', 'rheum', 'rheumatica', 'rheumatioid', 'rheumatism', 'rheumatoid', 'rheumatologist', 'rheumatology', 'rheymatica', 'rhiinitis', 'rhinitis', 'rhinits', 'rhinitus', 'rhino', 'rhinoplasty', 'rhinorrhea', 'rhinovirus', 'rhuematoid', 'rhumetoid', 'rhyrds', 'rhythm', 'rhythmol', 'rhytids', 'rice', 'ride', 'ridulopathy', 'rieters', 'rifabutin', 'rifampin', 'right', 'rigidus', 'rigors', 'rigth', 'ring', 'ringers', 'rinositus', 'rise', 'risedrote', 'risk', 'risperdal', 'risperidone', 'ritalin', 'rithromiocin', 'rituxan', 'rituximab', 'rivaroxaban', 'rizatriptan', 'rll', 'roaches', 'roadway', 'robaxin', 'robber', 'robinul', 'robitussin', 'rocephin', 'rocephine', 'roche', 'rocky', 'rodent', 'rofecoxib', 'rogaine', 'roof', 'room', 'roommate', 'root', 'roots', 'ropivicaine', 'roquefort', 'rosacea', 'rosacia', 'roscacea', 'roscea', 'rosea', 'rosefin', 'rosiglitazone', 'rosuvastatin', 'rosuvastatinother', 'rotator', 'rotoscoleosis', 'round', 'rounds', 'routine', 'rpr', 'rrow', 'rrowing', 'rsd', 'rsv', 'rubber', 'rubra', 'rumition', 'runny', 'rupture', 'rvr', 'rxn', 'rythamyasion', 'rythmol', 'ryuds', 'réaction', 'saccharin', 'saccharomyces', 'sacro', 'sacroiliac', 'sacroiliitis', 'safety', 'saffron', 'sage', 'sagebrush', 'saids', 'salicylate', 'salicylates', 'salicylic', 'saline', 'salmon', 'salsalate', 'salt', 'sample', 'samter', 'sand', 'sanitizer', 'saniwipes', 'sarcoidosis', 'sarcoma', 'sars', 'sats', 'saturation', 'saturations', 'saturday', 'sauce', 'savella', 'sawdust', 'saxenda', 'sbr', 'scabies', 'scallops', 'scalp', 'scans', 'scar', 'scatica', 'scelorsis', 'scent', 'scents', 'schizoaffective', 'schizophrenia', 'schlorosis', 'schwannoma', 'schwanoma', 'schziophrenia', 'sciatica', 'scizophrenia', 'sclerocornea', 'scleroderma', 'sclerosis', 'sclerosus', 'scoliosis', 'scooter', 'scope', 'scopes', 'scopolamine', 'score', 'scorpion', 'scotoma', 'scpt', 'scratch', 'scratches', 'scratchy', 'screen', 'screener', 'screening', 'script', 'sdh', 'seaclor', 'seafood', 'seafoods', 'seaol', 'seasol', 'seasolitching', 'season', 'seborrhea', 'seborrheic', 'second', 'seconda', 'seconds', 'secor', 'secretion', 'secretions', 'section', 'secure', 'sedation', 'seed', 'seeds', 'seek', 'sees', 'segment', 'seizure', 'seizures', 'seldane', 'self', 'selflabornes', 'sella', 'seltzer', 'semen', 'semi', 'seminoma', 'senile', 'sensation', 'sense', 'sensitisation', 'sensitive', 'sensitivites', 'sensitivities', 'sensitivity', 'sent', 'sentra', 'separation', 'sepsis', 'sept', 'septal', 'september', 'septoplasty', 'septra', 'septum', 'sequalae', 'sequela', 'sequelae', 'seratonin', 'serentil', 'series', 'seroconversion', 'serologies', 'seroquel', 'seroquil', 'sertarline', 'sertraline', 'sertriline', 'serum', 'service', 'services', 'servoflurane', 'sesame', 'sesaol', 'sessiol', 'sessions', 'sevedr', 'sever', 'severe', 'severity', 'sfa', 'shades', 'shadscale', 'shaft', 'shake', 'shakiness', 'shaking', 'shampoo', 'share', 'shea', 'sheath', 'sheet', 'sheets', 'shelfish', 'shell', 'shellfish', 'shells', 'shift', 'shilvadene', 'shingles', 'shingrix', 'shingtrex', 'shizophrenia', 'shock', 'shogren', 'shoot', 'shortness', 'shots', 'shoulder', 'shoulders', 'show', 'shows', 'shrapnel', 'shrimp', 'shrimps', 'shrip', 'shunt', 'siadh', 'sialadenitis', 'sialadenosis', 'sialoadenitis', 'sibo', 'sicca', 'sick', 'sickle', 'sickness', 'side', 'sidewalk', 'sidopneia', 'sigh', 'sight', 'sigmoid', 'sign', 'significance', 'sildefil', 'silent', 'silhouette', 'silicone', 'silk', 'silver', 'simgulair', 'simponi', 'simvastatin', 'simvistatin', 'sincular', 'sine', 'singulair', 'sinistrocardia', 'sinsus', 'sinunitis', 'sinus', 'sinuses', 'sinusitis', 'sipro', 'sister', 'sisters', 'sitagliptin', 'site', 'sites', 'situ', 'situatiol', 'situation', 'size', 'sjogren', 'sjogrens', 'sjorgens', 'sjrogrens', 'skelaxin', 'skin', 'sle', 'sleep', 'sleepiness', 'sleepy', 'sleeve', 'slight', 'slopes', 'slp', 'smallpox', 'smear', 'smell', 'smells', 'smoke', 'smokeless', 'smoker', 'smokes', 'smoking', 'smut', 'smuts', 'sneeze', 'sneezing', 'sniffles', 'snores', 'soap', 'soaps', 'socort', 'sodium', 'softeners', 'solifecin', 'solodyn', 'solumedrol', 'solution', 'solutions', 'solvents', 'soma', 'somebody', 'someone', 'something', 'somnolence', 'sons', 'sorbic', 'sorbitol', 'sore', 'soreness', 'sores', 'sorethroat', 'sotalol', 'sound', 'source', 'sources', 'space', 'spaghetti', 'spain', 'spam', 'sparing', 'spasm', 'spasmodic', 'spasms', 'speak', 'speaker', 'spearmint', 'spec', 'specialist', 'specific', 'specifics', 'specify', 'specimen', 'spectrum', 'speech', 'spells', 'spent', 'spetra', 'sphenoid', 'spherocytosis', 'spice', 'spices', 'spich', 'spicy', 'spider', 'spiders', 'spil', 'spine', 'spines', 'spirits', 'spiriva', 'spironolactone', 'spit', 'spleen', 'spleenectomy', 'splenectomy', 'splenomegaly', 'spondyloarthritis', 'spondyloarthropathy', 'spondylolisthesis', 'sponge', 'spores', 'sport', 'sports', 'spot', 'sprain', 'spray', 'sprays', 'spread', 'spring', 'sprouts', 'sprue', 'spur', 'spurts', 'sputum', 'squash', 'squid', 'srogen', 'srogens', 'ssri', 'stabilization', 'stabilize', 'stadol', 'staff', 'stag', 'stage', 'stages', 'stair', 'stairs', 'stand', 'standard', 'stantins', 'staphylococcus', 'star', 'starch', 'start', 'stasis', 'state', 'states', 'statin', 'statins', 'statiory', 'statsu', 'stature', 'status', 'statuses', 'stay', 'staydol', 'stayins', 'stearyl', 'steatocystoma', 'steatohepatitis', 'steatosis', 'stelara', 'stem', 'stemi', 'steno', 'stenosis', 'stent', 'stents', 'steps', 'steriod', 'steriods', 'steristrip', 'steristrips', 'sternum', 'steroid', 'steroids', 'stevens', 'stiffness', 'stills', 'stimulants', 'stimulator', 'stimulatorn', 'stimuli', 'stimulus', 'sting', 'stings', 'stinosis', 'stint', 'stints', 'stitches', 'stoma', 'stomach', 'stomatitis', 'stone', 'stones', 'stool', 'stools', 'stop', 'stops', 'storkes', 'storm', 'story', 'strabismus', 'strain', 'strains', 'strand', 'straterra', 'strawberries', 'strawberry', 'stream', 'strength', 'strep', 'strept', 'streptococcus', 'streptomycin', 'stress', 'stribild', 'stricture', 'strictures', 'stridor', 'strings', 'strips', 'stroke', 'strokes', 'structure', 'structures', 'struggle', 'stsatus', 'studies', 'study', 'stuff', 'stuffiness', 'stuffy', 'stump', 'stung', 'stye', 'subacute', 'subclass', 'suboxone', 'subs', 'subsequent', 'substance', 'substances', 'substitute', 'success', 'succinylcholine', 'succite', 'sucralfate', 'sudafed', 'sufa', 'suffers', 'sufla', 'sufur', 'sugar', 'sugars', 'suicidal', 'sular', 'sulf', 'sulfa', 'sulfacetamide', 'sulfadiazine', 'sulfadrugs', 'sulfae', 'sulfamethaxazole', 'sulfamethizole', 'sulfamethox', 'sulfamethoxazol', 'sulfamethoxazole', 'sulfanilamide', 'sulfar', 'sulfas', 'sulfasalazine', 'sulfate', 'sulfates', 'sulfazalazine', 'sulfer', 'sulfide', 'sulfite', 'sulfites', 'sulfities', 'sulfmethaxole', 'sulfomide', 'sulfomioe', 'sulfonylureas', 'sulfur', 'sulfurs', 'sulindac', 'sulpha', 'sulphas', 'sulphate', 'sulphatez', 'sulpher', 'sulphites', 'sulphur', 'sumac', 'sumatriptan', 'summer', 'summertime', 'sunblock', 'sunchip', 'sunday', 'sunflower', 'sunlight', 'sunscreen', 'super', 'supervision', 'supha', 'suportiva', 'supperativa', 'supplement', 'supplementation', 'supply', 'supporativa', 'support', 'suppository', 'suppression', 'suppurativa', 'supra', 'supraspitus', 'suprax', 'suprex', 'supsension', 'sure', 'surfer', 'surgeries', 'surgery', 'survivor', 'suspect', 'suspects', 'suspension', 'suspicion', 'suture', 'sutures', 'svr', 'swab', 'swabs', 'swallow', 'sweats', 'sweaty', 'sweet', 'sweetener', 'sweeteners', 'swell', 'swellilng', 'swelling', 'swells', 'swimming', 'swings', 'switch', 'swollen', 'sxms', 'sxs', 'symbalta', 'symbicort', 'symbyax', 'symdrome', 'symp', 'symptoms', 'syncope', 'syndrom', 'syndrome', 'syndromes', 'syndrone', 'synechiae', 'synthroid', 'syphillis', 'syrup', 'system', 'sédations', 'tabl', 'tablets', 'tabs', 'tace', 'tach', 'tachachardia', 'tachy', 'tachycardia', 'tachychardia', 'tachypneic', 'tahini', 'tailbone', 'take', 'taking', 'takotsubo', 'talc', 'talwin', 'tamaflu', 'tamarinds', 'tamiflu', 'tamoxifen', 'tamsulosin', 'tapazole', 'tape', 'taper', 'tapes', 'target', 'tarsal', 'tartrate', 'tartrazine', 'taste', 'tattoos', 'taver', 'tavr', 'taxatire', 'taxol', 'tbi', 'tcn', 'tdap', 'tear', 'tears', 'tecfidera', 'technique', 'teege', 'teeger', 'teeth', 'tegaderm', 'tegratol', 'tegretol', 'telangiectasia', 'telehealth', 'temp', 'temperature', 'temperatures', 'temple', 'tendencies', 'tendency', 'tenderness', 'tendinitis', 'tendon', 'tendonitis', 'tendonosis', 'tenics', 'tenitis', 'tennis', 'tenorman', 'tenosynovitis', 'tension', 'tent', 'tentanus', 'tenus', 'tequin', 'terazosin', 'terbefine', 'terbifine', 'tercozole', 'terfedine', 'term', 'termil', 'terms', 'terremycin', 'terrors', 'tessalon', 'test', 'tester', 'testes', 'testicle', 'testing', 'testis', 'testosterone', 'tests', 'tetanus', 'tetany', 'tetnus', 'tetracycline', 'tetracyclines', 'tetracylin', 'tetralin', 'tetralogy', 'texture', 'thalasemia', 'thalassemia', 'thallium', 'thanksgivingfibromyalgia', 'theater', 'theophylline', 'theory', 'theraflu', 'therapists', 'therapy', 'therefore', 'thickend', 'thickness', 'thiermosol', 'thin', 'thing', 'things', 'think', 'thinks', 'thinner', 'thinners', 'thiomalate', 'thioridazine', 'thiosulfate', 'thirodism', 'thonzyldiamine', 'thoracic', 'thoracolumbar', 'thoracoscopic', 'thoracotomy', 'throat', 'throid', 'thrombocytopemia', 'thrombocytosis', 'thrombopenia', 'thrombose', 'thrush', 'thryoid', 'thumb', 'thursday', 'thymoglobulin', 'thymus', 'thyriod', 'thyroid', 'thyroidectomy', 'tias', 'tics', 'tide', 'tietze', 'tiger', 'tightening', 'tightness', 'tilapia', 'till', 'time', 'timeframe', 'times', 'timolol', 'tincture', 'tinea', 'tinglining', 'tinidazole', 'tinnitus', 'tiocozole', 'tion', 'tiredness', 'tissue', 'titanium', 'titer', 'titers', 'tivan', 'tizadine', 'tizanidine', 'tkr', 'tmd', 'tmj', 'tobacco', 'tobradex', 'tobramycin', 'tocainide', 'tocilizumab', 'today', 'toddler', 'toeil', 'toeils', 'toes', 'tofacitinib', 'tolectin', 'tolerance', 'tolerate', 'tolerates', 'tolterodine', 'tomato', 'tomatoes', 'tongue', 'tonsil', 'tonsillectomy', 'tonsillitis', 'tonsils', 'tooth', 'toothache', 'toothpaste', 'topamax', 'topemax', 'topiramate', 'topirimate', 'topomax', 'topramax', 'toradol', 'tordol', 'torodol', 'torsemide', 'torsion', 'torso', 'torticollis', 'torula', 'total', 'touch', 'touches', 'toujeo', 'tourette', 'toxic', 'toxicity', 'toxin', 'toxins', 'toxoid', 'toxoids', 'toxoplasmosis', 'trac', 'trace', 'trach', 'trachea', 'tracheobronchitis', 'tracheostomy', 'tract', 'tradjenta', 'traffic', 'training', 'trait', 'tramado', 'tramadol', 'tramises', 'tramodol', 'tramomi', 'trans', 'transcatheter', 'transfer', 'transfusion', 'transfusions', 'transfussion', 'transient', 'transit', 'translumil', 'transmission', 'transplant', 'transplantation', 'transverse', 'trap', 'trauma', 'traumas', 'travel', 'travis', 'trazadone', 'trazodone', 'treat', 'treatment', 'treatments', 'tree', 'treenut', 'treenuts', 'trees', 'tremor', 'tremors', 'tretrocycline', 'triage', 'trial', 'triamcinolone', 'triamicinolone', 'triamterene', 'trichophyton', 'tricor', 'tricuspid', 'tricyclic', 'trigemil', 'trigger', 'triggers', 'triglyceride', 'triglycerides', 'triiodothyronine', 'trimester', 'trimethoprim', 'trimox', 'trintellix', 'triology', 'triple', 'triptan', 'triptans', 'triptians', 'tromethamine', 'tropicamide', 'troponin', 'troponins', 'trouble', 'trovafloxacin', 'trulicity', 'trymethopain', 'tsh', 'ttp', 'tubal', 'tube', 'tuberculosis', 'tubersol', 'tudorza', 'tues', 'tuft', 'tummy', 'tumor', 'tumors', 'tunnel', 'turcica', 'ture', 'turkey', 'turners', 'turp', 'twenties', 'tylenol', 'tylonel', 'tylox', 'type', 'types', 'typhoid', 'ulcer', 'ulceration', 'ulcers', 'ulr', 'ulrica', 'ultram', 'unclear', 'uncntr', 'undergone', 'understood', 'unguium', 'unit', 'units', 'unsp', 'unsure', 'update', 'updates', 'upset', 'ureter', 'urge', 'urgency', 'urilysis', 'urine', 'urinry', 'uriry', 'urition', 'urolift', 'urticaria', 'usage', 'usea', 'usene', 'user', 'uses', 'usia', 'usyn', 'uterus', 'utilities', 'utis', 'uveitis', 'uvula', 'uware', 'vacc', 'vaccine', 'vaccines', 'vaccione', 'vaccition', 'vaccitions', 'vacition', 'vacuum', 'vaers', 'vagil', 'vaginitis', 'vaginosis', 'vagovasal', 'vagus', 'valdecoxib', 'valgus', 'valium', 'valley', 'valproic', 'valsartan', 'valtrex', 'value', 'values', 'valval', 'valve', 'vams', 'vancominxcin', 'vancomycin', 'vancomycyn', 'vanilla', 'vantin', 'vardefil', 'varenicline', 'variant', 'variation', 'varicella', 'varices', 'varicose', 'variety', 'varisces', 'varus', 'vasal', 'vascul', 'vascular', 'vasculitis', 'vasectomy', 'vaso', 'vasoconstriction', 'vasomotor', 'vasospasm', 'vasospasms', 'vasotec', 'vasovagal', 'vats', 'vault', 'veal', 'vedolizumab', 'vegan', 'vegetables', 'vegetarian', 'vegetarianism', 'veggi', 'veggie', 'veggies', 'vehicle', 'vein', 'veins', 'venergin', 'venium', 'venlafaxin', 'venlafaxine', 'venlaflaxine', 'venofer', 'venom', 'vent', 'ventalator', 'ventilator', 'ventricles', 'venum', 'vera', 'verapamil', 'verbatim', 'vericose', 'verifiy', 'vernon', 'versicolor', 'version', 'versus', 'vertebra', 'vertebrae', 'vertebraes', 'vertigo', 'vesicare', 'vesicostomy', 'vessel', 'vessels', 'vestibular', 'viaxin', 'vibramyacin', 'vibramycin', 'vibratab', 'vicadin', 'vicatan', 'vicoden', 'vicodin', 'vicodine', 'vicoprofen', 'vicryl', 'victoza', 'video', 'vietm', 'viibryd', 'viii', 'vimpat', 'vinegar', 'viox', 'vioxx', 'viraemia', 'viremia', 'virtue', 'virus', 'visem', 'visine', 'vision', 'visipaque', 'visit', 'visken', 'vistaril', 'vitaligo', 'vitals', 'vitamin', 'vitamins', 'vitiligo', 'vitriol', 'vkh', 'vocalizations', 'voice', 'voltaren', 'volume', 'volunteer', 'vomit', 'vomiting', 'vomponent', 'vortioxetine', 'vraylar', 'vsd', 'vte', 'vulgaris', 'vulva', 'vulvar', 'vulvitis', 'vulvodynia', 'vytorin', 'waist', 'wait', 'waldenstrom', 'walk', 'walker', 'walking', 'walks', 'wall', 'walnut', 'walnuts', 'ward', 'warfarin', 'wart', 'warts', 'wasabi', 'wash', 'wasp', 'wasps', 'watchman', 'water', 'waterhemp', 'watermelon', 'watery', 'weakeness', 'weakness', 'wearer', 'wears', 'weather', 'wedge', 'weed', 'weeds', 'week', 'weekend', 'wegner', 'weight', 'weights', 'welbutrin', 'wellbutrin', 'wellness', 'welps', 'welts', 'wheals', 'wheat', 'wheelchair', 'wheezing', 'whey', 'whipple', 'whitefish', 'whites', 'wife', 'wiith', 'willebrand', 'willenbrand', 'wilms', 'wine', 'wines', 'winter', 'wirth', 'wisdom', 'wise', 'withdrawal', 'withdrawn', 'woke', 'wolff', 'women', 'wood', 'wool', 'work', 'worker', 'workup', 'worsening', 'worst', 'worth', 'wound', 'wounds', 'wpw', 'wrist', 'writer', 'xantines', 'xarelto', 'xax', 'xeljanz', 'xeralto', 'xidra', 'xistent', 'xolair', 'xopenex', 'xray', 'xylometazoline', 'yaz', 'year', 'years', 'yeast', 'yesterday', 'ylang', 'yodo', 'yoga', 'yom', 'younger', 'zaditor', 'zaflex', 'zantac', 'zero', 'zestril', 'zetia', 'zidovudine', 'zilactin', 'zinc', 'zipro', 'zithromax', 'zocor', 'zofran', 'zolipidem', 'zoloft', 'zolpidem', 'zomepirac', 'zomig', 'zone', 'zonegran', 'zonismade', 'zoster', 'zosyn', 'zpack', 'zpak', 'zucchini', 'zuccini', 'zyban', 'zyfaxin', 'zyprexa', 'zyrtec', 'zythromycin']\n"
     ]
    },
    {
     "data": {
      "text/plain": [
       "5840"
      ]
     },
     "execution_count": 186,
     "metadata": {},
     "output_type": "execute_result"
    }
   ],
   "source": [
    "allwords = set(itertools.chain.from_iterable(df.HEALTH_CONDITION))\n",
    "allwords_list = list(allwords)\n",
    "ans = sorted(allwords_list)\n",
    "print(ans)\n",
    "len(ans)"
   ]
  },
  {
   "cell_type": "code",
   "execution_count": 187,
   "metadata": {},
   "outputs": [
    {
     "data": {
      "text/html": [
       "<div>\n",
       "<style scoped>\n",
       "    .dataframe tbody tr th:only-of-type {\n",
       "        vertical-align: middle;\n",
       "    }\n",
       "\n",
       "    .dataframe tbody tr th {\n",
       "        vertical-align: top;\n",
       "    }\n",
       "\n",
       "    .dataframe thead th {\n",
       "        text-align: right;\n",
       "    }\n",
       "</style>\n",
       "<table border=\"1\" class=\"dataframe\">\n",
       "  <thead>\n",
       "    <tr style=\"text-align: right;\">\n",
       "      <th></th>\n",
       "      <th>VAERS_ID</th>\n",
       "      <th>AGE_YRS</th>\n",
       "      <th>SEX</th>\n",
       "      <th>CUR_ILL</th>\n",
       "      <th>HISTORY</th>\n",
       "      <th>ALLERGIES</th>\n",
       "      <th>VAX_NAME</th>\n",
       "      <th>SYMPTOMS</th>\n",
       "      <th>AGE_CAT</th>\n",
       "      <th>HEALTH_CONDITION</th>\n",
       "    </tr>\n",
       "  </thead>\n",
       "  <tbody>\n",
       "    <tr>\n",
       "      <th>0</th>\n",
       "      <td>916600</td>\n",
       "      <td>33.0</td>\n",
       "      <td>F</td>\n",
       "      <td></td>\n",
       "      <td></td>\n",
       "      <td>pcn and bee venom</td>\n",
       "      <td>MODERNA</td>\n",
       "      <td>[Dysphagia, Epiglottitis]</td>\n",
       "      <td>20-39 yr</td>\n",
       "      <td>[bee, venom]</td>\n",
       "    </tr>\n",
       "    <tr>\n",
       "      <th>1</th>\n",
       "      <td>916601</td>\n",
       "      <td>73.0</td>\n",
       "      <td>F</td>\n",
       "      <td>patient residing at nursing facility. see pati...</td>\n",
       "      <td>patient residing at nursing facility. see pati...</td>\n",
       "      <td>\"dairy\"</td>\n",
       "      <td>MODERNA</td>\n",
       "      <td>[Anxiety, Dyspnoea]</td>\n",
       "      <td>over_60 yr</td>\n",
       "      <td>[facility, patients, nursing, facility, patients]</td>\n",
       "    </tr>\n",
       "    <tr>\n",
       "      <th>2</th>\n",
       "      <td>916602</td>\n",
       "      <td>23.0</td>\n",
       "      <td>F</td>\n",
       "      <td></td>\n",
       "      <td></td>\n",
       "      <td>shellfish</td>\n",
       "      <td>PFIZER</td>\n",
       "      <td>[Chest discomfort, Dysphagia, Pain in extremit...</td>\n",
       "      <td>20-39 yr</td>\n",
       "      <td>[]</td>\n",
       "    </tr>\n",
       "    <tr>\n",
       "      <th>3</th>\n",
       "      <td>916603</td>\n",
       "      <td>58.0</td>\n",
       "      <td>F</td>\n",
       "      <td>kidney infection</td>\n",
       "      <td>diverticulitis, mitral valve prolapse, osteoar...</td>\n",
       "      <td>diclofec, novacaine, lidocaine, pickles, tomat...</td>\n",
       "      <td>MODERNA</td>\n",
       "      <td>[Dizziness, Fatigue, Mobility decreased]</td>\n",
       "      <td>40-59 yr</td>\n",
       "      <td>[kidney, infection, diverculitis, valve, prola...</td>\n",
       "    </tr>\n",
       "    <tr>\n",
       "      <th>4</th>\n",
       "      <td>916604</td>\n",
       "      <td>47.0</td>\n",
       "      <td>F</td>\n",
       "      <td></td>\n",
       "      <td></td>\n",
       "      <td></td>\n",
       "      <td>MODERNA</td>\n",
       "      <td>[Injection site erythema, Injection site pruri...</td>\n",
       "      <td>40-59 yr</td>\n",
       "      <td>[]</td>\n",
       "    </tr>\n",
       "  </tbody>\n",
       "</table>\n",
       "</div>"
      ],
      "text/plain": [
       "   VAERS_ID AGE_YRS SEX                                            CUR_ILL  \\\n",
       "0    916600    33.0   F                                                      \n",
       "1    916601    73.0   F  patient residing at nursing facility. see pati...   \n",
       "2    916602    23.0   F                                                      \n",
       "3    916603    58.0   F                                   kidney infection   \n",
       "4    916604    47.0   F                                                      \n",
       "\n",
       "                                             HISTORY  \\\n",
       "0                                                      \n",
       "1  patient residing at nursing facility. see pati...   \n",
       "2                                                      \n",
       "3  diverticulitis, mitral valve prolapse, osteoar...   \n",
       "4                                                      \n",
       "\n",
       "                                           ALLERGIES VAX_NAME  \\\n",
       "0                                  pcn and bee venom  MODERNA   \n",
       "1                                            \"dairy\"  MODERNA   \n",
       "2                                          shellfish   PFIZER   \n",
       "3  diclofec, novacaine, lidocaine, pickles, tomat...  MODERNA   \n",
       "4                                                     MODERNA   \n",
       "\n",
       "                                            SYMPTOMS     AGE_CAT  \\\n",
       "0                          [Dysphagia, Epiglottitis]    20-39 yr   \n",
       "1                                [Anxiety, Dyspnoea]  over_60 yr   \n",
       "2  [Chest discomfort, Dysphagia, Pain in extremit...    20-39 yr   \n",
       "3           [Dizziness, Fatigue, Mobility decreased]    40-59 yr   \n",
       "4  [Injection site erythema, Injection site pruri...    40-59 yr   \n",
       "\n",
       "                                    HEALTH_CONDITION  \n",
       "0                                       [bee, venom]  \n",
       "1  [facility, patients, nursing, facility, patients]  \n",
       "2                                                 []  \n",
       "3  [kidney, infection, diverculitis, valve, prola...  \n",
       "4                                                 []  "
      ]
     },
     "execution_count": 187,
     "metadata": {},
     "output_type": "execute_result"
    }
   ],
   "source": [
    "df.head()"
   ]
  },
  {
   "cell_type": "markdown",
   "metadata": {},
   "source": [
    "## SAVE DF "
   ]
  },
  {
   "cell_type": "markdown",
   "metadata": {},
   "source": [
    "\n",
    "df.to_pickle('.spellcorrected_df_4_13.pkl')\n",
    "\n",
    "\n",
    "\n"
   ]
  },
  {
   "cell_type": "code",
   "execution_count": 188,
   "metadata": {},
   "outputs": [
    {
     "data": {
      "text/plain": [
       "5840"
      ]
     },
     "execution_count": 188,
     "metadata": {},
     "output_type": "execute_result"
    }
   ],
   "source": [
    "allwords = set(itertools.chain.from_iterable(df.HEALTH_CONDITION))\n",
    "len(allwords)"
   ]
  },
  {
   "cell_type": "code",
   "execution_count": null,
   "metadata": {},
   "outputs": [],
   "source": []
  },
  {
   "cell_type": "code",
   "execution_count": 189,
   "metadata": {},
   "outputs": [],
   "source": [
    "def get_wordnet_pos(tag):\n",
    "    x, y = tag[0]\n",
    "    if y.startswith('J'):\n",
    "        return wordnet.ADJ\n",
    "    elif y.startswith('V'):\n",
    "        return wordnet.VERB\n",
    "    elif y.startswith('N'):\n",
    "        return wordnet.NOUN\n",
    "    elif y.startswith('R'):\n",
    "        return wordnet.ADV\n",
    "    else:\n",
    "        return wordnet.NOUN"
   ]
  },
  {
   "cell_type": "code",
   "execution_count": 190,
   "metadata": {},
   "outputs": [],
   "source": [
    "from nltk.stem import WordNetLemmatizer\n",
    "from nltk.stem.porter import PorterStemmer\n",
    "from nltk.corpus import wordnet\n",
    "from nltk import pos_tag\n",
    "st = PorterStemmer()\n",
    "wnl = WordNetLemmatizer()"
   ]
  },
  {
   "cell_type": "code",
   "execution_count": 191,
   "metadata": {},
   "outputs": [
    {
     "data": {
      "text/plain": [
       "5371"
      ]
     },
     "execution_count": 191,
     "metadata": {},
     "output_type": "execute_result"
    }
   ],
   "source": [
    "df['HEALTH_CONDITION'] = df['HEALTH_CONDITION'].apply(\n",
    "    lambda x: [wnl.lemmatize(w, pos=get_wordnet_pos(pos_tag([w]))) for w in x])\n",
    "\n",
    "\n",
    "allwords = set(itertools.chain.from_iterable(df.HEALTH_CONDITION))\n",
    "len(allwords)"
   ]
  },
  {
   "cell_type": "code",
   "execution_count": null,
   "metadata": {},
   "outputs": [],
   "source": []
  },
  {
   "cell_type": "code",
   "execution_count": 192,
   "metadata": {},
   "outputs": [
    {
     "data": {
      "text/html": [
       "<div>\n",
       "<style scoped>\n",
       "    .dataframe tbody tr th:only-of-type {\n",
       "        vertical-align: middle;\n",
       "    }\n",
       "\n",
       "    .dataframe tbody tr th {\n",
       "        vertical-align: top;\n",
       "    }\n",
       "\n",
       "    .dataframe thead th {\n",
       "        text-align: right;\n",
       "    }\n",
       "</style>\n",
       "<table border=\"1\" class=\"dataframe\">\n",
       "  <thead>\n",
       "    <tr style=\"text-align: right;\">\n",
       "      <th></th>\n",
       "      <th>VAERS_ID</th>\n",
       "      <th>AGE_YRS</th>\n",
       "      <th>SEX</th>\n",
       "      <th>CUR_ILL</th>\n",
       "      <th>HISTORY</th>\n",
       "      <th>ALLERGIES</th>\n",
       "      <th>VAX_NAME</th>\n",
       "      <th>SYMPTOMS</th>\n",
       "      <th>AGE_CAT</th>\n",
       "      <th>HEALTH_CONDITION</th>\n",
       "    </tr>\n",
       "  </thead>\n",
       "  <tbody>\n",
       "    <tr>\n",
       "      <th>0</th>\n",
       "      <td>916600</td>\n",
       "      <td>33.0</td>\n",
       "      <td>F</td>\n",
       "      <td></td>\n",
       "      <td></td>\n",
       "      <td>pcn and bee venom</td>\n",
       "      <td>MODERNA</td>\n",
       "      <td>[Dysphagia, Epiglottitis]</td>\n",
       "      <td>20-39 yr</td>\n",
       "      <td>[bee, venom]</td>\n",
       "    </tr>\n",
       "    <tr>\n",
       "      <th>1</th>\n",
       "      <td>916601</td>\n",
       "      <td>73.0</td>\n",
       "      <td>F</td>\n",
       "      <td>patient residing at nursing facility. see pati...</td>\n",
       "      <td>patient residing at nursing facility. see pati...</td>\n",
       "      <td>\"dairy\"</td>\n",
       "      <td>MODERNA</td>\n",
       "      <td>[Anxiety, Dyspnoea]</td>\n",
       "      <td>over_60 yr</td>\n",
       "      <td>[facility, patient, nursing, facility, patient]</td>\n",
       "    </tr>\n",
       "    <tr>\n",
       "      <th>2</th>\n",
       "      <td>916602</td>\n",
       "      <td>23.0</td>\n",
       "      <td>F</td>\n",
       "      <td></td>\n",
       "      <td></td>\n",
       "      <td>shellfish</td>\n",
       "      <td>PFIZER</td>\n",
       "      <td>[Chest discomfort, Dysphagia, Pain in extremit...</td>\n",
       "      <td>20-39 yr</td>\n",
       "      <td>[]</td>\n",
       "    </tr>\n",
       "    <tr>\n",
       "      <th>3</th>\n",
       "      <td>916603</td>\n",
       "      <td>58.0</td>\n",
       "      <td>F</td>\n",
       "      <td>kidney infection</td>\n",
       "      <td>diverticulitis, mitral valve prolapse, osteoar...</td>\n",
       "      <td>diclofec, novacaine, lidocaine, pickles, tomat...</td>\n",
       "      <td>MODERNA</td>\n",
       "      <td>[Dizziness, Fatigue, Mobility decreased]</td>\n",
       "      <td>40-59 yr</td>\n",
       "      <td>[kidney, infection, diverculitis, valve, prola...</td>\n",
       "    </tr>\n",
       "    <tr>\n",
       "      <th>4</th>\n",
       "      <td>916604</td>\n",
       "      <td>47.0</td>\n",
       "      <td>F</td>\n",
       "      <td></td>\n",
       "      <td></td>\n",
       "      <td></td>\n",
       "      <td>MODERNA</td>\n",
       "      <td>[Injection site erythema, Injection site pruri...</td>\n",
       "      <td>40-59 yr</td>\n",
       "      <td>[]</td>\n",
       "    </tr>\n",
       "  </tbody>\n",
       "</table>\n",
       "</div>"
      ],
      "text/plain": [
       "   VAERS_ID AGE_YRS SEX                                            CUR_ILL  \\\n",
       "0    916600    33.0   F                                                      \n",
       "1    916601    73.0   F  patient residing at nursing facility. see pati...   \n",
       "2    916602    23.0   F                                                      \n",
       "3    916603    58.0   F                                   kidney infection   \n",
       "4    916604    47.0   F                                                      \n",
       "\n",
       "                                             HISTORY  \\\n",
       "0                                                      \n",
       "1  patient residing at nursing facility. see pati...   \n",
       "2                                                      \n",
       "3  diverticulitis, mitral valve prolapse, osteoar...   \n",
       "4                                                      \n",
       "\n",
       "                                           ALLERGIES VAX_NAME  \\\n",
       "0                                  pcn and bee venom  MODERNA   \n",
       "1                                            \"dairy\"  MODERNA   \n",
       "2                                          shellfish   PFIZER   \n",
       "3  diclofec, novacaine, lidocaine, pickles, tomat...  MODERNA   \n",
       "4                                                     MODERNA   \n",
       "\n",
       "                                            SYMPTOMS     AGE_CAT  \\\n",
       "0                          [Dysphagia, Epiglottitis]    20-39 yr   \n",
       "1                                [Anxiety, Dyspnoea]  over_60 yr   \n",
       "2  [Chest discomfort, Dysphagia, Pain in extremit...    20-39 yr   \n",
       "3           [Dizziness, Fatigue, Mobility decreased]    40-59 yr   \n",
       "4  [Injection site erythema, Injection site pruri...    40-59 yr   \n",
       "\n",
       "                                    HEALTH_CONDITION  \n",
       "0                                       [bee, venom]  \n",
       "1    [facility, patient, nursing, facility, patient]  \n",
       "2                                                 []  \n",
       "3  [kidney, infection, diverculitis, valve, prola...  \n",
       "4                                                 []  "
      ]
     },
     "execution_count": 192,
     "metadata": {},
     "output_type": "execute_result"
    }
   ],
   "source": [
    "df.head()"
   ]
  },
  {
   "cell_type": "code",
   "execution_count": 193,
   "metadata": {},
   "outputs": [
    {
     "data": {
      "text/html": [
       "<div>\n",
       "<style scoped>\n",
       "    .dataframe tbody tr th:only-of-type {\n",
       "        vertical-align: middle;\n",
       "    }\n",
       "\n",
       "    .dataframe tbody tr th {\n",
       "        vertical-align: top;\n",
       "    }\n",
       "\n",
       "    .dataframe thead th {\n",
       "        text-align: right;\n",
       "    }\n",
       "</style>\n",
       "<table border=\"1\" class=\"dataframe\">\n",
       "  <thead>\n",
       "    <tr style=\"text-align: right;\">\n",
       "      <th></th>\n",
       "      <th>VAERS_ID</th>\n",
       "      <th>AGE_YRS</th>\n",
       "      <th>SEX</th>\n",
       "      <th>CUR_ILL</th>\n",
       "      <th>HISTORY</th>\n",
       "      <th>ALLERGIES</th>\n",
       "      <th>VAX_NAME</th>\n",
       "      <th>SYMPTOMS</th>\n",
       "      <th>AGE_CAT</th>\n",
       "      <th>HEALTH_CONDITION</th>\n",
       "    </tr>\n",
       "  </thead>\n",
       "  <tbody>\n",
       "    <tr>\n",
       "      <th>0</th>\n",
       "      <td>916600</td>\n",
       "      <td>33.0</td>\n",
       "      <td>F</td>\n",
       "      <td></td>\n",
       "      <td></td>\n",
       "      <td>pcn and bee venom</td>\n",
       "      <td>MODERNA</td>\n",
       "      <td>[Dysphagia, Epiglottitis]</td>\n",
       "      <td>20-39 yr</td>\n",
       "      <td>bee venom</td>\n",
       "    </tr>\n",
       "    <tr>\n",
       "      <th>1</th>\n",
       "      <td>916601</td>\n",
       "      <td>73.0</td>\n",
       "      <td>F</td>\n",
       "      <td>patient residing at nursing facility. see pati...</td>\n",
       "      <td>patient residing at nursing facility. see pati...</td>\n",
       "      <td>\"dairy\"</td>\n",
       "      <td>MODERNA</td>\n",
       "      <td>[Anxiety, Dyspnoea]</td>\n",
       "      <td>over_60 yr</td>\n",
       "      <td>facility patient nursing facility patient</td>\n",
       "    </tr>\n",
       "    <tr>\n",
       "      <th>2</th>\n",
       "      <td>916602</td>\n",
       "      <td>23.0</td>\n",
       "      <td>F</td>\n",
       "      <td></td>\n",
       "      <td></td>\n",
       "      <td>shellfish</td>\n",
       "      <td>PFIZER</td>\n",
       "      <td>[Chest discomfort, Dysphagia, Pain in extremit...</td>\n",
       "      <td>20-39 yr</td>\n",
       "      <td></td>\n",
       "    </tr>\n",
       "    <tr>\n",
       "      <th>3</th>\n",
       "      <td>916603</td>\n",
       "      <td>58.0</td>\n",
       "      <td>F</td>\n",
       "      <td>kidney infection</td>\n",
       "      <td>diverticulitis, mitral valve prolapse, osteoar...</td>\n",
       "      <td>diclofec, novacaine, lidocaine, pickles, tomat...</td>\n",
       "      <td>MODERNA</td>\n",
       "      <td>[Dizziness, Fatigue, Mobility decreased]</td>\n",
       "      <td>40-59 yr</td>\n",
       "      <td>kidney infection diverculitis valve prolapse o...</td>\n",
       "    </tr>\n",
       "    <tr>\n",
       "      <th>4</th>\n",
       "      <td>916604</td>\n",
       "      <td>47.0</td>\n",
       "      <td>F</td>\n",
       "      <td></td>\n",
       "      <td></td>\n",
       "      <td></td>\n",
       "      <td>MODERNA</td>\n",
       "      <td>[Injection site erythema, Injection site pruri...</td>\n",
       "      <td>40-59 yr</td>\n",
       "      <td></td>\n",
       "    </tr>\n",
       "  </tbody>\n",
       "</table>\n",
       "</div>"
      ],
      "text/plain": [
       "   VAERS_ID AGE_YRS SEX                                            CUR_ILL  \\\n",
       "0    916600    33.0   F                                                      \n",
       "1    916601    73.0   F  patient residing at nursing facility. see pati...   \n",
       "2    916602    23.0   F                                                      \n",
       "3    916603    58.0   F                                   kidney infection   \n",
       "4    916604    47.0   F                                                      \n",
       "\n",
       "                                             HISTORY  \\\n",
       "0                                                      \n",
       "1  patient residing at nursing facility. see pati...   \n",
       "2                                                      \n",
       "3  diverticulitis, mitral valve prolapse, osteoar...   \n",
       "4                                                      \n",
       "\n",
       "                                           ALLERGIES VAX_NAME  \\\n",
       "0                                  pcn and bee venom  MODERNA   \n",
       "1                                            \"dairy\"  MODERNA   \n",
       "2                                          shellfish   PFIZER   \n",
       "3  diclofec, novacaine, lidocaine, pickles, tomat...  MODERNA   \n",
       "4                                                     MODERNA   \n",
       "\n",
       "                                            SYMPTOMS     AGE_CAT  \\\n",
       "0                          [Dysphagia, Epiglottitis]    20-39 yr   \n",
       "1                                [Anxiety, Dyspnoea]  over_60 yr   \n",
       "2  [Chest discomfort, Dysphagia, Pain in extremit...    20-39 yr   \n",
       "3           [Dizziness, Fatigue, Mobility decreased]    40-59 yr   \n",
       "4  [Injection site erythema, Injection site pruri...    40-59 yr   \n",
       "\n",
       "                                    HEALTH_CONDITION  \n",
       "0                                          bee venom  \n",
       "1          facility patient nursing facility patient  \n",
       "2                                                     \n",
       "3  kidney infection diverculitis valve prolapse o...  \n",
       "4                                                     "
      ]
     },
     "execution_count": 193,
     "metadata": {},
     "output_type": "execute_result"
    }
   ],
   "source": [
    "# remove row with empty health_condition\n",
    "#df_training=df[df['HEALTH_CONDITION'].apply(lambda x : len(x) >0)]\n",
    "# df_training=df_training.copy()\n",
    "df_training = df\n",
    "# convert health condition list back to string\n",
    "df_training['HEALTH_CONDITION'] = df_training['HEALTH_CONDITION'].apply(\n",
    "    lambda x: \" \".join(x))\n",
    "df_training.head()"
   ]
  },
  {
   "cell_type": "markdown",
   "metadata": {},
   "source": [
    "# Trainning part"
   ]
  },
  {
   "cell_type": "code",
   "execution_count": 194,
   "metadata": {
    "id": "TKnCefOAMyAa"
   },
   "outputs": [],
   "source": [
    "MODERNA = df_training[df_training['VAX_NAME'] == 'MODERNA']\n",
    "PFIZER = df_training[df_training['VAX_NAME'] == 'PFIZER']"
   ]
  },
  {
   "cell_type": "markdown",
   "metadata": {},
   "source": [
    "## Create training and test"
   ]
  },
  {
   "cell_type": "code",
   "execution_count": 195,
   "metadata": {},
   "outputs": [],
   "source": [
    "from sklearn.model_selection import train_test_split\n",
    "MODERNA_train, MODERNA_test = train_test_split(\n",
    "    MODERNA, stratify=MODERNA['AGE_CAT'], test_size=0.05)\n",
    "PFIZER_train, PFIZER_test = train_test_split(\n",
    "    PFIZER, stratify=PFIZER['AGE_CAT'], test_size=0.05)"
   ]
  },
  {
   "cell_type": "markdown",
   "metadata": {},
   "source": [
    "### Vectorize parameter for Moderna and Pfizer Kmeans model"
   ]
  },
  {
   "cell_type": "code",
   "execution_count": 196,
   "metadata": {
    "id": "7AefUnjvQ-_R"
   },
   "outputs": [],
   "source": [
    "# make df_training data to sparse matrix\n",
    "from sklearn.preprocessing import OneHotEncoder\n",
    "from sklearn.feature_extraction.text import TfidfVectorizer\n",
    "from sklearn.feature_extraction import text\n",
    "# define stop words\n",
    "stop_w = text.ENGLISH_STOP_WORDS\n",
    "\n",
    "\n",
    "def vectorizing(data_train):\n",
    "    tfidf_vectorizer = TfidfVectorizer(stop_words=stop_w)\n",
    "    ohe = OneHotEncoder(handle_unknown='ignore')\n",
    "\n",
    "    tfidfs = tfidf_vectorizer.fit_transform(data_train['HEALTH_CONDITION'])\n",
    "    tfidfs = pd.DataFrame(\n",
    "        tfidfs.toarray(), columns=tfidf_vectorizer.get_feature_names())\n",
    "\n",
    "    dummie_age_sex = ohe.fit_transform(data_train[['SEX', 'AGE_CAT']])\n",
    "    dummie_age_sex = pd.DataFrame(\n",
    "        dummie_age_sex.toarray(), columns=ohe.get_feature_names())\n",
    "    vector = pd.concat([dummie_age_sex, tfidfs], axis=1)\n",
    "    return {'vector': vector, 'tfidf': tfidf_vectorizer, \"ohe\": ohe}"
   ]
  },
  {
   "cell_type": "code",
   "execution_count": 197,
   "metadata": {},
   "outputs": [],
   "source": [
    "moderna_vectorizer = vectorizing(MODERNA_train)\n",
    "pfizer_vectorizer = vectorizing(PFIZER_train)"
   ]
  },
  {
   "cell_type": "markdown",
   "metadata": {},
   "source": [
    "## Moderna K-means model training"
   ]
  },
  {
   "cell_type": "code",
   "execution_count": 235,
   "metadata": {},
   "outputs": [],
   "source": [
    "from sklearn.cluster import KMeans\n",
    "N_CLUSTER = 40\n",
    "kmeans_MODERNA = KMeans(n_clusters=N_CLUSTER)\n",
    "kmeans_MODERNA.fit(moderna_vectorizer.get('vector'))\n",
    "MODERNA_train = MODERNA_train.copy()\n",
    "MODERNA_train['CLUSTER'] = kmeans_MODERNA.labels_"
   ]
  },
  {
   "cell_type": "markdown",
   "metadata": {
    "colab": {
     "base_uri": "https://localhost:8080/"
    },
    "id": "TKd48HWiRu6r",
    "outputId": "c9b67569-040f-42b9-c7e4-814ee3edeb80"
   },
   "source": [
    "from sklearn.cluster import KMeans\n",
    "kmeans = KMeans(n_clusters=40)\n",
    "kmeans.fit(moderna_vector)"
   ]
  },
  {
   "cell_type": "markdown",
   "metadata": {},
   "source": [
    "## Pfizer K-means model training¶"
   ]
  },
  {
   "cell_type": "code",
   "execution_count": 236,
   "metadata": {},
   "outputs": [],
   "source": [
    "kmeans_PFIZER = KMeans(n_clusters=N_CLUSTER)\n",
    "kmeans_PFIZER.fit(pfizer_vectorizer.get('vector'))\n",
    "PFIZER_train = PFIZER_train.copy()\n",
    "PFIZER_train['CLUSTER'] = kmeans_PFIZER.labels_"
   ]
  },
  {
   "cell_type": "markdown",
   "metadata": {
    "id": "CpwCfZwbTu14"
   },
   "source": [
    "## How many instance are belonging to each cluster in Moderna"
   ]
  },
  {
   "cell_type": "code",
   "execution_count": 237,
   "metadata": {
    "colab": {
     "base_uri": "https://localhost:8080/"
    },
    "id": "n3UcbHqocmFV",
    "outputId": "3c6ed569-edd0-42c5-9527-08089a6d2509"
   },
   "outputs": [
    {
     "data": {
      "text/html": [
       "<div>\n",
       "<style scoped>\n",
       "    .dataframe tbody tr th:only-of-type {\n",
       "        vertical-align: middle;\n",
       "    }\n",
       "\n",
       "    .dataframe tbody tr th {\n",
       "        vertical-align: top;\n",
       "    }\n",
       "\n",
       "    .dataframe thead th {\n",
       "        text-align: right;\n",
       "    }\n",
       "</style>\n",
       "<table border=\"1\" class=\"dataframe\">\n",
       "  <thead>\n",
       "    <tr style=\"text-align: right;\">\n",
       "      <th></th>\n",
       "      <th>num of sample</th>\n",
       "    </tr>\n",
       "    <tr>\n",
       "      <th>CLUSTER</th>\n",
       "      <th></th>\n",
       "    </tr>\n",
       "  </thead>\n",
       "  <tbody>\n",
       "    <tr>\n",
       "      <th>5</th>\n",
       "      <td>1</td>\n",
       "    </tr>\n",
       "    <tr>\n",
       "      <th>10</th>\n",
       "      <td>1</td>\n",
       "    </tr>\n",
       "    <tr>\n",
       "      <th>33</th>\n",
       "      <td>2</td>\n",
       "    </tr>\n",
       "    <tr>\n",
       "      <th>29</th>\n",
       "      <td>7</td>\n",
       "    </tr>\n",
       "    <tr>\n",
       "      <th>28</th>\n",
       "      <td>11</td>\n",
       "    </tr>\n",
       "    <tr>\n",
       "      <th>25</th>\n",
       "      <td>19</td>\n",
       "    </tr>\n",
       "    <tr>\n",
       "      <th>36</th>\n",
       "      <td>29</td>\n",
       "    </tr>\n",
       "    <tr>\n",
       "      <th>21</th>\n",
       "      <td>29</td>\n",
       "    </tr>\n",
       "    <tr>\n",
       "      <th>16</th>\n",
       "      <td>30</td>\n",
       "    </tr>\n",
       "    <tr>\n",
       "      <th>18</th>\n",
       "      <td>34</td>\n",
       "    </tr>\n",
       "    <tr>\n",
       "      <th>31</th>\n",
       "      <td>42</td>\n",
       "    </tr>\n",
       "    <tr>\n",
       "      <th>32</th>\n",
       "      <td>42</td>\n",
       "    </tr>\n",
       "    <tr>\n",
       "      <th>27</th>\n",
       "      <td>47</td>\n",
       "    </tr>\n",
       "    <tr>\n",
       "      <th>26</th>\n",
       "      <td>48</td>\n",
       "    </tr>\n",
       "    <tr>\n",
       "      <th>23</th>\n",
       "      <td>50</td>\n",
       "    </tr>\n",
       "    <tr>\n",
       "      <th>22</th>\n",
       "      <td>56</td>\n",
       "    </tr>\n",
       "    <tr>\n",
       "      <th>24</th>\n",
       "      <td>59</td>\n",
       "    </tr>\n",
       "    <tr>\n",
       "      <th>39</th>\n",
       "      <td>64</td>\n",
       "    </tr>\n",
       "    <tr>\n",
       "      <th>38</th>\n",
       "      <td>72</td>\n",
       "    </tr>\n",
       "    <tr>\n",
       "      <th>30</th>\n",
       "      <td>74</td>\n",
       "    </tr>\n",
       "    <tr>\n",
       "      <th>34</th>\n",
       "      <td>89</td>\n",
       "    </tr>\n",
       "    <tr>\n",
       "      <th>13</th>\n",
       "      <td>107</td>\n",
       "    </tr>\n",
       "    <tr>\n",
       "      <th>35</th>\n",
       "      <td>108</td>\n",
       "    </tr>\n",
       "    <tr>\n",
       "      <th>37</th>\n",
       "      <td>116</td>\n",
       "    </tr>\n",
       "    <tr>\n",
       "      <th>14</th>\n",
       "      <td>125</td>\n",
       "    </tr>\n",
       "    <tr>\n",
       "      <th>15</th>\n",
       "      <td>135</td>\n",
       "    </tr>\n",
       "    <tr>\n",
       "      <th>11</th>\n",
       "      <td>142</td>\n",
       "    </tr>\n",
       "    <tr>\n",
       "      <th>17</th>\n",
       "      <td>158</td>\n",
       "    </tr>\n",
       "    <tr>\n",
       "      <th>19</th>\n",
       "      <td>165</td>\n",
       "    </tr>\n",
       "    <tr>\n",
       "      <th>12</th>\n",
       "      <td>165</td>\n",
       "    </tr>\n",
       "    <tr>\n",
       "      <th>9</th>\n",
       "      <td>180</td>\n",
       "    </tr>\n",
       "    <tr>\n",
       "      <th>4</th>\n",
       "      <td>221</td>\n",
       "    </tr>\n",
       "    <tr>\n",
       "      <th>20</th>\n",
       "      <td>221</td>\n",
       "    </tr>\n",
       "    <tr>\n",
       "      <th>7</th>\n",
       "      <td>379</td>\n",
       "    </tr>\n",
       "    <tr>\n",
       "      <th>6</th>\n",
       "      <td>761</td>\n",
       "    </tr>\n",
       "    <tr>\n",
       "      <th>8</th>\n",
       "      <td>1106</td>\n",
       "    </tr>\n",
       "    <tr>\n",
       "      <th>0</th>\n",
       "      <td>1465</td>\n",
       "    </tr>\n",
       "    <tr>\n",
       "      <th>3</th>\n",
       "      <td>2378</td>\n",
       "    </tr>\n",
       "    <tr>\n",
       "      <th>2</th>\n",
       "      <td>3161</td>\n",
       "    </tr>\n",
       "    <tr>\n",
       "      <th>1</th>\n",
       "      <td>3667</td>\n",
       "    </tr>\n",
       "  </tbody>\n",
       "</table>\n",
       "</div>"
      ],
      "text/plain": [
       "         num of sample\n",
       "CLUSTER               \n",
       "5                    1\n",
       "10                   1\n",
       "33                   2\n",
       "29                   7\n",
       "28                  11\n",
       "25                  19\n",
       "36                  29\n",
       "21                  29\n",
       "16                  30\n",
       "18                  34\n",
       "31                  42\n",
       "32                  42\n",
       "27                  47\n",
       "26                  48\n",
       "23                  50\n",
       "22                  56\n",
       "24                  59\n",
       "39                  64\n",
       "38                  72\n",
       "30                  74\n",
       "34                  89\n",
       "13                 107\n",
       "35                 108\n",
       "37                 116\n",
       "14                 125\n",
       "15                 135\n",
       "11                 142\n",
       "17                 158\n",
       "19                 165\n",
       "12                 165\n",
       "9                  180\n",
       "4                  221\n",
       "20                 221\n",
       "7                  379\n",
       "6                  761\n",
       "8                 1106\n",
       "0                 1465\n",
       "3                 2378\n",
       "2                 3161\n",
       "1                 3667"
      ]
     },
     "execution_count": 237,
     "metadata": {},
     "output_type": "execute_result"
    }
   ],
   "source": [
    "moderna_group = MODERNA_train.groupby(\n",
    "    by='CLUSTER')['VAERS_ID'].agg('count').sort_values().to_frame()\n",
    "moderna_group.columns = ['num of sample']\n",
    "moderna_group"
   ]
  },
  {
   "cell_type": "markdown",
   "metadata": {
    "id": "Ll1RsO8IT6uw"
   },
   "source": [
    "## what are in the cluster "
   ]
  },
  {
   "cell_type": "code",
   "execution_count": 238,
   "metadata": {
    "colab": {
     "base_uri": "https://localhost:8080/",
     "height": 1000
    },
    "id": "WOVDPXAM1GN0",
    "outputId": "46e86ad1-2345-4748-818e-f1a922d8b528"
   },
   "outputs": [
    {
     "data": {
      "text/html": [
       "<div>\n",
       "<style scoped>\n",
       "    .dataframe tbody tr th:only-of-type {\n",
       "        vertical-align: middle;\n",
       "    }\n",
       "\n",
       "    .dataframe tbody tr th {\n",
       "        vertical-align: top;\n",
       "    }\n",
       "\n",
       "    .dataframe thead th {\n",
       "        text-align: right;\n",
       "    }\n",
       "</style>\n",
       "<table border=\"1\" class=\"dataframe\">\n",
       "  <thead>\n",
       "    <tr style=\"text-align: right;\">\n",
       "      <th></th>\n",
       "      <th>VAERS_ID</th>\n",
       "      <th>AGE_YRS</th>\n",
       "      <th>SEX</th>\n",
       "      <th>CUR_ILL</th>\n",
       "      <th>HISTORY</th>\n",
       "      <th>ALLERGIES</th>\n",
       "      <th>VAX_NAME</th>\n",
       "      <th>SYMPTOMS</th>\n",
       "      <th>AGE_CAT</th>\n",
       "      <th>HEALTH_CONDITION</th>\n",
       "      <th>CLUSTER</th>\n",
       "    </tr>\n",
       "  </thead>\n",
       "  <tbody>\n",
       "    <tr>\n",
       "      <th>1326</th>\n",
       "      <td>918002</td>\n",
       "      <td>37.0</td>\n",
       "      <td>F</td>\n",
       "      <td></td>\n",
       "      <td></td>\n",
       "      <td></td>\n",
       "      <td>MODERNA</td>\n",
       "      <td>[Swelling face, Tenderness]</td>\n",
       "      <td>20-39 yr</td>\n",
       "      <td></td>\n",
       "      <td>2</td>\n",
       "    </tr>\n",
       "    <tr>\n",
       "      <th>11211</th>\n",
       "      <td>928412</td>\n",
       "      <td>39.0</td>\n",
       "      <td>F</td>\n",
       "      <td></td>\n",
       "      <td></td>\n",
       "      <td></td>\n",
       "      <td>MODERNA</td>\n",
       "      <td>[Chills, Nausea, Pain, Pyrexia, Vomiting]</td>\n",
       "      <td>20-39 yr</td>\n",
       "      <td></td>\n",
       "      <td>2</td>\n",
       "    </tr>\n",
       "    <tr>\n",
       "      <th>6502</th>\n",
       "      <td>924111</td>\n",
       "      <td>20.0</td>\n",
       "      <td>F</td>\n",
       "      <td></td>\n",
       "      <td></td>\n",
       "      <td></td>\n",
       "      <td>MODERNA</td>\n",
       "      <td>[Headache, Influenza]</td>\n",
       "      <td>20-39 yr</td>\n",
       "      <td></td>\n",
       "      <td>2</td>\n",
       "    </tr>\n",
       "    <tr>\n",
       "      <th>8606</th>\n",
       "      <td>926321</td>\n",
       "      <td>38.0</td>\n",
       "      <td>F</td>\n",
       "      <td></td>\n",
       "      <td>gastroesphageal reflux disease with esophagitis</td>\n",
       "      <td></td>\n",
       "      <td>MODERNA</td>\n",
       "      <td>[Fatigue, Headache, Injection site erythema, I...</td>\n",
       "      <td>20-39 yr</td>\n",
       "      <td>gastroesophageal reflux disease esophageal</td>\n",
       "      <td>2</td>\n",
       "    </tr>\n",
       "    <tr>\n",
       "      <th>8361</th>\n",
       "      <td>926061</td>\n",
       "      <td>33.0</td>\n",
       "      <td>F</td>\n",
       "      <td></td>\n",
       "      <td>tinnitis</td>\n",
       "      <td></td>\n",
       "      <td>MODERNA</td>\n",
       "      <td>[Blood magnesium decreased, Cardiac monitoring...</td>\n",
       "      <td>20-39 yr</td>\n",
       "      <td>sinusitis</td>\n",
       "      <td>2</td>\n",
       "    </tr>\n",
       "    <tr>\n",
       "      <th>17989</th>\n",
       "      <td>937053</td>\n",
       "      <td>20.0</td>\n",
       "      <td>F</td>\n",
       "      <td></td>\n",
       "      <td></td>\n",
       "      <td></td>\n",
       "      <td>MODERNA</td>\n",
       "      <td>[Dizziness, Nausea]</td>\n",
       "      <td>20-39 yr</td>\n",
       "      <td></td>\n",
       "      <td>2</td>\n",
       "    </tr>\n",
       "    <tr>\n",
       "      <th>26725</th>\n",
       "      <td>1048711</td>\n",
       "      <td>26.0</td>\n",
       "      <td>F</td>\n",
       "      <td></td>\n",
       "      <td></td>\n",
       "      <td></td>\n",
       "      <td>MODERNA</td>\n",
       "      <td>[Erythema, Pyrexia, Skin warm, Tenderness]</td>\n",
       "      <td>20-39 yr</td>\n",
       "      <td></td>\n",
       "      <td>2</td>\n",
       "    </tr>\n",
       "    <tr>\n",
       "      <th>11684</th>\n",
       "      <td>928930</td>\n",
       "      <td>35.0</td>\n",
       "      <td>F</td>\n",
       "      <td></td>\n",
       "      <td>hypoglycemic</td>\n",
       "      <td></td>\n",
       "      <td>MODERNA</td>\n",
       "      <td>[Breast feeding, Fatigue, Loss of personal ind...</td>\n",
       "      <td>20-39 yr</td>\n",
       "      <td>hypertrophic</td>\n",
       "      <td>2</td>\n",
       "    </tr>\n",
       "    <tr>\n",
       "      <th>12305</th>\n",
       "      <td>929666</td>\n",
       "      <td>35.0</td>\n",
       "      <td>F</td>\n",
       "      <td>tested covid positive on 12/07/20</td>\n",
       "      <td>diabetes, hypertension</td>\n",
       "      <td>no</td>\n",
       "      <td>MODERNA</td>\n",
       "      <td>[Diarrhoea, Injection site pain, Nausea, Vomit...</td>\n",
       "      <td>20-39 yr</td>\n",
       "      <td>diabertes hypertenision</td>\n",
       "      <td>2</td>\n",
       "    </tr>\n",
       "    <tr>\n",
       "      <th>14561</th>\n",
       "      <td>931596</td>\n",
       "      <td>34.0</td>\n",
       "      <td>F</td>\n",
       "      <td>no prior illness prior to vaccine.</td>\n",
       "      <td>migraines. that?s it.</td>\n",
       "      <td>bactrium keeflex  sulfa</td>\n",
       "      <td>MODERNA</td>\n",
       "      <td>[Arthralgia, Body temperature increased, Chill...</td>\n",
       "      <td>20-39 yr</td>\n",
       "      <td>migraine avalox sulfa</td>\n",
       "      <td>2</td>\n",
       "    </tr>\n",
       "  </tbody>\n",
       "</table>\n",
       "</div>"
      ],
      "text/plain": [
       "       VAERS_ID AGE_YRS SEX                             CUR_ILL  \\\n",
       "1326     918002    37.0   F                                       \n",
       "11211    928412    39.0   F                                       \n",
       "6502     924111    20.0   F                                       \n",
       "8606     926321    38.0   F                                       \n",
       "8361     926061    33.0   F                                       \n",
       "17989    937053    20.0   F                                       \n",
       "26725   1048711    26.0   F                                       \n",
       "11684    928930    35.0   F                                       \n",
       "12305    929666    35.0   F   tested covid positive on 12/07/20   \n",
       "14561    931596    34.0   F  no prior illness prior to vaccine.   \n",
       "\n",
       "                                               HISTORY  \\\n",
       "1326                                                     \n",
       "11211                                                    \n",
       "6502                                                     \n",
       "8606   gastroesphageal reflux disease with esophagitis   \n",
       "8361                                          tinnitis   \n",
       "17989                                                    \n",
       "26725                                                    \n",
       "11684                                     hypoglycemic   \n",
       "12305                           diabetes, hypertension   \n",
       "14561                            migraines. that?s it.   \n",
       "\n",
       "                     ALLERGIES VAX_NAME  \\\n",
       "1326                            MODERNA   \n",
       "11211                           MODERNA   \n",
       "6502                            MODERNA   \n",
       "8606                            MODERNA   \n",
       "8361                            MODERNA   \n",
       "17989                           MODERNA   \n",
       "26725                           MODERNA   \n",
       "11684                           MODERNA   \n",
       "12305                       no  MODERNA   \n",
       "14561  bactrium keeflex  sulfa  MODERNA   \n",
       "\n",
       "                                                SYMPTOMS   AGE_CAT  \\\n",
       "1326                         [Swelling face, Tenderness]  20-39 yr   \n",
       "11211          [Chills, Nausea, Pain, Pyrexia, Vomiting]  20-39 yr   \n",
       "6502                               [Headache, Influenza]  20-39 yr   \n",
       "8606   [Fatigue, Headache, Injection site erythema, I...  20-39 yr   \n",
       "8361   [Blood magnesium decreased, Cardiac monitoring...  20-39 yr   \n",
       "17989                                [Dizziness, Nausea]  20-39 yr   \n",
       "26725         [Erythema, Pyrexia, Skin warm, Tenderness]  20-39 yr   \n",
       "11684  [Breast feeding, Fatigue, Loss of personal ind...  20-39 yr   \n",
       "12305  [Diarrhoea, Injection site pain, Nausea, Vomit...  20-39 yr   \n",
       "14561  [Arthralgia, Body temperature increased, Chill...  20-39 yr   \n",
       "\n",
       "                                 HEALTH_CONDITION  CLUSTER  \n",
       "1326                                                     2  \n",
       "11211                                                    2  \n",
       "6502                                                     2  \n",
       "8606   gastroesophageal reflux disease esophageal        2  \n",
       "8361                                    sinusitis        2  \n",
       "17989                                                    2  \n",
       "26725                                                    2  \n",
       "11684                                hypertrophic        2  \n",
       "12305                     diabertes hypertenision        2  \n",
       "14561                       migraine avalox sulfa        2  "
      ]
     },
     "execution_count": 238,
     "metadata": {},
     "output_type": "execute_result"
    }
   ],
   "source": [
    "sym_freq = MODERNA_train[MODERNA_train['CLUSTER'] == 2]\n",
    "sym_freq.head(10)"
   ]
  },
  {
   "cell_type": "markdown",
   "metadata": {
    "id": "iPkEDAbKUFtM"
   },
   "source": [
    "## Symptoms frequency in the cluster "
   ]
  },
  {
   "cell_type": "code",
   "execution_count": 239,
   "metadata": {
    "colab": {
     "base_uri": "https://localhost:8080/"
    },
    "id": "3TJG71IGfsjy",
    "outputId": "632cb1f3-3b97-4e97-a240-58280603bb88"
   },
   "outputs": [
    {
     "data": {
      "text/html": [
       "<div>\n",
       "<style scoped>\n",
       "    .dataframe tbody tr th:only-of-type {\n",
       "        vertical-align: middle;\n",
       "    }\n",
       "\n",
       "    .dataframe tbody tr th {\n",
       "        vertical-align: top;\n",
       "    }\n",
       "\n",
       "    .dataframe thead th {\n",
       "        text-align: right;\n",
       "    }\n",
       "</style>\n",
       "<table border=\"1\" class=\"dataframe\">\n",
       "  <thead>\n",
       "    <tr style=\"text-align: right;\">\n",
       "      <th></th>\n",
       "      <th>Frequency</th>\n",
       "    </tr>\n",
       "  </thead>\n",
       "  <tbody>\n",
       "    <tr>\n",
       "      <th>Headache</th>\n",
       "      <td>700</td>\n",
       "    </tr>\n",
       "    <tr>\n",
       "      <th>Injection site erythema</th>\n",
       "      <td>578</td>\n",
       "    </tr>\n",
       "    <tr>\n",
       "      <th>Pyrexia</th>\n",
       "      <td>559</td>\n",
       "    </tr>\n",
       "    <tr>\n",
       "      <th>Chills</th>\n",
       "      <td>524</td>\n",
       "    </tr>\n",
       "    <tr>\n",
       "      <th>Pain</th>\n",
       "      <td>514</td>\n",
       "    </tr>\n",
       "    <tr>\n",
       "      <th>Fatigue</th>\n",
       "      <td>510</td>\n",
       "    </tr>\n",
       "    <tr>\n",
       "      <th>Nausea</th>\n",
       "      <td>503</td>\n",
       "    </tr>\n",
       "    <tr>\n",
       "      <th>Injection site pain</th>\n",
       "      <td>484</td>\n",
       "    </tr>\n",
       "    <tr>\n",
       "      <th>Injection site swelling</th>\n",
       "      <td>449</td>\n",
       "    </tr>\n",
       "    <tr>\n",
       "      <th>Pain in extremity</th>\n",
       "      <td>427</td>\n",
       "    </tr>\n",
       "    <tr>\n",
       "      <th>Dizziness</th>\n",
       "      <td>352</td>\n",
       "    </tr>\n",
       "    <tr>\n",
       "      <th>Injection site pruritus</th>\n",
       "      <td>334</td>\n",
       "    </tr>\n",
       "    <tr>\n",
       "      <th>Injection site warmth</th>\n",
       "      <td>306</td>\n",
       "    </tr>\n",
       "    <tr>\n",
       "      <th>Myalgia</th>\n",
       "      <td>272</td>\n",
       "    </tr>\n",
       "    <tr>\n",
       "      <th>Pruritus</th>\n",
       "      <td>255</td>\n",
       "    </tr>\n",
       "  </tbody>\n",
       "</table>\n",
       "</div>"
      ],
      "text/plain": [
       "                         Frequency\n",
       "Headache                       700\n",
       "Injection site erythema        578\n",
       "Pyrexia                        559\n",
       "Chills                         524\n",
       "Pain                           514\n",
       "Fatigue                        510\n",
       "Nausea                         503\n",
       "Injection site pain            484\n",
       "Injection site swelling        449\n",
       "Pain in extremity              427\n",
       "Dizziness                      352\n",
       "Injection site pruritus        334\n",
       "Injection site warmth          306\n",
       "Myalgia                        272\n",
       "Pruritus                       255"
      ]
     },
     "execution_count": 239,
     "metadata": {},
     "output_type": "execute_result"
    }
   ],
   "source": [
    "from itertools import chain\n",
    "from collections import Counter\n",
    "modern_group_sym_fre = pd.Series(Counter(chain.from_iterable(\n",
    "    sym_freq.SYMPTOMS.dropna()))).sort_values(ascending=False).head(15).to_frame()\n",
    "modern_group_sym_fre.columns = ['Frequency']\n",
    "modern_group_sym_fre"
   ]
  },
  {
   "cell_type": "markdown",
   "metadata": {},
   "source": [
    "## ELBOW METHOD\n",
    "\n",
    "k = [x for x in range(5,50) if x%5==0]\n"
   ]
  },
  {
   "cell_type": "markdown",
   "metadata": {},
   "source": [
    "wss=[]\n",
    "for i in k:\n",
    "    print(i)\n",
    "    kmeans=KMeans(n_clusters=i, init='k-means++')\n",
    "    kmeans=kmeans.fit(moderna_vector)\n",
    "    wss_iter=kmeans.inertia_\n",
    "    wss.append(wss_iter)"
   ]
  },
  {
   "cell_type": "markdown",
   "metadata": {},
   "source": [
    "elbow=pd.DataFrame({'#Cluster':k , 'WSS': wss})"
   ]
  },
  {
   "cell_type": "markdown",
   "metadata": {},
   "source": [
    "elbow"
   ]
  },
  {
   "cell_type": "markdown",
   "metadata": {},
   "source": [
    "import seaborn as sns \n",
    "from matplotlib import pyplot as plt\n",
    "sns.scatterplot(x=elbow['#Cluster'], y=elbow['WSS'], marker=\"+\")"
   ]
  },
  {
   "cell_type": "markdown",
   "metadata": {
    "id": "-dsHEbGRTTik"
   },
   "source": [
    "from sklearn.decomposition import PCA\n",
    "pca = PCA(n_components=2)\n",
    "pca_components=pca.fit_transform(moderna_vector)\n",
    "pca_components=pd.DataFrame(pca_components, columns =['component1','component2'])\n",
    "pca_components['cluster']=kmeans.labels_"
   ]
  },
  {
   "cell_type": "markdown",
   "metadata": {},
   "source": [
    "pca_components"
   ]
  },
  {
   "cell_type": "markdown",
   "metadata": {},
   "source": [
    "\n",
    "fig, ax = plt.subplots(figsize=(20,20))\n",
    "sns.scatterplot(x=pca_components['component1'],y=pca_components['component2'], hue= pca_components['cluster'],ax=ax)\n"
   ]
  },
  {
   "cell_type": "code",
   "execution_count": null,
   "metadata": {},
   "outputs": [],
   "source": []
  },
  {
   "cell_type": "markdown",
   "metadata": {},
   "source": [
    "## Pftzer : How many instances belong to each cluster"
   ]
  },
  {
   "cell_type": "code",
   "execution_count": 240,
   "metadata": {},
   "outputs": [
    {
     "data": {
      "text/plain": [
       "CLUSTER\n",
       "5        2\n",
       "7        4\n",
       "21       4\n",
       "20       4\n",
       "33       9\n",
       "27      10\n",
       "25      20\n",
       "22      34\n",
       "31      39\n",
       "36      43\n",
       "18      48\n",
       "23      51\n",
       "12      54\n",
       "16      57\n",
       "24      61\n",
       "39      80\n",
       "13      83\n",
       "28      85\n",
       "38      92\n",
       "32      94\n",
       "29     110\n",
       "17     112\n",
       "37     113\n",
       "26     117\n",
       "10     163\n",
       "6      170\n",
       "30     173\n",
       "15     179\n",
       "8      223\n",
       "34     224\n",
       "35     261\n",
       "9      477\n",
       "14     494\n",
       "19     704\n",
       "1      882\n",
       "3     1145\n",
       "11    1261\n",
       "4     2218\n",
       "0     2615\n",
       "2     2955\n",
       "Name: VAERS_ID, dtype: int64"
      ]
     },
     "execution_count": 240,
     "metadata": {},
     "output_type": "execute_result"
    }
   ],
   "source": [
    "PFIZER_train.groupby(by='CLUSTER')['VAERS_ID'].agg('count').sort_values()"
   ]
  },
  {
   "cell_type": "markdown",
   "metadata": {},
   "source": [
    "##  cluster detail"
   ]
  },
  {
   "cell_type": "code",
   "execution_count": 241,
   "metadata": {},
   "outputs": [
    {
     "data": {
      "text/html": [
       "<div>\n",
       "<style scoped>\n",
       "    .dataframe tbody tr th:only-of-type {\n",
       "        vertical-align: middle;\n",
       "    }\n",
       "\n",
       "    .dataframe tbody tr th {\n",
       "        vertical-align: top;\n",
       "    }\n",
       "\n",
       "    .dataframe thead th {\n",
       "        text-align: right;\n",
       "    }\n",
       "</style>\n",
       "<table border=\"1\" class=\"dataframe\">\n",
       "  <thead>\n",
       "    <tr style=\"text-align: right;\">\n",
       "      <th></th>\n",
       "      <th>VAERS_ID</th>\n",
       "      <th>AGE_YRS</th>\n",
       "      <th>SEX</th>\n",
       "      <th>CUR_ILL</th>\n",
       "      <th>HISTORY</th>\n",
       "      <th>ALLERGIES</th>\n",
       "      <th>VAX_NAME</th>\n",
       "      <th>SYMPTOMS</th>\n",
       "      <th>AGE_CAT</th>\n",
       "      <th>HEALTH_CONDITION</th>\n",
       "      <th>CLUSTER</th>\n",
       "    </tr>\n",
       "  </thead>\n",
       "  <tbody>\n",
       "    <tr>\n",
       "      <th>20377</th>\n",
       "      <td>985635</td>\n",
       "      <td>72.0</td>\n",
       "      <td>F</td>\n",
       "      <td></td>\n",
       "      <td>anxiety; chronic bronchitis; high cholesterol...</td>\n",
       "      <td></td>\n",
       "      <td>PFIZER</td>\n",
       "      <td>[Chest discomfort, Chest pain, Dizziness, Naus...</td>\n",
       "      <td>over_60 yr</td>\n",
       "      <td>anxiety bronchiectasis chloesterol hospitalisa...</td>\n",
       "      <td>4</td>\n",
       "    </tr>\n",
       "    <tr>\n",
       "      <th>19160</th>\n",
       "      <td>960489</td>\n",
       "      <td>99.0</td>\n",
       "      <td>F</td>\n",
       "      <td></td>\n",
       "      <td></td>\n",
       "      <td>azithromycin (swelling)</td>\n",
       "      <td>PFIZER</td>\n",
       "      <td>[Abdominal pain, Back pain, Chest pain, Pain]</td>\n",
       "      <td>over_60 yr</td>\n",
       "      <td></td>\n",
       "      <td>4</td>\n",
       "    </tr>\n",
       "    <tr>\n",
       "      <th>11822</th>\n",
       "      <td>929130</td>\n",
       "      <td>60.0</td>\n",
       "      <td>F</td>\n",
       "      <td></td>\n",
       "      <td>asthma; diabetic; iodine allergy; latex aller...</td>\n",
       "      <td></td>\n",
       "      <td>PFIZER</td>\n",
       "      <td>[Chills, Fatigue, Rash, Urticaria]</td>\n",
       "      <td>over_60 yr</td>\n",
       "      <td>iodine alergies latex rubber sensitivity alerg...</td>\n",
       "      <td>4</td>\n",
       "    </tr>\n",
       "    <tr>\n",
       "      <th>25512</th>\n",
       "      <td>1046652</td>\n",
       "      <td>72.0</td>\n",
       "      <td>F</td>\n",
       "      <td></td>\n",
       "      <td>dyslipidemia, stress/urge incontinences</td>\n",
       "      <td></td>\n",
       "      <td>PFIZER</td>\n",
       "      <td>[Headache, Paraesthesia]</td>\n",
       "      <td>over_60 yr</td>\n",
       "      <td>dyslipidemia incontinence</td>\n",
       "      <td>4</td>\n",
       "    </tr>\n",
       "    <tr>\n",
       "      <th>34536</th>\n",
       "      <td>1108469</td>\n",
       "      <td>78.0</td>\n",
       "      <td>F</td>\n",
       "      <td></td>\n",
       "      <td></td>\n",
       "      <td></td>\n",
       "      <td>PFIZER</td>\n",
       "      <td>[Death, General physical health deterioration]</td>\n",
       "      <td>over_60 yr</td>\n",
       "      <td></td>\n",
       "      <td>4</td>\n",
       "    </tr>\n",
       "  </tbody>\n",
       "</table>\n",
       "</div>"
      ],
      "text/plain": [
       "       VAERS_ID AGE_YRS SEX CUR_ILL  \\\n",
       "20377    985635    72.0   F           \n",
       "19160    960489    99.0   F           \n",
       "11822    929130    60.0   F           \n",
       "25512   1046652    72.0   F           \n",
       "34536   1108469    78.0   F           \n",
       "\n",
       "                                                 HISTORY  \\\n",
       "20377   anxiety; chronic bronchitis; high cholesterol...   \n",
       "19160                                                      \n",
       "11822   asthma; diabetic; iodine allergy; latex aller...   \n",
       "25512            dyslipidemia, stress/urge incontinences   \n",
       "34536                                                      \n",
       "\n",
       "                     ALLERGIES VAX_NAME  \\\n",
       "20377                            PFIZER   \n",
       "19160  azithromycin (swelling)   PFIZER   \n",
       "11822                            PFIZER   \n",
       "25512                            PFIZER   \n",
       "34536                            PFIZER   \n",
       "\n",
       "                                                SYMPTOMS     AGE_CAT  \\\n",
       "20377  [Chest discomfort, Chest pain, Dizziness, Naus...  over_60 yr   \n",
       "19160      [Abdominal pain, Back pain, Chest pain, Pain]  over_60 yr   \n",
       "11822                 [Chills, Fatigue, Rash, Urticaria]  over_60 yr   \n",
       "25512                           [Headache, Paraesthesia]  over_60 yr   \n",
       "34536     [Death, General physical health deterioration]  over_60 yr   \n",
       "\n",
       "                                        HEALTH_CONDITION  CLUSTER  \n",
       "20377  anxiety bronchiectasis chloesterol hospitalisa...        4  \n",
       "19160                                                           4  \n",
       "11822  iodine alergies latex rubber sensitivity alerg...        4  \n",
       "25512                          dyslipidemia incontinence        4  \n",
       "34536                                                           4  "
      ]
     },
     "execution_count": 241,
     "metadata": {},
     "output_type": "execute_result"
    }
   ],
   "source": [
    "sym_freq = PFIZER_train[PFIZER_train['CLUSTER'] == 4]\n",
    "sym_freq.head()"
   ]
  },
  {
   "cell_type": "markdown",
   "metadata": {},
   "source": [
    "### Symptoms frequency in the cluster"
   ]
  },
  {
   "cell_type": "code",
   "execution_count": 242,
   "metadata": {},
   "outputs": [
    {
     "data": {
      "text/plain": [
       "Headache                    403\n",
       "Fatigue                     280\n",
       "Chills                      276\n",
       "Nausea                      272\n",
       "Pyrexia                     257\n",
       "Death                       251\n",
       "Pain                        238\n",
       "Dizziness                   235\n",
       "Dyspnoea                    197\n",
       "Pain in extremity           177\n",
       "Asthenia                    145\n",
       "Vomiting                    139\n",
       "Diarrhoea                   119\n",
       "Malaise                     113\n",
       "Arthralgia                  107\n",
       "Myalgia                     106\n",
       "SARS-CoV-2 test positive     97\n",
       "Pruritus                     96\n",
       "Rash                         88\n",
       "COVID-19                     85\n",
       "Feeling abnormal             83\n",
       "Cough                        81\n",
       "Injection site pain          77\n",
       "Chest pain                   69\n",
       "SARS-CoV-2 test negative     67\n",
       "Paraesthesia                 67\n",
       "Condition aggravated         64\n",
       "Vaccination site pain        64\n",
       "SARS-CoV-2 test              63\n",
       "Unresponsive to stimuli      63\n",
       "dtype: int64"
      ]
     },
     "execution_count": 242,
     "metadata": {},
     "output_type": "execute_result"
    }
   ],
   "source": [
    "from itertools import chain\n",
    "from collections import Counter\n",
    "pd.Series(Counter(chain.from_iterable(sym_freq.SYMPTOMS.dropna()))\n",
    "          ).sort_values(ascending=False).head(30)"
   ]
  },
  {
   "cell_type": "markdown",
   "metadata": {},
   "source": [
    "### user input "
   ]
  },
  {
   "cell_type": "code",
   "execution_count": 243,
   "metadata": {},
   "outputs": [],
   "source": [
    "# a New sample\n",
    "letter = \"SHELLFISH\"\n",
    "age = 25\n",
    "sex = 'U'\n",
    "agecat = convertAge(age)\n",
    "new_sample = pd.DataFrame(\n",
    "    {'sex': [sex], 'age_cat': [agecat]}, columns=['age_cat', 'sex'])"
   ]
  },
  {
   "cell_type": "markdown",
   "metadata": {},
   "source": [
    "### Vectorize user input for Moderna & Pfizer kmeans prediction"
   ]
  },
  {
   "cell_type": "code",
   "execution_count": 244,
   "metadata": {},
   "outputs": [],
   "source": [
    "def get_prediction(new_sample, vectorizer, model):\n",
    "    # one hot encode [sex, age_cat]\n",
    "    sample_dummi = vectorizer.get(\"ohe\").transform(\n",
    "        new_sample[['SEX', 'AGE_CAT']])\n",
    "    sample_dummi = pd.DataFrame(sample_dummi.toarray(\n",
    "    ), columns=vectorizer.get(\"ohe\").get_feature_names())\n",
    "\n",
    "    # vectorize the new sample\n",
    "\n",
    "    sample_tfidf = vectorizer.get(\"tfidf\").transform(\n",
    "        new_sample['HEALTH_CONDITION'])\n",
    "    sample_tfidf = pd.DataFrame(sample_tfidf.toarray(\n",
    "    ), columns=vectorizer.get(\"tfidf\").get_feature_names())\n",
    "\n",
    "    # combine tfidf and dummie to one df and use it as a parameter for the kmeans prediction\n",
    "    sampleData = pd.concat([sample_dummi, sample_tfidf], axis=1)\n",
    "\n",
    "    prediction = model.predict(sampleData)\n",
    "    return prediction"
   ]
  },
  {
   "cell_type": "code",
   "execution_count": 249,
   "metadata": {},
   "outputs": [],
   "source": [
    "def get_top10_sym_per_cluster(data_train, number_cluster):\n",
    "    data_by_cluster = {}\n",
    "    for i in range(N_CLUSTER):\n",
    "        cluster = data_train[data_train['CLUSTER'] == i]\n",
    "        cluster = pd.Series(Counter(chain.from_iterable(\n",
    "            cluster.SYMPTOMS.dropna()))).sort_values(ascending=False).head(10).to_frame()\n",
    "        cluster.reset_index()\n",
    "        cluster.columns = ['qty']\n",
    "        data_by_cluster[i] = cluster\n",
    "    return data_by_cluster\n",
    "\n",
    "\n",
    "def get_symptom_accuracy_count(data_test, top_10symp_by_cluster):\n",
    "    MATCHING = []\n",
    "    for index, row in data_test.iterrows():\n",
    "        count = 0\n",
    "        for word in row['SYMPTOMS']:\n",
    "            if word in top_10symp_by_cluster.get(row.PREDICTION).index.tolist():\n",
    "                count = count+1\n",
    "        MATCHING.append(count/len(row['SYMPTOMS']))\n",
    "\n",
    "    data_test['MATCHING'] = MATCHING\n",
    "    return MODERNA_test"
   ]
  },
  {
   "cell_type": "code",
   "execution_count": 246,
   "metadata": {},
   "outputs": [
    {
     "ename": "AttributeError",
     "evalue": "'NoneType' object has no attribute 'index'",
     "output_type": "error",
     "traceback": [
      "\u001b[1;31m---------------------------------------------------------------------------\u001b[0m",
      "\u001b[1;31mAttributeError\u001b[0m                            Traceback (most recent call last)",
      "\u001b[1;32m<ipython-input-246-8db2d382a782>\u001b[0m in \u001b[0;36m<module>\u001b[1;34m\u001b[0m\n\u001b[0;32m     14\u001b[0m \u001b[1;33m\u001b[0m\u001b[0m\n\u001b[0;32m     15\u001b[0m \u001b[1;31m# for each instance in the test set, find out how many of its symptoms are matching with the top 10 symptoms of the same cluster in the training set\u001b[0m\u001b[1;33m\u001b[0m\u001b[1;33m\u001b[0m\u001b[1;33m\u001b[0m\u001b[0m\n\u001b[1;32m---> 16\u001b[1;33m \u001b[0mMODERNA_test\u001b[0m \u001b[1;33m=\u001b[0m \u001b[0mget_symptom_accuracy_count\u001b[0m\u001b[1;33m(\u001b[0m\u001b[0mMODERNA_test\u001b[0m\u001b[1;33m,\u001b[0m \u001b[0mtop10_symp_moderna\u001b[0m\u001b[1;33m)\u001b[0m\u001b[1;33m\u001b[0m\u001b[1;33m\u001b[0m\u001b[0m\n\u001b[0m\u001b[0;32m     17\u001b[0m \u001b[0mPFIZER_test\u001b[0m \u001b[1;33m=\u001b[0m \u001b[0mget_symptom_accuracy_count\u001b[0m\u001b[1;33m(\u001b[0m\u001b[0mPFIZER_test\u001b[0m\u001b[1;33m,\u001b[0m \u001b[0mtop10_symp_pfizer\u001b[0m\u001b[1;33m)\u001b[0m\u001b[1;33m\u001b[0m\u001b[1;33m\u001b[0m\u001b[0m\n",
      "\u001b[1;32m<ipython-input-245-a60a157545fe>\u001b[0m in \u001b[0;36mget_symptom_accuracy_count\u001b[1;34m(data_test, top_10symp_by_cluster)\u001b[0m\n\u001b[0;32m     16\u001b[0m         \u001b[0mcount\u001b[0m \u001b[1;33m=\u001b[0m \u001b[1;36m0\u001b[0m\u001b[1;33m\u001b[0m\u001b[1;33m\u001b[0m\u001b[0m\n\u001b[0;32m     17\u001b[0m         \u001b[1;32mfor\u001b[0m \u001b[0mword\u001b[0m \u001b[1;32min\u001b[0m \u001b[0mrow\u001b[0m\u001b[1;33m[\u001b[0m\u001b[1;34m'SYMPTOMS'\u001b[0m\u001b[1;33m]\u001b[0m\u001b[1;33m:\u001b[0m\u001b[1;33m\u001b[0m\u001b[1;33m\u001b[0m\u001b[0m\n\u001b[1;32m---> 18\u001b[1;33m             \u001b[1;32mif\u001b[0m \u001b[0mword\u001b[0m \u001b[1;32min\u001b[0m \u001b[0mtop_10symp_by_cluster\u001b[0m\u001b[1;33m.\u001b[0m\u001b[0mget\u001b[0m\u001b[1;33m(\u001b[0m\u001b[0mrow\u001b[0m\u001b[1;33m.\u001b[0m\u001b[0mPREDICTION\u001b[0m\u001b[1;33m)\u001b[0m\u001b[1;33m.\u001b[0m\u001b[0mindex\u001b[0m\u001b[1;33m.\u001b[0m\u001b[0mtolist\u001b[0m\u001b[1;33m(\u001b[0m\u001b[1;33m)\u001b[0m\u001b[1;33m:\u001b[0m\u001b[1;33m\u001b[0m\u001b[1;33m\u001b[0m\u001b[0m\n\u001b[0m\u001b[0;32m     19\u001b[0m                 \u001b[0mcount\u001b[0m \u001b[1;33m=\u001b[0m \u001b[0mcount\u001b[0m\u001b[1;33m+\u001b[0m\u001b[1;36m1\u001b[0m\u001b[1;33m\u001b[0m\u001b[1;33m\u001b[0m\u001b[0m\n\u001b[0;32m     20\u001b[0m         \u001b[0mMATCHING\u001b[0m\u001b[1;33m.\u001b[0m\u001b[0mappend\u001b[0m\u001b[1;33m(\u001b[0m\u001b[0mcount\u001b[0m\u001b[1;33m/\u001b[0m\u001b[0mlen\u001b[0m\u001b[1;33m(\u001b[0m\u001b[0mrow\u001b[0m\u001b[1;33m[\u001b[0m\u001b[1;34m'SYMPTOMS'\u001b[0m\u001b[1;33m]\u001b[0m\u001b[1;33m)\u001b[0m\u001b[1;33m)\u001b[0m\u001b[1;33m\u001b[0m\u001b[1;33m\u001b[0m\u001b[0m\n",
      "\u001b[1;31mAttributeError\u001b[0m: 'NoneType' object has no attribute 'index'"
     ]
    }
   ],
   "source": [
    "# make a copy of the test sets\n",
    "MODERNA_test = MODERNA_test.copy()\n",
    "PFIZER_test = PFIZER_test.copy()\n",
    "\n",
    "# get cluster labels for the test sets\n",
    "MODERNA_test['PREDICTION'] = get_prediction(\n",
    "    MODERNA_test, moderna_vectorizer, kmeans_MODERNA)\n",
    "PFIZER_test['PREDICTION'] = get_prediction(\n",
    "    PFIZER_test, pfizer_vectorizer, kmeans_PFIZER)\n",
    "\n",
    "# get the 10 symptoms of each cluster in the training sets and store them in dictionaries\n",
    "top10_symp_moderna = get_top10_sym_per_cluster(MODERNA_train, N_CLUSTER)\n",
    "top10_symp_pfizer = get_top10_sym_per_cluster(PFIZER_train, N_CLUSTER)\n",
    "\n",
    "# for each instance in the test set, find out how many of its symptoms are matching with the top 10 symptoms of the same cluster in the training set\n",
    "MODERNA_test = get_symptom_accuracy_count(MODERNA_test, top10_symp_moderna)\n",
    "PFIZER_test = get_symptom_accuracy_count(PFIZER_test, top10_symp_pfizer)"
   ]
  },
  {
   "cell_type": "code",
   "execution_count": 248,
   "metadata": {},
   "outputs": [
    {
     "data": {
      "text/plain": [
       "{0:                      qty\n",
       " Headache             718\n",
       " Chills               624\n",
       " Pyrexia              575\n",
       " Fatigue              528\n",
       " Pain                 503\n",
       " Nausea               402\n",
       " Dizziness            355\n",
       " Myalgia              314\n",
       " Pain in extremity    247\n",
       " Injection site pain  219,\n",
       " 1:                      qty\n",
       " Headache             194\n",
       " Pyrexia              180\n",
       " Fatigue              165\n",
       " Chills               157\n",
       " Pain                 127\n",
       " Myalgia               89\n",
       " Nausea                83\n",
       " Dizziness             82\n",
       " Pain in extremity     66\n",
       " Injection site pain   60,\n",
       " 2:                    qty\n",
       " Headache           861\n",
       " Fatigue            556\n",
       " Pain               547\n",
       " Chills             544\n",
       " Pyrexia            530\n",
       " Nausea             456\n",
       " Dizziness          400\n",
       " Pain in extremity  318\n",
       " Myalgia            270\n",
       " Arthralgia         255,\n",
       " 3:                           qty\n",
       " SARS-CoV-2 test positive  218\n",
       " COVID-19                  164\n",
       " Headache                  160\n",
       " Pain                      110\n",
       " Pyrexia                   102\n",
       " Fatigue                    94\n",
       " Chills                     90\n",
       " SARS-CoV-2 test            87\n",
       " Pain in extremity          86\n",
       " Nausea                     73,\n",
       " 4:                    qty\n",
       " Headache           403\n",
       " Fatigue            280\n",
       " Chills             276\n",
       " Nausea             272\n",
       " Pyrexia            257\n",
       " Death              251\n",
       " Pain               238\n",
       " Dizziness          235\n",
       " Dyspnoea           197\n",
       " Pain in extremity  177,\n",
       " 5:                           qty\n",
       " Death                       2\n",
       " Breath sounds abnormal      1\n",
       " Hypoxia                     1\n",
       " Pulmonary congestion        1\n",
       " SARS-CoV-2 test negative    1\n",
       " Feeling abnormal            1\n",
       " Unresponsive to stimuli     1,\n",
       " 6:                           qty\n",
       " Headache                   44\n",
       " SARS-CoV-2 test positive   25\n",
       " Pain in extremity          24\n",
       " Pain                       23\n",
       " Fatigue                    23\n",
       " Chills                     21\n",
       " Pyrexia                    21\n",
       " Dizziness                  19\n",
       " COVID-19                   18\n",
       " SARS-CoV-2 test            14,\n",
       " 7:                                      qty\n",
       " Body temperature                       1\n",
       " Muscular weakness                      1\n",
       " Magnetic resonance imaging head        1\n",
       " Influenza like illness                 1\n",
       " Fatigue                                1\n",
       " Deafness unilateral                    1\n",
       " Acoustic stimulation tests abnormal    1\n",
       " Paraesthesia                           1\n",
       " Dyspnoea exertional                    1\n",
       " Pain                                   1,\n",
       " 8:                           qty\n",
       " Death                      61\n",
       " Asthenia                   26\n",
       " Pyrexia                    24\n",
       " Fatigue                    24\n",
       " Dyspnoea                   21\n",
       " Headache                   20\n",
       " SARS-CoV-2 test positive   19\n",
       " Chills                     16\n",
       " COVID-19                   16\n",
       " Unresponsive to stimuli    14,\n",
       " 9:                           qty\n",
       " SARS-CoV-2 test positive  162\n",
       " COVID-19                  109\n",
       " Headache                   37\n",
       " Fatigue                    32\n",
       " Pyrexia                    31\n",
       " Drug ineffective           30\n",
       " SARS-CoV-2 test            27\n",
       " Pain                       26\n",
       " Pain in extremity          24\n",
       " Chills                     20,\n",
       " 10:                    qty\n",
       " Headache            28\n",
       " Fatigue             23\n",
       " Chills              22\n",
       " Pyrexia             21\n",
       " Pain                17\n",
       " Dizziness           16\n",
       " Nausea              15\n",
       " Death               13\n",
       " Pain in extremity   12\n",
       " Vomiting            11,\n",
       " 11:                           qty\n",
       " Death                     228\n",
       " Pyrexia                   156\n",
       " Fatigue                   120\n",
       " Headache                  120\n",
       " Dyspnoea                  109\n",
       " Asthenia                  101\n",
       " Chills                     97\n",
       " SARS-CoV-2 test positive   90\n",
       " Dizziness                  90\n",
       " Pain                       83,\n",
       " 12:                    qty\n",
       " Pyrexia             16\n",
       " Chills              15\n",
       " Headache            15\n",
       " Fatigue             14\n",
       " Pain in extremity   10\n",
       " Pain                10\n",
       " Dizziness            8\n",
       " Paraesthesia         8\n",
       " Nausea               7\n",
       " Myalgia              6,\n",
       " 13:                      qty\n",
       " Pain                  23\n",
       " Headache              23\n",
       " Fatigue               20\n",
       " Chills                19\n",
       " Pyrexia               17\n",
       " Dizziness             13\n",
       " Nausea                13\n",
       " Arthralgia            12\n",
       " Myalgia               10\n",
       " Injection site pain    9,\n",
       " 14:                           qty\n",
       " SARS-CoV-2 test positive  116\n",
       " COVID-19                   98\n",
       " SARS-CoV-2 test            55\n",
       " Drug ineffective           45\n",
       " Pyrexia                    44\n",
       " Chills                     43\n",
       " Headache                   43\n",
       " Pain in extremity          34\n",
       " Malaise                    33\n",
       " Fatigue                    30}"
      ]
     },
     "execution_count": 248,
     "metadata": {},
     "output_type": "execute_result"
    }
   ],
   "source": [
    "top10_symp_pfizer"
   ]
  },
  {
   "cell_type": "code",
   "execution_count": null,
   "metadata": {},
   "outputs": [],
   "source": [
    "print(MODERNA_test['MATCHING'].mean())\n",
    "print(PFIZER_test['MATCHING'].mean())"
   ]
  },
  {
   "cell_type": "code",
   "execution_count": null,
   "metadata": {},
   "outputs": [],
   "source": [
    "from joblib import dump\n",
    "dump(kmeans_MODERNA, 'kmeans_MODERNA_model.joblib')\n",
    "dump(kmeans_PFIZER, 'kmeans_PFIZER_model.joblib')\n",
    "dump(moderna_vectorizer.get('ohe'), 'onehotendcoder_moderna.joblib')\n",
    "dump(pfizer_vectorizer.get(\"ohe\"), 'onehotendcoder_pfizer.joblib')\n",
    "dump(moderna_vectorizer.get('tfidf'), 'tfidf_vectorizer_moderna.joblib')\n",
    "dump(pfizer_vectorizer.get(\"tfidf\"), 'tfidf_vectorizer_pfizer.joblib')"
   ]
  },
  {
   "cell_type": "code",
   "execution_count": null,
   "metadata": {},
   "outputs": [],
   "source": [
    "MODERNA_train.to_pickle(\"MODERNA_DF.pkl\")\n",
    "PFIZER_train.to_pickle(\"PFIZER_DF.pkl\")"
   ]
  },
  {
   "cell_type": "code",
   "execution_count": null,
   "metadata": {},
   "outputs": [],
   "source": [
    "df_Moderna = pd.read_pickle(\"MODERNA_DF.pkl\")\n",
    "df_Pfizer = pd.read_pickle(\"PFIZER_DF.pkl\")"
   ]
  },
  {
   "cell_type": "code",
   "execution_count": null,
   "metadata": {},
   "outputs": [],
   "source": [
    "import joblib\n",
    "MODERNA_model = joblib.load('kmeans_MODERNA_model.joblib')\n",
    "PFIZER_model = joblib.load('kmeans_PFIZER_model.joblib')\n",
    "onehot_moderna = joblib.load('onehotendcoder_moderna.joblib')\n",
    "onehot_pfizer = joblib.load('onehotendcoder_pfizer.joblib')\n",
    "tfidf_enc_moderna = joblib.load('tfidf_vectorizer_moderna.joblib')\n",
    "tfidf_enc_pfizer = joblib.load('tfidf_vectorizer_pfizer.joblib')"
   ]
  },
  {
   "cell_type": "markdown",
   "metadata": {},
   "source": [
    "## Testing after loaded the saved models using joblib"
   ]
  },
  {
   "cell_type": "code",
   "execution_count": null,
   "metadata": {},
   "outputs": [],
   "source": [
    "# one hot encode using Moderna OHE\n",
    "test_sample_dummi_MODERNA = onehot_moderna.transform(\n",
    "    new_sample[['sex', 'age_cat']])\n",
    "test_sample_dummi_MODERNA = pd.DataFrame(\n",
    "    test_sample_dummi_MODERNA.toarray(), columns=onehot_moderna.get_feature_names())\n",
    "\n",
    "# vectorize the new sample\n",
    "\n",
    "test_sample_tfidf_MODERNA = tfidf_enc_moderna.transform([letter])\n",
    "test_sample_tfidf_MODERNA = pd.DataFrame(\n",
    "    test_sample_tfidf_MODERNA.toarray(), columns=tfidf_enc_moderna.get_feature_names())\n",
    "\n",
    "# combine tfidf and dummie to one df and use it as a parameter for the kmeans prediction\n",
    "test_sampleData_MODERNA = pd.concat(\n",
    "    [test_sample_dummi_MODERNA, test_sample_tfidf_MODERNA], axis=1)\n",
    "MODERNA_model.predict(test_sampleData_MODERNA)"
   ]
  },
  {
   "cell_type": "code",
   "execution_count": null,
   "metadata": {},
   "outputs": [],
   "source": [
    "# one hot encode using Moderna OHE\n",
    "test_sample_dummi_PFIZER = onehot_pfizer.transform(\n",
    "    new_sample[['sex', 'age_cat']])\n",
    "test_sample_dummi_PFIZER = pd.DataFrame(\n",
    "    test_sample_dummi_PFIZER.toarray(), columns=onehot_pfizer.get_feature_names())\n",
    "\n",
    "# vectorize the new sample\n",
    "\n",
    "test_sample_tfidf_PFIZER = tfidf_enc_pfizer.transform([letter])\n",
    "test_sample_tfidf_PFIZER = pd.DataFrame(\n",
    "    test_sample_tfidf_PFIZER.toarray(), columns=tfidf_enc_pfizer.get_feature_names())\n",
    "\n",
    "# combine tfidf and dummie to one df and use it as a parameter for the kmeans prediction\n",
    "test_sampleData_PFIZER = pd.concat(\n",
    "    [test_sample_dummi_PFIZER, test_sample_tfidf_PFIZER], axis=1)\n",
    "PFIZER_model.predict(test_sampleData_PFIZER)"
   ]
  },
  {
   "cell_type": "code",
   "execution_count": null,
   "metadata": {},
   "outputs": [],
   "source": []
  },
  {
   "cell_type": "code",
   "execution_count": null,
   "metadata": {},
   "outputs": [],
   "source": [
    "pd.Series(Counter(chain.from_iterable(MODERNA['SYMPTOMS'].dropna()))).sort_values(\n",
    "    ascending=False).head(30)"
   ]
  },
  {
   "cell_type": "code",
   "execution_count": null,
   "metadata": {},
   "outputs": [],
   "source": [
    "dd = pd.Series(Counter(chain.from_iterable(PFIZER.SYMPTOMS.dropna()))\n",
    "               ).sort_values(ascending=False).head(10).to_frame()\n",
    "dd.columns = [\"PFIZER\"]\n",
    "dd"
   ]
  },
  {
   "cell_type": "code",
   "execution_count": null,
   "metadata": {},
   "outputs": [],
   "source": [
    "MO = MODERNA['AGE_CAT'].value_counts().to_frame()\n",
    "MO.columns = [\"MODERNA\"]\n",
    "PF = PFIZER['AGE_CAT'].value_counts().to_frame()\n",
    "PF.columns = [\"PFIZER\"]\n",
    "#pd.options.display.float_format = '{:,.0f}'.format\n",
    "dd = pd.concat([MO, PF], axis=1).fillna(0)\n",
    "dd.loc['Total', :] = dd.sum(axis=0)"
   ]
  },
  {
   "cell_type": "code",
   "execution_count": null,
   "metadata": {},
   "outputs": [],
   "source": [
    "dd"
   ]
  },
  {
   "cell_type": "code",
   "execution_count": null,
   "metadata": {},
   "outputs": [],
   "source": []
  },
  {
   "cell_type": "code",
   "execution_count": null,
   "metadata": {},
   "outputs": [],
   "source": [
    "MO_de_relate = MODERNA[MODERNA['SYMPTOMS'].apply(lambda x: 'Death' in x)].groupby(\n",
    "    by=['AGE_CAT'])['VAERS_ID'].count().to_frame()\n",
    "MO_de_relate.columns = ['MODERNA(#death)']"
   ]
  },
  {
   "cell_type": "code",
   "execution_count": null,
   "metadata": {},
   "outputs": [],
   "source": [
    "Pf_de_relate = PFIZER[PFIZER['SYMPTOMS'].apply(lambda x: 'Death' in x)].groupby(\n",
    "    by=['AGE_CAT'])['VAERS_ID'].count().to_frame()\n",
    "Pf_de_relate.columns = ['PFIZER(#death)']\n",
    "Pf_de_relate.sort_values(by='PFIZER(#death)', ascending=False)\n",
    "de = pd.concat([MO_de_relate, Pf_de_relate], axis=1).fillna(0)\n",
    "de.loc['Total', :] = de.sum(axis=0)\n",
    "summ = pd.concat([dd, de], axis=1).fillna(0)\n",
    "\n",
    "\n",
    "summ"
   ]
  },
  {
   "cell_type": "code",
   "execution_count": null,
   "metadata": {},
   "outputs": [],
   "source": []
  },
  {
   "cell_type": "code",
   "execution_count": null,
   "metadata": {},
   "outputs": [],
   "source": []
  },
  {
   "cell_type": "code",
   "execution_count": null,
   "metadata": {},
   "outputs": [],
   "source": []
  }
 ],
 "metadata": {
  "colab": {
   "collapsed_sections": [],
   "name": "Untitled0.ipynb",
   "provenance": []
  },
  "kernelspec": {
   "display_name": "Python 3",
   "language": "python",
   "name": "python3"
  },
  "language_info": {
   "codemirror_mode": {
    "name": "ipython",
    "version": 3
   },
   "file_extension": ".py",
   "mimetype": "text/x-python",
   "name": "python",
   "nbconvert_exporter": "python",
   "pygments_lexer": "ipython3",
   "version": "3.8.8"
  }
 },
 "nbformat": 4,
 "nbformat_minor": 1
}
