{
 "cells": [
  {
   "cell_type": "markdown",
   "metadata": {
    "id": "VbSU0AiHWgpp"
   },
   "source": [
    "## Setup"
   ]
  },
  {
   "cell_type": "code",
   "execution_count": 1,
   "metadata": {
    "colab": {
     "base_uri": "https://localhost:8080/"
    },
    "id": "mvwof9QrUUye",
    "outputId": "46b5dcdb-7e5f-49b6-9812-88e384923835"
   },
   "outputs": [
    {
     "name": "stderr",
     "output_type": "stream",
     "text": [
      "C:\\Users\\zelon\\anaconda3\\lib\\site-packages\\IPython\\core\\interactiveshell.py:3165: DtypeWarning: Columns (7,12,23) have mixed types.Specify dtype option on import or set low_memory=False.\n",
      "  has_raised = await self.run_ast_nodes(code_ast.body, cell_name,\n"
     ]
    }
   ],
   "source": [
    "import pandas as pd\n",
    "patient_history=pd.read_csv('./vaccine reaction/2021VAERSDATA.CSV', sep=',', encoding='ISO-8859-1')\n",
    "patient_sympt=pd.read_csv('./vaccine reaction/2021VAERSSYMPTOMS.CSV', sep=',',encoding='ISO-8859-1')\n",
    "patient_vac=pd.read_csv('./vaccine reaction/2021VAERSVAX.CSV', sep=',',encoding='ISO-8859-1')"
   ]
  },
  {
   "cell_type": "code",
   "execution_count": 2,
   "metadata": {
    "id": "PGx220reVUls"
   },
   "outputs": [],
   "source": [
    "\n",
    "from sklearn.feature_extraction.text import TfidfVectorizer\n",
    "from sklearn.pipeline import Pipeline\n",
    "from sklearn.preprocessing import MultiLabelBinarizer\n",
    "from sklearn.model_selection import train_test_split\n",
    "pd.set_option(\"display.max_rows\", 1000)"
   ]
  },
  {
   "cell_type": "code",
   "execution_count": 3,
   "metadata": {
    "colab": {
     "base_uri": "https://localhost:8080/",
     "height": 284
    },
    "id": "_FVXrNlaWRIU",
    "outputId": "2e9c3b99-9a8d-4a71-8c71-214cc1456680"
   },
   "outputs": [
    {
     "data": {
      "text/html": [
       "<div>\n",
       "<style scoped>\n",
       "    .dataframe tbody tr th:only-of-type {\n",
       "        vertical-align: middle;\n",
       "    }\n",
       "\n",
       "    .dataframe tbody tr th {\n",
       "        vertical-align: top;\n",
       "    }\n",
       "\n",
       "    .dataframe thead th {\n",
       "        text-align: right;\n",
       "    }\n",
       "</style>\n",
       "<table border=\"1\" class=\"dataframe\">\n",
       "  <thead>\n",
       "    <tr style=\"text-align: right;\">\n",
       "      <th></th>\n",
       "      <th>VAERS_ID</th>\n",
       "      <th>RECVDATE</th>\n",
       "      <th>STATE</th>\n",
       "      <th>AGE_YRS</th>\n",
       "      <th>CAGE_YR</th>\n",
       "      <th>CAGE_MO</th>\n",
       "      <th>SEX</th>\n",
       "      <th>RPT_DATE</th>\n",
       "      <th>SYMPTOM_TEXT</th>\n",
       "      <th>DIED</th>\n",
       "      <th>...</th>\n",
       "      <th>CUR_ILL</th>\n",
       "      <th>HISTORY</th>\n",
       "      <th>PRIOR_VAX</th>\n",
       "      <th>SPLTTYPE</th>\n",
       "      <th>FORM_VERS</th>\n",
       "      <th>TODAYS_DATE</th>\n",
       "      <th>BIRTH_DEFECT</th>\n",
       "      <th>OFC_VISIT</th>\n",
       "      <th>ER_ED_VISIT</th>\n",
       "      <th>ALLERGIES</th>\n",
       "    </tr>\n",
       "  </thead>\n",
       "  <tbody>\n",
       "    <tr>\n",
       "      <th>34116</th>\n",
       "      <td>1113917</td>\n",
       "      <td>03/19/2021</td>\n",
       "      <td>FL</td>\n",
       "      <td>88.0</td>\n",
       "      <td>87.0</td>\n",
       "      <td>NaN</td>\n",
       "      <td>F</td>\n",
       "      <td>NaN</td>\n",
       "      <td>throat closure three weeks after second dose; ...</td>\n",
       "      <td>NaN</td>\n",
       "      <td>...</td>\n",
       "      <td>NaN</td>\n",
       "      <td>Medical History/Concurrent Conditions: Aortic ...</td>\n",
       "      <td>NaN</td>\n",
       "      <td>USMODERNATX, INC.MOD20210</td>\n",
       "      <td>2</td>\n",
       "      <td>03/12/2021</td>\n",
       "      <td>NaN</td>\n",
       "      <td>NaN</td>\n",
       "      <td>Y</td>\n",
       "      <td>NaN</td>\n",
       "    </tr>\n",
       "    <tr>\n",
       "      <th>34117</th>\n",
       "      <td>1113920</td>\n",
       "      <td>03/19/2021</td>\n",
       "      <td>PA</td>\n",
       "      <td>83.0</td>\n",
       "      <td>NaN</td>\n",
       "      <td>NaN</td>\n",
       "      <td>F</td>\n",
       "      <td>NaN</td>\n",
       "      <td>positive COVID-19 test with no symptoms; Asymp...</td>\n",
       "      <td>NaN</td>\n",
       "      <td>...</td>\n",
       "      <td>NaN</td>\n",
       "      <td>Medical History/Concurrent Conditions: Atrial ...</td>\n",
       "      <td>NaN</td>\n",
       "      <td>USPFIZER INC2021231682</td>\n",
       "      <td>2</td>\n",
       "      <td>03/16/2021</td>\n",
       "      <td>NaN</td>\n",
       "      <td>Y</td>\n",
       "      <td>NaN</td>\n",
       "      <td>NaN</td>\n",
       "    </tr>\n",
       "    <tr>\n",
       "      <th>34118</th>\n",
       "      <td>1113963</td>\n",
       "      <td>03/19/2021</td>\n",
       "      <td>MS</td>\n",
       "      <td>59.0</td>\n",
       "      <td>NaN</td>\n",
       "      <td>NaN</td>\n",
       "      <td>F</td>\n",
       "      <td>NaN</td>\n",
       "      <td>HLH (hemophagocyticlymphohistiocytosis); This ...</td>\n",
       "      <td>Y</td>\n",
       "      <td>...</td>\n",
       "      <td>NaN</td>\n",
       "      <td>Medical History/Concurrent Conditions: Type II...</td>\n",
       "      <td>NaN</td>\n",
       "      <td>USPFIZER INC2021257356</td>\n",
       "      <td>2</td>\n",
       "      <td>03/12/2021</td>\n",
       "      <td>NaN</td>\n",
       "      <td>NaN</td>\n",
       "      <td>NaN</td>\n",
       "      <td>NaN</td>\n",
       "    </tr>\n",
       "    <tr>\n",
       "      <th>34119</th>\n",
       "      <td>1115045</td>\n",
       "      <td>03/19/2021</td>\n",
       "      <td>AZ</td>\n",
       "      <td>57.0</td>\n",
       "      <td>NaN</td>\n",
       "      <td>NaN</td>\n",
       "      <td>M</td>\n",
       "      <td>NaN</td>\n",
       "      <td>Death; A spontaneous report was received from ...</td>\n",
       "      <td>Y</td>\n",
       "      <td>...</td>\n",
       "      <td>NaN</td>\n",
       "      <td>Medical History/Concurrent Conditions: No adve...</td>\n",
       "      <td>NaN</td>\n",
       "      <td>USMODERNATX, INC.MOD20210</td>\n",
       "      <td>2</td>\n",
       "      <td>03/15/2021</td>\n",
       "      <td>NaN</td>\n",
       "      <td>NaN</td>\n",
       "      <td>NaN</td>\n",
       "      <td>NaN</td>\n",
       "    </tr>\n",
       "    <tr>\n",
       "      <th>34120</th>\n",
       "      <td>1115348</td>\n",
       "      <td>03/19/2021</td>\n",
       "      <td>NC</td>\n",
       "      <td>NaN</td>\n",
       "      <td>85.0</td>\n",
       "      <td>NaN</td>\n",
       "      <td>F</td>\n",
       "      <td>NaN</td>\n",
       "      <td>death; A spontaneous report was received from ...</td>\n",
       "      <td>Y</td>\n",
       "      <td>...</td>\n",
       "      <td>NaN</td>\n",
       "      <td>Comments: List of non-encoded Patient Relevant...</td>\n",
       "      <td>NaN</td>\n",
       "      <td>USMODERNATX, INC.MOD20210</td>\n",
       "      <td>2</td>\n",
       "      <td>03/12/2021</td>\n",
       "      <td>NaN</td>\n",
       "      <td>NaN</td>\n",
       "      <td>NaN</td>\n",
       "      <td>NaN</td>\n",
       "    </tr>\n",
       "  </tbody>\n",
       "</table>\n",
       "<p>5 rows × 35 columns</p>\n",
       "</div>"
      ],
      "text/plain": [
       "       VAERS_ID    RECVDATE STATE  AGE_YRS  CAGE_YR  CAGE_MO SEX RPT_DATE  \\\n",
       "34116   1113917  03/19/2021    FL     88.0     87.0      NaN   F      NaN   \n",
       "34117   1113920  03/19/2021    PA     83.0      NaN      NaN   F      NaN   \n",
       "34118   1113963  03/19/2021    MS     59.0      NaN      NaN   F      NaN   \n",
       "34119   1115045  03/19/2021    AZ     57.0      NaN      NaN   M      NaN   \n",
       "34120   1115348  03/19/2021    NC      NaN     85.0      NaN   F      NaN   \n",
       "\n",
       "                                            SYMPTOM_TEXT DIED  ... CUR_ILL  \\\n",
       "34116  throat closure three weeks after second dose; ...  NaN  ...     NaN   \n",
       "34117  positive COVID-19 test with no symptoms; Asymp...  NaN  ...     NaN   \n",
       "34118  HLH (hemophagocyticlymphohistiocytosis); This ...    Y  ...     NaN   \n",
       "34119  Death; A spontaneous report was received from ...    Y  ...     NaN   \n",
       "34120  death; A spontaneous report was received from ...    Y  ...     NaN   \n",
       "\n",
       "                                                 HISTORY PRIOR_VAX  \\\n",
       "34116  Medical History/Concurrent Conditions: Aortic ...       NaN   \n",
       "34117  Medical History/Concurrent Conditions: Atrial ...       NaN   \n",
       "34118  Medical History/Concurrent Conditions: Type II...       NaN   \n",
       "34119  Medical History/Concurrent Conditions: No adve...       NaN   \n",
       "34120  Comments: List of non-encoded Patient Relevant...       NaN   \n",
       "\n",
       "                        SPLTTYPE  FORM_VERS TODAYS_DATE BIRTH_DEFECT  \\\n",
       "34116  USMODERNATX, INC.MOD20210          2  03/12/2021          NaN   \n",
       "34117     USPFIZER INC2021231682          2  03/16/2021          NaN   \n",
       "34118     USPFIZER INC2021257356          2  03/12/2021          NaN   \n",
       "34119  USMODERNATX, INC.MOD20210          2  03/15/2021          NaN   \n",
       "34120  USMODERNATX, INC.MOD20210          2  03/12/2021          NaN   \n",
       "\n",
       "      OFC_VISIT ER_ED_VISIT ALLERGIES  \n",
       "34116       NaN           Y       NaN  \n",
       "34117         Y         NaN       NaN  \n",
       "34118       NaN         NaN       NaN  \n",
       "34119       NaN         NaN       NaN  \n",
       "34120       NaN         NaN       NaN  \n",
       "\n",
       "[5 rows x 35 columns]"
      ]
     },
     "execution_count": 3,
     "metadata": {},
     "output_type": "execute_result"
    }
   ],
   "source": [
    "patient_history.tail()"
   ]
  },
  {
   "cell_type": "code",
   "execution_count": 4,
   "metadata": {},
   "outputs": [
    {
     "data": {
      "text/html": [
       "<div>\n",
       "<style scoped>\n",
       "    .dataframe tbody tr th:only-of-type {\n",
       "        vertical-align: middle;\n",
       "    }\n",
       "\n",
       "    .dataframe tbody tr th {\n",
       "        vertical-align: top;\n",
       "    }\n",
       "\n",
       "    .dataframe thead th {\n",
       "        text-align: right;\n",
       "    }\n",
       "</style>\n",
       "<table border=\"1\" class=\"dataframe\">\n",
       "  <thead>\n",
       "    <tr style=\"text-align: right;\">\n",
       "      <th></th>\n",
       "      <th>VAERS_ID</th>\n",
       "      <th>SYMPTOM1</th>\n",
       "      <th>SYMPTOMVERSION1</th>\n",
       "      <th>SYMPTOM2</th>\n",
       "      <th>SYMPTOMVERSION2</th>\n",
       "      <th>SYMPTOM3</th>\n",
       "      <th>SYMPTOMVERSION3</th>\n",
       "      <th>SYMPTOM4</th>\n",
       "      <th>SYMPTOMVERSION4</th>\n",
       "      <th>SYMPTOM5</th>\n",
       "      <th>SYMPTOMVERSION5</th>\n",
       "    </tr>\n",
       "  </thead>\n",
       "  <tbody>\n",
       "    <tr>\n",
       "      <th>48105</th>\n",
       "      <td>1113920</td>\n",
       "      <td>Nasal discomfort</td>\n",
       "      <td>23.1</td>\n",
       "      <td>Night sweats</td>\n",
       "      <td>23.1</td>\n",
       "      <td>Platelet count</td>\n",
       "      <td>23.1</td>\n",
       "      <td>Platelet count decreased</td>\n",
       "      <td>23.1</td>\n",
       "      <td>Pyrexia</td>\n",
       "      <td>23.1</td>\n",
       "    </tr>\n",
       "    <tr>\n",
       "      <th>48106</th>\n",
       "      <td>1113920</td>\n",
       "      <td>Rash</td>\n",
       "      <td>23.1</td>\n",
       "      <td>SARS-CoV-2 test</td>\n",
       "      <td>23.1</td>\n",
       "      <td>NaN</td>\n",
       "      <td>NaN</td>\n",
       "      <td>NaN</td>\n",
       "      <td>NaN</td>\n",
       "      <td>NaN</td>\n",
       "      <td>NaN</td>\n",
       "    </tr>\n",
       "    <tr>\n",
       "      <th>48107</th>\n",
       "      <td>1113963</td>\n",
       "      <td>Haemophagocytic lymphohistiocytosis</td>\n",
       "      <td>23.1</td>\n",
       "      <td>SARS-CoV-2 test</td>\n",
       "      <td>23.1</td>\n",
       "      <td>NaN</td>\n",
       "      <td>NaN</td>\n",
       "      <td>NaN</td>\n",
       "      <td>NaN</td>\n",
       "      <td>NaN</td>\n",
       "      <td>NaN</td>\n",
       "    </tr>\n",
       "    <tr>\n",
       "      <th>48108</th>\n",
       "      <td>1115045</td>\n",
       "      <td>Death</td>\n",
       "      <td>23.1</td>\n",
       "      <td>NaN</td>\n",
       "      <td>NaN</td>\n",
       "      <td>NaN</td>\n",
       "      <td>NaN</td>\n",
       "      <td>NaN</td>\n",
       "      <td>NaN</td>\n",
       "      <td>NaN</td>\n",
       "      <td>NaN</td>\n",
       "    </tr>\n",
       "    <tr>\n",
       "      <th>48109</th>\n",
       "      <td>1115348</td>\n",
       "      <td>Death</td>\n",
       "      <td>23.1</td>\n",
       "      <td>NaN</td>\n",
       "      <td>NaN</td>\n",
       "      <td>NaN</td>\n",
       "      <td>NaN</td>\n",
       "      <td>NaN</td>\n",
       "      <td>NaN</td>\n",
       "      <td>NaN</td>\n",
       "      <td>NaN</td>\n",
       "    </tr>\n",
       "  </tbody>\n",
       "</table>\n",
       "</div>"
      ],
      "text/plain": [
       "       VAERS_ID                             SYMPTOM1  SYMPTOMVERSION1  \\\n",
       "48105   1113920                     Nasal discomfort             23.1   \n",
       "48106   1113920                                 Rash             23.1   \n",
       "48107   1113963  Haemophagocytic lymphohistiocytosis             23.1   \n",
       "48108   1115045                                Death             23.1   \n",
       "48109   1115348                                Death             23.1   \n",
       "\n",
       "              SYMPTOM2  SYMPTOMVERSION2        SYMPTOM3  SYMPTOMVERSION3  \\\n",
       "48105     Night sweats             23.1  Platelet count             23.1   \n",
       "48106  SARS-CoV-2 test             23.1             NaN              NaN   \n",
       "48107  SARS-CoV-2 test             23.1             NaN              NaN   \n",
       "48108              NaN              NaN             NaN              NaN   \n",
       "48109              NaN              NaN             NaN              NaN   \n",
       "\n",
       "                       SYMPTOM4  SYMPTOMVERSION4 SYMPTOM5  SYMPTOMVERSION5  \n",
       "48105  Platelet count decreased             23.1  Pyrexia             23.1  \n",
       "48106                       NaN              NaN      NaN              NaN  \n",
       "48107                       NaN              NaN      NaN              NaN  \n",
       "48108                       NaN              NaN      NaN              NaN  \n",
       "48109                       NaN              NaN      NaN              NaN  "
      ]
     },
     "execution_count": 4,
     "metadata": {},
     "output_type": "execute_result"
    }
   ],
   "source": [
    "patient_sympt.tail()"
   ]
  },
  {
   "cell_type": "code",
   "execution_count": 5,
   "metadata": {},
   "outputs": [
    {
     "data": {
      "text/html": [
       "<div>\n",
       "<style scoped>\n",
       "    .dataframe tbody tr th:only-of-type {\n",
       "        vertical-align: middle;\n",
       "    }\n",
       "\n",
       "    .dataframe tbody tr th {\n",
       "        vertical-align: top;\n",
       "    }\n",
       "\n",
       "    .dataframe thead th {\n",
       "        text-align: right;\n",
       "    }\n",
       "</style>\n",
       "<table border=\"1\" class=\"dataframe\">\n",
       "  <thead>\n",
       "    <tr style=\"text-align: right;\">\n",
       "      <th></th>\n",
       "      <th>VAERS_ID</th>\n",
       "      <th>VAX_TYPE</th>\n",
       "      <th>VAX_MANU</th>\n",
       "      <th>VAX_LOT</th>\n",
       "      <th>VAX_DOSE_SERIES</th>\n",
       "      <th>VAX_ROUTE</th>\n",
       "      <th>VAX_SITE</th>\n",
       "      <th>VAX_NAME</th>\n",
       "    </tr>\n",
       "  </thead>\n",
       "  <tbody>\n",
       "    <tr>\n",
       "      <th>34625</th>\n",
       "      <td>1113917</td>\n",
       "      <td>COVID19</td>\n",
       "      <td>MODERNA</td>\n",
       "      <td>01120A</td>\n",
       "      <td>1</td>\n",
       "      <td>OT</td>\n",
       "      <td>NaN</td>\n",
       "      <td>COVID19 (COVID19 (MODERNA))</td>\n",
       "    </tr>\n",
       "    <tr>\n",
       "      <th>34626</th>\n",
       "      <td>1113920</td>\n",
       "      <td>COVID19</td>\n",
       "      <td>PFIZER\\BIONTECH</td>\n",
       "      <td>Unknown</td>\n",
       "      <td>1</td>\n",
       "      <td>NaN</td>\n",
       "      <td>NaN</td>\n",
       "      <td>COVID19 (COVID19 (PFIZER-BIONTECH))</td>\n",
       "    </tr>\n",
       "    <tr>\n",
       "      <th>34627</th>\n",
       "      <td>1113963</td>\n",
       "      <td>COVID19</td>\n",
       "      <td>PFIZER\\BIONTECH</td>\n",
       "      <td>EL9264</td>\n",
       "      <td>2</td>\n",
       "      <td>NaN</td>\n",
       "      <td>NaN</td>\n",
       "      <td>COVID19 (COVID19 (PFIZER-BIONTECH))</td>\n",
       "    </tr>\n",
       "    <tr>\n",
       "      <th>34628</th>\n",
       "      <td>1115045</td>\n",
       "      <td>COVID19</td>\n",
       "      <td>MODERNA</td>\n",
       "      <td>NaN</td>\n",
       "      <td>2</td>\n",
       "      <td>OT</td>\n",
       "      <td>NaN</td>\n",
       "      <td>COVID19 (COVID19 (MODERNA))</td>\n",
       "    </tr>\n",
       "    <tr>\n",
       "      <th>34629</th>\n",
       "      <td>1115348</td>\n",
       "      <td>COVID19</td>\n",
       "      <td>MODERNA</td>\n",
       "      <td>026A21A</td>\n",
       "      <td>1</td>\n",
       "      <td>OT</td>\n",
       "      <td>LA</td>\n",
       "      <td>COVID19 (COVID19 (MODERNA))</td>\n",
       "    </tr>\n",
       "  </tbody>\n",
       "</table>\n",
       "</div>"
      ],
      "text/plain": [
       "       VAERS_ID VAX_TYPE         VAX_MANU  VAX_LOT VAX_DOSE_SERIES VAX_ROUTE  \\\n",
       "34625   1113917  COVID19          MODERNA   01120A               1        OT   \n",
       "34626   1113920  COVID19  PFIZER\\BIONTECH  Unknown               1       NaN   \n",
       "34627   1113963  COVID19  PFIZER\\BIONTECH   EL9264               2       NaN   \n",
       "34628   1115045  COVID19          MODERNA      NaN               2        OT   \n",
       "34629   1115348  COVID19          MODERNA  026A21A               1        OT   \n",
       "\n",
       "      VAX_SITE                             VAX_NAME  \n",
       "34625      NaN          COVID19 (COVID19 (MODERNA))  \n",
       "34626      NaN  COVID19 (COVID19 (PFIZER-BIONTECH))  \n",
       "34627      NaN  COVID19 (COVID19 (PFIZER-BIONTECH))  \n",
       "34628      NaN          COVID19 (COVID19 (MODERNA))  \n",
       "34629       LA          COVID19 (COVID19 (MODERNA))  "
      ]
     },
     "execution_count": 5,
     "metadata": {},
     "output_type": "execute_result"
    }
   ],
   "source": [
    "patient_vac.tail()\n"
   ]
  },
  {
   "cell_type": "code",
   "execution_count": 6,
   "metadata": {},
   "outputs": [
    {
     "data": {
      "text/plain": [
       "Index(['VAERS_ID', 'RECVDATE', 'STATE', 'AGE_YRS', 'CAGE_YR', 'CAGE_MO', 'SEX',\n",
       "       'RPT_DATE', 'SYMPTOM_TEXT', 'DIED', 'DATEDIED', 'L_THREAT', 'ER_VISIT',\n",
       "       'HOSPITAL', 'HOSPDAYS', 'X_STAY', 'DISABLE', 'RECOVD', 'VAX_DATE',\n",
       "       'ONSET_DATE', 'NUMDAYS', 'LAB_DATA', 'V_ADMINBY', 'V_FUNDBY',\n",
       "       'OTHER_MEDS', 'CUR_ILL', 'HISTORY', 'PRIOR_VAX', 'SPLTTYPE',\n",
       "       'FORM_VERS', 'TODAYS_DATE', 'BIRTH_DEFECT', 'OFC_VISIT', 'ER_ED_VISIT',\n",
       "       'ALLERGIES'],\n",
       "      dtype='object')"
      ]
     },
     "execution_count": 6,
     "metadata": {},
     "output_type": "execute_result"
    }
   ],
   "source": [
    "patient_history.columns"
   ]
  },
  {
   "cell_type": "code",
   "execution_count": 7,
   "metadata": {},
   "outputs": [
    {
     "data": {
      "text/plain": [
       "Index(['VAERS_ID', 'SYMPTOM1', 'SYMPTOMVERSION1', 'SYMPTOM2',\n",
       "       'SYMPTOMVERSION2', 'SYMPTOM3', 'SYMPTOMVERSION3', 'SYMPTOM4',\n",
       "       'SYMPTOMVERSION4', 'SYMPTOM5', 'SYMPTOMVERSION5'],\n",
       "      dtype='object')"
      ]
     },
     "execution_count": 7,
     "metadata": {},
     "output_type": "execute_result"
    }
   ],
   "source": [
    "patient_sympt.columns"
   ]
  },
  {
   "cell_type": "code",
   "execution_count": 8,
   "metadata": {},
   "outputs": [
    {
     "data": {
      "text/plain": [
       "Index(['VAERS_ID', 'VAX_TYPE', 'VAX_MANU', 'VAX_LOT', 'VAX_DOSE_SERIES',\n",
       "       'VAX_ROUTE', 'VAX_SITE', 'VAX_NAME'],\n",
       "      dtype='object')"
      ]
     },
     "execution_count": 8,
     "metadata": {},
     "output_type": "execute_result"
    }
   ],
   "source": [
    "patient_vac.columns"
   ]
  },
  {
   "cell_type": "markdown",
   "metadata": {
    "id": "sjmz_neIXL1D"
   },
   "source": [
    "### Extract the needed columns from the 3 files and combine them to create one dataframe.\n",
    "* the vacinne symptoms file contains multiple rows for the same vaers_id.This happens when a patient has more than 5 symptoms and each row only holds 5. We need to combine the data to single row before merging with the with the other files.  "
   ]
  },
  {
   "cell_type": "code",
   "execution_count": 9,
   "metadata": {
    "id": "HwTPFnH2WT4n"
   },
   "outputs": [],
   "source": [
    " # get the needed columns from patient history file\n",
    "patient_history=patient_history.loc[: , ['VAERS_ID','AGE_YRS','SEX','CUR_ILL','HISTORY','ALLERGIES']]\n",
    " # get the needed columns from patient vaccine file\n",
    "patient_vac=patient_vac.loc[:,['VAERS_ID','VAX_NAME']]\n",
    " # commbining patient's vaccine symptoms to a single cell \n",
    "patient_sympt['SYMPTOMS']= patient_sympt['SYMPTOM1'].fillna('')+','+ patient_sympt['SYMPTOM2'].fillna('')+','+ patient_sympt['SYMPTOM3'].fillna('')+','+ patient_sympt['SYMPTOM4'].fillna('')+','+ patient_sympt['SYMPTOM5'].fillna('')\n",
    "patient_sympt=patient_sympt.groupby(by='VAERS_ID')['SYMPTOMS'].agg(lambda x: ','.join(x)).reset_index()\n"
   ]
  },
  {
   "cell_type": "code",
   "execution_count": 10,
   "metadata": {
    "id": "BfjKvEUeWYEM"
   },
   "outputs": [],
   "source": [
    " # mergeing all extracted info above and combine them to a single dataframe \n",
    "\n",
    "df=patient_history.merge( patient_vac , on='VAERS_ID')\n"
   ]
  },
  {
   "cell_type": "code",
   "execution_count": 11,
   "metadata": {
    "colab": {
     "base_uri": "https://localhost:8080/",
     "height": 80
    },
    "id": "c5M33a1Ehbxv",
    "outputId": "bcddad25-1c8f-4d39-c7f3-c828e53283af"
   },
   "outputs": [],
   "source": [
    "df=pd.merge(df, patient_sympt,  left_on='VAERS_ID', right_on='VAERS_ID')\n",
    "# remove NaN Value \n",
    "df=df.fillna(value=\"\")\n",
    "# prepare y values step1 \n",
    "# make symptom columns into a list \n",
    "df['SYMPTOMS']=df['SYMPTOMS'].apply(lambda x : x.split(\",\"))\n",
    "# and than remove any empty values in the list. \n",
    "df['SYMPTOMS']=df['SYMPTOMS'].apply(lambda x : [i for i in x if i])\n",
    "df=df.drop_duplicates(['VAERS_ID'])\n"
   ]
  },
  {
   "cell_type": "code",
   "execution_count": 12,
   "metadata": {},
   "outputs": [
    {
     "data": {
      "text/html": [
       "<div>\n",
       "<style scoped>\n",
       "    .dataframe tbody tr th:only-of-type {\n",
       "        vertical-align: middle;\n",
       "    }\n",
       "\n",
       "    .dataframe tbody tr th {\n",
       "        vertical-align: top;\n",
       "    }\n",
       "\n",
       "    .dataframe thead th {\n",
       "        text-align: right;\n",
       "    }\n",
       "</style>\n",
       "<table border=\"1\" class=\"dataframe\">\n",
       "  <thead>\n",
       "    <tr style=\"text-align: right;\">\n",
       "      <th></th>\n",
       "      <th>VAERS_ID</th>\n",
       "      <th>AGE_YRS</th>\n",
       "      <th>SEX</th>\n",
       "      <th>CUR_ILL</th>\n",
       "      <th>HISTORY</th>\n",
       "      <th>ALLERGIES</th>\n",
       "      <th>VAX_NAME</th>\n",
       "      <th>SYMPTOMS</th>\n",
       "    </tr>\n",
       "  </thead>\n",
       "  <tbody>\n",
       "    <tr>\n",
       "      <th>0</th>\n",
       "      <td>916600</td>\n",
       "      <td>33.0</td>\n",
       "      <td>F</td>\n",
       "      <td>None</td>\n",
       "      <td>None</td>\n",
       "      <td>Pcn and bee venom</td>\n",
       "      <td>COVID19 (COVID19 (MODERNA))</td>\n",
       "      <td>[Dysphagia, Epiglottitis]</td>\n",
       "    </tr>\n",
       "    <tr>\n",
       "      <th>1</th>\n",
       "      <td>916601</td>\n",
       "      <td>73.0</td>\n",
       "      <td>F</td>\n",
       "      <td>Patient residing at nursing facility. See pati...</td>\n",
       "      <td>Patient residing at nursing facility. See pati...</td>\n",
       "      <td>\"Dairy\"</td>\n",
       "      <td>COVID19 (COVID19 (MODERNA))</td>\n",
       "      <td>[Anxiety, Dyspnoea]</td>\n",
       "    </tr>\n",
       "    <tr>\n",
       "      <th>2</th>\n",
       "      <td>916602</td>\n",
       "      <td>23.0</td>\n",
       "      <td>F</td>\n",
       "      <td>None</td>\n",
       "      <td>None</td>\n",
       "      <td>Shellfish</td>\n",
       "      <td>COVID19 (COVID19 (PFIZER-BIONTECH))</td>\n",
       "      <td>[Chest discomfort, Dysphagia, Pain in extremit...</td>\n",
       "    </tr>\n",
       "    <tr>\n",
       "      <th>3</th>\n",
       "      <td>916603</td>\n",
       "      <td>58.0</td>\n",
       "      <td>F</td>\n",
       "      <td>kidney infection</td>\n",
       "      <td>diverticulitis, mitral valve prolapse, osteoar...</td>\n",
       "      <td>Diclofenac, novacaine, lidocaine, pickles, tom...</td>\n",
       "      <td>COVID19 (COVID19 (MODERNA))</td>\n",
       "      <td>[Dizziness, Fatigue, Mobility decreased]</td>\n",
       "    </tr>\n",
       "    <tr>\n",
       "      <th>4</th>\n",
       "      <td>916604</td>\n",
       "      <td>47.0</td>\n",
       "      <td>F</td>\n",
       "      <td>Na</td>\n",
       "      <td></td>\n",
       "      <td>Na</td>\n",
       "      <td>COVID19 (COVID19 (MODERNA))</td>\n",
       "      <td>[Injection site erythema, Injection site pruri...</td>\n",
       "    </tr>\n",
       "  </tbody>\n",
       "</table>\n",
       "</div>"
      ],
      "text/plain": [
       "   VAERS_ID AGE_YRS SEX                                            CUR_ILL  \\\n",
       "0    916600    33.0   F                                               None   \n",
       "1    916601    73.0   F  Patient residing at nursing facility. See pati...   \n",
       "2    916602    23.0   F                                               None   \n",
       "3    916603    58.0   F                                   kidney infection   \n",
       "4    916604    47.0   F                                                 Na   \n",
       "\n",
       "                                             HISTORY  \\\n",
       "0                                               None   \n",
       "1  Patient residing at nursing facility. See pati...   \n",
       "2                                               None   \n",
       "3  diverticulitis, mitral valve prolapse, osteoar...   \n",
       "4                                                      \n",
       "\n",
       "                                           ALLERGIES  \\\n",
       "0                                  Pcn and bee venom   \n",
       "1                                            \"Dairy\"   \n",
       "2                                          Shellfish   \n",
       "3  Diclofenac, novacaine, lidocaine, pickles, tom...   \n",
       "4                                                 Na   \n",
       "\n",
       "                              VAX_NAME  \\\n",
       "0          COVID19 (COVID19 (MODERNA))   \n",
       "1          COVID19 (COVID19 (MODERNA))   \n",
       "2  COVID19 (COVID19 (PFIZER-BIONTECH))   \n",
       "3          COVID19 (COVID19 (MODERNA))   \n",
       "4          COVID19 (COVID19 (MODERNA))   \n",
       "\n",
       "                                            SYMPTOMS  \n",
       "0                          [Dysphagia, Epiglottitis]  \n",
       "1                                [Anxiety, Dyspnoea]  \n",
       "2  [Chest discomfort, Dysphagia, Pain in extremit...  \n",
       "3           [Dizziness, Fatigue, Mobility decreased]  \n",
       "4  [Injection site erythema, Injection site pruri...  "
      ]
     },
     "execution_count": 12,
     "metadata": {},
     "output_type": "execute_result"
    }
   ],
   "source": [
    "df.head()"
   ]
  },
  {
   "cell_type": "markdown",
   "metadata": {},
   "source": [
    "### Data Preprocessing \n",
    "* Cleaning the data"
   ]
  },
  {
   "cell_type": "code",
   "execution_count": 13,
   "metadata": {
    "id": "mSgtDXxoXePt"
   },
   "outputs": [],
   "source": [
    "def convertAge(string_age):\n",
    "    if string_age ==\"\" :\n",
    "        return \"unknown_age\"\n",
    "    if 0 <= float(string_age)<=2:\n",
    "        return \"0-2 yr\"\n",
    "    if 3 <= float(string_age)<=12:\n",
    "        return \"3-12 yr\"\n",
    "    if 13 <= float(string_age)<=19:\n",
    "        return \"13-19 yr\"\n",
    "    if 20 <= float(string_age)<=39:\n",
    "        return \"20-39 yr\"\n",
    "    if 40 <= float(string_age)<=59:\n",
    "        return \"40-59 yr\"\n",
    "    return \"over_60 yr\"\n",
    "\n",
    "def changeVaxName(vax_name):\n",
    "    if 'MODERNA'in vax_name:\n",
    "        return 'MODERNA'\n",
    "    if 'PFIZER' in vax_name:\n",
    "        return 'PFIZER'\n",
    "    \n",
    "    return 'JANSSEN'"
   ]
  },
  {
   "cell_type": "code",
   "execution_count": 14,
   "metadata": {
    "colab": {
     "base_uri": "https://localhost:8080/",
     "height": 419
    },
    "id": "ktvkygOJXf4h",
    "outputId": "bbe43b9c-7748-4a1d-cffa-e3e065f5c35e"
   },
   "outputs": [
    {
     "data": {
      "text/html": [
       "<div>\n",
       "<style scoped>\n",
       "    .dataframe tbody tr th:only-of-type {\n",
       "        vertical-align: middle;\n",
       "    }\n",
       "\n",
       "    .dataframe tbody tr th {\n",
       "        vertical-align: top;\n",
       "    }\n",
       "\n",
       "    .dataframe thead th {\n",
       "        text-align: right;\n",
       "    }\n",
       "</style>\n",
       "<table border=\"1\" class=\"dataframe\">\n",
       "  <thead>\n",
       "    <tr style=\"text-align: right;\">\n",
       "      <th></th>\n",
       "      <th>VAERS_ID</th>\n",
       "      <th>AGE_YRS</th>\n",
       "      <th>SEX</th>\n",
       "      <th>CUR_ILL</th>\n",
       "      <th>HISTORY</th>\n",
       "      <th>ALLERGIES</th>\n",
       "      <th>VAX_NAME</th>\n",
       "      <th>SYMPTOMS</th>\n",
       "      <th>AGE_CAT</th>\n",
       "    </tr>\n",
       "  </thead>\n",
       "  <tbody>\n",
       "    <tr>\n",
       "      <th>0</th>\n",
       "      <td>916600</td>\n",
       "      <td>33.0</td>\n",
       "      <td>F</td>\n",
       "      <td>None</td>\n",
       "      <td>None</td>\n",
       "      <td>Pcn and bee venom</td>\n",
       "      <td>MODERNA</td>\n",
       "      <td>[Dysphagia, Epiglottitis]</td>\n",
       "      <td>20-39 yr</td>\n",
       "    </tr>\n",
       "    <tr>\n",
       "      <th>1</th>\n",
       "      <td>916601</td>\n",
       "      <td>73.0</td>\n",
       "      <td>F</td>\n",
       "      <td>Patient residing at nursing facility. See pati...</td>\n",
       "      <td>Patient residing at nursing facility. See pati...</td>\n",
       "      <td>\"Dairy\"</td>\n",
       "      <td>MODERNA</td>\n",
       "      <td>[Anxiety, Dyspnoea]</td>\n",
       "      <td>over_60 yr</td>\n",
       "    </tr>\n",
       "    <tr>\n",
       "      <th>2</th>\n",
       "      <td>916602</td>\n",
       "      <td>23.0</td>\n",
       "      <td>F</td>\n",
       "      <td>None</td>\n",
       "      <td>None</td>\n",
       "      <td>Shellfish</td>\n",
       "      <td>PFIZER</td>\n",
       "      <td>[Chest discomfort, Dysphagia, Pain in extremit...</td>\n",
       "      <td>20-39 yr</td>\n",
       "    </tr>\n",
       "    <tr>\n",
       "      <th>3</th>\n",
       "      <td>916603</td>\n",
       "      <td>58.0</td>\n",
       "      <td>F</td>\n",
       "      <td>kidney infection</td>\n",
       "      <td>diverticulitis, mitral valve prolapse, osteoar...</td>\n",
       "      <td>Diclofenac, novacaine, lidocaine, pickles, tom...</td>\n",
       "      <td>MODERNA</td>\n",
       "      <td>[Dizziness, Fatigue, Mobility decreased]</td>\n",
       "      <td>40-59 yr</td>\n",
       "    </tr>\n",
       "    <tr>\n",
       "      <th>4</th>\n",
       "      <td>916604</td>\n",
       "      <td>47.0</td>\n",
       "      <td>F</td>\n",
       "      <td>Na</td>\n",
       "      <td></td>\n",
       "      <td>Na</td>\n",
       "      <td>MODERNA</td>\n",
       "      <td>[Injection site erythema, Injection site pruri...</td>\n",
       "      <td>40-59 yr</td>\n",
       "    </tr>\n",
       "    <tr>\n",
       "      <th>...</th>\n",
       "      <td>...</td>\n",
       "      <td>...</td>\n",
       "      <td>...</td>\n",
       "      <td>...</td>\n",
       "      <td>...</td>\n",
       "      <td>...</td>\n",
       "      <td>...</td>\n",
       "      <td>...</td>\n",
       "      <td>...</td>\n",
       "    </tr>\n",
       "    <tr>\n",
       "      <th>34625</th>\n",
       "      <td>1113917</td>\n",
       "      <td>88.0</td>\n",
       "      <td>F</td>\n",
       "      <td></td>\n",
       "      <td>Medical History/Concurrent Conditions: Aortic ...</td>\n",
       "      <td></td>\n",
       "      <td>MODERNA</td>\n",
       "      <td>[Dysphagia, Hernia, Obstruction]</td>\n",
       "      <td>over_60 yr</td>\n",
       "    </tr>\n",
       "    <tr>\n",
       "      <th>34626</th>\n",
       "      <td>1113920</td>\n",
       "      <td>83.0</td>\n",
       "      <td>F</td>\n",
       "      <td></td>\n",
       "      <td>Medical History/Concurrent Conditions: Atrial ...</td>\n",
       "      <td></td>\n",
       "      <td>PFIZER</td>\n",
       "      <td>[Arrhythmia, Asymptomatic COVID-19, Chills, Co...</td>\n",
       "      <td>over_60 yr</td>\n",
       "    </tr>\n",
       "    <tr>\n",
       "      <th>34627</th>\n",
       "      <td>1113963</td>\n",
       "      <td>59.0</td>\n",
       "      <td>F</td>\n",
       "      <td></td>\n",
       "      <td>Medical History/Concurrent Conditions: Type II...</td>\n",
       "      <td></td>\n",
       "      <td>PFIZER</td>\n",
       "      <td>[Haemophagocytic lymphohistiocytosis, SARS-CoV...</td>\n",
       "      <td>40-59 yr</td>\n",
       "    </tr>\n",
       "    <tr>\n",
       "      <th>34628</th>\n",
       "      <td>1115045</td>\n",
       "      <td>57.0</td>\n",
       "      <td>M</td>\n",
       "      <td></td>\n",
       "      <td>Medical History/Concurrent Conditions: No adve...</td>\n",
       "      <td></td>\n",
       "      <td>MODERNA</td>\n",
       "      <td>[Death]</td>\n",
       "      <td>40-59 yr</td>\n",
       "    </tr>\n",
       "    <tr>\n",
       "      <th>34629</th>\n",
       "      <td>1115348</td>\n",
       "      <td></td>\n",
       "      <td>F</td>\n",
       "      <td></td>\n",
       "      <td>Comments: List of non-encoded Patient Relevant...</td>\n",
       "      <td></td>\n",
       "      <td>MODERNA</td>\n",
       "      <td>[Death]</td>\n",
       "      <td>unknown_age</td>\n",
       "    </tr>\n",
       "  </tbody>\n",
       "</table>\n",
       "<p>34121 rows × 9 columns</p>\n",
       "</div>"
      ],
      "text/plain": [
       "       VAERS_ID AGE_YRS SEX  \\\n",
       "0        916600    33.0   F   \n",
       "1        916601    73.0   F   \n",
       "2        916602    23.0   F   \n",
       "3        916603    58.0   F   \n",
       "4        916604    47.0   F   \n",
       "...         ...     ...  ..   \n",
       "34625   1113917    88.0   F   \n",
       "34626   1113920    83.0   F   \n",
       "34627   1113963    59.0   F   \n",
       "34628   1115045    57.0   M   \n",
       "34629   1115348           F   \n",
       "\n",
       "                                                 CUR_ILL  \\\n",
       "0                                                   None   \n",
       "1      Patient residing at nursing facility. See pati...   \n",
       "2                                                   None   \n",
       "3                                       kidney infection   \n",
       "4                                                     Na   \n",
       "...                                                  ...   \n",
       "34625                                                      \n",
       "34626                                                      \n",
       "34627                                                      \n",
       "34628                                                      \n",
       "34629                                                      \n",
       "\n",
       "                                                 HISTORY  \\\n",
       "0                                                   None   \n",
       "1      Patient residing at nursing facility. See pati...   \n",
       "2                                                   None   \n",
       "3      diverticulitis, mitral valve prolapse, osteoar...   \n",
       "4                                                          \n",
       "...                                                  ...   \n",
       "34625  Medical History/Concurrent Conditions: Aortic ...   \n",
       "34626  Medical History/Concurrent Conditions: Atrial ...   \n",
       "34627  Medical History/Concurrent Conditions: Type II...   \n",
       "34628  Medical History/Concurrent Conditions: No adve...   \n",
       "34629  Comments: List of non-encoded Patient Relevant...   \n",
       "\n",
       "                                               ALLERGIES VAX_NAME  \\\n",
       "0                                      Pcn and bee venom  MODERNA   \n",
       "1                                                \"Dairy\"  MODERNA   \n",
       "2                                              Shellfish   PFIZER   \n",
       "3      Diclofenac, novacaine, lidocaine, pickles, tom...  MODERNA   \n",
       "4                                                     Na  MODERNA   \n",
       "...                                                  ...      ...   \n",
       "34625                                                     MODERNA   \n",
       "34626                                                      PFIZER   \n",
       "34627                                                      PFIZER   \n",
       "34628                                                     MODERNA   \n",
       "34629                                                     MODERNA   \n",
       "\n",
       "                                                SYMPTOMS      AGE_CAT  \n",
       "0                              [Dysphagia, Epiglottitis]     20-39 yr  \n",
       "1                                    [Anxiety, Dyspnoea]   over_60 yr  \n",
       "2      [Chest discomfort, Dysphagia, Pain in extremit...     20-39 yr  \n",
       "3               [Dizziness, Fatigue, Mobility decreased]     40-59 yr  \n",
       "4      [Injection site erythema, Injection site pruri...     40-59 yr  \n",
       "...                                                  ...          ...  \n",
       "34625                   [Dysphagia, Hernia, Obstruction]   over_60 yr  \n",
       "34626  [Arrhythmia, Asymptomatic COVID-19, Chills, Co...   over_60 yr  \n",
       "34627  [Haemophagocytic lymphohistiocytosis, SARS-CoV...     40-59 yr  \n",
       "34628                                            [Death]     40-59 yr  \n",
       "34629                                            [Death]  unknown_age  \n",
       "\n",
       "[34121 rows x 9 columns]"
      ]
     },
     "execution_count": 14,
     "metadata": {},
     "output_type": "execute_result"
    }
   ],
   "source": [
    "# remove none coivd related vaccine samples \n",
    "df=df[df['VAX_NAME'].str.contains('|'.join(['MODERNA','PFIZER-BIONTECH'])) & df['VAX_NAME'].isna()==False]\n",
    "# put age in bucket under 60 or over\n",
    "df['AGE_CAT']=df['AGE_YRS'].apply(lambda x : convertAge(x) )\n",
    "# simmplify vaccine names \n",
    "df['VAX_NAME']=df['VAX_NAME'].apply(lambda x : changeVaxName(x))\n",
    "df"
   ]
  },
  {
   "cell_type": "code",
   "execution_count": 15,
   "metadata": {},
   "outputs": [],
   "source": [
    "# Create a list of remove words\n",
    "remove_word_list = ['none', 'na', 'nkda', 'nka', 'unknown', 'medical history/concurrent conditions:', 'no adve...', 'no known allergies', 'no illnesses at time or prior', 'no allergies', 'no adverse event (no reported medical history)', 'comments: list of non-encoded patient relevant...', 'ukn', ' no adverse event (no reported medical history.)',\n",
    "                    ' no adverse event (no medical history reported)',\n",
    "                    ' no adverse event (no adverse event was reported.)',\n",
    "                    ' no adverse event (no medical history reported.)', '',\n",
    "                    ' no adverse event',\n",
    "                    ' no adverse event (no patient history reported.)',\n",
    "                    ' no adverse event (medical history not provided)',\n",
    "                    ' no adverse event (medical history not reported)',\n",
    "                    ' no adverse event (no adverse event history)',\n",
    "                    ' no adverse event (no medical history provided)',\n",
    "                    ' no adverse event (no reported adverse event)',\n",
    "                    ' no adverse event (no recorded medical history.)',\n",
    "                    ' no adverse event (no medical history provided.)',\n",
    "                    'denies', 'denies any illness at time of vaccition or up ...', 'denies any illnesses', 'patient denies', 'unkown', 'no known', 'comments: list of non-encoded patient relevant...', 'no illnesses at time of vaccition', 'no illness one month prior to or at time of va...']\n",
    "\n",
    "\n",
    "def remove_words(strings):\n",
    "    for words in remove_word_list:\n",
    "        strings = strings.replace(words, '')\n",
    "    return strings"
   ]
  },
  {
   "cell_type": "code",
   "execution_count": 16,
   "metadata": {},
   "outputs": [],
   "source": [
    "# make the health_condition text lower case\n",
    "df['CUR_ILL'] = df['CUR_ILL'].str.lower()\n",
    "df['HISTORY'] = df['HISTORY'].str.lower()\n",
    "df['ALLERGIES'] = df['ALLERGIES'].str.lower()\n",
    "# remove list of words from columns\n",
    "\n",
    "df['CUR_ILL'] = df['CUR_ILL'].apply(lambda x: remove_words(x))\n",
    "df['HISTORY'] = df['HISTORY'].apply(lambda x: remove_words(x))\n",
    "df['ALLERGIES'] = df['ALLERGIES'].apply(lambda x: remove_words(x))"
   ]
  },
  {
   "cell_type": "code",
   "execution_count": 17,
   "metadata": {},
   "outputs": [
    {
     "data": {
      "text/html": [
       "<div>\n",
       "<style scoped>\n",
       "    .dataframe tbody tr th:only-of-type {\n",
       "        vertical-align: middle;\n",
       "    }\n",
       "\n",
       "    .dataframe tbody tr th {\n",
       "        vertical-align: top;\n",
       "    }\n",
       "\n",
       "    .dataframe thead th {\n",
       "        text-align: right;\n",
       "    }\n",
       "</style>\n",
       "<table border=\"1\" class=\"dataframe\">\n",
       "  <thead>\n",
       "    <tr style=\"text-align: right;\">\n",
       "      <th></th>\n",
       "      <th>VAERS_ID</th>\n",
       "      <th>AGE_YRS</th>\n",
       "      <th>SEX</th>\n",
       "      <th>CUR_ILL</th>\n",
       "      <th>HISTORY</th>\n",
       "      <th>ALLERGIES</th>\n",
       "      <th>VAX_NAME</th>\n",
       "      <th>SYMPTOMS</th>\n",
       "      <th>AGE_CAT</th>\n",
       "    </tr>\n",
       "  </thead>\n",
       "  <tbody>\n",
       "    <tr>\n",
       "      <th>0</th>\n",
       "      <td>916600</td>\n",
       "      <td>33.0</td>\n",
       "      <td>F</td>\n",
       "      <td></td>\n",
       "      <td></td>\n",
       "      <td>pcn and bee venom</td>\n",
       "      <td>MODERNA</td>\n",
       "      <td>[Dysphagia, Epiglottitis]</td>\n",
       "      <td>20-39 yr</td>\n",
       "    </tr>\n",
       "    <tr>\n",
       "      <th>1</th>\n",
       "      <td>916601</td>\n",
       "      <td>73.0</td>\n",
       "      <td>F</td>\n",
       "      <td>patient residing at nursing facility. see pati...</td>\n",
       "      <td>patient residing at nursing facility. see pati...</td>\n",
       "      <td>\"dairy\"</td>\n",
       "      <td>MODERNA</td>\n",
       "      <td>[Anxiety, Dyspnoea]</td>\n",
       "      <td>over_60 yr</td>\n",
       "    </tr>\n",
       "    <tr>\n",
       "      <th>2</th>\n",
       "      <td>916602</td>\n",
       "      <td>23.0</td>\n",
       "      <td>F</td>\n",
       "      <td></td>\n",
       "      <td></td>\n",
       "      <td>shellfish</td>\n",
       "      <td>PFIZER</td>\n",
       "      <td>[Chest discomfort, Dysphagia, Pain in extremit...</td>\n",
       "      <td>20-39 yr</td>\n",
       "    </tr>\n",
       "    <tr>\n",
       "      <th>3</th>\n",
       "      <td>916603</td>\n",
       "      <td>58.0</td>\n",
       "      <td>F</td>\n",
       "      <td>kidney infection</td>\n",
       "      <td>diverticulitis, mitral valve prolapse, osteoar...</td>\n",
       "      <td>diclofec, novacaine, lidocaine, pickles, tomat...</td>\n",
       "      <td>MODERNA</td>\n",
       "      <td>[Dizziness, Fatigue, Mobility decreased]</td>\n",
       "      <td>40-59 yr</td>\n",
       "    </tr>\n",
       "    <tr>\n",
       "      <th>4</th>\n",
       "      <td>916604</td>\n",
       "      <td>47.0</td>\n",
       "      <td>F</td>\n",
       "      <td></td>\n",
       "      <td></td>\n",
       "      <td></td>\n",
       "      <td>MODERNA</td>\n",
       "      <td>[Injection site erythema, Injection site pruri...</td>\n",
       "      <td>40-59 yr</td>\n",
       "    </tr>\n",
       "  </tbody>\n",
       "</table>\n",
       "</div>"
      ],
      "text/plain": [
       "   VAERS_ID AGE_YRS SEX                                            CUR_ILL  \\\n",
       "0    916600    33.0   F                                                      \n",
       "1    916601    73.0   F  patient residing at nursing facility. see pati...   \n",
       "2    916602    23.0   F                                                      \n",
       "3    916603    58.0   F                                   kidney infection   \n",
       "4    916604    47.0   F                                                      \n",
       "\n",
       "                                             HISTORY  \\\n",
       "0                                                      \n",
       "1  patient residing at nursing facility. see pati...   \n",
       "2                                                      \n",
       "3  diverticulitis, mitral valve prolapse, osteoar...   \n",
       "4                                                      \n",
       "\n",
       "                                           ALLERGIES VAX_NAME  \\\n",
       "0                                  pcn and bee venom  MODERNA   \n",
       "1                                            \"dairy\"  MODERNA   \n",
       "2                                          shellfish   PFIZER   \n",
       "3  diclofec, novacaine, lidocaine, pickles, tomat...  MODERNA   \n",
       "4                                                     MODERNA   \n",
       "\n",
       "                                            SYMPTOMS     AGE_CAT  \n",
       "0                          [Dysphagia, Epiglottitis]    20-39 yr  \n",
       "1                                [Anxiety, Dyspnoea]  over_60 yr  \n",
       "2  [Chest discomfort, Dysphagia, Pain in extremit...    20-39 yr  \n",
       "3           [Dizziness, Fatigue, Mobility decreased]    40-59 yr  \n",
       "4  [Injection site erythema, Injection site pruri...    40-59 yr  "
      ]
     },
     "execution_count": 17,
     "metadata": {},
     "output_type": "execute_result"
    }
   ],
   "source": [
    "df.head()"
   ]
  },
  {
   "cell_type": "markdown",
   "metadata": {
    "id": "WSaJ7X8faL-e"
   },
   "source": [
    "## Extract the columns for training"
   ]
  },
  {
   "cell_type": "code",
   "execution_count": 18,
   "metadata": {
    "id": "SImXori7YmaI"
   },
   "outputs": [],
   "source": [
    "df_training = df.loc[:, ['AGE_CAT','SEX','VAX_NAME']]\n",
    "# combining patients' current illness , medical history and, allergies and store in the \"health condition column\"\n",
    "df['HEALTH_CONDITION'] = df['CUR_ILL']+\",\"+ df['HISTORY']+\",\"+df['ALLERGIES']\n"
   ]
  },
  {
   "cell_type": "markdown",
   "metadata": {},
   "source": [
    "\n",
    "#### The health_conditons column contains string descriptions of each patient's medical history, allergy, and current illness. We need to extract meaningful key words from them and try to find associations between patients' health conditons and their Vaccine side affects   "
   ]
  },
  {
   "cell_type": "code",
   "execution_count": 19,
   "metadata": {},
   "outputs": [
    {
     "data": {
      "text/plain": [
       "'!\"#$%&\\'()*+,-./:;<=>?@[\\\\]^_`{|}~'"
      ]
     },
     "execution_count": 19,
     "metadata": {},
     "output_type": "execute_result"
    }
   ],
   "source": [
    "import nltk\n",
    "import itertools\n",
    "from string import punctuation\n",
    "from nltk.corpus import stopwords\n",
    "\n",
    "stopwords = stopwords.words('english')\n",
    "\n",
    "punctuation\n"
   ]
  },
  {
   "cell_type": "code",
   "execution_count": 20,
   "metadata": {},
   "outputs": [
    {
     "data": {
      "text/html": [
       "<div>\n",
       "<style scoped>\n",
       "    .dataframe tbody tr th:only-of-type {\n",
       "        vertical-align: middle;\n",
       "    }\n",
       "\n",
       "    .dataframe tbody tr th {\n",
       "        vertical-align: top;\n",
       "    }\n",
       "\n",
       "    .dataframe thead th {\n",
       "        text-align: right;\n",
       "    }\n",
       "</style>\n",
       "<table border=\"1\" class=\"dataframe\">\n",
       "  <thead>\n",
       "    <tr style=\"text-align: right;\">\n",
       "      <th></th>\n",
       "      <th>VAERS_ID</th>\n",
       "      <th>AGE_YRS</th>\n",
       "      <th>SEX</th>\n",
       "      <th>CUR_ILL</th>\n",
       "      <th>HISTORY</th>\n",
       "      <th>ALLERGIES</th>\n",
       "      <th>VAX_NAME</th>\n",
       "      <th>SYMPTOMS</th>\n",
       "      <th>AGE_CAT</th>\n",
       "      <th>HEALTH_CONDITION</th>\n",
       "    </tr>\n",
       "  </thead>\n",
       "  <tbody>\n",
       "    <tr>\n",
       "      <th>0</th>\n",
       "      <td>916600</td>\n",
       "      <td>33.0</td>\n",
       "      <td>F</td>\n",
       "      <td></td>\n",
       "      <td></td>\n",
       "      <td>pcn and bee venom</td>\n",
       "      <td>MODERNA</td>\n",
       "      <td>[Dysphagia, Epiglottitis]</td>\n",
       "      <td>20-39 yr</td>\n",
       "      <td>,,pcn and bee venom</td>\n",
       "    </tr>\n",
       "    <tr>\n",
       "      <th>1</th>\n",
       "      <td>916601</td>\n",
       "      <td>73.0</td>\n",
       "      <td>F</td>\n",
       "      <td>patient residing at nursing facility. see pati...</td>\n",
       "      <td>patient residing at nursing facility. see pati...</td>\n",
       "      <td>\"dairy\"</td>\n",
       "      <td>MODERNA</td>\n",
       "      <td>[Anxiety, Dyspnoea]</td>\n",
       "      <td>over_60 yr</td>\n",
       "      <td>patient residing at nursing facility. see pati...</td>\n",
       "    </tr>\n",
       "    <tr>\n",
       "      <th>2</th>\n",
       "      <td>916602</td>\n",
       "      <td>23.0</td>\n",
       "      <td>F</td>\n",
       "      <td></td>\n",
       "      <td></td>\n",
       "      <td>shellfish</td>\n",
       "      <td>PFIZER</td>\n",
       "      <td>[Chest discomfort, Dysphagia, Pain in extremit...</td>\n",
       "      <td>20-39 yr</td>\n",
       "      <td>,,shellfish</td>\n",
       "    </tr>\n",
       "    <tr>\n",
       "      <th>3</th>\n",
       "      <td>916603</td>\n",
       "      <td>58.0</td>\n",
       "      <td>F</td>\n",
       "      <td>kidney infection</td>\n",
       "      <td>diverticulitis, mitral valve prolapse, osteoar...</td>\n",
       "      <td>diclofec, novacaine, lidocaine, pickles, tomat...</td>\n",
       "      <td>MODERNA</td>\n",
       "      <td>[Dizziness, Fatigue, Mobility decreased]</td>\n",
       "      <td>40-59 yr</td>\n",
       "      <td>kidney infection,diverticulitis, mitral valve ...</td>\n",
       "    </tr>\n",
       "    <tr>\n",
       "      <th>4</th>\n",
       "      <td>916604</td>\n",
       "      <td>47.0</td>\n",
       "      <td>F</td>\n",
       "      <td></td>\n",
       "      <td></td>\n",
       "      <td></td>\n",
       "      <td>MODERNA</td>\n",
       "      <td>[Injection site erythema, Injection site pruri...</td>\n",
       "      <td>40-59 yr</td>\n",
       "      <td>,,</td>\n",
       "    </tr>\n",
       "  </tbody>\n",
       "</table>\n",
       "</div>"
      ],
      "text/plain": [
       "   VAERS_ID AGE_YRS SEX                                            CUR_ILL  \\\n",
       "0    916600    33.0   F                                                      \n",
       "1    916601    73.0   F  patient residing at nursing facility. see pati...   \n",
       "2    916602    23.0   F                                                      \n",
       "3    916603    58.0   F                                   kidney infection   \n",
       "4    916604    47.0   F                                                      \n",
       "\n",
       "                                             HISTORY  \\\n",
       "0                                                      \n",
       "1  patient residing at nursing facility. see pati...   \n",
       "2                                                      \n",
       "3  diverticulitis, mitral valve prolapse, osteoar...   \n",
       "4                                                      \n",
       "\n",
       "                                           ALLERGIES VAX_NAME  \\\n",
       "0                                  pcn and bee venom  MODERNA   \n",
       "1                                            \"dairy\"  MODERNA   \n",
       "2                                          shellfish   PFIZER   \n",
       "3  diclofec, novacaine, lidocaine, pickles, tomat...  MODERNA   \n",
       "4                                                     MODERNA   \n",
       "\n",
       "                                            SYMPTOMS     AGE_CAT  \\\n",
       "0                          [Dysphagia, Epiglottitis]    20-39 yr   \n",
       "1                                [Anxiety, Dyspnoea]  over_60 yr   \n",
       "2  [Chest discomfort, Dysphagia, Pain in extremit...    20-39 yr   \n",
       "3           [Dizziness, Fatigue, Mobility decreased]    40-59 yr   \n",
       "4  [Injection site erythema, Injection site pruri...    40-59 yr   \n",
       "\n",
       "                                    HEALTH_CONDITION  \n",
       "0                                ,,pcn and bee venom  \n",
       "1  patient residing at nursing facility. see pati...  \n",
       "2                                        ,,shellfish  \n",
       "3  kidney infection,diverticulitis, mitral valve ...  \n",
       "4                                                 ,,  "
      ]
     },
     "execution_count": 20,
     "metadata": {},
     "output_type": "execute_result"
    }
   ],
   "source": [
    "df.head()"
   ]
  },
  {
   "cell_type": "code",
   "execution_count": 21,
   "metadata": {},
   "outputs": [],
   "source": [
    "def remove_words_containning_numbers(word):\n",
    "    if word.isalpha():\n",
    "        return word\n",
    "    return \"\"\n",
    "    "
   ]
  },
  {
   "cell_type": "markdown",
   "metadata": {},
   "source": [
    "#### tokenize the strings in health_condition column. The column contains descriptions of each patient's medical history, allergy    "
   ]
  },
  {
   "cell_type": "code",
   "execution_count": 22,
   "metadata": {},
   "outputs": [
    {
     "data": {
      "text/plain": [
       "16361"
      ]
     },
     "execution_count": 22,
     "metadata": {},
     "output_type": "execute_result"
    }
   ],
   "source": [
    "# tokenize df_training['HEALTH_CONDITION']\n",
    "df['HEALTH_CONDITION']=df['HEALTH_CONDITION'].apply(lambda x : nltk.word_tokenize(x))\n",
    "allwords=set(itertools.chain.from_iterable(df.HEALTH_CONDITION))\n",
    "len(allwords)\n",
    "\n"
   ]
  },
  {
   "cell_type": "code",
   "execution_count": 23,
   "metadata": {},
   "outputs": [
    {
     "data": {
      "text/plain": [
       "16076"
      ]
     },
     "execution_count": 23,
     "metadata": {},
     "output_type": "execute_result"
    }
   ],
   "source": [
    "# remove any punctuations from words \n",
    "df['HEALTH_CONDITION']=df['HEALTH_CONDITION'].apply(lambda x : [''.join(c if c not in punctuation else \" \" for c in s ) for s in x])\n",
    "allwords=set(itertools.chain.from_iterable(df.HEALTH_CONDITION))\n",
    "len(allwords)"
   ]
  },
  {
   "cell_type": "code",
   "execution_count": 24,
   "metadata": {},
   "outputs": [
    {
     "data": {
      "text/html": [
       "<div>\n",
       "<style scoped>\n",
       "    .dataframe tbody tr th:only-of-type {\n",
       "        vertical-align: middle;\n",
       "    }\n",
       "\n",
       "    .dataframe tbody tr th {\n",
       "        vertical-align: top;\n",
       "    }\n",
       "\n",
       "    .dataframe thead th {\n",
       "        text-align: right;\n",
       "    }\n",
       "</style>\n",
       "<table border=\"1\" class=\"dataframe\">\n",
       "  <thead>\n",
       "    <tr style=\"text-align: right;\">\n",
       "      <th></th>\n",
       "      <th>VAERS_ID</th>\n",
       "      <th>AGE_YRS</th>\n",
       "      <th>SEX</th>\n",
       "      <th>CUR_ILL</th>\n",
       "      <th>HISTORY</th>\n",
       "      <th>ALLERGIES</th>\n",
       "      <th>VAX_NAME</th>\n",
       "      <th>SYMPTOMS</th>\n",
       "      <th>AGE_CAT</th>\n",
       "      <th>HEALTH_CONDITION</th>\n",
       "    </tr>\n",
       "  </thead>\n",
       "  <tbody>\n",
       "    <tr>\n",
       "      <th>0</th>\n",
       "      <td>916600</td>\n",
       "      <td>33.0</td>\n",
       "      <td>F</td>\n",
       "      <td></td>\n",
       "      <td></td>\n",
       "      <td>pcn and bee venom</td>\n",
       "      <td>MODERNA</td>\n",
       "      <td>[Dysphagia, Epiglottitis]</td>\n",
       "      <td>20-39 yr</td>\n",
       "      <td>[ ,  pcn, and, bee, venom]</td>\n",
       "    </tr>\n",
       "    <tr>\n",
       "      <th>1</th>\n",
       "      <td>916601</td>\n",
       "      <td>73.0</td>\n",
       "      <td>F</td>\n",
       "      <td>patient residing at nursing facility. see pati...</td>\n",
       "      <td>patient residing at nursing facility. see pati...</td>\n",
       "      <td>\"dairy\"</td>\n",
       "      <td>MODERNA</td>\n",
       "      <td>[Anxiety, Dyspnoea]</td>\n",
       "      <td>over_60 yr</td>\n",
       "      <td>[patient, residing, at, nursing, facility,  , ...</td>\n",
       "    </tr>\n",
       "    <tr>\n",
       "      <th>2</th>\n",
       "      <td>916602</td>\n",
       "      <td>23.0</td>\n",
       "      <td>F</td>\n",
       "      <td></td>\n",
       "      <td></td>\n",
       "      <td>shellfish</td>\n",
       "      <td>PFIZER</td>\n",
       "      <td>[Chest discomfort, Dysphagia, Pain in extremit...</td>\n",
       "      <td>20-39 yr</td>\n",
       "      <td>[ ,  shellfish]</td>\n",
       "    </tr>\n",
       "    <tr>\n",
       "      <th>3</th>\n",
       "      <td>916603</td>\n",
       "      <td>58.0</td>\n",
       "      <td>F</td>\n",
       "      <td>kidney infection</td>\n",
       "      <td>diverticulitis, mitral valve prolapse, osteoar...</td>\n",
       "      <td>diclofec, novacaine, lidocaine, pickles, tomat...</td>\n",
       "      <td>MODERNA</td>\n",
       "      <td>[Dizziness, Fatigue, Mobility decreased]</td>\n",
       "      <td>40-59 yr</td>\n",
       "      <td>[kidney, infection,  , diverticulitis,  , mitr...</td>\n",
       "    </tr>\n",
       "    <tr>\n",
       "      <th>4</th>\n",
       "      <td>916604</td>\n",
       "      <td>47.0</td>\n",
       "      <td>F</td>\n",
       "      <td></td>\n",
       "      <td></td>\n",
       "      <td></td>\n",
       "      <td>MODERNA</td>\n",
       "      <td>[Injection site erythema, Injection site pruri...</td>\n",
       "      <td>40-59 yr</td>\n",
       "      <td>[ ,  ]</td>\n",
       "    </tr>\n",
       "    <tr>\n",
       "      <th>...</th>\n",
       "      <td>...</td>\n",
       "      <td>...</td>\n",
       "      <td>...</td>\n",
       "      <td>...</td>\n",
       "      <td>...</td>\n",
       "      <td>...</td>\n",
       "      <td>...</td>\n",
       "      <td>...</td>\n",
       "      <td>...</td>\n",
       "      <td>...</td>\n",
       "    </tr>\n",
       "    <tr>\n",
       "      <th>34625</th>\n",
       "      <td>1113917</td>\n",
       "      <td>88.0</td>\n",
       "      <td>F</td>\n",
       "      <td></td>\n",
       "      <td>aortic valve replacement</td>\n",
       "      <td></td>\n",
       "      <td>MODERNA</td>\n",
       "      <td>[Dysphagia, Hernia, Obstruction]</td>\n",
       "      <td>over_60 yr</td>\n",
       "      <td>[ , aortic, valve, replacement,  ]</td>\n",
       "    </tr>\n",
       "    <tr>\n",
       "      <th>34626</th>\n",
       "      <td>1113920</td>\n",
       "      <td>83.0</td>\n",
       "      <td>F</td>\n",
       "      <td></td>\n",
       "      <td>atrial fibrillation</td>\n",
       "      <td></td>\n",
       "      <td>PFIZER</td>\n",
       "      <td>[Arrhythmia, Asymptomatic COVID-19, Chills, Co...</td>\n",
       "      <td>over_60 yr</td>\n",
       "      <td>[ , atrial, fibrillation,  ]</td>\n",
       "    </tr>\n",
       "    <tr>\n",
       "      <th>34627</th>\n",
       "      <td>1113963</td>\n",
       "      <td>59.0</td>\n",
       "      <td>F</td>\n",
       "      <td></td>\n",
       "      <td>type ii diabetes mellitus</td>\n",
       "      <td></td>\n",
       "      <td>PFIZER</td>\n",
       "      <td>[Haemophagocytic lymphohistiocytosis, SARS-CoV...</td>\n",
       "      <td>40-59 yr</td>\n",
       "      <td>[ , type, ii, diabetes, mellitus,  ]</td>\n",
       "    </tr>\n",
       "    <tr>\n",
       "      <th>34628</th>\n",
       "      <td>1115045</td>\n",
       "      <td>57.0</td>\n",
       "      <td>M</td>\n",
       "      <td></td>\n",
       "      <td></td>\n",
       "      <td></td>\n",
       "      <td>MODERNA</td>\n",
       "      <td>[Death]</td>\n",
       "      <td>40-59 yr</td>\n",
       "      <td>[ ,  ]</td>\n",
       "    </tr>\n",
       "    <tr>\n",
       "      <th>34629</th>\n",
       "      <td>1115348</td>\n",
       "      <td></td>\n",
       "      <td>F</td>\n",
       "      <td></td>\n",
       "      <td>comments: list of non-encoded patient relevant...</td>\n",
       "      <td></td>\n",
       "      <td>MODERNA</td>\n",
       "      <td>[Death]</td>\n",
       "      <td>unknown_age</td>\n",
       "      <td>[ , comments,  , list, of, non encoded, patien...</td>\n",
       "    </tr>\n",
       "  </tbody>\n",
       "</table>\n",
       "<p>34121 rows × 10 columns</p>\n",
       "</div>"
      ],
      "text/plain": [
       "       VAERS_ID AGE_YRS SEX  \\\n",
       "0        916600    33.0   F   \n",
       "1        916601    73.0   F   \n",
       "2        916602    23.0   F   \n",
       "3        916603    58.0   F   \n",
       "4        916604    47.0   F   \n",
       "...         ...     ...  ..   \n",
       "34625   1113917    88.0   F   \n",
       "34626   1113920    83.0   F   \n",
       "34627   1113963    59.0   F   \n",
       "34628   1115045    57.0   M   \n",
       "34629   1115348           F   \n",
       "\n",
       "                                                 CUR_ILL  \\\n",
       "0                                                          \n",
       "1      patient residing at nursing facility. see pati...   \n",
       "2                                                          \n",
       "3                                       kidney infection   \n",
       "4                                                          \n",
       "...                                                  ...   \n",
       "34625                                                      \n",
       "34626                                                      \n",
       "34627                                                      \n",
       "34628                                                      \n",
       "34629                                                      \n",
       "\n",
       "                                                 HISTORY  \\\n",
       "0                                                          \n",
       "1      patient residing at nursing facility. see pati...   \n",
       "2                                                          \n",
       "3      diverticulitis, mitral valve prolapse, osteoar...   \n",
       "4                                                          \n",
       "...                                                  ...   \n",
       "34625                           aortic valve replacement   \n",
       "34626                                atrial fibrillation   \n",
       "34627                          type ii diabetes mellitus   \n",
       "34628                                                      \n",
       "34629  comments: list of non-encoded patient relevant...   \n",
       "\n",
       "                                               ALLERGIES VAX_NAME  \\\n",
       "0                                      pcn and bee venom  MODERNA   \n",
       "1                                                \"dairy\"  MODERNA   \n",
       "2                                              shellfish   PFIZER   \n",
       "3      diclofec, novacaine, lidocaine, pickles, tomat...  MODERNA   \n",
       "4                                                         MODERNA   \n",
       "...                                                  ...      ...   \n",
       "34625                                                     MODERNA   \n",
       "34626                                                      PFIZER   \n",
       "34627                                                      PFIZER   \n",
       "34628                                                     MODERNA   \n",
       "34629                                                     MODERNA   \n",
       "\n",
       "                                                SYMPTOMS      AGE_CAT  \\\n",
       "0                              [Dysphagia, Epiglottitis]     20-39 yr   \n",
       "1                                    [Anxiety, Dyspnoea]   over_60 yr   \n",
       "2      [Chest discomfort, Dysphagia, Pain in extremit...     20-39 yr   \n",
       "3               [Dizziness, Fatigue, Mobility decreased]     40-59 yr   \n",
       "4      [Injection site erythema, Injection site pruri...     40-59 yr   \n",
       "...                                                  ...          ...   \n",
       "34625                   [Dysphagia, Hernia, Obstruction]   over_60 yr   \n",
       "34626  [Arrhythmia, Asymptomatic COVID-19, Chills, Co...   over_60 yr   \n",
       "34627  [Haemophagocytic lymphohistiocytosis, SARS-CoV...     40-59 yr   \n",
       "34628                                            [Death]     40-59 yr   \n",
       "34629                                            [Death]  unknown_age   \n",
       "\n",
       "                                        HEALTH_CONDITION  \n",
       "0                             [ ,  pcn, and, bee, venom]  \n",
       "1      [patient, residing, at, nursing, facility,  , ...  \n",
       "2                                        [ ,  shellfish]  \n",
       "3      [kidney, infection,  , diverticulitis,  , mitr...  \n",
       "4                                                 [ ,  ]  \n",
       "...                                                  ...  \n",
       "34625                 [ , aortic, valve, replacement,  ]  \n",
       "34626                       [ , atrial, fibrillation,  ]  \n",
       "34627               [ , type, ii, diabetes, mellitus,  ]  \n",
       "34628                                             [ ,  ]  \n",
       "34629  [ , comments,  , list, of, non encoded, patien...  \n",
       "\n",
       "[34121 rows x 10 columns]"
      ]
     },
     "execution_count": 24,
     "metadata": {},
     "output_type": "execute_result"
    }
   ],
   "source": [
    "df"
   ]
  },
  {
   "cell_type": "code",
   "execution_count": 25,
   "metadata": {},
   "outputs": [
    {
     "data": {
      "text/plain": [
       "10565"
      ]
     },
     "execution_count": 25,
     "metadata": {},
     "output_type": "execute_result"
    }
   ],
   "source": [
    "# remove any words mix with number\n",
    "df['HEALTH_CONDITION']=df['HEALTH_CONDITION'].apply(lambda x : [remove_words_containning_numbers(w) for w in x])\n",
    "allwords=set(itertools.chain.from_iterable(df.HEALTH_CONDITION))\n",
    "len(allwords)"
   ]
  },
  {
   "cell_type": "code",
   "execution_count": 26,
   "metadata": {},
   "outputs": [
    {
     "data": {
      "text/plain": [
       "10564"
      ]
     },
     "execution_count": 26,
     "metadata": {},
     "output_type": "execute_result"
    }
   ],
   "source": [
    "# remove any empty words\n",
    "df['HEALTH_CONDITION']=df['HEALTH_CONDITION'].apply(lambda x : [string for string in x if string != \"\"])\n",
    "allwords=set(itertools.chain.from_iterable(df.HEALTH_CONDITION))\n",
    "len(allwords)"
   ]
  },
  {
   "cell_type": "code",
   "execution_count": 27,
   "metadata": {},
   "outputs": [
    {
     "data": {
      "text/plain": [
       "10433"
      ]
     },
     "execution_count": 27,
     "metadata": {},
     "output_type": "execute_result"
    }
   ],
   "source": [
    "# remove stop words\n",
    "df['HEALTH_CONDITION']=df['HEALTH_CONDITION'].apply(lambda x: [words for words in x if words not in stopwords])\n",
    "allwords=set(itertools.chain.from_iterable(df.HEALTH_CONDITION))\n",
    "before_remove_noun=allwords \n",
    "len(allwords)"
   ]
  },
  {
   "cell_type": "code",
   "execution_count": null,
   "metadata": {},
   "outputs": [],
   "source": [
    "# extract only nouns form the Health_conditon column.  \n",
    "df['HEALTH_CONDITION']=df['HEALTH_CONDITION'].apply(lambda x: [words for words, pos in nltk.pos_tag(x) if pos==\"NN\" or pos=='NNS'])"
   ]
  },
  {
   "cell_type": "markdown",
   "metadata": {},
   "source": [
    "## auto correct spelling errors (run paralle), since it takes a long time to run, I saved the data processed dataframe\n",
    "import multiprocessing\n",
    "from autocorrect import Speller\n",
    "import time\n",
    "spell = Speller(lang='en')\n",
    "\n",
    "\n",
    "import mypack.correc as co\n",
    "import numpy as np\n",
    "new_dff=df.loc[:,'HEALTH_CONDITION']\n",
    "new_dff\n",
    "start_time = time.time()\n",
    "pool = multiprocessing.Pool(multiprocessing.cpu_count())\n",
    "\n",
    "new_dff=new_dff.apply(lambda x :  pool.map(co.correction, x ))\n",
    "   \n",
    "print(\"--- %s seconds ---\" % (time.time() - start_time))"
   ]
  },
  {
   "cell_type": "markdown",
   "metadata": {},
   "source": [
    "df['HEALTH_CONDITION']=new_dff"
   ]
  },
  {
   "cell_type": "code",
   "execution_count": null,
   "metadata": {},
   "outputs": [],
   "source": [
    "\n",
    "allwords=set(itertools.chain.from_iterable(df.HEALTH_CONDITION))\n",
    "allwords_list=list(allwords)\n",
    "ans=sorted(allwords_list)\n",
    "print (ans)\n",
    "len(ans)"
   ]
  },
  {
   "cell_type": "code",
   "execution_count": null,
   "metadata": {},
   "outputs": [],
   "source": [
    "#print([word for word in before_remove_noun if word not in ans])"
   ]
  },
  {
   "cell_type": "markdown",
   "metadata": {},
   "source": [
    "## CORRECT WORDS MANUALLY"
   ]
  },
  {
   "cell_type": "markdown",
   "metadata": {},
   "source": [
    "from difflib import SequenceMatcher\n",
    "\n",
    "def similar(a, b):\n",
    "    return SequenceMatcher(None, a, b).ratio()\n",
    "\n",
    "word_grouping=ans.copy()\n",
    "\n",
    "dic_word=[]\n",
    "for a in word_grouping:\n",
    "    \n",
    "    #print(word_grouping[a])\n",
    "    \n",
    "    group=[]\n",
    "    for b in word_grouping:\n",
    "        \n",
    "        if similar(a, b)> 0.80:\n",
    "            \n",
    "            group.append (b)\n",
    "            word_grouping.remove(b)\n",
    "    dic_word.append(group)\n",
    "   # word_grouping.remove(word_grouping[a])\n"
   ]
  },
  {
   "cell_type": "markdown",
   "metadata": {},
   "source": [
    "print(dic_word)"
   ]
  },
  {
   "cell_type": "markdown",
   "metadata": {},
   "source": [
    "len(dic_word)"
   ]
  },
  {
   "cell_type": "markdown",
   "metadata": {},
   "source": [
    "from nltk.corpus import wordnet\n",
    "def check_isword(x):\n",
    "    if not wordnet.synsets(x):\n",
    "        return False\n",
    "    return True\n",
    "    "
   ]
  },
  {
   "cell_type": "markdown",
   "metadata": {},
   "source": [
    "from nltk.corpus import wordnet\n",
    "\n",
    "new_dic=[]\n",
    "counter=0\n",
    "for wordlist in dic_word:\n",
    "    boo = False\n",
    "    for word in wordlist:\n",
    "        if check_isword(word)==True:\n",
    "            new_dic.append({word:wordlist})\n",
    "            boo = True\n",
    "            break\n",
    "    if boo == False: \n",
    "        new_dic.append({counter: wordlist})\n",
    "        counter = counter + 1"
   ]
  },
  {
   "cell_type": "markdown",
   "metadata": {},
   "source": [
    "print(new_dic)"
   ]
  },
  {
   "cell_type": "markdown",
   "metadata": {},
   "source": [
    "temp =[]\n",
    "for item in new_dic:\n",
    "    for dic, value in item.items() :\n",
    "        if type(dic)==str and len(value)>1:\n",
    "            \n",
    "            temp.append(item)"
   ]
  },
  {
   "cell_type": "markdown",
   "metadata": {},
   "source": [
    "temp"
   ]
  },
  {
   "cell_type": "markdown",
   "metadata": {},
   "source": [
    "### manually checked the simmilar words and clean the data "
   ]
  },
  {
   "cell_type": "code",
   "execution_count": null,
   "metadata": {},
   "outputs": [],
   "source": [
    "simmilar_words = [\n",
    "    {'abnormal': ['abnormal', 'abnormality']},\n",
    "    {'acetaminophen': ['acetaminophen', 'acetiminophen']},\n",
    "    {'acyclovir': ['acyclovir', 'alcyclovir']},\n",
    "    {'add': ['add', 'adds']},\n",
    "    {'adenomyosis': ['adenomyosis', 'adneomyosis']},\n",
    "    {'affect': ['affect', 'effects']},\n",
    "    {'agranulocytosis': ['agranulocytosis', 'granulomatosis']},\n",
    "    {'acid': ['acid', 'aid', 'aids']},\n",
    "    {'alcohol': ['alcohol', 'alcohols']},\n",
    "    {'allergy': ['allergy', 'allergies']},\n",
    "    {'alzheimers': ['alheimers', 'alxheimer', 'alzheimers']},\n",
    "    {'amitriptyline': ['amatriptoline', 'amitriptyline']},\n",
    "    {'amoxicillin': ['amoxacillin', 'amoxapine', 'amoxcillin', 'amoxiccillin', 'amoxicillan', 'amoxicillen',\n",
    "                     'amoxicilliin', 'amoxicillin', 'amoxillion', 'amoxocin', 'amoxycillan', 'amoxycillian', 'amoxycillin']},\n",
    "    {'abnormalities': ['abnormalities', 'anomalies']},\n",
    "    {'anticoagulant': ['anticoagulant', 'anticoagulation']},\n",
    "    {'ant': ['ant', 'ants']},\n",
    "\n",
    "    {'azithromycin': ['arithimycin',\n",
    "                      'arrhthromycin',\n",
    "                      'arrythromycin',\n",
    "                      'arythomycin',\n",
    "                      'azithromycin',\n",
    "                      'azithromyocin',\n",
    "                      'azythromycin',\n",
    "                      'zithromycin']},\n",
    "    {'erthromycin': ['erthromycin', 'erythromycin']},\n",
    "    {'arteriosclerosis': ['arteriosclerosis',\n",
    "                          'atherosclerosis', 'otosclerosis']},\n",
    "    {'lovastatin': ['atorvastat', 'atovastatin', 'lovastatin', 'rovastatin']},\n",
    "    {'avocado': ['avocado', 'avocados']},\n",
    "    {'awake': ['awake', 'wake']},\n",
    "    {'bacitracin': ['bacitracin', 'bacitrian', 'bactiracin']},\n",
    "    {'ban': ['ban', 'bans']},\n",
    "    {'bee': ['bee', 'bees']},\n",
    "    {'behavior': ['behavior', 'behaviors']},\n",
    "    {'benzodiazepines': ['benzodiazapenes', 'benzodiazepines']},\n",
    "    {'berries': ['berries', 'bluberries']},\n",
    "    {'breast': ['breast', 'breasts']},\n",
    "    {'bronchiolitis': ['brochitis', 'bronchiolitis']},\n",
    "    {'ibuprofen': ['buprofen', 'ibuprofen']},\n",
    "    {'bypass': ['bypass', 'passes']},\n",
    "    {'calculation': ['calculation', 'circulation', 'coagulation']},\n",
    "    {'cauliflower': ['cauliflower', 'rawcauliflower']},\n",
    "    {'cephalexin': ['cefalaxin', 'cephalexin']},\n",
    "    {'cefuroxime': ['cefuroxime', 'cefuroxme']},\n",
    "    {'center': ['center', 'enter', 'enters']},\n",
    "    {'cephalosporin': ['cefalosporins',\n",
    "                       'celphlasporins',\n",
    "                       'cephalasporins',\n",
    "                       'cephalosporin',\n",
    "                       'cephalosporis',\n",
    "                       'cephlasporins']},\n",
    "    {'chlorhexidine': ['chlohexidine',\n",
    "                       'chlorhexidine',\n",
    "                       'cholerahexadine',\n",
    "                       'cholorehexadine']},\n",
    "    {'cholecystitis': ['chocystitis', 'cholecystitis']},\n",
    "    {'cholesterol': ['cholesterol',\n",
    "                     'clolestroal',\n",
    "                     'colorestrol',\n",
    "                     'hypercholesterol']},\n",
    "    {'ciprofloxacin': ['ciproflaxen', 'ciprofloxacin']},\n",
    "    {'lincomycin': ['clindamiacin', 'clindomyacin',\n",
    "                    'clyndomycin', 'lincomycin']},\n",
    "    {'clinoril': ['clinoril', 'linsopril']},\n",
    "    {'lorazepam': ['clozepam', 'lorazepam']},\n",
    "    {'color': ['color', 'colors']},\n",
    "    {'complain': ['complain', 'complaints']},\n",
    "    {'compassion': ['compassion', 'compression', 'impression']},\n",
    "    {'concentrate': ['concentrate', 'contraction']},\n",
    "    {'condition': ['condition', 'conditioning']},\n",
    "    {'conjunctivitis': ['conjunctivitis', 'rhinoconjunctivitis']},\n",
    "    {'oropharyngeal': ['oropharyngeal', 'sopharyngeal']},\n",
    "    {'cyclobenzaprine': ['cyclobenzaprine', 'cyclobezprine']},\n",
    "    {'hysteroscopy': ['cystoscopy', 'hysteroscopy']},\n",
    "    {'deaf': ['deaf', 'def']},\n",
    "    {'doxycycline': ['doxicillin', 'doxicycline', 'doxocyclin', 'doxycline', 'doxycyclin',\n",
    "                     'doxycycline', 'doxycyclineusea', 'doxycylcine', 'doxycyline', 'doxylamine']},\n",
    "    {'deficiency': ['deficiency', 'deficit']},\n",
    "    {'demerol': ['demarol', 'demerol']},\n",
    "    {'dependence': ['dependence', 'dependent']},\n",
    "    {'dexamethasone': ['betamethasone', 'deamethasone', 'dexamethasone']},\n",
    "    {'diabetic': ['diabetic', 'prediabetic']},\n",
    "    {'diagnoses': ['diagnoses', 'diagnostics']},\n",
    "    {'dilaudid': ['dialudid', 'diaudid', 'dilaudid']},\n",
    "    {'diverticulosis': ['diberticulosis', 'divertculosis', 'diverticulosis']},\n",
    "    {'difficult': ['difficult', 'difficulty']},\n",
    "    {'dioxide': ['dioxide', 'oxide']},\n",
    "    {'dis': ['dis', 'disc', 'dish']},\n",
    "    {'lipidemia': ['dislipidemia', 'dyslipemia', 'dysplipdemia', 'lipidemia']},\n",
    "    {'diuresis': ['diuresis', 'duragesis']},\n",
    "    {'draw': ['draw', 'draws']},\n",
    "    {'drop': ['drop', 'drops']},\n",
    "    {'dysphonia': ['dysphonia', 'dysponia']},\n",
    "    {'eastern': ['eastern', 'eaten', 'stern']},\n",
    "    {'egg': ['egg', 'eggs']},\n",
    "    {'neomycin': ['emyacin', 'neomycin']},\n",
    "    {'epicondylitis': ['epicondylitis', 'spondylitis']},\n",
    "    {'esophagitis': ['esofagitis', 'esophagitis',\n",
    "                     'esphagitis', 'oesophagitis']},\n",
    "    {'exacerbation': ['exacerbation', 'exascerbation', 'exhacerbation']},\n",
    "    {'eye': ['eye', 'eyes']},\n",
    "    {'fascists': ['fasciatus', 'fascists']},\n",
    "    {'fat': ['fat', 'fats']},\n",
    "    {'feel': ['feel', 'feels']},\n",
    "    {'find': ['find', 'finds']},\n",
    "    {'fir': ['fir', 'fires']},\n",
    "    {'flights': ['flights', 'light', 'lights']},\n",
    "    {'fluorescent': ['fluorescent', 'fluoroscein']},\n",
    "    {'folliculitis': ['foliculitis', 'folliculitis']},\n",
    "    {'form': ['form', 'forms']},\n",
    "    {'fosamax': ['fosamax', 'fosomax']},\n",
    "    {'gastrectomy': ['gastrectomy', 'gastrostomy']},\n",
    "    {'gastroesophageal': ['gastroesophageal', 'gastroesphageal']},\n",
    "    {'gadolinium': ['gadolinium', 'glalinium']},\n",
    "    {'hazelnuts': ['hazeenut', 'hazelnuts']},\n",
    "    {'head': ['head', 'heads']},\n",
    "    {'hemochromatosis': ['hemachromatosis', 'hemochromatosis']},\n",
    "    {'hemodialysis': ['hemodialiysis', 'hemodialysis', 'hemolysis']},\n",
    "    {'hypoglycemia': ['hipoglicemia', 'hypoglycemia']},\n",
    "    {'horse': ['horse', 'horses']},\n",
    "    {'hydronephrosis': ['hydonephrosis', 'hydronephrosis']},\n",
    "    {'hydralazine': ['hydralazine', 'hydrazaline']},\n",
    "    {'dehydration': ['dehydration', 'hydration']},\n",
    "    {'hydromorphone': ['hidromorphine', 'hydromorphone']},\n",
    "    {'hydroxy': ['hydro', 'hydroxy']},\n",
    "    {'hyperthyroidism': ['hyopothroidism',\n",
    "                         'hyperthyroidism',\n",
    "                         'hypohyroidism',\n",
    "                         'hypoparathyroidism',\n",
    "                         'hyporthyroidism',\n",
    "                         'hypothoidism',\n",
    "                         'hypothroid',\n",
    "                         'hypothryoidism',\n",
    "                         'hypothryroidism',\n",
    "                         'hypothyriodism',\n",
    "                         'hypothyroidism',\n",
    "                         'hypothyroiditis',\n",
    "                         'hypothyroigism',\n",
    "                         'hypthyroidism']},\n",
    "    {'hyperlipidaemia': ['hypelipidemia',\n",
    "                         'hyperdyslipidemia',\n",
    "                         'hyperlidemia',\n",
    "                         'hyperlipademia',\n",
    "                         'hyperlipedemia',\n",
    "                         'hyperlipidaemia',\n",
    "                         'hyperlipidem',\n",
    "                         'hyperlipidemia',\n",
    "                         'hyperlipidimia',\n",
    "                         'hyperlipiemia',\n",
    "                         'hypolipidemia',\n",
    "                         'hyprlipidemia']},\n",
    "    {'hypercalcemia': ['hpercalcemia',\n",
    "                       'hypercalcemia',\n",
    "                       'hyperglycemia',\n",
    "                       'hyperkalemia']},\n",
    "    {'hypercholesterolemia': ['hyperchloestermia',\n",
    "                              'hypercholeroltemia',\n",
    "                              'hypercholesteralemia',\n",
    "                              'hypercholestermia',\n",
    "                              'hypercholesterolemia',\n",
    "                              'hypercholesterolism',\n",
    "                              'hypercholsterolemia',\n",
    "                              'hyperholesteremia',\n",
    "                              'hypersholesteremia',\n",
    "                              'hypocholesteremia',\n",
    "                              'ypercholesteremia', 'hypercolestoramia']},\n",
    "    {'hyperhidrosis': ['hyperhidrosis', 'hyperhydrosis', 'hyperthyrodism']},\n",
    "    {'hypermetropia': ['hypermetropia', 'hyperopia']},\n",
    "    {'hyperparathyroidism': ['hyperparathyroidism',\n",
    "                             'hypertyroidism',\n",
    "                             'hypoparathyroidim']},\n",
    "    {'hypertension': ['hypertension', 'prehypertension']},\n",
    "    {'hypovolemia': ['hypocholemia', 'hypovolemia']},\n",
    "    {'hypoglycemic': ['hypoglycemic', 'hypooglycemia']},\n",
    "    {'hypokalemia': ['hyokalemia', 'hypokalemia']},\n",
    "    {'hypoventilation': ['hypoventilation', 'ventilation']},\n",
    "    {'inflammation': ['inflammation', 'inflammatory']},\n",
    "    {'inhibition': ['inhibition', 'inhibitors']},\n",
    "    {'laminectomy': ['hemilaminectomy', 'laminectomy']},\n",
    "    {'laryngitis': ['laryngitis', 'pharyngitis']},\n",
    "    {'leaves': ['leaves', 'level']},\n",
    "    {'lip': ['lip', 'lips']},\n",
    "    {'list': ['list', 'lists']},\n",
    "    {'lymphedema': ['lymphadem', 'lymphedema']},\n",
    "    {'lymphoid': ['lymphnode', 'lymphoid']},\n",
    "    {'macrodantin': ['macrodantin', 'microdantin']},\n",
    "    {'macrocytosis': ['macrocytosis', 'mastocytosis', 'stomatocytosis']},\n",
    "    {'menopausal': ['menopausal', 'perimenopausal', 'postmenopausal']},\n",
    "    {'menorrhagia': ['menometrorrhagia', 'menorrhagia']},\n",
    "    {'metabolic': ['hypometabolism', 'metabolic']},\n",
    "    {'albuminuria': ['albuminuria', 'microalbuminuria']},\n",
    "    {'minocycline': ['minicycline', 'minocycline']},\n",
    "    {'monistat': ['monistat', 'monostat']},\n",
    "    {'myocarditis': ['myocarditis', 'myopericarditis']},\n",
    "    {'neosporin': ['neospin', 'neosporin']},\n",
    "    {'nephritis': ['nephritis', 'neuritis', 'polynephritis']},\n",
    "    {'neuron': ['neuro', 'neuron', 'neurons']},\n",
    "    {'neurofibromatosis': ['fibromatosis', 'neurofibromatosis']},\n",
    "    {'sarcoidosis': ['neurosarcoidosis', 'sarcoidosis']},\n",
    "    {'night': ['night', 'nights']},\n",
    "    {'nitrofuran': ['nitrofuran', 'nitrofurantoin']},\n",
    "    {'melanoma': ['melanoma', 'nonmelanoma']},\n",
    "    {'nut': ['nut', 'nuts']},\n",
    "    {'occasion': ['occasion', 'occlusion']},\n",
    "    {'orbital': ['orbital', 'orita']},\n",
    "    {'ephedrine': ['ephedrine', 'orphedrine']},\n",
    "    {'osteopetrosis': ['oesteoporosis',\n",
    "                       'osteonecrosis',\n",
    "                       'osteopetrosis',\n",
    "                       'osteoporosis',\n",
    "                       'osteporosis',\n",
    "                       'ostprosis']},\n",
    "    {'palpitations': ['palpatation', 'palpitatioins', 'palpitations']},\n",
    "    {'parkinson': ['parkinson', 'parkinsonisms']},\n",
    "    {'pepper': ['pepper', 'peppers']},\n",
    "    {'laryngeal': ['laryngeal', 'pharyngeal']},\n",
    "    {'phenergan': ['phenergan', 'phergergan']},\n",
    "    {'phenobarbitals': ['phenobarb', 'phenobarbitals']},\n",
    "    {'pig': ['pig', 'pigs']},\n",
    "    {'pistachio': ['pistachio', 'pistschios']},\n",
    "    {'place': ['place', 'places']},\n",
    "    {'plan': ['plan', 'plans']},\n",
    "    {'polyarteritis': ['polyarteritis', 'polyarthritis']},\n",
    "    {'preservatives': ['perservatives', 'preservatives']},\n",
    "    {'propoxyphene': ['propoxyphene', 'propyphene']},\n",
    "    {'pseudoephedrine': ['psedophedrine',\n",
    "                         'pseudoephedrine', 'pseudophendirine']},\n",
    "    {'quadriplegia': ['quadraplegic', 'quadriplegia']},\n",
    "    {'question': ['question', 'questions']},\n",
    "    {'benzalclonium': ['benzalclonium''benzalkonium', 'benzene', 'benzoate', 'benzocaine',\n",
    "                       'benzodiazepine', 'benzodiazepines', 'benzoid', 'benzoly', 'benzoperoxide', 'benzoyl']},\n",
    "    {'bronchiectasis': ['bronchial', 'bronchiectasis', 'bronchiolitis',\n",
    "                        'bronchitis', 'bronchopneumonia', 'bronchospasm']},\n",
    "    {'cranberries': ['cranberries', 'raspberries']},\n",
    "    {'result': ['result', 'results']},\n",
    "    {'rheumatoid': ['rheumatiod', 'rheumatoid']},\n",
    "    {'run': ['run', 'runs']},\n",
    "    {'salicylate': ['salicylate', 'salicylicates']},\n",
    "    {'thrombocytopemia': ['thrombocytopemia', 'thrombocytopenia', 'thrombocytosis',\n",
    "                          'thromboembolism', 'thrombophilia', 'thrombophlebitis', 'thrombus']},\n",
    "    {'ischemia': ['ischemia', 'schema']},\n",
    "    {'shellfish': ['selfish', 'shellfish']},\n",
    "    {'shoot': ['shoot', 'shot']},\n",
    "    {'sign': ['sign', 'signs']},\n",
    "    {'penicillins': ['pencillers', 'peneciline',\n",
    "                     'penicillin', 'penillicillins', 'pennicellins']},\n",
    "    {'sinusitis': ['sinnusitis', 'sinusitis', 'tinnitis']},\n",
    "    {'sleep': ['sleep', 'sleeps']},\n",
    "    {'smoke': ['smoke', 'smokers']},\n",
    "    {'hypogammaglobulinemia': ['ypogammaglobuliemia',\n",
    "                               'hypogammaglobulinemia', 'hypogammaglobulonemia']},\n",
    "    {'spironolactone': ['spironolactone', 'sprionolactone']},\n",
    "    {'spondylolisthesis': ['spondylolisthesis',\n",
    "                           'spondylolysis', 'spondylosis']},\n",
    "    {'stay': ['stay', 'stays']},\n",
    "    {'sulfanilamide': ['sulfailamide', 'sulfanilamide']},\n",
    "    {'sulfide': ['sulfide', 'sulfomides']},\n",
    "    {'supplement': ['supplement', 'supplements']},\n",
    "    {'tachycardia': ['tacacardia', 'tachcardia', 'tachycardia']},\n",
    "    {'tetracyclines': ['tetracicline', 'tetracyclines']},\n",
    "    {'thioridazine': ['thioridazine', 'thorazine']},\n",
    "    {'thrombocytosis': ['thrombocytosis', 'thrombosis']},\n",
    "    {'issues': ['issues', 'tissues']},\n",
    "    {'titan': ['titan', 'titans']},\n",
    "    {'tobramycin': ['tobdramycin', 'tobramycin']},\n",
    "    {'tolectin': ['tolectin', 'tolmetin']},\n",
    "    {'toxicity': ['ototoxicity', 'toxicity']},\n",
    "    {'transplant': ['transplant', 'transplants']},\n",
    "    {'tube': ['tube', 'tubes']},\n",
    "    {'onions': ['onions', 'union']},\n",
    "    {'urticaria': ['uritcaria', 'urticaria', 'uticaria']},\n",
    "    {'value': ['value', 'valves']},\n",
    "    {'vancomycin': ['vancomycin', 'vancomyocin']},\n",
    "    {'atrioventricular': ['atrioventricular', 'ventricular']},\n",
    "    {'visit': ['visit', 'visits']},\n",
    "    {'week': ['week', 'weeks']},\n",
    "    {'well': ['well', 'wells']}]"
   ]
  },
  {
   "cell_type": "code",
   "execution_count": null,
   "metadata": {},
   "outputs": [],
   "source": [
    "def change_words(word):\n",
    "    for dic in simmilar_words:\n",
    "        for key, values in dic.items():\n",
    "            if word in values :\n",
    "                return key\n",
    "    return word"
   ]
  },
  {
   "cell_type": "code",
   "execution_count": null,
   "metadata": {},
   "outputs": [],
   "source": [
    "df['HEALTH_CONDITION']=df['HEALTH_CONDITION'].apply(lambda x : [change_words(word) for word in x ])"
   ]
  },
  {
   "cell_type": "code",
   "execution_count": null,
   "metadata": {},
   "outputs": [],
   "source": [
    "meaningless=['aaa', 'ab', 'abd', 'abt', 'ac', 'ace', 'acf', 'acid', 'acne', 'acre', 'add', 'adh', 'adm', 'adn', 'ae', 'af', 'afi', 'agar', 'age', 'ahd', 'air', 'aka', 'aki', 'al', 'alan', 'alex', 'alf', 'ali', 'alk', 'all', 'alla', 'alma', 'alot', 'als', 'alt', 'am', 'amd', 'amor', 'amp', 'ams', 'ance', 'ang', 'anl', 'ant', 'any', 'ap', 'apc', 'ape', 'apex', 'app', 'apps', 'apr', 'aps', 'arb', 'arch', 'arcs', 'are', 'area', 'arf', 'aria', 'arid', 'arm', 'arms', 'army', 'arts', 'asa', 'asap', 'asd', 'ash', 'asia', 'ast', 'atb', 'ate', 'atom', 'au', 'aug', 'auto', 'av', 'avg', 'awa', 'az', 'b', 'ba', 'back', 'bag', 'ban', 'band', 'bar', 'bare', 'bark', 'barr', 'bars', 'bas', 'base', 'bav', 'bay', 'bbb', 'bc', 'bcc', 'bed', 'been', 'bg', 'bh', 'bha', 'bhp', 'bi', 'bid', 'bil', 'bio', 'bit', 'bk', 'ble', 'bmi', 'bms', 'bnp', 'bot', 'bp', 'br', 'bs', 'bss', 'bug', 'bun', 'bus', 'but', 'c', 'ca', 'cab', 'cad', 'can', 'cap', 'car', 'cas', 'cat', 'cbc', 'cbs', 'cc', 'cce', 'ccm', 'cd', 'cf', 'ch', 'chg', 'chi', 'chr', 'ci', 'cic', 'cid', 'cin', 'cir', 'cis', 'ciu', 'ck', 'cko', 'cl', 'cm', 'cmc', 'cmo', 'cmp', 'cms', 'cmt', 'col', 'con', 'cor', 'cow', 'cp', 'cr', 'crc', 'cri', 'cry', 'cs', 'ct', 'cta', 'cts', 'cum', 'cut', 'cv', 'cvs', 'da', 'dad', 'day', 'dbs', 'dcv', 'ddd', 'de', 'dec', 'del', 'des', 'dhe', 'di', 'dia', 'did', 'die', 'dif', 'dip', 'dir', 'dis', 'div', 'dl', 'dm', 'dn', 'dnr', 'doe', 'dog', 'dot', 'dp', 'dr', 'dry', 'ds', 'du', 'duo', 'dur', 'dx', 'dye', 'dyn', 'dz', 'e', 'ear', 'eat', 'eb', 'ed', 'eds', 'ees', 'ef', 'ehr', 'em', 'ems', 'end', 'eng', 'ent', 'epi', 'er', 'erm', 'esp', 'esr', 'et', 'eta', 'etc', 'eth', 'exp', 'f', 'fa', 'fat', 'fe', 'feb', 'fil', 'fir', 'fix', 'fld', 'flu', 'fmf', 'fms', 'fr', 'fur', 'fx', 'g', 'ga', 'gad', 'gag', 'gal', 'gb', 'gbs', 'ge', 'gel', 'gen', 'ger', 'get', 'gi', 'gm', 'gol', 'got', 'gp', 'gt', 'gum', 'gun', 'gut', 'h', 'ha', 'had', 'hay', 'hb', 'hbo', 'hc', 'hd', 'hdl', 'heb', 'hep', 'hf', 'hh', 'hi', 'hip', 'hit', 'hiv', 'hl', 'ho', 'hop', 'how', 'hp', 'hpt', 'hr', 'hrs', 'hrt', 'hsi', 'hsv', 'ht', 'htm', 'hx', 'ia', 'ic', 'ica', 'icd', 'ice', 'icu', 'id', 'ida', 'idd', 'idm', 'idp', 'if', 'ig', 'iga', 'ige', 'igm', 'ii', 'iii', 'il', 'ill', 'ils', 'im', 'img', 'in', 'inh', 'inj', 'ink', 'int', 'ip', 'iq', 'is', 'it', 'iu', 'iv', 'ivi', 'ivy', 'j', 'jan', 'jaw', 'job', 'jul', 'k', 'ka', 'kd', 'kg', 'kid', 'kts', 'ku', 'l', 'la', 'lab', 'lad', 'lap', 'lb', 'lbs', 'le', 'leg', 'let', 'lip', 'll', 'llt', 'lon', 'lot', 'lp', 'lpg', 'lt', 'ltf', 'lv', 'ma', 'mac', 'mag', 'mai', 'mal', 'man', 'map', 'mar', 'max', 'mc', 'mca', 'mcd', 'mcg', 'mcs', 'md', 'mdd', 'mdr', 'mds', 'mes', 'mg', 'mgm', 'mi', 'mid', 'mil', 'mix', 'ml', 'mla', 'mm', 'mo', 'mod', 'mom', 'mos', 'mpa', 'mph', 'mr', 'ms', 'msa', 'msg', 'mst', 'mus', 'mvc', 'mvp', 'mw', 'n', 'nc', 'nd', 'nda', 'neg', 'nfa', 'nh', 'nhl', 'nid', 'nil', 'nk', 'nka', 'nma', 'nn', 'non', 'nor', 'nos', 'nov', 'npo', 'ns', 'nt', 'nta', 'num', 'nut', 'nya', 'oa', 'oak', 'oat', 'occ', 'oct', 'od', 'oil', 'ol', 'old', 'om', 'one', 'op', 'opa', 'os', 'osa', 'oth', 'ou', 'out', 'ox', 'oxy', 'p', 'pa', 'pab', 'pad', 'pai', 'pak', 'pap', 'pat', 'pay', 'pb', 'pd', 'pda', 'pdf', 'pe', 'pea', 'pec', 'peg', 'pen', 'per', 'pes', 'pet', 'pf', 'pfo', 'pfr', 'ph', 'phx', 'pid', 'pig', 'pit', 'pm', 'pmc', 'pmn', 'pmr', 'pms', 'po', 'poc', 'pog', 'pos', 'pox', 'pp', 'ppi', 'ppm', 'ppv', 'pr', 'prd', 'pre', 'prn', 'pro', 'psa', 'psp', 'pt', 'pts', 'put', 'pvt', 'q', 'qd', 'qt', 'r', 'ra', 'rad', 'rag', 'rah', 'rat', 'ray', 'rca', 'rec', 'red', 'rel', 'ret', 'rev', 'rib', 'rka', 'rle', 'rls', 'rn', 'rod', 'rom', 'row', 'rr', 'rt', 'rue', 'run', 'rv', 'rx', 'ry', 'rye', 'sal', 'sap', 'sar', 'saw', 'sbe', 'sbl', 'scc', 'scp', 'scr', 'sct', 'sea', 'see', 'sfn', 'sh', 'sha', 'she', 'sio', 'ski', 'so', 'sob', 'sol', 'son', 'soy', 'sp', 'spi', 'sr', 'sri', 'srs', 'ss', 'sss', 'st', 'stg', 'sua', 'sud', 'sun', 'sup', 'sur', 'svt', 'sw', 'sx', 'syn', 'syr', 'tab', 'tap', 'tar', 'tb', 'tbd', 'td', 'te', 'tea', 'tee', 'ten', 'th', 'tho', 'thr', 'ti', 'tia', 'tid', 'til', 'tka', 'tm', 'tn', 'toe', 'tos', 'tr', 'try', 'tss', 'tst', 'tts', 'tu', 'tum', 'tx', 'ua', 'uk', 'ul', 'unk', 'ups', 'uri', 'url', 'use', 'utc', 'uti', 'v', 'va', 'vac', 'vet', 'via', 'vid', 'vio', 'vit', 'vk', 'von', 'vp', 'vs', 'vt', 'w', 'war', 'was', 'way', 'wbc', 'well', 'will', 'wit', 'with', 'wu', 'www', 'x', 'xl', 'yes', 'yo', 'you', 'yrs', 'z']\n",
    "\n",
    "df['HEALTH_CONDITION']=df['HEALTH_CONDITION'].apply(lambda x : [word for word in x if word not in meaningless ])\n"
   ]
  },
  {
   "cell_type": "code",
   "execution_count": null,
   "metadata": {},
   "outputs": [],
   "source": [
    "\n",
    "allwords=set(itertools.chain.from_iterable(df.HEALTH_CONDITION))\n",
    "allwords_list=list(allwords)\n",
    "ans=sorted(allwords_list)\n",
    "print (ans)\n",
    "len(ans)\n"
   ]
  },
  {
   "cell_type": "code",
   "execution_count": null,
   "metadata": {},
   "outputs": [],
   "source": [
    "df"
   ]
  },
  {
   "cell_type": "markdown",
   "metadata": {},
   "source": [
    "## SAVE DF "
   ]
  },
  {
   "cell_type": "markdown",
   "metadata": {},
   "source": [
    "\n",
    "df.to_pickle('.spellcorrected_df_4_13.pkl')\n",
    "\n",
    "\n",
    "\n"
   ]
  },
  {
   "cell_type": "code",
   "execution_count": null,
   "metadata": {},
   "outputs": [],
   "source": [
    "allwords=set(itertools.chain.from_iterable(df.HEALTH_CONDITION))\n",
    "len(allwords)"
   ]
  },
  {
   "cell_type": "code",
   "execution_count": null,
   "metadata": {},
   "outputs": [],
   "source": [
    "allwords_list=list(allwords)\n",
    "ans=sorted(allwords_list)\n",
    "print (ans)\n"
   ]
  },
  {
   "cell_type": "code",
   "execution_count": null,
   "metadata": {},
   "outputs": [],
   "source": [
    "def get_wordnet_pos(tag):\n",
    "    x, y = tag[0]\n",
    "    if y.startswith('J'):\n",
    "        return wordnet.ADJ\n",
    "    elif y.startswith('V'):\n",
    "        return wordnet.VERB\n",
    "    elif y.startswith('N'):\n",
    "        return wordnet.NOUN\n",
    "    elif y.startswith('R'):\n",
    "        return wordnet.ADV\n",
    "    else:\n",
    "        return wordnet.NOUN"
   ]
  },
  {
   "cell_type": "code",
   "execution_count": null,
   "metadata": {},
   "outputs": [],
   "source": [
    "from nltk.stem import WordNetLemmatizer\n",
    "from nltk.stem.porter import PorterStemmer\n",
    "from nltk.corpus import wordnet\n",
    "from nltk import pos_tag\n",
    "st =PorterStemmer()\n",
    "wnl = WordNetLemmatizer()\n"
   ]
  },
  {
   "cell_type": "code",
   "execution_count": null,
   "metadata": {},
   "outputs": [],
   "source": [
    "\n",
    "\n",
    "df['HEALTH_CONDITION']=df['HEALTH_CONDITION'].apply(lambda x: [wnl.lemmatize(w, pos=get_wordnet_pos(pos_tag([w]))) for w in x ])\n",
    "\n",
    "\n",
    "\n",
    "allwords=set(itertools.chain.from_iterable(df.HEALTH_CONDITION))\n",
    "len(allwords)"
   ]
  },
  {
   "cell_type": "code",
   "execution_count": null,
   "metadata": {},
   "outputs": [],
   "source": [
    "allwords_list=list(allwords)\n",
    "ans=sorted(allwords_list)\n",
    "print (ans)\n"
   ]
  },
  {
   "cell_type": "code",
   "execution_count": null,
   "metadata": {},
   "outputs": [],
   "source": [
    "df"
   ]
  },
  {
   "cell_type": "code",
   "execution_count": null,
   "metadata": {},
   "outputs": [],
   "source": [
    "# remove row with empty health_condition\n",
    "#df_training=df[df['HEALTH_CONDITION'].apply(lambda x : len(x) >0)]\n",
    "#df_training=df_training.copy()\n",
    "df_training = df\n",
    "# convert health condition list back to string\n",
    "df_training['HEALTH_CONDITION']=df_training['HEALTH_CONDITION'].apply(lambda x : \" \".join(x))\n",
    "df_training.head()"
   ]
  },
  {
   "cell_type": "code",
   "execution_count": null,
   "metadata": {
    "id": "-oXFc7dvs5Fw"
   },
   "outputs": [],
   "source": [
    "from sklearn.feature_extraction.text import TfidfVectorizer\n",
    "from sklearn.feature_extraction import text\n",
    "# define stop words \n",
    "stop_w=text.ENGLISH_STOP_WORDS\n"
   ]
  },
  {
   "cell_type": "code",
   "execution_count": null,
   "metadata": {},
   "outputs": [],
   "source": []
  },
  {
   "cell_type": "markdown",
   "metadata": {},
   "source": [
    "# Trainning part"
   ]
  },
  {
   "cell_type": "code",
   "execution_count": null,
   "metadata": {
    "id": "TKnCefOAMyAa"
   },
   "outputs": [],
   "source": [
    "MODERNA=df_training[df_training['VAX_NAME']=='MODERNA']\n",
    "PFIZER=df_training[df_training['VAX_NAME']=='PFIZER']\n"
   ]
  },
  {
   "cell_type": "code",
   "execution_count": null,
   "metadata": {
    "colab": {
     "base_uri": "https://localhost:8080/",
     "height": 419
    },
    "id": "489XqBGwQtRm",
    "outputId": "96202bb2-ded8-4f6d-faf7-c2877cec5643"
   },
   "outputs": [],
   "source": [
    "MODERNA"
   ]
  },
  {
   "cell_type": "markdown",
   "metadata": {},
   "source": [
    "### VECTORIZE MODERNA "
   ]
  },
  {
   "cell_type": "code",
   "execution_count": null,
   "metadata": {
    "id": "7AefUnjvQ-_R"
   },
   "outputs": [],
   "source": [
    "# make df_training data to sparse matrix\n",
    "\n",
    "tfidf_vectorizer_MODERNA = TfidfVectorizer(stop_words=stop_w)\n",
    "tfidfs_MODERNA = tfidf_vectorizer_MODERNA.fit_transform(MODERNA['HEALTH_CONDITION'])\n",
    "tfidfs_MODERNA = pd.DataFrame(tfidfs_MODERNA.toarray(), columns=tfidf_vectorizer_MODERNA.get_feature_names())\n",
    "\n",
    "from sklearn.preprocessing import OneHotEncoder\n",
    "\n",
    "ohe_MODERNA=OneHotEncoder(handle_unknown = 'ignore')\n",
    "dummie_age_sex_MODERNA=ohe_MODERNA.fit_transform(MODERNA[['SEX','AGE_CAT']])\n",
    "dummie_age_sex_MODERNA=pd.DataFrame(dummie_age_sex_MODERNA.toarray(), columns=ohe_MODERNA.get_feature_names())\n",
    "#dummie_age_sex=pd.get_dummies(MODERNA[['SEX','AGE_CAT']],  prefix='', prefix_sep='').reset_index()\n",
    "moderna_vector=pd.concat([dummie_age_sex_MODERNA,tfidfs_MODERNA], axis=1)\n",
    "moderna_vector\n"
   ]
  },
  {
   "cell_type": "markdown",
   "metadata": {},
   "source": [
    "### VECTORIZE PFIZER"
   ]
  },
  {
   "cell_type": "code",
   "execution_count": null,
   "metadata": {
    "colab": {
     "base_uri": "https://localhost:8080/",
     "height": 439
    },
    "id": "oQXYDtxXRr64",
    "outputId": "b0a66d50-fa70-4bee-afb8-516967258ee1"
   },
   "outputs": [],
   "source": [
    "# make df_training data to sparse matrix\n",
    "\n",
    "tfidf_vectorizer_PFIZER = TfidfVectorizer(stop_words=stop_w)\n",
    "tfidfs_PFIZER = tfidf_vectorizer_PFIZER.fit_transform(PFIZER['HEALTH_CONDITION'])\n",
    "tfidfs_PFIZER = pd.DataFrame(tfidfs_PFIZER.toarray(), columns=tfidf_vectorizer_PFIZER.get_feature_names())\n",
    "\n",
    "from sklearn.preprocessing import OneHotEncoder\n",
    "\n",
    "ohe_PFIZER=OneHotEncoder(handle_unknown = 'ignore')\n",
    "dummie_age_sex_PFIZER=ohe_PFIZER.fit_transform(PFIZER[['SEX','AGE_CAT']])\n",
    "dummie_age_sex_PFIZER=pd.DataFrame(dummie_age_sex_PFIZER.toarray(), columns=ohe_PFIZER.get_feature_names())\n",
    "dummie_age_sex=pd.get_dummies(MODERNA[['SEX','AGE_CAT']],  prefix='', prefix_sep='').reset_index()\n",
    "PFIZER_vector=pd.concat([dummie_age_sex_PFIZER,tfidfs_PFIZER], axis=1)\n",
    "PFIZER_vector"
   ]
  },
  {
   "cell_type": "markdown",
   "metadata": {},
   "source": [
    "### trainning kmeans model for Moderna"
   ]
  },
  {
   "cell_type": "code",
   "execution_count": null,
   "metadata": {},
   "outputs": [],
   "source": [
    "from sklearn.cluster import KMeans\n",
    "\n",
    "\n",
    "kmeans_MODERNA = KMeans(n_clusters=15)\n",
    "kmeans_MODERNA.fit(moderna_vector)"
   ]
  },
  {
   "cell_type": "markdown",
   "metadata": {
    "colab": {
     "base_uri": "https://localhost:8080/"
    },
    "id": "TKd48HWiRu6r",
    "outputId": "c9b67569-040f-42b9-c7e4-814ee3edeb80"
   },
   "source": [
    "from sklearn.cluster import KMeans\n",
    "kmeans = KMeans(n_clusters=40)\n",
    "kmeans.fit(moderna_vector)"
   ]
  },
  {
   "cell_type": "code",
   "execution_count": null,
   "metadata": {
    "colab": {
     "base_uri": "https://localhost:8080/"
    },
    "id": "LColVkDUZ3Wo",
    "outputId": "e81938a9-1546-4518-97eb-d5218c92a616"
   },
   "outputs": [],
   "source": [
    "kmeans_MODERNA.labels_"
   ]
  },
  {
   "cell_type": "code",
   "execution_count": null,
   "metadata": {
    "id": "4WJ4IqjvblD-"
   },
   "outputs": [],
   "source": [
    "#MODERNA_CLUSTERED=df[df_training['VAX_NAME']=='MODERNA'].copy()\n",
    "MODERNA=MODERNA.copy()\n",
    "MODERNA['CLUSTER'] = kmeans_MODERNA.labels_\n"
   ]
  },
  {
   "cell_type": "code",
   "execution_count": null,
   "metadata": {},
   "outputs": [],
   "source": [
    "MODERNA"
   ]
  },
  {
   "cell_type": "markdown",
   "metadata": {
    "id": "CpwCfZwbTu14"
   },
   "source": [
    "## How many instance are belonging to each cluster in Moderna"
   ]
  },
  {
   "cell_type": "code",
   "execution_count": null,
   "metadata": {
    "colab": {
     "base_uri": "https://localhost:8080/"
    },
    "id": "n3UcbHqocmFV",
    "outputId": "3c6ed569-edd0-42c5-9527-08089a6d2509"
   },
   "outputs": [],
   "source": [
    "MODERNA.groupby(by='CLUSTER')['VAERS_ID'].agg('count').sort_values()"
   ]
  },
  {
   "cell_type": "markdown",
   "metadata": {
    "id": "Ll1RsO8IT6uw"
   },
   "source": [
    "## what are in the cluster "
   ]
  },
  {
   "cell_type": "code",
   "execution_count": null,
   "metadata": {
    "colab": {
     "base_uri": "https://localhost:8080/",
     "height": 1000
    },
    "id": "WOVDPXAM1GN0",
    "outputId": "46e86ad1-2345-4748-818e-f1a922d8b528"
   },
   "outputs": [],
   "source": [
    "sym_freq=MODERNA[MODERNA['CLUSTER']==5]\n",
    "sym_freq.head(60)"
   ]
  },
  {
   "cell_type": "code",
   "execution_count": null,
   "metadata": {},
   "outputs": [],
   "source": [
    "sym_freq['HISTORY'].unique()"
   ]
  },
  {
   "cell_type": "markdown",
   "metadata": {
    "id": "iPkEDAbKUFtM"
   },
   "source": [
    "## Symptoms frequency in the cluster "
   ]
  },
  {
   "cell_type": "code",
   "execution_count": null,
   "metadata": {
    "colab": {
     "base_uri": "https://localhost:8080/"
    },
    "id": "3TJG71IGfsjy",
    "outputId": "632cb1f3-3b97-4e97-a240-58280603bb88"
   },
   "outputs": [],
   "source": [
    "from itertools import chain\n",
    "from collections import Counter\n",
    "pd.Series(Counter(chain.from_iterable(sym_freq.SYMPTOMS.dropna()))).sort_values(ascending=False).head(30)"
   ]
  },
  {
   "cell_type": "code",
   "execution_count": null,
   "metadata": {},
   "outputs": [],
   "source": [
    "#MODERNA.groupby(['CLUSTER'])['SYMPTOMS'].transform('count')\n",
    "#from sklearn.feature_extraction.text import CountVectorizer\n",
    "#vectorizer = CountVectorizer(tokenizer=lambda doc: doc, lowercase=False)\n",
    "#bag_of_words = vectorizer.fit_transform(MODERNA['SYMPTOMS'])"
   ]
  },
  {
   "cell_type": "code",
   "execution_count": null,
   "metadata": {},
   "outputs": [],
   "source": [
    "#sypm=pd.DataFrame(bag_of_words.toarray(), columns=vectorizer.vocabulary_)\n",
    "#clus=MODERNA['CLUSTER'].copy()\n",
    "#clus=clus.reset_index()\n",
    "#symp_by_clus=pd.concat([clus, sypm],axis=1)\n",
    "#symp_by_clus=symp_by_clus.groupby(['CLUSTER']).sum().drop('index', axis=1)\n",
    "#symp_by_clus=symp_by_clus.stack().to_frame().reset_index()\n",
    "#symp_by_clus.set_index('level_1').sort_values(by=0, ascending=False).head(60)"
   ]
  },
  {
   "cell_type": "code",
   "execution_count": null,
   "metadata": {},
   "outputs": [],
   "source": [
    "## ELBOW METHOD\n",
    "\n",
    "k = [x for x in range(5,80) if x%3==0]\n"
   ]
  },
  {
   "cell_type": "code",
   "execution_count": null,
   "metadata": {},
   "outputs": [],
   "source": [
    "wss=[]\n",
    "for i in k:\n",
    "    print(i)\n",
    "    kmeans=KMeans(n_clusters=i, init='k-means++')\n",
    "    kmeans=kmeans.fit(moderna_vector)\n",
    "    wss_iter=kmeans.inertia_\n",
    "    wss.append(wss_iter)"
   ]
  },
  {
   "cell_type": "code",
   "execution_count": null,
   "metadata": {},
   "outputs": [],
   "source": [
    "elbow=pd.DataFrame({'#Cluster':k , 'WSS': wss})"
   ]
  },
  {
   "cell_type": "code",
   "execution_count": null,
   "metadata": {},
   "outputs": [],
   "source": [
    "elbow"
   ]
  },
  {
   "cell_type": "code",
   "execution_count": null,
   "metadata": {},
   "outputs": [],
   "source": [
    "import seaborn as sns \n",
    "from matplotlib import pyplot as plt\n",
    "sns.scatterplot(x=elbow['#Cluster'], y=elbow['WSS'], marker=\"+\")"
   ]
  },
  {
   "cell_type": "code",
   "execution_count": null,
   "metadata": {
    "id": "-dsHEbGRTTik"
   },
   "outputs": [],
   "source": [
    "from sklearn.decomposition import PCA\n",
    "pca = PCA(n_components=2)\n",
    "pca_components=pca.fit_transform(moderna_vector)\n",
    "pca_components=pd.DataFrame(pca_components, columns =['component1','component2'])\n",
    "pca_components['cluster']=kmeans.labels_"
   ]
  },
  {
   "cell_type": "code",
   "execution_count": null,
   "metadata": {},
   "outputs": [],
   "source": [
    "pca_components"
   ]
  },
  {
   "cell_type": "code",
   "execution_count": null,
   "metadata": {},
   "outputs": [],
   "source": [
    "\n",
    "fig, ax = plt.subplots(figsize=(20,20))\n",
    "sns.scatterplot(x=pca_components['component1'],y=pca_components['component2'], hue= pca_components['cluster'],ax=ax)\n"
   ]
  },
  {
   "cell_type": "markdown",
   "metadata": {},
   "source": [
    "## Trainning kmeans model for PFIZER"
   ]
  },
  {
   "cell_type": "code",
   "execution_count": null,
   "metadata": {},
   "outputs": [],
   "source": [
    "\n",
    "kmeans_PFIZER = KMeans(n_clusters=15)\n",
    "kmeans_PFIZER.fit(PFIZER_vector)\n",
    "PFIZER=PFIZER.copy()\n",
    "PFIZER['CLUSTER'] = kmeans_PFIZER.labels_"
   ]
  },
  {
   "cell_type": "markdown",
   "metadata": {},
   "source": [
    "## Home many instances belong to each cluster"
   ]
  },
  {
   "cell_type": "code",
   "execution_count": null,
   "metadata": {},
   "outputs": [],
   "source": [
    "PFIZER.groupby(by='CLUSTER')['VAERS_ID'].agg('count').sort_values()"
   ]
  },
  {
   "cell_type": "markdown",
   "metadata": {},
   "source": [
    "## what are in the cluster "
   ]
  },
  {
   "cell_type": "code",
   "execution_count": null,
   "metadata": {},
   "outputs": [],
   "source": [
    "sym_freq=PFIZER[PFIZER['CLUSTER']==6]\n",
    "sym_freq.head(60)"
   ]
  },
  {
   "cell_type": "code",
   "execution_count": null,
   "metadata": {},
   "outputs": [],
   "source": [
    "PFIZER.loc[10523,['HISTORY']]"
   ]
  },
  {
   "cell_type": "markdown",
   "metadata": {},
   "source": [
    "### SYMPTOM FREQUENCE"
   ]
  },
  {
   "cell_type": "code",
   "execution_count": null,
   "metadata": {},
   "outputs": [],
   "source": [
    "from itertools import chain\n",
    "from collections import Counter\n",
    "pd.Series(Counter(chain.from_iterable(sym_freq.SYMPTOMS.dropna()))).sort_values(ascending=False).head(30)"
   ]
  },
  {
   "cell_type": "markdown",
   "metadata": {},
   "source": [
    "### user input "
   ]
  },
  {
   "cell_type": "code",
   "execution_count": null,
   "metadata": {},
   "outputs": [],
   "source": [
    "# a New sample \n",
    "letter = \"SHELLFISH\"\n",
    "age= 25\n",
    "sex = 'U'\n",
    "agecat =convertAge(age)\n",
    "new_sample =pd.DataFrame({ 'sex':[sex], 'age_cat':[agecat] }, columns= ['age_cat','sex'] )"
   ]
  },
  {
   "cell_type": "markdown",
   "metadata": {},
   "source": [
    "### vectorize user input for Moderna kmeans prediction"
   ]
  },
  {
   "cell_type": "code",
   "execution_count": null,
   "metadata": {},
   "outputs": [],
   "source": [
    "\n",
    "# one hot encode using Moderna OHE \n",
    "sample_dummi_MODERNA =ohe_MODERNA.transform(new_sample[['sex','age_cat']])\n",
    "sample_dummi_MODERNA =pd.DataFrame(sample_dummi_MODERNA.toarray() , columns=ohe_MODERNA.get_feature_names())\n",
    "\n",
    "# vectorize the new sample  \n",
    "\n",
    "sample_tfidf_MODERNA=tfidf_vectorizer_MODERNA.transform([letter])\n",
    "sample_tfidf_MODERNA=pd.DataFrame(sample_tfidf_MODERNA.toarray(), columns=tfidf_vectorizer_MODERNA.get_feature_names())\n",
    "\n",
    "# combine tfidf and dummie to one df and use it as a parameter for the kmeans prediction\n",
    "sampleData_MODERNA=pd.concat([sample_dummi_MODERNA ,sample_tfidf_MODERNA], axis=1)\n",
    "kmeans_MODERNA.predict(sampleData_MODERNA)\n"
   ]
  },
  {
   "cell_type": "markdown",
   "metadata": {},
   "source": [
    "### vectorize user input for PFIZER kmeans prediction"
   ]
  },
  {
   "cell_type": "code",
   "execution_count": null,
   "metadata": {},
   "outputs": [],
   "source": [
    "\n",
    "# one hot encode using Moderna OHE \n",
    "sample_dummi_PFIZER =ohe_PFIZER.transform(new_sample[['sex','age_cat']])\n",
    "sample_dummi_PFIZER =pd.DataFrame(sample_dummi_PFIZER.toarray() , columns=ohe_PFIZER.get_feature_names())\n",
    "\n",
    "# vectorize the new sample  \n",
    "\n",
    "sample_tfidf_PFIZER=tfidf_vectorizer_PFIZER.transform([letter])\n",
    "sample_tfidf_PFIZER=pd.DataFrame(sample_tfidf_PFIZER.toarray(), columns=tfidf_vectorizer_PFIZER.get_feature_names())\n",
    "\n",
    "# combine tfidf and dummie to one df and use it as a parameter for the kmeans prediction\n",
    "sampleData_PFIZER=pd.concat([sample_dummi_PFIZER,sample_tfidf_PFIZER], axis=1)\n",
    "kmeans_PFIZER.predict(sampleData_PFIZER)"
   ]
  },
  {
   "cell_type": "code",
   "execution_count": null,
   "metadata": {},
   "outputs": [],
   "source": [
    "from joblib import dump\n",
    "dump(kmeans_MODERNA, 'kmeans_MODERNA_model.joblib')\n",
    "dump(kmeans_PFIZER, 'kmeans_PFIZER_model.joblib')\n",
    "dump(ohe_MODERNA, 'onehotendcoder_moderna.joblib')\n",
    "dump(ohe_PFIZER, 'onehotendcoder_pfizer.joblib')\n",
    "dump(tfidf_vectorizer_MODERNA, 'tfidf_vectorizer_moderna.joblib')\n",
    "dump(tfidf_vectorizer_PFIZER, 'tfidf_vectorizer_pfizer.joblib')"
   ]
  },
  {
   "cell_type": "code",
   "execution_count": null,
   "metadata": {},
   "outputs": [],
   "source": [
    "MODERNA.to_pickle(\"MODERNA_DF.pkl\")\n",
    "PFIZER.to_pickle(\"PFIZER_DF.pkl\")"
   ]
  },
  {
   "cell_type": "code",
   "execution_count": null,
   "metadata": {},
   "outputs": [],
   "source": [
    "df_Moderna = pd.read_pickle(\"MODERNA_DF.pkl\")\n",
    "df_Pfizer = pd.read_pickle(\"PFIZER_DF.pkl\")"
   ]
  },
  {
   "cell_type": "code",
   "execution_count": null,
   "metadata": {},
   "outputs": [],
   "source": [
    "import joblib\n",
    "MODERNA_model=joblib.load('kmeans_MODERNA_model.joblib')\n",
    "PFIZER_model=joblib.load('kmeans_PFIZER_model.joblib')\n",
    "onehot_moderna=joblib.load('onehotendcoder_moderna.joblib')\n",
    "onehot_pfizer=joblib.load('onehotendcoder_pfizer.joblib')\n",
    "tfidf_enc_moderna=joblib.load('tfidf_vectorizer_moderna.joblib')\n",
    "tfidf_enc_pfizer=joblib.load('tfidf_vectorizer_pfizer.joblib')\n"
   ]
  },
  {
   "cell_type": "markdown",
   "metadata": {},
   "source": [
    "## Testing after loaded the saved models using joblib"
   ]
  },
  {
   "cell_type": "code",
   "execution_count": null,
   "metadata": {},
   "outputs": [],
   "source": [
    "# one hot encode using Moderna OHE \n",
    "test_sample_dummi_MODERNA =onehot_moderna.transform(new_sample[['sex','age_cat']])\n",
    "test_sample_dummi_MODERNA =pd.DataFrame(test_sample_dummi_MODERNA.toarray() , columns=onehot_moderna.get_feature_names())\n",
    "\n",
    "# vectorize the new sample  \n",
    "\n",
    "test_sample_tfidf_MODERNA=tfidf_enc_moderna.transform([letter])\n",
    "test_sample_tfidf_MODERNA=pd.DataFrame(test_sample_tfidf_MODERNA.toarray(), columns=tfidf_enc_moderna.get_feature_names())\n",
    "\n",
    "# combine tfidf and dummie to one df and use it as a parameter for the kmeans prediction\n",
    "test_sampleData_MODERNA=pd.concat([test_sample_dummi_MODERNA ,test_sample_tfidf_MODERNA], axis=1)\n",
    "MODERNA_model.predict(test_sampleData_MODERNA)"
   ]
  },
  {
   "cell_type": "code",
   "execution_count": null,
   "metadata": {},
   "outputs": [],
   "source": [
    "# one hot encode using Moderna OHE \n",
    "test_sample_dummi_PFIZER =onehot_pfizer.transform(new_sample[['sex','age_cat']])\n",
    "test_sample_dummi_PFIZER =pd.DataFrame(test_sample_dummi_PFIZER.toarray() , columns=onehot_pfizer.get_feature_names())\n",
    "\n",
    "# vectorize the new sample  \n",
    "\n",
    "test_sample_tfidf_PFIZER=tfidf_enc_pfizer.transform([letter])\n",
    "test_sample_tfidf_PFIZER=pd.DataFrame(test_sample_tfidf_PFIZER.toarray(), columns=tfidf_enc_pfizer.get_feature_names())\n",
    "\n",
    "# combine tfidf and dummie to one df and use it as a parameter for the kmeans prediction\n",
    "test_sampleData_PFIZER=pd.concat([test_sample_dummi_PFIZER ,test_sample_tfidf_PFIZER], axis=1)\n",
    "PFIZER_model.predict(test_sampleData_PFIZER)"
   ]
  },
  {
   "cell_type": "code",
   "execution_count": null,
   "metadata": {},
   "outputs": [],
   "source": [
    "MODERNA.loc[30994, ['HISTORY']]"
   ]
  },
  {
   "cell_type": "code",
   "execution_count": null,
   "metadata": {},
   "outputs": [],
   "source": []
  }
 ],
 "metadata": {
  "colab": {
   "collapsed_sections": [],
   "name": "Untitled0.ipynb",
   "provenance": []
  },
  "kernelspec": {
   "display_name": "Python 3",
   "language": "python",
   "name": "python3"
  },
  "language_info": {
   "codemirror_mode": {
    "name": "ipython",
    "version": 3
   },
   "file_extension": ".py",
   "mimetype": "text/x-python",
   "name": "python",
   "nbconvert_exporter": "python",
   "pygments_lexer": "ipython3",
   "version": "3.8.8"
  }
 },
 "nbformat": 4,
 "nbformat_minor": 1
}
